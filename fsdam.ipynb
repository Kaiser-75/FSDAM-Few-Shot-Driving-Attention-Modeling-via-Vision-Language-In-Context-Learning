{
 "cells": [
  {
   "cell_type": "markdown",
   "id": "1ca03a18-8261-48fb-9ced-d214d24ab3dc",
   "metadata": {},
   "source": [
    "# Environment setup"
   ]
  },
  {
   "cell_type": "code",
   "execution_count": 5,
   "id": "93a9800b-9a30-4533-b3e4-29db0a035ceb",
   "metadata": {},
   "outputs": [
    {
     "name": "stdout",
     "output_type": "stream",
     "text": [
      "GPU: NVIDIA H100 PCIe, VRAM: 79GB\n"
     ]
    }
   ],
   "source": [
    "!pip install --upgrade torch torchvision transformers bitsandbytes peft accelerate pillow lightning sentencepiece -q\n",
    "import torch\n",
    "print(f\"GPU: {torch.cuda.get_device_name(0)}, VRAM: {torch.cuda.get_device_properties(0).total_memory / 1024**3:.0f}GB\")"
   ]
  },
  {
   "cell_type": "code",
   "execution_count": 6,
   "id": "03889247-7469-427d-bf90-d234b2aa4d2d",
   "metadata": {},
   "outputs": [
    {
     "name": "stdout",
     "output_type": "stream",
     "text": [
      "Defaulting to user installation because normal site-packages is not writeable\n",
      "Requirement already satisfied: nltk in ./.local/lib/python3.10/site-packages (3.9.1)\n",
      "Requirement already satisfied: pandas in /usr/lib/python3/dist-packages (1.3.5)\n",
      "Requirement already satisfied: tqdm in ./.local/lib/python3.10/site-packages (4.67.1)\n",
      "Requirement already satisfied: rouge-score in ./.local/lib/python3.10/site-packages (0.1.2)\n",
      "Requirement already satisfied: click in /usr/lib/python3/dist-packages (from nltk) (8.0.3)\n",
      "Requirement already satisfied: regex>=2021.8.3 in ./.local/lib/python3.10/site-packages (from nltk) (2024.11.6)\n",
      "Requirement already satisfied: joblib in /usr/lib/python3/dist-packages (from nltk) (0.17.0)\n",
      "Requirement already satisfied: absl-py in /usr/lib/python3/dist-packages (from rouge-score) (2.1.0)\n",
      "Requirement already satisfied: six>=1.14.0 in /usr/lib/python3/dist-packages (from rouge-score) (1.16.0)\n",
      "Requirement already satisfied: numpy in /usr/lib/python3/dist-packages (from rouge-score) (1.21.5)\n",
      "Defaulting to user installation because normal site-packages is not writeable\n",
      "Requirement already satisfied: tf-keras in ./.local/lib/python3.10/site-packages (2.19.0)\n",
      "Requirement already satisfied: tensorflow<2.20,>=2.19 in /usr/lib/python3/dist-packages (from tf-keras) (2.19.0)\n"
     ]
    },
    {
     "name": "stderr",
     "output_type": "stream",
     "text": [
      "/usr/lib/python3/dist-packages/sklearn/utils/fixes.py:25: UserWarning: pkg_resources is deprecated as an API. See https://setuptools.pypa.io/en/latest/pkg_resources.html. The pkg_resources package is slated for removal as early as 2025-11-30. Refrain from using this package or pin to Setuptools<81.\n",
      "  from pkg_resources import parse_version  # type: ignore\n"
     ]
    },
    {
     "name": "stdout",
     "output_type": "stream",
     "text": [
      "rouge_score version: 0.1.2\n",
      "setuptools version: 80.9.0\n"
     ]
    },
    {
     "name": "stderr",
     "output_type": "stream",
     "text": [
      "[nltk_data] Downloading package punkt to /home/ubuntu/nltk_data...\n",
      "[nltk_data]   Package punkt is already up-to-date!\n",
      "[nltk_data] Downloading package wordnet to /home/ubuntu/nltk_data...\n",
      "[nltk_data]   Package wordnet is already up-to-date!\n",
      "[nltk_data] Downloading package omw-1.4 to /home/ubuntu/nltk_data...\n",
      "[nltk_data]   Package omw-1.4 is already up-to-date!\n"
     ]
    }
   ],
   "source": [
    "!pip install nltk pandas tqdm rouge-score\n",
    "!pip install tf-keras\n",
    "!pip install nltk -q\n",
    "!pip install rouge_score -q\n",
    "!pip install --upgrade setuptools -q\n",
    "import nltk\n",
    "import pkg_resources\n",
    "nltk.download('punkt')\n",
    "nltk.download('wordnet')\n",
    "nltk.download('omw-1.4')  \n",
    "try:\n",
    "    rouge_version = pkg_resources.get_distribution(\"rouge_score\").version\n",
    "    print(\"rouge_score version:\", rouge_version)\n",
    "    setuptools_version = pkg_resources.get_distribution(\"setuptools\").version\n",
    "    print(\"setuptools version:\", setuptools_version)\n",
    "except Exception as e:\n",
    "    print(f\"Version check failed: {e}\")\n",
    "    print(\"Proceeding with usage.\")\n",
    "\n"
   ]
  },
  {
   "cell_type": "code",
   "execution_count": 10,
   "id": "0f057a4f-33a4-4fad-b124-68c732bdc3e7",
   "metadata": {},
   "outputs": [
    {
     "data": {
      "text/plain": [
       "0"
      ]
     },
     "execution_count": 10,
     "metadata": {},
     "output_type": "execute_result"
    }
   ],
   "source": [
    "import torch\n",
    "import gc\n",
    "\n",
    "# Clear GPU memory completely\n",
    "torch.cuda.empty_cache()\n",
    "gc.collect()\n"
   ]
  },
  {
   "cell_type": "code",
   "execution_count": 8,
   "id": "a4f0ea24-8012-4ce7-9dfc-a25860facbc1",
   "metadata": {},
   "outputs": [],
   "source": [
    "!pip install --no-cache-dir --upgrade sentencepiece -q"
   ]
  },
  {
   "cell_type": "code",
   "execution_count": 9,
   "id": "e04ca26c-af29-4cd1-ab52-10598aaf85ef",
   "metadata": {},
   "outputs": [
    {
     "name": "stdout",
     "output_type": "stream",
     "text": [
      "SentencePiece version: 0.2.0\n"
     ]
    }
   ],
   "source": [
    "import sentencepiece ; print(\"SentencePiece version:\", sentencepiece.__version__)"
   ]
  },
  {
   "cell_type": "markdown",
   "id": "9acdf75f-8c38-427c-9ac5-4a2293d25bfc",
   "metadata": {},
   "source": [
    "Directory check"
   ]
  },
  {
   "cell_type": "code",
   "execution_count": 11,
   "id": "be2fc9b2-7f60-47bf-8791-6098926473cc",
   "metadata": {},
   "outputs": [
    {
     "name": "stdout",
     "output_type": "stream",
     "text": [
      "Train records: 80\n",
      "Val   records: 20\n",
      "Train images: 80\n",
      "Val   images: 20\n"
     ]
    }
   ],
   "source": [
    "import json, os\n",
    "train_json = \"fsdam/few_shot/train_llava.json\"\n",
    "val_json   = \"fsdam/few_shot/val_llava.json\"\n",
    "train_dir  = \"fsdam/few_shot/train\"\n",
    "val_dir    = \"fsdam/few_shot/val\"\n",
    "\n",
    "\n",
    "\n",
    "print(\"Train records:\", len(json.load(open(train_json))))\n",
    "print(\"Val   records:\", len(json.load(open(val_json))))\n",
    "print(\"Train images:\", len(os.listdir(train_dir)))\n",
    "print(\"Val   images:\", len(os.listdir(val_dir)))\n"
   ]
  },
  {
   "cell_type": "markdown",
   "id": "ee55232a-a516-4889-9807-15e1d557e319",
   "metadata": {},
   "source": [
    "MODEL Loading"
   ]
  },
  {
   "cell_type": "code",
   "execution_count": 12,
   "id": "acbc4878-80e1-466c-90a0-f06a90420a47",
   "metadata": {},
   "outputs": [],
   "source": [
    "# import torch\n",
    "# import os\n",
    "# import json\n",
    "# from PIL import Image\n",
    "# from torch.utils.data import Dataset, DataLoader\n",
    "# from transformers import AutoProcessor, BitsAndBytesConfig, LlavaNextForConditionalGeneration\n",
    "# from peft import LoraConfig, prepare_model_for_kbit_training, get_peft_model\n",
    "# import lightning.pytorch as L\n",
    "# from torchmetrics.text import ROUGEScore\n",
    "# from lightning.pytorch.callbacks import EarlyStopping\n",
    "\n",
    "# # Set mixed precision\n",
    "# torch.set_float32_matmul_precision('medium')\n",
    "\n",
    "# # Define paths and constants\n",
    "# MODEL_ID = \"llava-hf/llava-v1.6-vicuna-7b-hf\"\n",
    "# DATASET_DIR = \"fsdam\"\n",
    "# FEW_SHOT_DIR = os.path.join(DATASET_DIR, \"few_shot\")\n",
    "# ONE_SHOT_DIR = os.path.join(DATASET_DIR, \"one_shot\")\n",
    "# TEST_DIR = os.path.join(DATASET_DIR, \"test_set\")\n",
    "# TRAIN_JSON_FEW = os.path.join(FEW_SHOT_DIR, \"train_llava.json\")\n",
    "# TRAIN_JSON_ONE = os.path.join(ONE_SHOT_DIR, \"train_llava.json\")\n",
    "# VAL_JSON = os.path.join(FEW_SHOT_DIR, \"val_llava.json\")\n",
    "# TEST_JSON = os.path.join(TEST_DIR, \"test_llava.json\")\n",
    "# CHECKPOINT_DIR = \"fsdam-s3/logs\"\n",
    "# MAX_LENGTH = 1200\n",
    "\n",
    "# # Create checkpoint directory\n",
    "# os.makedirs(CHECKPOINT_DIR, exist_ok=True)\n",
    "\n",
    "# # Verify paths\n",
    "# print(\"Few-shot train JSON exists:\", os.path.exists(TRAIN_JSON_FEW))\n",
    "# print(\"One-shot train JSON exists:\", os.path.exists(TRAIN_JSON_ONE))\n",
    "# print(\"Val JSON exists:\", os.path.exists(VAL_JSON))\n",
    "# print(\"Test JSON exists:\", os.path.exists(TEST_JSON))\n",
    "\n",
    "# # Load processor and model\n",
    "# try:\n",
    "#     processor = AutoProcessor.from_pretrained(MODEL_ID, trust_remote_code=True)\n",
    "#     processor.tokenizer.padding_side = \"right\"\n",
    "#     if processor.tokenizer.pad_token is None or processor.tokenizer.pad_token == \"<unk>\":\n",
    "#         processor.tokenizer.pad_token = processor.tokenizer.eos_token\n",
    "#         processor.tokenizer.pad_token_id = processor.tokenizer.eos_token_id\n",
    "#     print(\"Pad token:\", processor.tokenizer.pad_token)\n",
    "\n",
    "#     bnb_cfg = BitsAndBytesConfig(\n",
    "#         load_in_4bit=True,\n",
    "#         bnb_4bit_quant_type=\"nf4\",\n",
    "#         bnb_4bit_compute_dtype=torch.float16\n",
    "#     )\n",
    "#     model = LlavaNextForConditionalGeneration.from_pretrained(\n",
    "#         MODEL_ID, torch_dtype=torch.float16, quantization_config=bnb_cfg, trust_remote_code=True\n",
    "#     )\n",
    "# except Exception as e:\n",
    "#     print(f\"Error loading model or processor: {e}\")\n",
    "#     raise e\n",
    "\n",
    "# # Configure LoRA\n",
    "# model.gradient_checkpointing_enable()\n",
    "# model = prepare_model_for_kbit_training(model)\n",
    "# lora_config = LoraConfig(\n",
    "#     r=16,\n",
    "#     lora_alpha=16,\n",
    "#     lora_dropout=0.2,\n",
    "#     target_modules=[\"q_proj\", \"k_proj\", \"v_proj\", \"o_proj\", \"multi_modal_projector.linear_1\", \"multi_modal_projector.linear_2\"],\n",
    "#     init_lora_weights=\"gaussian\"\n",
    "# )\n",
    "# model = get_peft_model(model, lora_config)\n",
    "# model.enable_input_require_grads()\n",
    "\n",
    "# # Move to GPU\n",
    "# device = torch.device(\"cuda\" if torch.cuda.is_available() else \"cpu\")\n",
    "# model.to(device)\n",
    "# print(\"Model device:\", next(model.parameters()).device)\n",
    "# print(\"Model and processor loaded successfully.\")"
   ]
  },
  {
   "cell_type": "markdown",
   "id": "8e8b0d63-1a90-4604-bd2d-b78294556c83",
   "metadata": {},
   "source": [
    "Dataset visual in Llava format"
   ]
  },
  {
   "cell_type": "code",
   "execution_count": 14,
   "id": "3831bd54-247e-4144-a0f6-233f37f95c1a",
   "metadata": {},
   "outputs": [],
   "source": [
    "# class LlavaDataset(Dataset):\n",
    "#     def __init__(self, json_path, image_dir):\n",
    "#         try:\n",
    "#             with open(json_path, 'r') as f:\n",
    "#                 self.data = json.load(f)\n",
    "#         except Exception as e:\n",
    "#             print(f\"Error loading JSON {json_path}: {e}\")\n",
    "#             raise e\n",
    "#         self.image_dir = image_dir\n",
    "#         # Debug JSON structure\n",
    "#         print(f\"Sample JSON entry from {json_path}:\", json.dumps(self.data[0], indent=2)[:500] + \"...\")\n",
    "\n",
    "#     def __len__(self):\n",
    "#         return len(self.data)\n",
    "\n",
    "#     def __getitem__(self, idx):\n",
    "#         try:\n",
    "#             item = self.data[idx]\n",
    "#             image_path = os.path.join(self.image_dir, os.path.basename(item['image']))\n",
    "#             if 'conversations' in item:\n",
    "#                 for conv in item['conversations']:\n",
    "#                     if conv.get('from') == 'gpt':\n",
    "#                         return image_path, conv['value']\n",
    "#             if 'response' in item:\n",
    "#                 return image_path, item['response']\n",
    "#             if 'answer' in item:\n",
    "#                 return image_path, item['answer']\n",
    "#             raise ValueError(f\"No valid response found for item {idx}: {json.dumps(item, indent=2)}\")\n",
    "#         except Exception as e:\n",
    "#             print(f\"Error accessing item {idx}: {e}\")\n",
    "#             raise e\n",
    "\n",
    "# # Load datasets\n",
    "# try:\n",
    "#     train_dataset_few_shot = LlavaDataset(TRAIN_JSON_FEW, FEW_SHOT_DIR + \"/train\")\n",
    "#     train_dataset_one_shot = LlavaDataset(TRAIN_JSON_ONE, ONE_SHOT_DIR + \"/train\")\n",
    "#     val_dataset = LlavaDataset(VAL_JSON, FEW_SHOT_DIR + \"/val\")\n",
    "#     test_dataset = LlavaDataset(TEST_JSON, TEST_DIR + \"/test\")\n",
    "# except Exception as e:\n",
    "#     print(f\"Dataset loading error: {e}\")\n",
    "#     raise e\n",
    "\n",
    "# # Debug dataset sizes\n",
    "# print(\"Few-shot train size:\", len(train_dataset_few_shot))\n",
    "# print(\"One-shot train size:\", len(train_dataset_one_shot))\n",
    "# print(\"Val size:\", len(val_dataset))\n",
    "# print(\"Test size:\", len(test_dataset))\n",
    "\n",
    "# # Collate function with few-shot support\n",
    "# def collate_fn(batch, processor=processor, prompt_template=None, use_few_shot_examples=False, device=\"cuda\"):\n",
    "#     imgs, seqs = zip(*batch)\n",
    "#     processed_imgs = []\n",
    "#     for img_path in imgs:\n",
    "#         try:\n",
    "#             img = Image.open(img_path).convert(\"RGB\").resize((224, 224))\n",
    "#             processed_imgs.append(img)\n",
    "#         except Exception as e:\n",
    "#             print(f\"Error processing image {img_path}: {e}\")\n",
    "#             raise e\n",
    "#     prompt = prompt_template or \"[INST] <image>\\nDescribe the scene, the driver's current gaze, and where that gaze will likely shift next and why.[/INST] {seq}\"\n",
    "#     if use_few_shot_examples:\n",
    "#         few_shot_prompt = \"\"\n",
    "#         for i in range(min(2, len(train_dataset_few_shot))):\n",
    "#             img_path, example_seq = train_dataset_few_shot[i]\n",
    "#             few_shot_prompt += f\"[INST] <image>\\nDescribe the scene, the driver's current gaze, and where that gaze will likely shift next and why.[/INST] {example_seq}\\n\"\n",
    "#         conversation_texts = [few_shot_prompt + prompt.format(seq=seq) for seq in seqs]\n",
    "#     else:\n",
    "#         conversation_texts = [prompt.format(seq=seq) for seq in seqs]\n",
    "#     inputs = processor(\n",
    "#         text=conversation_texts,\n",
    "#         images=processed_imgs,\n",
    "#         return_tensors=\"pt\",\n",
    "#         padding=True,\n",
    "#         truncation=True,\n",
    "#         max_length=MAX_LENGTH\n",
    "#     )\n",
    "#     labels = inputs[\"input_ids\"].clone()\n",
    "#     labels[labels == processor.tokenizer.pad_token_id] = -100\n",
    "#     inputs[\"labels\"] = labels\n",
    "#     inputs = {k: v.to(device) for k, v in inputs.items()}\n",
    "#     return inputs\n",
    "\n",
    "# print(\"Datasets and collate function defined.\")"
   ]
  },
  {
   "cell_type": "markdown",
   "id": "dfe6acb0-3cef-462c-9d16-b29cddb33af2",
   "metadata": {},
   "source": [
    "# Few shot "
   ]
  },
  {
   "cell_type": "code",
   "execution_count": 56,
   "id": "28fa97c3-bf77-49b2-b5de-6a78cc803b11",
   "metadata": {
    "scrolled": true
   },
   "outputs": [
    {
     "name": "stderr",
     "output_type": "stream",
     "text": [
      "INFO:__main__:Few-shot train JSON exists: True\n",
      "INFO:__main__:Val JSON exists: True\n",
      "INFO:__main__:Test JSON exists: True\n",
      "INFO:__main__:Pad token: </s>\n",
      "Loading checkpoint shards: 100%|██████████| 3/3 [00:07<00:00,  2.57s/it]\n",
      "INFO:__main__:Model device: cuda:0\n",
      "INFO:__main__:Model and processor loaded successfully.\n",
      "INFO:__main__:Sample JSON entry from fsdam/few_shot/train_llava.json: {\n",
      "  \"id\": \"1000_00007\",\n",
      "  \"image\": \"fsdam/few_shot/train/1000_00007.png\",\n",
      "  \"conversations\": [\n",
      "    {\n",
      "      \"from\": \"human\",\n",
      "      \"value\": \"<image> Describe the scene, the driver's current gaze, and where that gaze will likely shift next and why.\"\n",
      "    },\n",
      "    {\n",
      "      \"from\": \"gpt\",\n",
      "      \"value\": \"The scene shows a city street with parked cars and buildings. The current gaze focuses on the intersection ahead. The future gaze will likely remain the same because the driver needs to monitor cross tr...\n",
      "INFO:__main__:Sample JSON entry from fsdam/few_shot/val_llava.json: {\n",
      "  \"id\": \"1737_00085\",\n",
      "  \"image\": \"fsdam/few_shot/val/1737_00085.png\",\n",
      "  \"conversations\": [\n",
      "    {\n",
      "      \"from\": \"human\",\n",
      "      \"value\": \"<image> Describe the scene, the driver's current gaze, and where that gaze will likely shift next and why.\"\n",
      "    },\n",
      "    {\n",
      "      \"from\": \"gpt\",\n",
      "      \"value\": \"The scene shows a busy urban intersection with cars, buildings, and a yellow traffic light ahead. The current gaze focuses on the car in front. The future gaze will likely shift to the traffic light. This...\n",
      "INFO:__main__:Sample JSON entry from fsdam/test_set/test_llava.json: {\n",
      "  \"id\": \"1003_00057\",\n",
      "  \"image\": \"fsdam/test_set/test/1003_00057.png\",\n",
      "  \"conversations\": [\n",
      "    {\n",
      "      \"from\": \"human\",\n",
      "      \"value\": \"<image> Describe the scene, the driver's current gaze, and where that gaze will likely shift next and why.\"\n",
      "    },\n",
      "    {\n",
      "      \"from\": \"gpt\",\n",
      "      \"value\": \"The scene shows a city street with cars and buildings. The current gaze focuses on the blue car ahead. The future gaze will likely remain on the blue car. This is because the driver needs to maintain a s...\n",
      "INFO:__main__:Few-shot train size: 80\n",
      "INFO:__main__:Val size: 20\n",
      "INFO:__main__:Test size: 81\n",
      "Using 16bit Automatic Mixed Precision (AMP)\n",
      "GPU available: True (cuda), used: True\n",
      "TPU available: False, using: 0 TPU cores\n",
      "HPU available: False, using: 0 HPUs\n",
      "/home/ubuntu/.local/lib/python3.10/site-packages/lightning/fabric/loggers/csv_logs.py:268: Experiment logs directory fsdam-s3/logs/metrics/few_shot exists and is not empty. Previous log files in this directory will be deleted when the new ones are saved!\n",
      "/home/ubuntu/.local/lib/python3.10/site-packages/lightning/pytorch/callbacks/model_checkpoint.py:658: Checkpoint directory /home/ubuntu/fsdam-s3/logs exists and is not empty.\n",
      "LOCAL_RANK: 0 - CUDA_VISIBLE_DEVICES: [0]\n",
      "\n",
      "  | Name  | Type       | Params | Mode \n",
      "---------------------------------------------\n",
      "0 | model | PeftModel  | 3.7 B  | train\n",
      "1 | rouge | ROUGEScore | 0      | train\n",
      "---------------------------------------------\n",
      "77.4 M    Trainable params\n",
      "3.7 B     Non-trainable params\n",
      "3.7 B     Total params\n",
      "14,965.383Total estimated model params size (MB)\n",
      "2023      Modules in train mode\n",
      "725       Modules in eval mode\n"
     ]
    },
    {
     "name": "stdout",
     "output_type": "stream",
     "text": [
      "Sanity Checking: |          | 0/? [00:00<?, ?it/s]"
     ]
    },
    {
     "name": "stderr",
     "output_type": "stream",
     "text": [
      "INFO:__main__:Validation dataset size: 20\n",
      "/home/ubuntu/.local/lib/python3.10/site-packages/lightning/pytorch/trainer/connectors/data_connector.py:425: The 'val_dataloader' does not have many workers which may be a bottleneck. Consider increasing the value of the `num_workers` argument` to `num_workers=25` in the `DataLoader` to improve performance.\n",
      "INFO:__main__:Processing batch with 4 samples\n",
      "INFO:__main__:Loading image: fsdam/few_shot/val/1737_00085.png\n",
      "INFO:__main__:Loading image: fsdam/few_shot/val/1737_00287.png\n",
      "INFO:__main__:Loading image: fsdam/few_shot/val/1744_00119.png\n",
      "INFO:__main__:Loading image: fsdam/few_shot/val/1744_00219.png\n",
      "INFO:__main__:Processing 4 texts\n",
      "/home/ubuntu/.local/lib/python3.10/site-packages/transformers/tokenization_utils_base.py:2695: UserWarning: `max_length` is ignored when `padding`=`True` and there is no truncation strategy. To pad to max length, use `padding='max_length'`.\n",
      "  warnings.warn(\n",
      "INFO:__main__:Input shapes: input_ids=torch.Size([4, 1293]), pixel_values=torch.Size([4, 3, 3, 336, 336])\n"
     ]
    },
    {
     "name": "stdout",
     "output_type": "stream",
     "text": [
      "Sanity Checking DataLoader 0:   0%|          | 0/2 [00:00<?, ?it/s]"
     ]
    },
    {
     "name": "stderr",
     "output_type": "stream",
     "text": [
      "INFO:__main__:Validation batch 0, size: 4\n",
      "INFO:__main__:Sample Validation Prediction: The scene shows a busy urban intersection with cars, buildings, and a yellow traffic light ahead. Th...\n",
      "INFO:__main__:Sample Validation Target: [INST] \n",
      "Describe the scene, the driver's current gaze, and where that gaze will likely shift next an...\n"
     ]
    },
    {
     "name": "stdout",
     "output_type": "stream",
     "text": [
      "Sanity Checking DataLoader 0:  50%|█████     | 1/2 [00:04<00:04,  0.22it/s]"
     ]
    },
    {
     "name": "stderr",
     "output_type": "stream",
     "text": [
      "INFO:__main__:Processing batch with 4 samples\n",
      "INFO:__main__:Loading image: fsdam/few_shot/val/1746_00008.png\n",
      "INFO:__main__:Loading image: fsdam/few_shot/val/1747_00012.png\n",
      "INFO:__main__:Loading image: fsdam/few_shot/val/1748_00018.png\n",
      "INFO:__main__:Loading image: fsdam/few_shot/val/1748_00243.png\n",
      "INFO:__main__:Processing 4 texts\n",
      "INFO:__main__:Input shapes: input_ids=torch.Size([4, 1282]), pixel_values=torch.Size([4, 3, 3, 336, 336])\n",
      "INFO:__main__:Validation batch 1, size: 4\n"
     ]
    },
    {
     "name": "stdout",
     "output_type": "stream",
     "text": [
      "                                                                           "
     ]
    },
    {
     "name": "stderr",
     "output_type": "stream",
     "text": [
      "INFO:__main__:Training dataset size: 80\n",
      "/home/ubuntu/.local/lib/python3.10/site-packages/lightning/pytorch/trainer/connectors/data_connector.py:425: The 'train_dataloader' does not have many workers which may be a bottleneck. Consider increasing the value of the `num_workers` argument` to `num_workers=25` in the `DataLoader` to improve performance.\n"
     ]
    },
    {
     "name": "stdout",
     "output_type": "stream",
     "text": [
      "Epoch 0:   0%|          | 0/20 [00:00<?, ?it/s] "
     ]
    },
    {
     "name": "stderr",
     "output_type": "stream",
     "text": [
      "INFO:__main__:Starting epoch 0\n",
      "INFO:__main__:Processing batch with 4 samples\n",
      "INFO:__main__:Loading image: fsdam/few_shot/train/111_00123.png\n",
      "INFO:__main__:Loading image: fsdam/few_shot/train/1080_00285.png\n",
      "INFO:__main__:Loading image: fsdam/few_shot/train/1067_00008.png\n",
      "INFO:__main__:Loading image: fsdam/few_shot/train/1102_00007.png\n",
      "INFO:__main__:Processing 4 texts\n",
      "INFO:__main__:Input shapes: input_ids=torch.Size([4, 1301]), pixel_values=torch.Size([4, 3, 3, 336, 336])\n",
      "INFO:__main__:Training batch 0, size: 4\n",
      "INFO:__main__:Sample Training Prediction: sierp…ALL\n",
      "1th [ [by,. buildingmentamentsingsessest, of.ishersings buildings and buildings buildings ...\n"
     ]
    },
    {
     "name": "stdout",
     "output_type": "stream",
     "text": [
      "Epoch 0:   5%|▌         | 1/20 [00:01<00:28,  0.68it/s, v_num=shot, train_loss_step=14.90]"
     ]
    },
    {
     "name": "stderr",
     "output_type": "stream",
     "text": [
      "INFO:__main__:Processing batch with 4 samples\n",
      "INFO:__main__:Loading image: fsdam/few_shot/train/1124_00042.png\n",
      "INFO:__main__:Loading image: fsdam/few_shot/train/1009_00160.png\n",
      "INFO:__main__:Loading image: fsdam/few_shot/train/1006_00018.png\n",
      "INFO:__main__:Loading image: fsdam/few_shot/train/1092_00119.png\n",
      "INFO:__main__:Processing 4 texts\n",
      "INFO:__main__:Input shapes: input_ids=torch.Size([4, 1281]), pixel_values=torch.Size([4, 3, 3, 336, 336])\n",
      "INFO:__main__:Training batch 1, size: 4\n"
     ]
    },
    {
     "name": "stdout",
     "output_type": "stream",
     "text": [
      "Epoch 0:  10%|█         | 2/20 [00:02<00:26,  0.69it/s, v_num=shot, train_loss_step=10.90]"
     ]
    },
    {
     "name": "stderr",
     "output_type": "stream",
     "text": [
      "INFO:__main__:Processing batch with 4 samples\n",
      "INFO:__main__:Loading image: fsdam/few_shot/train/1136_00018.png\n",
      "INFO:__main__:Loading image: fsdam/few_shot/train/1027_00007.png\n",
      "INFO:__main__:Loading image: fsdam/few_shot/train/1091_00103.png\n",
      "INFO:__main__:Loading image: fsdam/few_shot/train/1000_00007.png\n",
      "INFO:__main__:Processing 4 texts\n",
      "INFO:__main__:Input shapes: input_ids=torch.Size([4, 1272]), pixel_values=torch.Size([4, 3, 3, 336, 336])\n",
      "INFO:__main__:Training batch 2, size: 4\n"
     ]
    },
    {
     "name": "stdout",
     "output_type": "stream",
     "text": [
      "Epoch 0:  15%|█▌        | 3/20 [00:04<00:24,  0.69it/s, v_num=shot, train_loss_step=10.60]"
     ]
    },
    {
     "name": "stderr",
     "output_type": "stream",
     "text": [
      "INFO:__main__:Processing batch with 4 samples\n",
      "INFO:__main__:Loading image: fsdam/few_shot/train/1036_00017.png\n",
      "INFO:__main__:Loading image: fsdam/few_shot/train/1096_00208.png\n",
      "INFO:__main__:Loading image: fsdam/few_shot/train/1095_00016.png\n",
      "INFO:__main__:Loading image: fsdam/few_shot/train/10_00048.png\n",
      "INFO:__main__:Processing 4 texts\n",
      "INFO:__main__:Input shapes: input_ids=torch.Size([4, 1285]), pixel_values=torch.Size([4, 3, 3, 336, 336])\n",
      "INFO:__main__:Training batch 3, size: 4\n"
     ]
    },
    {
     "name": "stdout",
     "output_type": "stream",
     "text": [
      "Epoch 0:  20%|██        | 4/20 [00:05<00:23,  0.68it/s, v_num=shot, train_loss_step=7.470]"
     ]
    },
    {
     "name": "stderr",
     "output_type": "stream",
     "text": [
      "INFO:__main__:Processing batch with 4 samples\n",
      "INFO:__main__:Loading image: fsdam/few_shot/train/1129_00181.png\n",
      "INFO:__main__:Loading image: fsdam/few_shot/train/1082_00070.png\n",
      "INFO:__main__:Loading image: fsdam/few_shot/train/1024_00008.png\n",
      "INFO:__main__:Loading image: fsdam/few_shot/train/1046_00005.png\n",
      "INFO:__main__:Processing 4 texts\n",
      "INFO:__main__:Input shapes: input_ids=torch.Size([4, 1288]), pixel_values=torch.Size([4, 3, 3, 336, 336])\n",
      "INFO:__main__:Training batch 4, size: 4\n"
     ]
    },
    {
     "name": "stdout",
     "output_type": "stream",
     "text": [
      "Epoch 0:  25%|██▌       | 5/20 [00:07<00:21,  0.68it/s, v_num=shot, train_loss_step=5.390]"
     ]
    },
    {
     "name": "stderr",
     "output_type": "stream",
     "text": [
      "INFO:__main__:Processing batch with 4 samples\n",
      "INFO:__main__:Loading image: fsdam/few_shot/train/1100_00111.png\n",
      "INFO:__main__:Loading image: fsdam/few_shot/train/1145_00038.png\n",
      "INFO:__main__:Loading image: fsdam/few_shot/train/1135_00007.png\n",
      "INFO:__main__:Loading image: fsdam/few_shot/train/1064_00116.png\n",
      "INFO:__main__:Processing 4 texts\n",
      "INFO:__main__:Input shapes: input_ids=torch.Size([4, 1302]), pixel_values=torch.Size([4, 3, 3, 336, 336])\n",
      "INFO:__main__:Training batch 5, size: 4\n"
     ]
    },
    {
     "name": "stdout",
     "output_type": "stream",
     "text": [
      "Epoch 0:  30%|███       | 6/20 [00:08<00:20,  0.68it/s, v_num=shot, train_loss_step=4.940]"
     ]
    },
    {
     "name": "stderr",
     "output_type": "stream",
     "text": [
      "INFO:__main__:Processing batch with 4 samples\n",
      "INFO:__main__:Loading image: fsdam/few_shot/train/1066_00005.png\n",
      "INFO:__main__:Loading image: fsdam/few_shot/train/1058_00033.png\n",
      "INFO:__main__:Loading image: fsdam/few_shot/train/1016_00053.png\n",
      "INFO:__main__:Loading image: fsdam/few_shot/train/1076_00009.png\n",
      "INFO:__main__:Processing 4 texts\n",
      "INFO:__main__:Input shapes: input_ids=torch.Size([4, 1277]), pixel_values=torch.Size([4, 3, 3, 336, 336])\n",
      "INFO:__main__:Training batch 6, size: 4\n"
     ]
    },
    {
     "name": "stdout",
     "output_type": "stream",
     "text": [
      "Epoch 0:  35%|███▌      | 7/20 [00:10<00:19,  0.68it/s, v_num=shot, train_loss_step=4.320]"
     ]
    },
    {
     "name": "stderr",
     "output_type": "stream",
     "text": [
      "INFO:__main__:Processing batch with 4 samples\n",
      "INFO:__main__:Loading image: fsdam/few_shot/train/105_00007.png\n",
      "INFO:__main__:Loading image: fsdam/few_shot/train/1021_00007.png\n",
      "INFO:__main__:Loading image: fsdam/few_shot/train/1106_00061.png\n",
      "INFO:__main__:Loading image: fsdam/few_shot/train/1077_00265.png\n",
      "INFO:__main__:Processing 4 texts\n",
      "INFO:__main__:Input shapes: input_ids=torch.Size([4, 1290]), pixel_values=torch.Size([4, 3, 3, 336, 336])\n",
      "INFO:__main__:Training batch 7, size: 4\n"
     ]
    },
    {
     "name": "stdout",
     "output_type": "stream",
     "text": [
      "Epoch 0:  40%|████      | 8/20 [00:11<00:17,  0.68it/s, v_num=shot, train_loss_step=4.290]"
     ]
    },
    {
     "name": "stderr",
     "output_type": "stream",
     "text": [
      "INFO:__main__:Processing batch with 4 samples\n",
      "INFO:__main__:Loading image: fsdam/few_shot/train/1040_00131.png\n",
      "INFO:__main__:Loading image: fsdam/few_shot/train/1069_00127.png\n",
      "INFO:__main__:Loading image: fsdam/few_shot/train/1130_00145.png\n",
      "INFO:__main__:Loading image: fsdam/few_shot/train/1142_00123.png\n",
      "INFO:__main__:Processing 4 texts\n",
      "INFO:__main__:Input shapes: input_ids=torch.Size([4, 1299]), pixel_values=torch.Size([4, 3, 3, 336, 336])\n",
      "INFO:__main__:Training batch 8, size: 4\n"
     ]
    },
    {
     "name": "stdout",
     "output_type": "stream",
     "text": [
      "Epoch 0:  45%|████▌     | 9/20 [00:13<00:16,  0.68it/s, v_num=shot, train_loss_step=4.220]"
     ]
    },
    {
     "name": "stderr",
     "output_type": "stream",
     "text": [
      "INFO:__main__:Processing batch with 4 samples\n",
      "INFO:__main__:Loading image: fsdam/few_shot/train/1029_00109.png\n",
      "INFO:__main__:Loading image: fsdam/few_shot/train/1056_00008.png\n",
      "INFO:__main__:Loading image: fsdam/few_shot/train/1065_00130.png\n",
      "INFO:__main__:Loading image: fsdam/few_shot/train/1020_00018.png\n",
      "INFO:__main__:Processing 4 texts\n",
      "INFO:__main__:Input shapes: input_ids=torch.Size([4, 1271]), pixel_values=torch.Size([4, 3, 3, 336, 336])\n",
      "INFO:__main__:Training batch 9, size: 4\n"
     ]
    },
    {
     "name": "stdout",
     "output_type": "stream",
     "text": [
      "Epoch 0:  50%|█████     | 10/20 [00:14<00:14,  0.69it/s, v_num=shot, train_loss_step=4.160]\n",
      "Validation: |          | 0/? [00:00<?, ?it/s]\u001b[A"
     ]
    },
    {
     "name": "stderr",
     "output_type": "stream",
     "text": [
      "INFO:__main__:Processing batch with 4 samples\n",
      "INFO:__main__:Loading image: fsdam/few_shot/val/1737_00085.png\n",
      "INFO:__main__:Loading image: fsdam/few_shot/val/1737_00287.png\n",
      "INFO:__main__:Loading image: fsdam/few_shot/val/1744_00119.png\n",
      "INFO:__main__:Loading image: fsdam/few_shot/val/1744_00219.png\n",
      "INFO:__main__:Processing 4 texts\n",
      "INFO:__main__:Input shapes: input_ids=torch.Size([4, 1293]), pixel_values=torch.Size([4, 3, 3, 336, 336])\n"
     ]
    },
    {
     "name": "stdout",
     "output_type": "stream",
     "text": [
      "\n",
      "Validation:   0%|          | 0/5 [00:00<?, ?it/s]\u001b[A\n",
      "Validation DataLoader 0:   0%|          | 0/5 [00:00<?, ?it/s]\u001b[A"
     ]
    },
    {
     "name": "stderr",
     "output_type": "stream",
     "text": [
      "INFO:__main__:Validation batch 0, size: 4\n",
      "INFO:__main__:Sample Validation Prediction: The scene shows a busy urban intersection with cars, buildings, and a yellow traffic light ahead. Th...\n",
      "INFO:__main__:Sample Validation Target: [INST] \n",
      "Describe the scene, the driver's current gaze, and where that gaze will likely shift next an...\n"
     ]
    },
    {
     "name": "stdout",
     "output_type": "stream",
     "text": [
      "\n",
      "Validation DataLoader 0:  20%|██        | 1/5 [00:03<00:13,  0.30it/s]\u001b[A"
     ]
    },
    {
     "name": "stderr",
     "output_type": "stream",
     "text": [
      "INFO:__main__:Processing batch with 4 samples\n",
      "INFO:__main__:Loading image: fsdam/few_shot/val/1746_00008.png\n",
      "INFO:__main__:Loading image: fsdam/few_shot/val/1747_00012.png\n",
      "INFO:__main__:Loading image: fsdam/few_shot/val/1748_00018.png\n",
      "INFO:__main__:Loading image: fsdam/few_shot/val/1748_00243.png\n",
      "INFO:__main__:Processing 4 texts\n",
      "INFO:__main__:Input shapes: input_ids=torch.Size([4, 1282]), pixel_values=torch.Size([4, 3, 3, 336, 336])\n",
      "INFO:__main__:Validation batch 1, size: 4\n"
     ]
    },
    {
     "name": "stdout",
     "output_type": "stream",
     "text": [
      "\n",
      "Validation DataLoader 0:  40%|████      | 2/5 [00:04<00:06,  0.44it/s]\u001b[A"
     ]
    },
    {
     "name": "stderr",
     "output_type": "stream",
     "text": [
      "INFO:__main__:Processing batch with 4 samples\n",
      "INFO:__main__:Loading image: fsdam/few_shot/val/1753_00160.png\n",
      "INFO:__main__:Loading image: fsdam/few_shot/val/1754_00079.png\n",
      "INFO:__main__:Loading image: fsdam/few_shot/val/1755_00078.png\n",
      "INFO:__main__:Loading image: fsdam/few_shot/val/1756_00013.png\n",
      "INFO:__main__:Processing 4 texts\n",
      "INFO:__main__:Input shapes: input_ids=torch.Size([4, 1292]), pixel_values=torch.Size([4, 3, 3, 336, 336])\n",
      "INFO:__main__:Validation batch 2, size: 4\n"
     ]
    },
    {
     "name": "stdout",
     "output_type": "stream",
     "text": [
      "\n",
      "Validation DataLoader 0:  60%|██████    | 3/5 [00:08<00:05,  0.35it/s]\u001b[A"
     ]
    },
    {
     "name": "stderr",
     "output_type": "stream",
     "text": [
      "INFO:__main__:Processing batch with 4 samples\n",
      "INFO:__main__:Loading image: fsdam/few_shot/val/1760_00071.png\n",
      "INFO:__main__:Loading image: fsdam/few_shot/val/1761_00005.png\n",
      "INFO:__main__:Loading image: fsdam/few_shot/val/1764_00032.png\n",
      "INFO:__main__:Loading image: fsdam/few_shot/val/1767_00017.png\n",
      "INFO:__main__:Processing 4 texts\n",
      "INFO:__main__:Input shapes: input_ids=torch.Size([4, 1285]), pixel_values=torch.Size([4, 3, 3, 336, 336])\n",
      "INFO:__main__:Validation batch 3, size: 4\n"
     ]
    },
    {
     "name": "stdout",
     "output_type": "stream",
     "text": [
      "\n",
      "Validation DataLoader 0:  80%|████████  | 4/5 [00:14<00:03,  0.29it/s]\u001b[A"
     ]
    },
    {
     "name": "stderr",
     "output_type": "stream",
     "text": [
      "INFO:__main__:Processing batch with 4 samples\n",
      "INFO:__main__:Loading image: fsdam/few_shot/val/1768_00239.png\n",
      "INFO:__main__:Loading image: fsdam/few_shot/val/1771_00259.png\n",
      "INFO:__main__:Loading image: fsdam/few_shot/val/1772_00192.png\n",
      "INFO:__main__:Loading image: fsdam/few_shot/val/1773_00089.png\n",
      "INFO:__main__:Processing 4 texts\n",
      "INFO:__main__:Input shapes: input_ids=torch.Size([4, 1304]), pixel_values=torch.Size([4, 3, 3, 336, 336])\n",
      "INFO:__main__:Validation batch 4, size: 4\n"
     ]
    },
    {
     "name": "stdout",
     "output_type": "stream",
     "text": [
      "\n",
      "Validation DataLoader 0: 100%|██████████| 5/5 [00:17<00:00,  0.29it/s]\u001b[A\n",
      "Epoch 0:  50%|█████     | 10/20 [00:32<00:32,  0.31it/s, v_num=shot, train_loss_step=4.160, val_loss_step=4.100, val_rouge_step=0.845, val_loss_epoch=4.100, val_rouge_epoch=0.803]"
     ]
    },
    {
     "name": "stderr",
     "output_type": "stream",
     "text": [
      "INFO:__main__:Processing batch with 4 samples\n",
      "INFO:__main__:Loading image: fsdam/few_shot/train/1050_00018.png\n",
      "INFO:__main__:Loading image: fsdam/few_shot/train/1044_00041.png\n",
      "INFO:__main__:Loading image: fsdam/few_shot/train/1111_00361.png\n",
      "INFO:__main__:Loading image: fsdam/few_shot/train/1099_00087.png\n",
      "INFO:__main__:Processing 4 texts\n",
      "INFO:__main__:Input shapes: input_ids=torch.Size([4, 1289]), pixel_values=torch.Size([4, 3, 3, 336, 336])\n",
      "INFO:__main__:Training batch 10, size: 4\n"
     ]
    },
    {
     "name": "stdout",
     "output_type": "stream",
     "text": [
      "Epoch 0:  55%|█████▌    | 11/20 [00:44<00:36,  0.25it/s, v_num=shot, train_loss_step=4.100, val_loss_step=4.100, val_rouge_step=0.845, val_loss_epoch=4.100, val_rouge_epoch=0.803]"
     ]
    },
    {
     "name": "stderr",
     "output_type": "stream",
     "text": [
      "INFO:__main__:Processing batch with 4 samples\n",
      "INFO:__main__:Loading image: fsdam/few_shot/train/1068_00017.png\n",
      "INFO:__main__:Loading image: fsdam/few_shot/train/1134_00018.png\n",
      "INFO:__main__:Loading image: fsdam/few_shot/train/1039_00071.png\n",
      "INFO:__main__:Loading image: fsdam/few_shot/train/107_00084.png\n",
      "INFO:__main__:Processing 4 texts\n",
      "INFO:__main__:Input shapes: input_ids=torch.Size([4, 1282]), pixel_values=torch.Size([4, 3, 3, 336, 336])\n",
      "INFO:__main__:Training batch 11, size: 4\n"
     ]
    },
    {
     "name": "stdout",
     "output_type": "stream",
     "text": [
      "Epoch 0:  60%|██████    | 12/20 [00:45<00:30,  0.26it/s, v_num=shot, train_loss_step=4.090, val_loss_step=4.100, val_rouge_step=0.845, val_loss_epoch=4.100, val_rouge_epoch=0.803]"
     ]
    },
    {
     "name": "stderr",
     "output_type": "stream",
     "text": [
      "INFO:__main__:Processing batch with 4 samples\n",
      "INFO:__main__:Loading image: fsdam/few_shot/train/1071_00018.png\n",
      "INFO:__main__:Loading image: fsdam/few_shot/train/1022_00154.png\n",
      "INFO:__main__:Loading image: fsdam/few_shot/train/1128_00030.png\n",
      "INFO:__main__:Loading image: fsdam/few_shot/train/1052_00287.png\n",
      "INFO:__main__:Processing 4 texts\n",
      "INFO:__main__:Input shapes: input_ids=torch.Size([4, 1283]), pixel_values=torch.Size([4, 3, 3, 336, 336])\n",
      "INFO:__main__:Training batch 12, size: 4\n"
     ]
    },
    {
     "name": "stdout",
     "output_type": "stream",
     "text": [
      "Epoch 0:  65%|██████▌   | 13/20 [00:47<00:25,  0.28it/s, v_num=shot, train_loss_step=4.060, val_loss_step=4.100, val_rouge_step=0.845, val_loss_epoch=4.100, val_rouge_epoch=0.803]"
     ]
    },
    {
     "name": "stderr",
     "output_type": "stream",
     "text": [
      "INFO:__main__:Processing batch with 4 samples\n",
      "INFO:__main__:Loading image: fsdam/few_shot/train/1023_00007.png\n",
      "INFO:__main__:Loading image: fsdam/few_shot/train/1084_00106.png\n",
      "INFO:__main__:Loading image: fsdam/few_shot/train/1119_00195.png\n",
      "INFO:__main__:Loading image: fsdam/few_shot/train/1005_00018.png\n",
      "INFO:__main__:Processing 4 texts\n",
      "INFO:__main__:Input shapes: input_ids=torch.Size([4, 1283]), pixel_values=torch.Size([4, 3, 3, 336, 336])\n",
      "INFO:__main__:Training batch 13, size: 4\n"
     ]
    },
    {
     "name": "stdout",
     "output_type": "stream",
     "text": [
      "Epoch 0:  70%|███████   | 14/20 [00:48<00:20,  0.29it/s, v_num=shot, train_loss_step=4.050, val_loss_step=4.100, val_rouge_step=0.845, val_loss_epoch=4.100, val_rouge_epoch=0.803]"
     ]
    },
    {
     "name": "stderr",
     "output_type": "stream",
     "text": [
      "INFO:__main__:Processing batch with 4 samples\n",
      "INFO:__main__:Loading image: fsdam/few_shot/train/1093_00009.png\n",
      "INFO:__main__:Loading image: fsdam/few_shot/train/1131_00010.png\n",
      "INFO:__main__:Loading image: fsdam/few_shot/train/1090_00165.png\n",
      "INFO:__main__:Loading image: fsdam/few_shot/train/1018_00083.png\n",
      "INFO:__main__:Processing 4 texts\n",
      "INFO:__main__:Input shapes: input_ids=torch.Size([4, 1281]), pixel_values=torch.Size([4, 3, 3, 336, 336])\n",
      "INFO:__main__:Training batch 14, size: 4\n"
     ]
    },
    {
     "name": "stdout",
     "output_type": "stream",
     "text": [
      "Epoch 0:  75%|███████▌  | 15/20 [00:49<00:16,  0.30it/s, v_num=shot, train_loss_step=4.040, val_loss_step=4.100, val_rouge_step=0.845, val_loss_epoch=4.100, val_rouge_epoch=0.803]"
     ]
    },
    {
     "name": "stderr",
     "output_type": "stream",
     "text": [
      "INFO:__main__:Processing batch with 4 samples\n",
      "INFO:__main__:Loading image: fsdam/few_shot/train/1094_00007.png\n",
      "INFO:__main__:Loading image: fsdam/few_shot/train/1075_00022.png\n",
      "INFO:__main__:Loading image: fsdam/few_shot/train/1117_00009.png\n",
      "INFO:__main__:Loading image: fsdam/few_shot/train/102_00274.png\n",
      "INFO:__main__:Processing 4 texts\n",
      "INFO:__main__:Input shapes: input_ids=torch.Size([4, 1292]), pixel_values=torch.Size([4, 3, 3, 336, 336])\n",
      "INFO:__main__:Training batch 15, size: 4\n"
     ]
    },
    {
     "name": "stdout",
     "output_type": "stream",
     "text": [
      "Epoch 0:  80%|████████  | 16/20 [00:51<00:12,  0.31it/s, v_num=shot, train_loss_step=3.990, val_loss_step=4.100, val_rouge_step=0.845, val_loss_epoch=4.100, val_rouge_epoch=0.803]"
     ]
    },
    {
     "name": "stderr",
     "output_type": "stream",
     "text": [
      "INFO:__main__:Processing batch with 4 samples\n",
      "INFO:__main__:Loading image: fsdam/few_shot/train/1126_00007.png\n",
      "INFO:__main__:Loading image: fsdam/few_shot/train/106_00169.png\n",
      "INFO:__main__:Loading image: fsdam/few_shot/train/1081_00005.png\n",
      "INFO:__main__:Loading image: fsdam/few_shot/train/1059_00038.png\n",
      "INFO:__main__:Processing 4 texts\n",
      "INFO:__main__:Input shapes: input_ids=torch.Size([4, 1289]), pixel_values=torch.Size([4, 3, 3, 336, 336])\n",
      "INFO:__main__:Training batch 16, size: 4\n"
     ]
    },
    {
     "name": "stdout",
     "output_type": "stream",
     "text": [
      "Epoch 0:  85%|████████▌ | 17/20 [00:52<00:09,  0.32it/s, v_num=shot, train_loss_step=3.960, val_loss_step=4.100, val_rouge_step=0.845, val_loss_epoch=4.100, val_rouge_epoch=0.803]"
     ]
    },
    {
     "name": "stderr",
     "output_type": "stream",
     "text": [
      "INFO:__main__:Processing batch with 4 samples\n",
      "INFO:__main__:Loading image: fsdam/few_shot/train/1105_00120.png\n",
      "INFO:__main__:Loading image: fsdam/few_shot/train/1032_00158.png\n",
      "INFO:__main__:Loading image: fsdam/few_shot/train/109_00214.png\n",
      "INFO:__main__:Loading image: fsdam/few_shot/train/1104_00101.png\n",
      "INFO:__main__:Processing 4 texts\n",
      "INFO:__main__:Input shapes: input_ids=torch.Size([4, 1290]), pixel_values=torch.Size([4, 3, 3, 336, 336])\n",
      "INFO:__main__:Training batch 17, size: 4\n"
     ]
    },
    {
     "name": "stdout",
     "output_type": "stream",
     "text": [
      "Epoch 0:  90%|█████████ | 18/20 [00:54<00:06,  0.33it/s, v_num=shot, train_loss_step=3.960, val_loss_step=4.100, val_rouge_step=0.845, val_loss_epoch=4.100, val_rouge_epoch=0.803]"
     ]
    },
    {
     "name": "stderr",
     "output_type": "stream",
     "text": [
      "INFO:__main__:Processing batch with 4 samples\n",
      "INFO:__main__:Loading image: fsdam/few_shot/train/1028_00007.png\n",
      "INFO:__main__:Loading image: fsdam/few_shot/train/1115_00018.png\n",
      "INFO:__main__:Loading image: fsdam/few_shot/train/1121_00009.png\n",
      "INFO:__main__:Loading image: fsdam/few_shot/train/1127_00323.png\n",
      "INFO:__main__:Processing 4 texts\n",
      "INFO:__main__:Input shapes: input_ids=torch.Size([4, 1308]), pixel_values=torch.Size([4, 3, 3, 336, 336])\n",
      "INFO:__main__:Training batch 18, size: 4\n"
     ]
    },
    {
     "name": "stdout",
     "output_type": "stream",
     "text": [
      "Epoch 0:  95%|█████████▌| 19/20 [00:55<00:02,  0.34it/s, v_num=shot, train_loss_step=3.940, val_loss_step=4.100, val_rouge_step=0.845, val_loss_epoch=4.100, val_rouge_epoch=0.803]"
     ]
    },
    {
     "name": "stderr",
     "output_type": "stream",
     "text": [
      "INFO:__main__:Processing batch with 4 samples\n",
      "INFO:__main__:Loading image: fsdam/few_shot/train/1108_00007.png\n",
      "INFO:__main__:Loading image: fsdam/few_shot/train/1079_00082.png\n",
      "INFO:__main__:Loading image: fsdam/few_shot/train/1116_00009.png\n",
      "INFO:__main__:Loading image: fsdam/few_shot/train/1004_00271.png\n",
      "INFO:__main__:Processing 4 texts\n",
      "INFO:__main__:Input shapes: input_ids=torch.Size([4, 1282]), pixel_values=torch.Size([4, 3, 3, 336, 336])\n",
      "INFO:__main__:Training batch 19, size: 4\n"
     ]
    },
    {
     "name": "stdout",
     "output_type": "stream",
     "text": [
      "Epoch 0: 100%|██████████| 20/20 [00:57<00:00,  0.35it/s, v_num=shot, train_loss_step=3.940, val_loss_step=4.100, val_rouge_step=0.845, val_loss_epoch=4.100, val_rouge_epoch=0.803]\n",
      "Validation: |          | 0/? [00:00<?, ?it/s]\u001b[A"
     ]
    },
    {
     "name": "stderr",
     "output_type": "stream",
     "text": [
      "INFO:__main__:Processing batch with 4 samples\n",
      "INFO:__main__:Loading image: fsdam/few_shot/val/1737_00085.png\n",
      "INFO:__main__:Loading image: fsdam/few_shot/val/1737_00287.png\n",
      "INFO:__main__:Loading image: fsdam/few_shot/val/1744_00119.png\n",
      "INFO:__main__:Loading image: fsdam/few_shot/val/1744_00219.png\n",
      "INFO:__main__:Processing 4 texts\n",
      "INFO:__main__:Input shapes: input_ids=torch.Size([4, 1293]), pixel_values=torch.Size([4, 3, 3, 336, 336])\n"
     ]
    },
    {
     "name": "stdout",
     "output_type": "stream",
     "text": [
      "\n",
      "Validation:   0%|          | 0/5 [00:00<?, ?it/s]\u001b[A\n",
      "Validation DataLoader 0:   0%|          | 0/5 [00:00<?, ?it/s]\u001b[A"
     ]
    },
    {
     "name": "stderr",
     "output_type": "stream",
     "text": [
      "INFO:__main__:Validation batch 0, size: 4\n",
      "INFO:__main__:Sample Validation Prediction: The scene shows a busy urban intersection with cars, buildings, and a yellow traffic light ahead. Th...\n",
      "INFO:__main__:Sample Validation Target: [INST] \n",
      "Describe the scene, the driver's current gaze, and where that gaze will likely shift next an...\n"
     ]
    },
    {
     "name": "stdout",
     "output_type": "stream",
     "text": [
      "\n",
      "Validation DataLoader 0:  20%|██        | 1/5 [00:02<00:08,  0.45it/s]\u001b[A"
     ]
    },
    {
     "name": "stderr",
     "output_type": "stream",
     "text": [
      "INFO:__main__:Processing batch with 4 samples\n",
      "INFO:__main__:Loading image: fsdam/few_shot/val/1746_00008.png\n",
      "INFO:__main__:Loading image: fsdam/few_shot/val/1747_00012.png\n",
      "INFO:__main__:Loading image: fsdam/few_shot/val/1748_00018.png\n",
      "INFO:__main__:Loading image: fsdam/few_shot/val/1748_00243.png\n",
      "INFO:__main__:Processing 4 texts\n",
      "INFO:__main__:Input shapes: input_ids=torch.Size([4, 1282]), pixel_values=torch.Size([4, 3, 3, 336, 336])\n",
      "INFO:__main__:Validation batch 1, size: 4\n"
     ]
    },
    {
     "name": "stdout",
     "output_type": "stream",
     "text": [
      "\n",
      "Validation DataLoader 0:  40%|████      | 2/5 [00:03<00:05,  0.57it/s]\u001b[A"
     ]
    },
    {
     "name": "stderr",
     "output_type": "stream",
     "text": [
      "INFO:__main__:Processing batch with 4 samples\n",
      "INFO:__main__:Loading image: fsdam/few_shot/val/1753_00160.png\n",
      "INFO:__main__:Loading image: fsdam/few_shot/val/1754_00079.png\n",
      "INFO:__main__:Loading image: fsdam/few_shot/val/1755_00078.png\n",
      "INFO:__main__:Loading image: fsdam/few_shot/val/1756_00013.png\n",
      "INFO:__main__:Processing 4 texts\n",
      "INFO:__main__:Input shapes: input_ids=torch.Size([4, 1292]), pixel_values=torch.Size([4, 3, 3, 336, 336])\n",
      "INFO:__main__:Validation batch 2, size: 4\n"
     ]
    },
    {
     "name": "stdout",
     "output_type": "stream",
     "text": [
      "\n",
      "Validation DataLoader 0:  60%|██████    | 3/5 [00:06<00:04,  0.43it/s]\u001b[A"
     ]
    },
    {
     "name": "stderr",
     "output_type": "stream",
     "text": [
      "INFO:__main__:Processing batch with 4 samples\n",
      "INFO:__main__:Loading image: fsdam/few_shot/val/1760_00071.png\n",
      "INFO:__main__:Loading image: fsdam/few_shot/val/1761_00005.png\n",
      "INFO:__main__:Loading image: fsdam/few_shot/val/1764_00032.png\n",
      "INFO:__main__:Loading image: fsdam/few_shot/val/1767_00017.png\n",
      "INFO:__main__:Processing 4 texts\n",
      "INFO:__main__:Input shapes: input_ids=torch.Size([4, 1285]), pixel_values=torch.Size([4, 3, 3, 336, 336])\n",
      "INFO:__main__:Validation batch 3, size: 4\n"
     ]
    },
    {
     "name": "stdout",
     "output_type": "stream",
     "text": [
      "\n",
      "Validation DataLoader 0:  80%|████████  | 4/5 [00:08<00:02,  0.49it/s]\u001b[A"
     ]
    },
    {
     "name": "stderr",
     "output_type": "stream",
     "text": [
      "INFO:__main__:Processing batch with 4 samples\n",
      "INFO:__main__:Loading image: fsdam/few_shot/val/1768_00239.png\n",
      "INFO:__main__:Loading image: fsdam/few_shot/val/1771_00259.png\n",
      "INFO:__main__:Loading image: fsdam/few_shot/val/1772_00192.png\n",
      "INFO:__main__:Loading image: fsdam/few_shot/val/1773_00089.png\n",
      "INFO:__main__:Processing 4 texts\n",
      "INFO:__main__:Input shapes: input_ids=torch.Size([4, 1304]), pixel_values=torch.Size([4, 3, 3, 336, 336])\n",
      "INFO:__main__:Validation batch 4, size: 4\n"
     ]
    },
    {
     "name": "stdout",
     "output_type": "stream",
     "text": [
      "\n",
      "Validation DataLoader 0: 100%|██████████| 5/5 [00:09<00:00,  0.52it/s]\u001b[A\n",
      "Epoch 1:   0%|          | 0/20 [00:00<?, ?it/s, v_num=shot, train_loss_step=3.940, val_loss_step=3.900, val_rouge_step=0.867, val_loss_epoch=3.910, val_rouge_epoch=0.845, train_loss_epoch=5.560]         "
     ]
    },
    {
     "name": "stderr",
     "output_type": "stream",
     "text": [
      "INFO:__main__:Starting epoch 1\n",
      "INFO:__main__:Processing batch with 4 samples\n",
      "INFO:__main__:Loading image: fsdam/few_shot/train/1119_00195.png\n",
      "INFO:__main__:Loading image: fsdam/few_shot/train/1093_00009.png\n",
      "INFO:__main__:Loading image: fsdam/few_shot/train/105_00007.png\n",
      "INFO:__main__:Loading image: fsdam/few_shot/train/1105_00120.png\n",
      "INFO:__main__:Processing 4 texts\n",
      "INFO:__main__:Input shapes: input_ids=torch.Size([4, 1290]), pixel_values=torch.Size([4, 3, 3, 336, 336])\n",
      "INFO:__main__:Training batch 0, size: 4\n",
      "INFO:__main__:Sample Training Prediction: kwiet]. sierpcribe the scene and the driver's current gaze, and where that gaze will likely shift ne...\n"
     ]
    },
    {
     "name": "stdout",
     "output_type": "stream",
     "text": [
      "Epoch 1:   5%|▌         | 1/20 [00:01<00:26,  0.72it/s, v_num=shot, train_loss_step=3.920, val_loss_step=3.900, val_rouge_step=0.867, val_loss_epoch=3.910, val_rouge_epoch=0.845, train_loss_epoch=5.560]"
     ]
    },
    {
     "name": "stderr",
     "output_type": "stream",
     "text": [
      "INFO:__main__:Processing batch with 4 samples\n",
      "INFO:__main__:Loading image: fsdam/few_shot/train/1142_00123.png\n",
      "INFO:__main__:Loading image: fsdam/few_shot/train/1134_00018.png\n",
      "INFO:__main__:Loading image: fsdam/few_shot/train/1104_00101.png\n",
      "INFO:__main__:Loading image: fsdam/few_shot/train/1080_00285.png\n",
      "INFO:__main__:Processing 4 texts\n",
      "INFO:__main__:Input shapes: input_ids=torch.Size([4, 1285]), pixel_values=torch.Size([4, 3, 3, 336, 336])\n",
      "INFO:__main__:Training batch 1, size: 4\n"
     ]
    },
    {
     "name": "stdout",
     "output_type": "stream",
     "text": [
      "Epoch 1:  10%|█         | 2/20 [00:02<00:25,  0.70it/s, v_num=shot, train_loss_step=3.900, val_loss_step=3.900, val_rouge_step=0.867, val_loss_epoch=3.910, val_rouge_epoch=0.845, train_loss_epoch=5.560]"
     ]
    },
    {
     "name": "stderr",
     "output_type": "stream",
     "text": [
      "INFO:__main__:Processing batch with 4 samples\n",
      "INFO:__main__:Loading image: fsdam/few_shot/train/106_00169.png\n",
      "INFO:__main__:Loading image: fsdam/few_shot/train/1039_00071.png\n",
      "INFO:__main__:Loading image: fsdam/few_shot/train/1102_00007.png\n",
      "INFO:__main__:Loading image: fsdam/few_shot/train/1095_00016.png\n",
      "INFO:__main__:Processing 4 texts\n",
      "INFO:__main__:Input shapes: input_ids=torch.Size([4, 1282]), pixel_values=torch.Size([4, 3, 3, 336, 336])\n",
      "INFO:__main__:Training batch 2, size: 4\n"
     ]
    },
    {
     "name": "stdout",
     "output_type": "stream",
     "text": [
      "Epoch 1:  15%|█▌        | 3/20 [00:04<00:24,  0.69it/s, v_num=shot, train_loss_step=3.880, val_loss_step=3.900, val_rouge_step=0.867, val_loss_epoch=3.910, val_rouge_epoch=0.845, train_loss_epoch=5.560]"
     ]
    },
    {
     "name": "stderr",
     "output_type": "stream",
     "text": [
      "INFO:__main__:Processing batch with 4 samples\n",
      "INFO:__main__:Loading image: fsdam/few_shot/train/1020_00018.png\n",
      "INFO:__main__:Loading image: fsdam/few_shot/train/1128_00030.png\n",
      "INFO:__main__:Loading image: fsdam/few_shot/train/1091_00103.png\n",
      "INFO:__main__:Loading image: fsdam/few_shot/train/1066_00005.png\n",
      "INFO:__main__:Processing 4 texts\n",
      "INFO:__main__:Input shapes: input_ids=torch.Size([4, 1277]), pixel_values=torch.Size([4, 3, 3, 336, 336])\n",
      "INFO:__main__:Training batch 3, size: 4\n"
     ]
    },
    {
     "name": "stdout",
     "output_type": "stream",
     "text": [
      "Epoch 1:  20%|██        | 4/20 [00:05<00:22,  0.70it/s, v_num=shot, train_loss_step=3.860, val_loss_step=3.900, val_rouge_step=0.867, val_loss_epoch=3.910, val_rouge_epoch=0.845, train_loss_epoch=5.560]"
     ]
    },
    {
     "name": "stderr",
     "output_type": "stream",
     "text": [
      "INFO:__main__:Processing batch with 4 samples\n",
      "INFO:__main__:Loading image: fsdam/few_shot/train/1009_00160.png\n",
      "INFO:__main__:Loading image: fsdam/few_shot/train/1000_00007.png\n",
      "INFO:__main__:Loading image: fsdam/few_shot/train/1044_00041.png\n",
      "INFO:__main__:Loading image: fsdam/few_shot/train/1116_00009.png\n",
      "INFO:__main__:Processing 4 texts\n",
      "INFO:__main__:Input shapes: input_ids=torch.Size([4, 1285]), pixel_values=torch.Size([4, 3, 3, 336, 336])\n",
      "INFO:__main__:Training batch 4, size: 4\n"
     ]
    },
    {
     "name": "stdout",
     "output_type": "stream",
     "text": [
      "Epoch 1:  25%|██▌       | 5/20 [00:07<00:21,  0.70it/s, v_num=shot, train_loss_step=3.860, val_loss_step=3.900, val_rouge_step=0.867, val_loss_epoch=3.910, val_rouge_epoch=0.845, train_loss_epoch=5.560]"
     ]
    },
    {
     "name": "stderr",
     "output_type": "stream",
     "text": [
      "INFO:__main__:Processing batch with 4 samples\n",
      "INFO:__main__:Loading image: fsdam/few_shot/train/1016_00053.png\n",
      "INFO:__main__:Loading image: fsdam/few_shot/train/111_00123.png\n",
      "INFO:__main__:Loading image: fsdam/few_shot/train/1071_00018.png\n",
      "INFO:__main__:Loading image: fsdam/few_shot/train/1058_00033.png\n",
      "INFO:__main__:Processing 4 texts\n",
      "INFO:__main__:Input shapes: input_ids=torch.Size([4, 1301]), pixel_values=torch.Size([4, 3, 3, 336, 336])\n",
      "INFO:__main__:Training batch 5, size: 4\n"
     ]
    },
    {
     "name": "stdout",
     "output_type": "stream",
     "text": [
      "Epoch 1:  30%|███       | 6/20 [00:08<00:19,  0.70it/s, v_num=shot, train_loss_step=3.820, val_loss_step=3.900, val_rouge_step=0.867, val_loss_epoch=3.910, val_rouge_epoch=0.845, train_loss_epoch=5.560]"
     ]
    },
    {
     "name": "stderr",
     "output_type": "stream",
     "text": [
      "INFO:__main__:Processing batch with 4 samples\n",
      "INFO:__main__:Loading image: fsdam/few_shot/train/1127_00323.png\n",
      "INFO:__main__:Loading image: fsdam/few_shot/train/1067_00008.png\n",
      "INFO:__main__:Loading image: fsdam/few_shot/train/1005_00018.png\n",
      "INFO:__main__:Loading image: fsdam/few_shot/train/1036_00017.png\n",
      "INFO:__main__:Processing 4 texts\n",
      "INFO:__main__:Input shapes: input_ids=torch.Size([4, 1280]), pixel_values=torch.Size([4, 3, 3, 336, 336])\n",
      "INFO:__main__:Training batch 6, size: 4\n"
     ]
    },
    {
     "name": "stdout",
     "output_type": "stream",
     "text": [
      "Epoch 1:  35%|███▌      | 7/20 [00:09<00:18,  0.70it/s, v_num=shot, train_loss_step=3.820, val_loss_step=3.900, val_rouge_step=0.867, val_loss_epoch=3.910, val_rouge_epoch=0.845, train_loss_epoch=5.560]"
     ]
    },
    {
     "name": "stderr",
     "output_type": "stream",
     "text": [
      "INFO:__main__:Processing batch with 4 samples\n",
      "INFO:__main__:Loading image: fsdam/few_shot/train/1092_00119.png\n",
      "INFO:__main__:Loading image: fsdam/few_shot/train/1076_00009.png\n",
      "INFO:__main__:Loading image: fsdam/few_shot/train/1065_00130.png\n",
      "INFO:__main__:Loading image: fsdam/few_shot/train/1126_00007.png\n",
      "INFO:__main__:Processing 4 texts\n",
      "INFO:__main__:Input shapes: input_ids=torch.Size([4, 1284]), pixel_values=torch.Size([4, 3, 3, 336, 336])\n",
      "INFO:__main__:Training batch 7, size: 4\n"
     ]
    },
    {
     "name": "stdout",
     "output_type": "stream",
     "text": [
      "Epoch 1:  40%|████      | 8/20 [00:11<00:17,  0.70it/s, v_num=shot, train_loss_step=3.800, val_loss_step=3.900, val_rouge_step=0.867, val_loss_epoch=3.910, val_rouge_epoch=0.845, train_loss_epoch=5.560]"
     ]
    },
    {
     "name": "stderr",
     "output_type": "stream",
     "text": [
      "INFO:__main__:Processing batch with 4 samples\n",
      "INFO:__main__:Loading image: fsdam/few_shot/train/1046_00005.png\n",
      "INFO:__main__:Loading image: fsdam/few_shot/train/1111_00361.png\n",
      "INFO:__main__:Loading image: fsdam/few_shot/train/1024_00008.png\n",
      "INFO:__main__:Loading image: fsdam/few_shot/train/1106_00061.png\n",
      "INFO:__main__:Processing 4 texts\n",
      "INFO:__main__:Input shapes: input_ids=torch.Size([4, 1289]), pixel_values=torch.Size([4, 3, 3, 336, 336])\n",
      "INFO:__main__:Training batch 8, size: 4\n"
     ]
    },
    {
     "name": "stdout",
     "output_type": "stream",
     "text": [
      "Epoch 1:  45%|████▌     | 9/20 [00:12<00:15,  0.70it/s, v_num=shot, train_loss_step=3.770, val_loss_step=3.900, val_rouge_step=0.867, val_loss_epoch=3.910, val_rouge_epoch=0.845, train_loss_epoch=5.560]"
     ]
    },
    {
     "name": "stderr",
     "output_type": "stream",
     "text": [
      "INFO:__main__:Processing batch with 4 samples\n",
      "INFO:__main__:Loading image: fsdam/few_shot/train/1117_00009.png\n",
      "INFO:__main__:Loading image: fsdam/few_shot/train/102_00274.png\n",
      "INFO:__main__:Loading image: fsdam/few_shot/train/1081_00005.png\n",
      "INFO:__main__:Loading image: fsdam/few_shot/train/1131_00010.png\n",
      "INFO:__main__:Processing 4 texts\n",
      "INFO:__main__:Input shapes: input_ids=torch.Size([4, 1292]), pixel_values=torch.Size([4, 3, 3, 336, 336])\n",
      "INFO:__main__:Training batch 9, size: 4\n"
     ]
    },
    {
     "name": "stdout",
     "output_type": "stream",
     "text": [
      "Epoch 1:  50%|█████     | 10/20 [00:14<00:14,  0.70it/s, v_num=shot, train_loss_step=3.750, val_loss_step=3.900, val_rouge_step=0.867, val_loss_epoch=3.910, val_rouge_epoch=0.845, train_loss_epoch=5.560]\n",
      "Validation: |          | 0/? [00:00<?, ?it/s]\u001b[A"
     ]
    },
    {
     "name": "stderr",
     "output_type": "stream",
     "text": [
      "INFO:__main__:Processing batch with 4 samples\n",
      "INFO:__main__:Loading image: fsdam/few_shot/val/1737_00085.png\n",
      "INFO:__main__:Loading image: fsdam/few_shot/val/1737_00287.png\n",
      "INFO:__main__:Loading image: fsdam/few_shot/val/1744_00119.png\n",
      "INFO:__main__:Loading image: fsdam/few_shot/val/1744_00219.png\n",
      "INFO:__main__:Processing 4 texts\n",
      "INFO:__main__:Input shapes: input_ids=torch.Size([4, 1293]), pixel_values=torch.Size([4, 3, 3, 336, 336])\n"
     ]
    },
    {
     "name": "stdout",
     "output_type": "stream",
     "text": [
      "\n",
      "Validation:   0%|          | 0/5 [00:00<?, ?it/s]\u001b[A\n",
      "Validation DataLoader 0:   0%|          | 0/5 [00:00<?, ?it/s]\u001b[A"
     ]
    },
    {
     "name": "stderr",
     "output_type": "stream",
     "text": [
      "INFO:__main__:Validation batch 0, size: 4\n",
      "INFO:__main__:Sample Validation Prediction: The scene shows a busy urban intersection with cars, buildings, and a yellow traffic light ahead. Th...\n",
      "INFO:__main__:Sample Validation Target: [INST] \n",
      "Describe the scene, the driver's current gaze, and where that gaze will likely shift next an...\n"
     ]
    },
    {
     "name": "stdout",
     "output_type": "stream",
     "text": [
      "\n",
      "Validation DataLoader 0:  20%|██        | 1/5 [00:03<00:13,  0.29it/s]\u001b[A"
     ]
    },
    {
     "name": "stderr",
     "output_type": "stream",
     "text": [
      "INFO:__main__:Processing batch with 4 samples\n",
      "INFO:__main__:Loading image: fsdam/few_shot/val/1746_00008.png\n",
      "INFO:__main__:Loading image: fsdam/few_shot/val/1747_00012.png\n",
      "INFO:__main__:Loading image: fsdam/few_shot/val/1748_00018.png\n",
      "INFO:__main__:Loading image: fsdam/few_shot/val/1748_00243.png\n",
      "INFO:__main__:Processing 4 texts\n",
      "INFO:__main__:Input shapes: input_ids=torch.Size([4, 1282]), pixel_values=torch.Size([4, 3, 3, 336, 336])\n",
      "INFO:__main__:Validation batch 1, size: 4\n"
     ]
    },
    {
     "name": "stdout",
     "output_type": "stream",
     "text": [
      "\n",
      "Validation DataLoader 0:  40%|████      | 2/5 [00:04<00:07,  0.42it/s]\u001b[A"
     ]
    },
    {
     "name": "stderr",
     "output_type": "stream",
     "text": [
      "INFO:__main__:Processing batch with 4 samples\n",
      "INFO:__main__:Loading image: fsdam/few_shot/val/1753_00160.png\n",
      "INFO:__main__:Loading image: fsdam/few_shot/val/1754_00079.png\n",
      "INFO:__main__:Loading image: fsdam/few_shot/val/1755_00078.png\n",
      "INFO:__main__:Loading image: fsdam/few_shot/val/1756_00013.png\n",
      "INFO:__main__:Processing 4 texts\n",
      "INFO:__main__:Input shapes: input_ids=torch.Size([4, 1292]), pixel_values=torch.Size([4, 3, 3, 336, 336])\n",
      "INFO:__main__:Validation batch 2, size: 4\n"
     ]
    },
    {
     "name": "stdout",
     "output_type": "stream",
     "text": [
      "\n",
      "Validation DataLoader 0:  60%|██████    | 3/5 [00:07<00:05,  0.39it/s]\u001b[A"
     ]
    },
    {
     "name": "stderr",
     "output_type": "stream",
     "text": [
      "INFO:__main__:Processing batch with 4 samples\n",
      "INFO:__main__:Loading image: fsdam/few_shot/val/1760_00071.png\n",
      "INFO:__main__:Loading image: fsdam/few_shot/val/1761_00005.png\n",
      "INFO:__main__:Loading image: fsdam/few_shot/val/1764_00032.png\n",
      "INFO:__main__:Loading image: fsdam/few_shot/val/1767_00017.png\n",
      "INFO:__main__:Processing 4 texts\n",
      "INFO:__main__:Input shapes: input_ids=torch.Size([4, 1285]), pixel_values=torch.Size([4, 3, 3, 336, 336])\n",
      "INFO:__main__:Validation batch 3, size: 4\n"
     ]
    },
    {
     "name": "stdout",
     "output_type": "stream",
     "text": [
      "\n",
      "Validation DataLoader 0:  80%|████████  | 4/5 [00:08<00:02,  0.44it/s]\u001b[A"
     ]
    },
    {
     "name": "stderr",
     "output_type": "stream",
     "text": [
      "INFO:__main__:Processing batch with 4 samples\n",
      "INFO:__main__:Loading image: fsdam/few_shot/val/1768_00239.png\n",
      "INFO:__main__:Loading image: fsdam/few_shot/val/1771_00259.png\n",
      "INFO:__main__:Loading image: fsdam/few_shot/val/1772_00192.png\n",
      "INFO:__main__:Loading image: fsdam/few_shot/val/1773_00089.png\n",
      "INFO:__main__:Processing 4 texts\n",
      "INFO:__main__:Input shapes: input_ids=torch.Size([4, 1304]), pixel_values=torch.Size([4, 3, 3, 336, 336])\n",
      "INFO:__main__:Validation batch 4, size: 4\n"
     ]
    },
    {
     "name": "stdout",
     "output_type": "stream",
     "text": [
      "\n",
      "Validation DataLoader 0: 100%|██████████| 5/5 [00:10<00:00,  0.48it/s]\u001b[A\n",
      "Epoch 1:  50%|█████     | 10/20 [00:24<00:24,  0.40it/s, v_num=shot, train_loss_step=3.750, val_loss_step=3.730, val_rouge_step=0.867, val_loss_epoch=3.740, val_rouge_epoch=0.843, train_loss_epoch=5.560]"
     ]
    },
    {
     "name": "stderr",
     "output_type": "stream",
     "text": [
      "INFO:__main__:Processing batch with 4 samples\n",
      "INFO:__main__:Loading image: fsdam/few_shot/train/1084_00106.png\n",
      "INFO:__main__:Loading image: fsdam/few_shot/train/1108_00007.png\n",
      "INFO:__main__:Loading image: fsdam/few_shot/train/1068_00017.png\n",
      "INFO:__main__:Loading image: fsdam/few_shot/train/1135_00007.png\n",
      "INFO:__main__:Processing 4 texts\n",
      "INFO:__main__:Input shapes: input_ids=torch.Size([4, 1289]), pixel_values=torch.Size([4, 3, 3, 336, 336])\n",
      "INFO:__main__:Training batch 10, size: 4\n"
     ]
    },
    {
     "name": "stdout",
     "output_type": "stream",
     "text": [
      "Epoch 1:  55%|█████▌    | 11/20 [00:26<00:21,  0.42it/s, v_num=shot, train_loss_step=3.730, val_loss_step=3.730, val_rouge_step=0.867, val_loss_epoch=3.740, val_rouge_epoch=0.843, train_loss_epoch=5.560]"
     ]
    },
    {
     "name": "stderr",
     "output_type": "stream",
     "text": [
      "INFO:__main__:Processing batch with 4 samples\n",
      "INFO:__main__:Loading image: fsdam/few_shot/train/1069_00127.png\n",
      "INFO:__main__:Loading image: fsdam/few_shot/train/1090_00165.png\n",
      "INFO:__main__:Loading image: fsdam/few_shot/train/1130_00145.png\n",
      "INFO:__main__:Loading image: fsdam/few_shot/train/10_00048.png\n",
      "INFO:__main__:Processing 4 texts\n",
      "INFO:__main__:Input shapes: input_ids=torch.Size([4, 1296]), pixel_values=torch.Size([4, 3, 3, 336, 336])\n",
      "INFO:__main__:Training batch 11, size: 4\n"
     ]
    },
    {
     "name": "stdout",
     "output_type": "stream",
     "text": [
      "Epoch 1:  60%|██████    | 12/20 [00:27<00:18,  0.43it/s, v_num=shot, train_loss_step=3.720, val_loss_step=3.730, val_rouge_step=0.867, val_loss_epoch=3.740, val_rouge_epoch=0.843, train_loss_epoch=5.560]"
     ]
    },
    {
     "name": "stderr",
     "output_type": "stream",
     "text": [
      "INFO:__main__:Processing batch with 4 samples\n",
      "INFO:__main__:Loading image: fsdam/few_shot/train/1096_00208.png\n",
      "INFO:__main__:Loading image: fsdam/few_shot/train/1136_00018.png\n",
      "INFO:__main__:Loading image: fsdam/few_shot/train/107_00084.png\n",
      "INFO:__main__:Loading image: fsdam/few_shot/train/1050_00018.png\n",
      "INFO:__main__:Processing 4 texts\n",
      "INFO:__main__:Input shapes: input_ids=torch.Size([4, 1289]), pixel_values=torch.Size([4, 3, 3, 336, 336])\n",
      "INFO:__main__:Training batch 12, size: 4\n"
     ]
    },
    {
     "name": "stdout",
     "output_type": "stream",
     "text": [
      "Epoch 1:  65%|██████▌   | 13/20 [00:29<00:15,  0.44it/s, v_num=shot, train_loss_step=3.730, val_loss_step=3.730, val_rouge_step=0.867, val_loss_epoch=3.740, val_rouge_epoch=0.843, train_loss_epoch=5.560]"
     ]
    },
    {
     "name": "stderr",
     "output_type": "stream",
     "text": [
      "INFO:__main__:Processing batch with 4 samples\n",
      "INFO:__main__:Loading image: fsdam/few_shot/train/1032_00158.png\n",
      "INFO:__main__:Loading image: fsdam/few_shot/train/1029_00109.png\n",
      "INFO:__main__:Loading image: fsdam/few_shot/train/1023_00007.png\n",
      "INFO:__main__:Loading image: fsdam/few_shot/train/1079_00082.png\n",
      "INFO:__main__:Processing 4 texts\n",
      "INFO:__main__:Input shapes: input_ids=torch.Size([4, 1275]), pixel_values=torch.Size([4, 3, 3, 336, 336])\n",
      "INFO:__main__:Training batch 13, size: 4\n"
     ]
    },
    {
     "name": "stdout",
     "output_type": "stream",
     "text": [
      "Epoch 1:  70%|███████   | 14/20 [00:30<00:13,  0.46it/s, v_num=shot, train_loss_step=3.710, val_loss_step=3.730, val_rouge_step=0.867, val_loss_epoch=3.740, val_rouge_epoch=0.843, train_loss_epoch=5.560]"
     ]
    },
    {
     "name": "stderr",
     "output_type": "stream",
     "text": [
      "INFO:__main__:Processing batch with 4 samples\n",
      "INFO:__main__:Loading image: fsdam/few_shot/train/1021_00007.png\n",
      "INFO:__main__:Loading image: fsdam/few_shot/train/1094_00007.png\n",
      "INFO:__main__:Loading image: fsdam/few_shot/train/1115_00018.png\n",
      "INFO:__main__:Loading image: fsdam/few_shot/train/1099_00087.png\n",
      "INFO:__main__:Processing 4 texts\n",
      "INFO:__main__:Input shapes: input_ids=torch.Size([4, 1283]), pixel_values=torch.Size([4, 3, 3, 336, 336])\n",
      "INFO:__main__:Training batch 14, size: 4\n"
     ]
    },
    {
     "name": "stdout",
     "output_type": "stream",
     "text": [
      "Epoch 1:  75%|███████▌  | 15/20 [00:32<00:10,  0.47it/s, v_num=shot, train_loss_step=3.700, val_loss_step=3.730, val_rouge_step=0.867, val_loss_epoch=3.740, val_rouge_epoch=0.843, train_loss_epoch=5.560]"
     ]
    },
    {
     "name": "stderr",
     "output_type": "stream",
     "text": [
      "INFO:__main__:Processing batch with 4 samples\n",
      "INFO:__main__:Loading image: fsdam/few_shot/train/109_00214.png\n",
      "INFO:__main__:Loading image: fsdam/few_shot/train/1145_00038.png\n",
      "INFO:__main__:Loading image: fsdam/few_shot/train/1082_00070.png\n",
      "INFO:__main__:Loading image: fsdam/few_shot/train/1027_00007.png\n",
      "INFO:__main__:Processing 4 texts\n",
      "INFO:__main__:Input shapes: input_ids=torch.Size([4, 1302]), pixel_values=torch.Size([4, 3, 3, 336, 336])\n",
      "INFO:__main__:Training batch 15, size: 4\n"
     ]
    },
    {
     "name": "stdout",
     "output_type": "stream",
     "text": [
      "Epoch 1:  80%|████████  | 16/20 [00:33<00:08,  0.48it/s, v_num=shot, train_loss_step=3.680, val_loss_step=3.730, val_rouge_step=0.867, val_loss_epoch=3.740, val_rouge_epoch=0.843, train_loss_epoch=5.560]"
     ]
    },
    {
     "name": "stderr",
     "output_type": "stream",
     "text": [
      "INFO:__main__:Processing batch with 4 samples\n",
      "INFO:__main__:Loading image: fsdam/few_shot/train/1059_00038.png\n",
      "INFO:__main__:Loading image: fsdam/few_shot/train/1004_00271.png\n",
      "INFO:__main__:Loading image: fsdam/few_shot/train/1022_00154.png\n",
      "INFO:__main__:Loading image: fsdam/few_shot/train/1040_00131.png\n",
      "INFO:__main__:Processing 4 texts\n",
      "INFO:__main__:Input shapes: input_ids=torch.Size([4, 1299]), pixel_values=torch.Size([4, 3, 3, 336, 336])\n",
      "INFO:__main__:Training batch 16, size: 4\n"
     ]
    },
    {
     "name": "stdout",
     "output_type": "stream",
     "text": [
      "Epoch 1:  85%|████████▌ | 17/20 [00:35<00:06,  0.49it/s, v_num=shot, train_loss_step=3.670, val_loss_step=3.730, val_rouge_step=0.867, val_loss_epoch=3.740, val_rouge_epoch=0.843, train_loss_epoch=5.560]"
     ]
    },
    {
     "name": "stderr",
     "output_type": "stream",
     "text": [
      "INFO:__main__:Processing batch with 4 samples\n",
      "INFO:__main__:Loading image: fsdam/few_shot/train/1056_00008.png\n",
      "INFO:__main__:Loading image: fsdam/few_shot/train/1006_00018.png\n",
      "INFO:__main__:Loading image: fsdam/few_shot/train/1075_00022.png\n",
      "INFO:__main__:Loading image: fsdam/few_shot/train/1121_00009.png\n",
      "INFO:__main__:Processing 4 texts\n",
      "INFO:__main__:Input shapes: input_ids=torch.Size([4, 1308]), pixel_values=torch.Size([4, 3, 3, 336, 336])\n",
      "INFO:__main__:Training batch 17, size: 4\n"
     ]
    },
    {
     "name": "stdout",
     "output_type": "stream",
     "text": [
      "Epoch 1:  90%|█████████ | 18/20 [00:36<00:04,  0.49it/s, v_num=shot, train_loss_step=3.660, val_loss_step=3.730, val_rouge_step=0.867, val_loss_epoch=3.740, val_rouge_epoch=0.843, train_loss_epoch=5.560]"
     ]
    },
    {
     "name": "stderr",
     "output_type": "stream",
     "text": [
      "INFO:__main__:Processing batch with 4 samples\n",
      "INFO:__main__:Loading image: fsdam/few_shot/train/1028_00007.png\n",
      "INFO:__main__:Loading image: fsdam/few_shot/train/1052_00287.png\n",
      "INFO:__main__:Loading image: fsdam/few_shot/train/1129_00181.png\n",
      "INFO:__main__:Loading image: fsdam/few_shot/train/1018_00083.png\n",
      "INFO:__main__:Processing 4 texts\n",
      "INFO:__main__:Input shapes: input_ids=torch.Size([4, 1281]), pixel_values=torch.Size([4, 3, 3, 336, 336])\n",
      "INFO:__main__:Training batch 18, size: 4\n"
     ]
    },
    {
     "name": "stdout",
     "output_type": "stream",
     "text": [
      "Epoch 1:  95%|█████████▌| 19/20 [00:37<00:01,  0.50it/s, v_num=shot, train_loss_step=3.680, val_loss_step=3.730, val_rouge_step=0.867, val_loss_epoch=3.740, val_rouge_epoch=0.843, train_loss_epoch=5.560]"
     ]
    },
    {
     "name": "stderr",
     "output_type": "stream",
     "text": [
      "INFO:__main__:Processing batch with 4 samples\n",
      "INFO:__main__:Loading image: fsdam/few_shot/train/1064_00116.png\n",
      "INFO:__main__:Loading image: fsdam/few_shot/train/1124_00042.png\n",
      "INFO:__main__:Loading image: fsdam/few_shot/train/1077_00265.png\n",
      "INFO:__main__:Loading image: fsdam/few_shot/train/1100_00111.png\n",
      "INFO:__main__:Processing 4 texts\n",
      "INFO:__main__:Input shapes: input_ids=torch.Size([4, 1296]), pixel_values=torch.Size([4, 3, 3, 336, 336])\n",
      "INFO:__main__:Training batch 19, size: 4\n"
     ]
    },
    {
     "name": "stdout",
     "output_type": "stream",
     "text": [
      "Epoch 1: 100%|██████████| 20/20 [00:39<00:00,  0.51it/s, v_num=shot, train_loss_step=3.650, val_loss_step=3.730, val_rouge_step=0.867, val_loss_epoch=3.740, val_rouge_epoch=0.843, train_loss_epoch=5.560]\n",
      "Validation: |          | 0/? [00:00<?, ?it/s]\u001b[A"
     ]
    },
    {
     "name": "stderr",
     "output_type": "stream",
     "text": [
      "INFO:__main__:Processing batch with 4 samples\n",
      "INFO:__main__:Loading image: fsdam/few_shot/val/1737_00085.png\n",
      "INFO:__main__:Loading image: fsdam/few_shot/val/1737_00287.png\n",
      "INFO:__main__:Loading image: fsdam/few_shot/val/1744_00119.png\n",
      "INFO:__main__:Loading image: fsdam/few_shot/val/1744_00219.png\n",
      "INFO:__main__:Processing 4 texts\n",
      "INFO:__main__:Input shapes: input_ids=torch.Size([4, 1293]), pixel_values=torch.Size([4, 3, 3, 336, 336])\n"
     ]
    },
    {
     "name": "stdout",
     "output_type": "stream",
     "text": [
      "\n",
      "Validation:   0%|          | 0/5 [00:00<?, ?it/s]\u001b[A\n",
      "Validation DataLoader 0:   0%|          | 0/5 [00:00<?, ?it/s]\u001b[A"
     ]
    },
    {
     "name": "stderr",
     "output_type": "stream",
     "text": [
      "INFO:__main__:Validation batch 0, size: 4\n",
      "INFO:__main__:Sample Validation Prediction: The scene shows a busy urban intersection with cars, buildings, and a yellow traffic light ahead. Th...\n",
      "INFO:__main__:Sample Validation Target: [INST] \n",
      "Describe the scene, the driver's current gaze, and where that gaze will likely shift next an...\n"
     ]
    },
    {
     "name": "stdout",
     "output_type": "stream",
     "text": [
      "\n",
      "Validation DataLoader 0:  20%|██        | 1/5 [00:01<00:04,  0.93it/s]\u001b[A"
     ]
    },
    {
     "name": "stderr",
     "output_type": "stream",
     "text": [
      "INFO:__main__:Processing batch with 4 samples\n",
      "INFO:__main__:Loading image: fsdam/few_shot/val/1746_00008.png\n",
      "INFO:__main__:Loading image: fsdam/few_shot/val/1747_00012.png\n",
      "INFO:__main__:Loading image: fsdam/few_shot/val/1748_00018.png\n",
      "INFO:__main__:Loading image: fsdam/few_shot/val/1748_00243.png\n",
      "INFO:__main__:Processing 4 texts\n",
      "INFO:__main__:Input shapes: input_ids=torch.Size([4, 1282]), pixel_values=torch.Size([4, 3, 3, 336, 336])\n",
      "INFO:__main__:Validation batch 1, size: 4\n"
     ]
    },
    {
     "name": "stdout",
     "output_type": "stream",
     "text": [
      "\n",
      "Validation DataLoader 0:  40%|████      | 2/5 [00:02<00:03,  0.87it/s]\u001b[A"
     ]
    },
    {
     "name": "stderr",
     "output_type": "stream",
     "text": [
      "INFO:__main__:Processing batch with 4 samples\n",
      "INFO:__main__:Loading image: fsdam/few_shot/val/1753_00160.png\n",
      "INFO:__main__:Loading image: fsdam/few_shot/val/1754_00079.png\n",
      "INFO:__main__:Loading image: fsdam/few_shot/val/1755_00078.png\n",
      "INFO:__main__:Loading image: fsdam/few_shot/val/1756_00013.png\n",
      "INFO:__main__:Processing 4 texts\n",
      "INFO:__main__:Input shapes: input_ids=torch.Size([4, 1292]), pixel_values=torch.Size([4, 3, 3, 336, 336])\n",
      "INFO:__main__:Validation batch 2, size: 4\n"
     ]
    },
    {
     "name": "stdout",
     "output_type": "stream",
     "text": [
      "\n",
      "Validation DataLoader 0:  60%|██████    | 3/5 [00:06<00:04,  0.48it/s]\u001b[A"
     ]
    },
    {
     "name": "stderr",
     "output_type": "stream",
     "text": [
      "INFO:__main__:Processing batch with 4 samples\n",
      "INFO:__main__:Loading image: fsdam/few_shot/val/1760_00071.png\n",
      "INFO:__main__:Loading image: fsdam/few_shot/val/1761_00005.png\n",
      "INFO:__main__:Loading image: fsdam/few_shot/val/1764_00032.png\n",
      "INFO:__main__:Loading image: fsdam/few_shot/val/1767_00017.png\n",
      "INFO:__main__:Processing 4 texts\n",
      "INFO:__main__:Input shapes: input_ids=torch.Size([4, 1285]), pixel_values=torch.Size([4, 3, 3, 336, 336])\n",
      "INFO:__main__:Validation batch 3, size: 4\n"
     ]
    },
    {
     "name": "stdout",
     "output_type": "stream",
     "text": [
      "\n",
      "Validation DataLoader 0:  80%|████████  | 4/5 [00:07<00:01,  0.53it/s]\u001b[A"
     ]
    },
    {
     "name": "stderr",
     "output_type": "stream",
     "text": [
      "INFO:__main__:Processing batch with 4 samples\n",
      "INFO:__main__:Loading image: fsdam/few_shot/val/1768_00239.png\n",
      "INFO:__main__:Loading image: fsdam/few_shot/val/1771_00259.png\n",
      "INFO:__main__:Loading image: fsdam/few_shot/val/1772_00192.png\n",
      "INFO:__main__:Loading image: fsdam/few_shot/val/1773_00089.png\n",
      "INFO:__main__:Processing 4 texts\n",
      "INFO:__main__:Input shapes: input_ids=torch.Size([4, 1304]), pixel_values=torch.Size([4, 3, 3, 336, 336])\n",
      "INFO:__main__:Validation batch 4, size: 4\n"
     ]
    },
    {
     "name": "stdout",
     "output_type": "stream",
     "text": [
      "\n",
      "Validation DataLoader 0: 100%|██████████| 5/5 [00:08<00:00,  0.56it/s]\u001b[A\n",
      "Epoch 2:   0%|          | 0/20 [00:00<?, ?it/s, v_num=shot, train_loss_step=3.650, val_loss_step=3.640, val_rouge_step=0.866, val_loss_epoch=3.640, val_rouge_epoch=0.846, train_loss_epoch=3.770]         "
     ]
    },
    {
     "name": "stderr",
     "output_type": "stream",
     "text": [
      "INFO:__main__:Starting epoch 2\n",
      "INFO:__main__:Processing batch with 4 samples\n",
      "INFO:__main__:Loading image: fsdam/few_shot/train/1084_00106.png\n",
      "INFO:__main__:Loading image: fsdam/few_shot/train/1127_00323.png\n",
      "INFO:__main__:Loading image: fsdam/few_shot/train/1131_00010.png\n",
      "INFO:__main__:Loading image: fsdam/few_shot/train/1018_00083.png\n",
      "INFO:__main__:Processing 4 texts\n",
      "INFO:__main__:Input shapes: input_ids=torch.Size([4, 1283]), pixel_values=torch.Size([4, 3, 3, 336, 336])\n",
      "INFO:__main__:Training batch 0, size: 4\n",
      "INFO:__main__:Sample Training Prediction: INST] \n",
      "\n",
      "\n",
      "\n",
      "\n",
      "\n",
      "cribe the scene, the driver's current gaze, and where that gaze will likely shift next a...\n"
     ]
    },
    {
     "name": "stdout",
     "output_type": "stream",
     "text": [
      "Epoch 2:   5%|▌         | 1/20 [00:01<00:26,  0.72it/s, v_num=shot, train_loss_step=3.650, val_loss_step=3.640, val_rouge_step=0.866, val_loss_epoch=3.640, val_rouge_epoch=0.846, train_loss_epoch=3.770]"
     ]
    },
    {
     "name": "stderr",
     "output_type": "stream",
     "text": [
      "INFO:__main__:Processing batch with 4 samples\n",
      "INFO:__main__:Loading image: fsdam/few_shot/train/1068_00017.png\n",
      "INFO:__main__:Loading image: fsdam/few_shot/train/1124_00042.png\n",
      "INFO:__main__:Loading image: fsdam/few_shot/train/1096_00208.png\n",
      "INFO:__main__:Loading image: fsdam/few_shot/train/1039_00071.png\n",
      "INFO:__main__:Processing 4 texts\n",
      "INFO:__main__:Input shapes: input_ids=torch.Size([4, 1282]), pixel_values=torch.Size([4, 3, 3, 336, 336])\n",
      "INFO:__main__:Training batch 1, size: 4\n"
     ]
    },
    {
     "name": "stdout",
     "output_type": "stream",
     "text": [
      "Epoch 2:  10%|█         | 2/20 [00:02<00:25,  0.70it/s, v_num=shot, train_loss_step=3.640, val_loss_step=3.640, val_rouge_step=0.866, val_loss_epoch=3.640, val_rouge_epoch=0.846, train_loss_epoch=3.770]"
     ]
    },
    {
     "name": "stderr",
     "output_type": "stream",
     "text": [
      "INFO:__main__:Processing batch with 4 samples\n",
      "INFO:__main__:Loading image: fsdam/few_shot/train/1080_00285.png\n",
      "INFO:__main__:Loading image: fsdam/few_shot/train/1050_00018.png\n",
      "INFO:__main__:Loading image: fsdam/few_shot/train/1119_00195.png\n",
      "INFO:__main__:Loading image: fsdam/few_shot/train/1066_00005.png\n",
      "INFO:__main__:Processing 4 texts\n",
      "INFO:__main__:Input shapes: input_ids=torch.Size([4, 1289]), pixel_values=torch.Size([4, 3, 3, 336, 336])\n",
      "INFO:__main__:Training batch 2, size: 4\n"
     ]
    },
    {
     "name": "stdout",
     "output_type": "stream",
     "text": [
      "Epoch 2:  15%|█▌        | 3/20 [00:04<00:24,  0.70it/s, v_num=shot, train_loss_step=3.630, val_loss_step=3.640, val_rouge_step=0.866, val_loss_epoch=3.640, val_rouge_epoch=0.846, train_loss_epoch=3.770]"
     ]
    },
    {
     "name": "stderr",
     "output_type": "stream",
     "text": [
      "INFO:__main__:Processing batch with 4 samples\n",
      "INFO:__main__:Loading image: fsdam/few_shot/train/1135_00007.png\n",
      "INFO:__main__:Loading image: fsdam/few_shot/train/1129_00181.png\n",
      "INFO:__main__:Loading image: fsdam/few_shot/train/109_00214.png\n",
      "INFO:__main__:Loading image: fsdam/few_shot/train/1105_00120.png\n",
      "INFO:__main__:Processing 4 texts\n",
      "INFO:__main__:Input shapes: input_ids=torch.Size([4, 1290]), pixel_values=torch.Size([4, 3, 3, 336, 336])\n",
      "INFO:__main__:Training batch 3, size: 4\n"
     ]
    },
    {
     "name": "stdout",
     "output_type": "stream",
     "text": [
      "Epoch 2:  20%|██        | 4/20 [00:05<00:22,  0.70it/s, v_num=shot, train_loss_step=3.630, val_loss_step=3.640, val_rouge_step=0.866, val_loss_epoch=3.640, val_rouge_epoch=0.846, train_loss_epoch=3.770]"
     ]
    },
    {
     "name": "stderr",
     "output_type": "stream",
     "text": [
      "INFO:__main__:Processing batch with 4 samples\n",
      "INFO:__main__:Loading image: fsdam/few_shot/train/1117_00009.png\n",
      "INFO:__main__:Loading image: fsdam/few_shot/train/1065_00130.png\n",
      "INFO:__main__:Loading image: fsdam/few_shot/train/111_00123.png\n",
      "INFO:__main__:Loading image: fsdam/few_shot/train/1058_00033.png\n",
      "INFO:__main__:Processing 4 texts\n",
      "INFO:__main__:Input shapes: input_ids=torch.Size([4, 1301]), pixel_values=torch.Size([4, 3, 3, 336, 336])\n",
      "INFO:__main__:Training batch 4, size: 4\n"
     ]
    },
    {
     "name": "stdout",
     "output_type": "stream",
     "text": [
      "Epoch 2:  25%|██▌       | 5/20 [00:07<00:21,  0.70it/s, v_num=shot, train_loss_step=3.620, val_loss_step=3.640, val_rouge_step=0.866, val_loss_epoch=3.640, val_rouge_epoch=0.846, train_loss_epoch=3.770]"
     ]
    },
    {
     "name": "stderr",
     "output_type": "stream",
     "text": [
      "INFO:__main__:Processing batch with 4 samples\n",
      "INFO:__main__:Loading image: fsdam/few_shot/train/106_00169.png\n",
      "INFO:__main__:Loading image: fsdam/few_shot/train/1016_00053.png\n",
      "INFO:__main__:Loading image: fsdam/few_shot/train/1099_00087.png\n",
      "INFO:__main__:Loading image: fsdam/few_shot/train/1128_00030.png\n",
      "INFO:__main__:Processing 4 texts\n",
      "INFO:__main__:Input shapes: input_ids=torch.Size([4, 1282]), pixel_values=torch.Size([4, 3, 3, 336, 336])\n",
      "INFO:__main__:Training batch 5, size: 4\n"
     ]
    },
    {
     "name": "stdout",
     "output_type": "stream",
     "text": [
      "Epoch 2:  30%|███       | 6/20 [00:08<00:19,  0.70it/s, v_num=shot, train_loss_step=3.630, val_loss_step=3.640, val_rouge_step=0.866, val_loss_epoch=3.640, val_rouge_epoch=0.846, train_loss_epoch=3.770]"
     ]
    },
    {
     "name": "stderr",
     "output_type": "stream",
     "text": [
      "INFO:__main__:Processing batch with 4 samples\n",
      "INFO:__main__:Loading image: fsdam/few_shot/train/1079_00082.png\n",
      "INFO:__main__:Loading image: fsdam/few_shot/train/1094_00007.png\n",
      "INFO:__main__:Loading image: fsdam/few_shot/train/1134_00018.png\n",
      "INFO:__main__:Loading image: fsdam/few_shot/train/1046_00005.png\n",
      "INFO:__main__:Processing 4 texts\n",
      "INFO:__main__:Input shapes: input_ids=torch.Size([4, 1288]), pixel_values=torch.Size([4, 3, 3, 336, 336])\n",
      "INFO:__main__:Training batch 6, size: 4\n"
     ]
    },
    {
     "name": "stdout",
     "output_type": "stream",
     "text": [
      "Epoch 2:  35%|███▌      | 7/20 [00:09<00:18,  0.70it/s, v_num=shot, train_loss_step=3.630, val_loss_step=3.640, val_rouge_step=0.866, val_loss_epoch=3.640, val_rouge_epoch=0.846, train_loss_epoch=3.770]"
     ]
    },
    {
     "name": "stderr",
     "output_type": "stream",
     "text": [
      "INFO:__main__:Processing batch with 4 samples\n",
      "INFO:__main__:Loading image: fsdam/few_shot/train/1027_00007.png\n",
      "INFO:__main__:Loading image: fsdam/few_shot/train/1067_00008.png\n",
      "INFO:__main__:Loading image: fsdam/few_shot/train/1024_00008.png\n",
      "INFO:__main__:Loading image: fsdam/few_shot/train/1022_00154.png\n",
      "INFO:__main__:Processing 4 texts\n",
      "INFO:__main__:Input shapes: input_ids=torch.Size([4, 1280]), pixel_values=torch.Size([4, 3, 3, 336, 336])\n",
      "INFO:__main__:Training batch 7, size: 4\n"
     ]
    },
    {
     "name": "stdout",
     "output_type": "stream",
     "text": [
      "Epoch 2:  40%|████      | 8/20 [00:11<00:17,  0.70it/s, v_num=shot, train_loss_step=3.630, val_loss_step=3.640, val_rouge_step=0.866, val_loss_epoch=3.640, val_rouge_epoch=0.846, train_loss_epoch=3.770]"
     ]
    },
    {
     "name": "stderr",
     "output_type": "stream",
     "text": [
      "INFO:__main__:Processing batch with 4 samples\n",
      "INFO:__main__:Loading image: fsdam/few_shot/train/102_00274.png\n",
      "INFO:__main__:Loading image: fsdam/few_shot/train/1136_00018.png\n",
      "INFO:__main__:Loading image: fsdam/few_shot/train/1142_00123.png\n",
      "INFO:__main__:Loading image: fsdam/few_shot/train/1130_00145.png\n",
      "INFO:__main__:Processing 4 texts\n",
      "INFO:__main__:Input shapes: input_ids=torch.Size([4, 1296]), pixel_values=torch.Size([4, 3, 3, 336, 336])\n",
      "INFO:__main__:Training batch 8, size: 4\n"
     ]
    },
    {
     "name": "stdout",
     "output_type": "stream",
     "text": [
      "Epoch 2:  45%|████▌     | 9/20 [00:12<00:15,  0.70it/s, v_num=shot, train_loss_step=3.610, val_loss_step=3.640, val_rouge_step=0.866, val_loss_epoch=3.640, val_rouge_epoch=0.846, train_loss_epoch=3.770]"
     ]
    },
    {
     "name": "stderr",
     "output_type": "stream",
     "text": [
      "INFO:__main__:Processing batch with 4 samples\n",
      "INFO:__main__:Loading image: fsdam/few_shot/train/1100_00111.png\n",
      "INFO:__main__:Loading image: fsdam/few_shot/train/1104_00101.png\n",
      "INFO:__main__:Loading image: fsdam/few_shot/train/1040_00131.png\n",
      "INFO:__main__:Loading image: fsdam/few_shot/train/1029_00109.png\n",
      "INFO:__main__:Processing 4 texts\n",
      "INFO:__main__:Input shapes: input_ids=torch.Size([4, 1299]), pixel_values=torch.Size([4, 3, 3, 336, 336])\n",
      "INFO:__main__:Training batch 9, size: 4\n"
     ]
    },
    {
     "name": "stdout",
     "output_type": "stream",
     "text": [
      "Epoch 2:  50%|█████     | 10/20 [00:14<00:14,  0.70it/s, v_num=shot, train_loss_step=3.600, val_loss_step=3.640, val_rouge_step=0.866, val_loss_epoch=3.640, val_rouge_epoch=0.846, train_loss_epoch=3.770]\n",
      "Validation: |          | 0/? [00:00<?, ?it/s]\u001b[A"
     ]
    },
    {
     "name": "stderr",
     "output_type": "stream",
     "text": [
      "INFO:__main__:Processing batch with 4 samples\n",
      "INFO:__main__:Loading image: fsdam/few_shot/val/1737_00085.png\n",
      "INFO:__main__:Loading image: fsdam/few_shot/val/1737_00287.png\n",
      "INFO:__main__:Loading image: fsdam/few_shot/val/1744_00119.png\n",
      "INFO:__main__:Loading image: fsdam/few_shot/val/1744_00219.png\n",
      "INFO:__main__:Processing 4 texts\n",
      "INFO:__main__:Input shapes: input_ids=torch.Size([4, 1293]), pixel_values=torch.Size([4, 3, 3, 336, 336])\n"
     ]
    },
    {
     "name": "stdout",
     "output_type": "stream",
     "text": [
      "\n",
      "Validation:   0%|          | 0/5 [00:00<?, ?it/s]\u001b[A\n",
      "Validation DataLoader 0:   0%|          | 0/5 [00:00<?, ?it/s]\u001b[A"
     ]
    },
    {
     "name": "stderr",
     "output_type": "stream",
     "text": [
      "INFO:__main__:Validation batch 0, size: 4\n",
      "INFO:__main__:Sample Validation Prediction: The scene shows a busy urban intersection with cars, buildings, and a yellow traffic light ahead. Th...\n",
      "INFO:__main__:Sample Validation Target: [INST] \n",
      "Describe the scene, the driver's current gaze, and where that gaze will likely shift next an...\n"
     ]
    },
    {
     "name": "stdout",
     "output_type": "stream",
     "text": [
      "\n",
      "Validation DataLoader 0:  20%|██        | 1/5 [00:04<00:16,  0.24it/s]\u001b[A"
     ]
    },
    {
     "name": "stderr",
     "output_type": "stream",
     "text": [
      "INFO:__main__:Processing batch with 4 samples\n",
      "INFO:__main__:Loading image: fsdam/few_shot/val/1746_00008.png\n",
      "INFO:__main__:Loading image: fsdam/few_shot/val/1747_00012.png\n",
      "INFO:__main__:Loading image: fsdam/few_shot/val/1748_00018.png\n",
      "INFO:__main__:Loading image: fsdam/few_shot/val/1748_00243.png\n",
      "INFO:__main__:Processing 4 texts\n",
      "INFO:__main__:Input shapes: input_ids=torch.Size([4, 1282]), pixel_values=torch.Size([4, 3, 3, 336, 336])\n",
      "INFO:__main__:Validation batch 1, size: 4\n"
     ]
    },
    {
     "name": "stdout",
     "output_type": "stream",
     "text": [
      "\n",
      "Validation DataLoader 0:  40%|████      | 2/5 [00:05<00:07,  0.38it/s]\u001b[A"
     ]
    },
    {
     "name": "stderr",
     "output_type": "stream",
     "text": [
      "INFO:__main__:Processing batch with 4 samples\n",
      "INFO:__main__:Loading image: fsdam/few_shot/val/1753_00160.png\n",
      "INFO:__main__:Loading image: fsdam/few_shot/val/1754_00079.png\n",
      "INFO:__main__:Loading image: fsdam/few_shot/val/1755_00078.png\n",
      "INFO:__main__:Loading image: fsdam/few_shot/val/1756_00013.png\n",
      "INFO:__main__:Processing 4 texts\n",
      "INFO:__main__:Input shapes: input_ids=torch.Size([4, 1292]), pixel_values=torch.Size([4, 3, 3, 336, 336])\n",
      "INFO:__main__:Validation batch 2, size: 4\n"
     ]
    },
    {
     "name": "stdout",
     "output_type": "stream",
     "text": [
      "\n",
      "Validation DataLoader 0:  60%|██████    | 3/5 [00:07<00:05,  0.38it/s]\u001b[A"
     ]
    },
    {
     "name": "stderr",
     "output_type": "stream",
     "text": [
      "INFO:__main__:Processing batch with 4 samples\n",
      "INFO:__main__:Loading image: fsdam/few_shot/val/1760_00071.png\n",
      "INFO:__main__:Loading image: fsdam/few_shot/val/1761_00005.png\n",
      "INFO:__main__:Loading image: fsdam/few_shot/val/1764_00032.png\n",
      "INFO:__main__:Loading image: fsdam/few_shot/val/1767_00017.png\n",
      "INFO:__main__:Processing 4 texts\n",
      "INFO:__main__:Input shapes: input_ids=torch.Size([4, 1285]), pixel_values=torch.Size([4, 3, 3, 336, 336])\n",
      "INFO:__main__:Validation batch 3, size: 4\n"
     ]
    },
    {
     "name": "stdout",
     "output_type": "stream",
     "text": [
      "\n",
      "Validation DataLoader 0:  80%|████████  | 4/5 [00:10<00:02,  0.37it/s]\u001b[A"
     ]
    },
    {
     "name": "stderr",
     "output_type": "stream",
     "text": [
      "INFO:__main__:Processing batch with 4 samples\n",
      "INFO:__main__:Loading image: fsdam/few_shot/val/1768_00239.png\n",
      "INFO:__main__:Loading image: fsdam/few_shot/val/1771_00259.png\n",
      "INFO:__main__:Loading image: fsdam/few_shot/val/1772_00192.png\n",
      "INFO:__main__:Loading image: fsdam/few_shot/val/1773_00089.png\n",
      "INFO:__main__:Processing 4 texts\n",
      "INFO:__main__:Input shapes: input_ids=torch.Size([4, 1304]), pixel_values=torch.Size([4, 3, 3, 336, 336])\n",
      "INFO:__main__:Validation batch 4, size: 4\n"
     ]
    },
    {
     "name": "stdout",
     "output_type": "stream",
     "text": [
      "\n",
      "Validation DataLoader 0: 100%|██████████| 5/5 [00:14<00:00,  0.35it/s]\u001b[A\n",
      "Epoch 2:  50%|█████     | 10/20 [00:28<00:28,  0.35it/s, v_num=shot, train_loss_step=3.600, val_loss_step=3.620, val_rouge_step=0.845, val_loss_epoch=3.620, val_rouge_epoch=0.834, train_loss_epoch=3.770]"
     ]
    },
    {
     "name": "stderr",
     "output_type": "stream",
     "text": [
      "INFO:__main__:Processing batch with 4 samples\n",
      "INFO:__main__:Loading image: fsdam/few_shot/train/1044_00041.png\n",
      "INFO:__main__:Loading image: fsdam/few_shot/train/1102_00007.png\n",
      "INFO:__main__:Loading image: fsdam/few_shot/train/10_00048.png\n",
      "INFO:__main__:Loading image: fsdam/few_shot/train/1028_00007.png\n",
      "INFO:__main__:Processing 4 texts\n",
      "INFO:__main__:Input shapes: input_ids=torch.Size([4, 1285]), pixel_values=torch.Size([4, 3, 3, 336, 336])\n",
      "INFO:__main__:Training batch 10, size: 4\n"
     ]
    },
    {
     "name": "stdout",
     "output_type": "stream",
     "text": [
      "Epoch 2:  55%|█████▌    | 11/20 [00:30<00:24,  0.36it/s, v_num=shot, train_loss_step=3.620, val_loss_step=3.620, val_rouge_step=0.845, val_loss_epoch=3.620, val_rouge_epoch=0.834, train_loss_epoch=3.770]"
     ]
    },
    {
     "name": "stderr",
     "output_type": "stream",
     "text": [
      "INFO:__main__:Processing batch with 4 samples\n",
      "INFO:__main__:Loading image: fsdam/few_shot/train/1082_00070.png\n",
      "INFO:__main__:Loading image: fsdam/few_shot/train/1093_00009.png\n",
      "INFO:__main__:Loading image: fsdam/few_shot/train/1126_00007.png\n",
      "INFO:__main__:Loading image: fsdam/few_shot/train/1115_00018.png\n",
      "INFO:__main__:Processing 4 texts\n",
      "INFO:__main__:Input shapes: input_ids=torch.Size([4, 1284]), pixel_values=torch.Size([4, 3, 3, 336, 336])\n",
      "INFO:__main__:Training batch 11, size: 4\n"
     ]
    },
    {
     "name": "stdout",
     "output_type": "stream",
     "text": [
      "Epoch 2:  60%|██████    | 12/20 [00:31<00:21,  0.38it/s, v_num=shot, train_loss_step=3.610, val_loss_step=3.620, val_rouge_step=0.845, val_loss_epoch=3.620, val_rouge_epoch=0.834, train_loss_epoch=3.770]"
     ]
    },
    {
     "name": "stderr",
     "output_type": "stream",
     "text": [
      "INFO:__main__:Processing batch with 4 samples\n",
      "INFO:__main__:Loading image: fsdam/few_shot/train/1106_00061.png\n",
      "INFO:__main__:Loading image: fsdam/few_shot/train/1108_00007.png\n",
      "INFO:__main__:Loading image: fsdam/few_shot/train/1004_00271.png\n",
      "INFO:__main__:Loading image: fsdam/few_shot/train/1069_00127.png\n",
      "INFO:__main__:Processing 4 texts\n",
      "INFO:__main__:Input shapes: input_ids=torch.Size([4, 1287]), pixel_values=torch.Size([4, 3, 3, 336, 336])\n",
      "INFO:__main__:Training batch 12, size: 4\n"
     ]
    },
    {
     "name": "stdout",
     "output_type": "stream",
     "text": [
      "Epoch 2:  65%|██████▌   | 13/20 [00:33<00:17,  0.39it/s, v_num=shot, train_loss_step=3.610, val_loss_step=3.620, val_rouge_step=0.845, val_loss_epoch=3.620, val_rouge_epoch=0.834, train_loss_epoch=3.770]"
     ]
    },
    {
     "name": "stderr",
     "output_type": "stream",
     "text": [
      "INFO:__main__:Processing batch with 4 samples\n",
      "INFO:__main__:Loading image: fsdam/few_shot/train/1091_00103.png\n",
      "INFO:__main__:Loading image: fsdam/few_shot/train/1020_00018.png\n",
      "INFO:__main__:Loading image: fsdam/few_shot/train/1005_00018.png\n",
      "INFO:__main__:Loading image: fsdam/few_shot/train/105_00007.png\n",
      "INFO:__main__:Processing 4 texts\n",
      "INFO:__main__:Input shapes: input_ids=torch.Size([4, 1290]), pixel_values=torch.Size([4, 3, 3, 336, 336])\n",
      "INFO:__main__:Training batch 13, size: 4\n"
     ]
    },
    {
     "name": "stdout",
     "output_type": "stream",
     "text": [
      "Epoch 2:  70%|███████   | 14/20 [00:34<00:14,  0.40it/s, v_num=shot, train_loss_step=3.620, val_loss_step=3.620, val_rouge_step=0.845, val_loss_epoch=3.620, val_rouge_epoch=0.834, train_loss_epoch=3.770]"
     ]
    },
    {
     "name": "stderr",
     "output_type": "stream",
     "text": [
      "INFO:__main__:Processing batch with 4 samples\n",
      "INFO:__main__:Loading image: fsdam/few_shot/train/1090_00165.png\n",
      "INFO:__main__:Loading image: fsdam/few_shot/train/1116_00009.png\n",
      "INFO:__main__:Loading image: fsdam/few_shot/train/1071_00018.png\n",
      "INFO:__main__:Loading image: fsdam/few_shot/train/1092_00119.png\n",
      "INFO:__main__:Processing 4 texts\n",
      "INFO:__main__:Input shapes: input_ids=torch.Size([4, 1283]), pixel_values=torch.Size([4, 3, 3, 336, 336])\n",
      "INFO:__main__:Training batch 14, size: 4\n"
     ]
    },
    {
     "name": "stdout",
     "output_type": "stream",
     "text": [
      "Epoch 2:  75%|███████▌  | 15/20 [00:35<00:11,  0.42it/s, v_num=shot, train_loss_step=3.610, val_loss_step=3.620, val_rouge_step=0.845, val_loss_epoch=3.620, val_rouge_epoch=0.834, train_loss_epoch=3.770]"
     ]
    },
    {
     "name": "stderr",
     "output_type": "stream",
     "text": [
      "INFO:__main__:Processing batch with 4 samples\n",
      "INFO:__main__:Loading image: fsdam/few_shot/train/1081_00005.png\n",
      "INFO:__main__:Loading image: fsdam/few_shot/train/1075_00022.png\n",
      "INFO:__main__:Loading image: fsdam/few_shot/train/1064_00116.png\n",
      "INFO:__main__:Loading image: fsdam/few_shot/train/1032_00158.png\n",
      "INFO:__main__:Processing 4 texts\n",
      "INFO:__main__:Input shapes: input_ids=torch.Size([4, 1279]), pixel_values=torch.Size([4, 3, 3, 336, 336])\n",
      "INFO:__main__:Training batch 15, size: 4\n"
     ]
    },
    {
     "name": "stdout",
     "output_type": "stream",
     "text": [
      "Epoch 2:  80%|████████  | 16/20 [00:37<00:09,  0.43it/s, v_num=shot, train_loss_step=3.610, val_loss_step=3.620, val_rouge_step=0.845, val_loss_epoch=3.620, val_rouge_epoch=0.834, train_loss_epoch=3.770]"
     ]
    },
    {
     "name": "stderr",
     "output_type": "stream",
     "text": [
      "INFO:__main__:Processing batch with 4 samples\n",
      "INFO:__main__:Loading image: fsdam/few_shot/train/1056_00008.png\n",
      "INFO:__main__:Loading image: fsdam/few_shot/train/1006_00018.png\n",
      "INFO:__main__:Loading image: fsdam/few_shot/train/107_00084.png\n",
      "INFO:__main__:Loading image: fsdam/few_shot/train/1036_00017.png\n",
      "INFO:__main__:Processing 4 texts\n",
      "INFO:__main__:Input shapes: input_ids=torch.Size([4, 1271]), pixel_values=torch.Size([4, 3, 3, 336, 336])\n",
      "INFO:__main__:Training batch 16, size: 4\n"
     ]
    },
    {
     "name": "stdout",
     "output_type": "stream",
     "text": [
      "Epoch 2:  85%|████████▌ | 17/20 [00:38<00:06,  0.44it/s, v_num=shot, train_loss_step=3.620, val_loss_step=3.620, val_rouge_step=0.845, val_loss_epoch=3.620, val_rouge_epoch=0.834, train_loss_epoch=3.770]"
     ]
    },
    {
     "name": "stderr",
     "output_type": "stream",
     "text": [
      "INFO:__main__:Processing batch with 4 samples\n",
      "INFO:__main__:Loading image: fsdam/few_shot/train/1021_00007.png\n",
      "INFO:__main__:Loading image: fsdam/few_shot/train/1000_00007.png\n",
      "INFO:__main__:Loading image: fsdam/few_shot/train/1009_00160.png\n",
      "INFO:__main__:Loading image: fsdam/few_shot/train/1121_00009.png\n",
      "INFO:__main__:Processing 4 texts\n",
      "INFO:__main__:Input shapes: input_ids=torch.Size([4, 1308]), pixel_values=torch.Size([4, 3, 3, 336, 336])\n",
      "INFO:__main__:Training batch 17, size: 4\n"
     ]
    },
    {
     "name": "stdout",
     "output_type": "stream",
     "text": [
      "Epoch 2:  90%|█████████ | 18/20 [00:40<00:04,  0.45it/s, v_num=shot, train_loss_step=3.620, val_loss_step=3.620, val_rouge_step=0.845, val_loss_epoch=3.620, val_rouge_epoch=0.834, train_loss_epoch=3.770]"
     ]
    },
    {
     "name": "stderr",
     "output_type": "stream",
     "text": [
      "INFO:__main__:Processing batch with 4 samples\n",
      "INFO:__main__:Loading image: fsdam/few_shot/train/1023_00007.png\n",
      "INFO:__main__:Loading image: fsdam/few_shot/train/1095_00016.png\n",
      "INFO:__main__:Loading image: fsdam/few_shot/train/1111_00361.png\n",
      "INFO:__main__:Loading image: fsdam/few_shot/train/1059_00038.png\n",
      "INFO:__main__:Processing 4 texts\n",
      "INFO:__main__:Input shapes: input_ids=torch.Size([4, 1289]), pixel_values=torch.Size([4, 3, 3, 336, 336])\n",
      "INFO:__main__:Training batch 18, size: 4\n"
     ]
    },
    {
     "name": "stdout",
     "output_type": "stream",
     "text": [
      "Epoch 2:  95%|█████████▌| 19/20 [00:41<00:02,  0.46it/s, v_num=shot, train_loss_step=3.600, val_loss_step=3.620, val_rouge_step=0.845, val_loss_epoch=3.620, val_rouge_epoch=0.834, train_loss_epoch=3.770]"
     ]
    },
    {
     "name": "stderr",
     "output_type": "stream",
     "text": [
      "INFO:__main__:Processing batch with 4 samples\n",
      "INFO:__main__:Loading image: fsdam/few_shot/train/1145_00038.png\n",
      "INFO:__main__:Loading image: fsdam/few_shot/train/1052_00287.png\n",
      "INFO:__main__:Loading image: fsdam/few_shot/train/1077_00265.png\n",
      "INFO:__main__:Loading image: fsdam/few_shot/train/1076_00009.png\n",
      "INFO:__main__:Processing 4 texts\n",
      "INFO:__main__:Input shapes: input_ids=torch.Size([4, 1302]), pixel_values=torch.Size([4, 3, 3, 336, 336])\n",
      "INFO:__main__:Training batch 19, size: 4\n"
     ]
    },
    {
     "name": "stdout",
     "output_type": "stream",
     "text": [
      "Epoch 2: 100%|██████████| 20/20 [00:43<00:00,  0.46it/s, v_num=shot, train_loss_step=3.610, val_loss_step=3.620, val_rouge_step=0.845, val_loss_epoch=3.620, val_rouge_epoch=0.834, train_loss_epoch=3.770]\n",
      "Validation: |          | 0/? [00:00<?, ?it/s]\u001b[A"
     ]
    },
    {
     "name": "stderr",
     "output_type": "stream",
     "text": [
      "INFO:__main__:Processing batch with 4 samples\n",
      "INFO:__main__:Loading image: fsdam/few_shot/val/1737_00085.png\n",
      "INFO:__main__:Loading image: fsdam/few_shot/val/1737_00287.png\n",
      "INFO:__main__:Loading image: fsdam/few_shot/val/1744_00119.png\n",
      "INFO:__main__:Loading image: fsdam/few_shot/val/1744_00219.png\n",
      "INFO:__main__:Processing 4 texts\n",
      "INFO:__main__:Input shapes: input_ids=torch.Size([4, 1293]), pixel_values=torch.Size([4, 3, 3, 336, 336])\n"
     ]
    },
    {
     "name": "stdout",
     "output_type": "stream",
     "text": [
      "\n",
      "Validation:   0%|          | 0/5 [00:00<?, ?it/s]\u001b[A\n",
      "Validation DataLoader 0:   0%|          | 0/5 [00:00<?, ?it/s]\u001b[A"
     ]
    },
    {
     "name": "stderr",
     "output_type": "stream",
     "text": [
      "INFO:__main__:Validation batch 0, size: 4\n",
      "INFO:__main__:Sample Validation Prediction: The scene shows a busy urban intersection with cars, buildings, and a yellow traffic light ahead. Th...\n",
      "INFO:__main__:Sample Validation Target: [INST] \n",
      "Describe the scene, the driver's current gaze, and where that gaze will likely shift next an...\n"
     ]
    },
    {
     "name": "stdout",
     "output_type": "stream",
     "text": [
      "\n",
      "Validation DataLoader 0:  20%|██        | 1/5 [00:03<00:15,  0.25it/s]\u001b[A"
     ]
    },
    {
     "name": "stderr",
     "output_type": "stream",
     "text": [
      "INFO:__main__:Processing batch with 4 samples\n",
      "INFO:__main__:Loading image: fsdam/few_shot/val/1746_00008.png\n",
      "INFO:__main__:Loading image: fsdam/few_shot/val/1747_00012.png\n",
      "INFO:__main__:Loading image: fsdam/few_shot/val/1748_00018.png\n",
      "INFO:__main__:Loading image: fsdam/few_shot/val/1748_00243.png\n",
      "INFO:__main__:Processing 4 texts\n",
      "INFO:__main__:Input shapes: input_ids=torch.Size([4, 1282]), pixel_values=torch.Size([4, 3, 3, 336, 336])\n",
      "INFO:__main__:Validation batch 1, size: 4\n"
     ]
    },
    {
     "name": "stdout",
     "output_type": "stream",
     "text": [
      "\n",
      "Validation DataLoader 0:  40%|████      | 2/5 [00:08<00:12,  0.25it/s]\u001b[A"
     ]
    },
    {
     "name": "stderr",
     "output_type": "stream",
     "text": [
      "INFO:__main__:Processing batch with 4 samples\n",
      "INFO:__main__:Loading image: fsdam/few_shot/val/1753_00160.png\n",
      "INFO:__main__:Loading image: fsdam/few_shot/val/1754_00079.png\n",
      "INFO:__main__:Loading image: fsdam/few_shot/val/1755_00078.png\n",
      "INFO:__main__:Loading image: fsdam/few_shot/val/1756_00013.png\n",
      "INFO:__main__:Processing 4 texts\n",
      "INFO:__main__:Input shapes: input_ids=torch.Size([4, 1292]), pixel_values=torch.Size([4, 3, 3, 336, 336])\n",
      "INFO:__main__:Validation batch 2, size: 4\n"
     ]
    },
    {
     "name": "stdout",
     "output_type": "stream",
     "text": [
      "\n",
      "Validation DataLoader 0:  60%|██████    | 3/5 [00:11<00:07,  0.26it/s]\u001b[A"
     ]
    },
    {
     "name": "stderr",
     "output_type": "stream",
     "text": [
      "INFO:__main__:Processing batch with 4 samples\n",
      "INFO:__main__:Loading image: fsdam/few_shot/val/1760_00071.png\n",
      "INFO:__main__:Loading image: fsdam/few_shot/val/1761_00005.png\n",
      "INFO:__main__:Loading image: fsdam/few_shot/val/1764_00032.png\n",
      "INFO:__main__:Loading image: fsdam/few_shot/val/1767_00017.png\n",
      "INFO:__main__:Processing 4 texts\n",
      "INFO:__main__:Input shapes: input_ids=torch.Size([4, 1285]), pixel_values=torch.Size([4, 3, 3, 336, 336])\n",
      "INFO:__main__:Validation batch 3, size: 4\n"
     ]
    },
    {
     "name": "stdout",
     "output_type": "stream",
     "text": [
      "\n",
      "Validation DataLoader 0:  80%|████████  | 4/5 [00:14<00:03,  0.27it/s]\u001b[A"
     ]
    },
    {
     "name": "stderr",
     "output_type": "stream",
     "text": [
      "INFO:__main__:Processing batch with 4 samples\n",
      "INFO:__main__:Loading image: fsdam/few_shot/val/1768_00239.png\n",
      "INFO:__main__:Loading image: fsdam/few_shot/val/1771_00259.png\n",
      "INFO:__main__:Loading image: fsdam/few_shot/val/1772_00192.png\n",
      "INFO:__main__:Loading image: fsdam/few_shot/val/1773_00089.png\n",
      "INFO:__main__:Processing 4 texts\n",
      "INFO:__main__:Input shapes: input_ids=torch.Size([4, 1304]), pixel_values=torch.Size([4, 3, 3, 336, 336])\n",
      "INFO:__main__:Validation batch 4, size: 4\n"
     ]
    },
    {
     "name": "stdout",
     "output_type": "stream",
     "text": [
      "\n",
      "Validation DataLoader 0: 100%|██████████| 5/5 [00:16<00:00,  0.31it/s]\u001b[A\n",
      "Epoch 3:   0%|          | 0/20 [00:00<?, ?it/s, v_num=shot, train_loss_step=3.610, val_loss_step=3.610, val_rouge_step=0.866, val_loss_epoch=3.610, val_rouge_epoch=0.822, train_loss_epoch=3.620]         "
     ]
    },
    {
     "name": "stderr",
     "output_type": "stream",
     "text": [
      "INFO:__main__:Starting epoch 3\n",
      "INFO:__main__:Processing batch with 4 samples\n",
      "INFO:__main__:Loading image: fsdam/few_shot/train/1067_00008.png\n",
      "INFO:__main__:Loading image: fsdam/few_shot/train/1023_00007.png\n",
      "INFO:__main__:Loading image: fsdam/few_shot/train/1127_00323.png\n",
      "INFO:__main__:Loading image: fsdam/few_shot/train/1059_00038.png\n",
      "INFO:__main__:Processing 4 texts\n",
      "INFO:__main__:Input shapes: input_ids=torch.Size([4, 1289]), pixel_values=torch.Size([4, 3, 3, 336, 336])\n",
      "INFO:__main__:Training batch 0, size: 4\n",
      "INFO:__main__:Sample Training Prediction: [INST] \n",
      "\n",
      "\n",
      "\n",
      "\n",
      "\n",
      "\n",
      "\n",
      "\n",
      "\n",
      "Describe the scene, the driver's current gaze, and where that gaze will likely shif...\n"
     ]
    },
    {
     "name": "stdout",
     "output_type": "stream",
     "text": [
      "Epoch 3:   5%|▌         | 1/20 [00:01<00:26,  0.73it/s, v_num=shot, train_loss_step=3.590, val_loss_step=3.610, val_rouge_step=0.866, val_loss_epoch=3.610, val_rouge_epoch=0.822, train_loss_epoch=3.620]"
     ]
    },
    {
     "name": "stderr",
     "output_type": "stream",
     "text": [
      "INFO:__main__:Processing batch with 4 samples\n",
      "INFO:__main__:Loading image: fsdam/few_shot/train/1131_00010.png\n",
      "INFO:__main__:Loading image: fsdam/few_shot/train/1066_00005.png\n",
      "INFO:__main__:Loading image: fsdam/few_shot/train/1004_00271.png\n",
      "INFO:__main__:Loading image: fsdam/few_shot/train/102_00274.png\n",
      "INFO:__main__:Processing 4 texts\n",
      "INFO:__main__:Input shapes: input_ids=torch.Size([4, 1281]), pixel_values=torch.Size([4, 3, 3, 336, 336])\n",
      "INFO:__main__:Training batch 1, size: 4\n"
     ]
    },
    {
     "name": "stdout",
     "output_type": "stream",
     "text": [
      "Epoch 3:  10%|█         | 2/20 [00:02<00:25,  0.72it/s, v_num=shot, train_loss_step=3.610, val_loss_step=3.610, val_rouge_step=0.866, val_loss_epoch=3.610, val_rouge_epoch=0.822, train_loss_epoch=3.620]"
     ]
    },
    {
     "name": "stderr",
     "output_type": "stream",
     "text": [
      "INFO:__main__:Processing batch with 4 samples\n",
      "INFO:__main__:Loading image: fsdam/few_shot/train/1095_00016.png\n",
      "INFO:__main__:Loading image: fsdam/few_shot/train/1121_00009.png\n",
      "INFO:__main__:Loading image: fsdam/few_shot/train/1077_00265.png\n",
      "INFO:__main__:Loading image: fsdam/few_shot/train/1052_00287.png\n",
      "INFO:__main__:Processing 4 texts\n",
      "INFO:__main__:Input shapes: input_ids=torch.Size([4, 1308]), pixel_values=torch.Size([4, 3, 3, 336, 336])\n",
      "INFO:__main__:Training batch 2, size: 4\n"
     ]
    },
    {
     "name": "stdout",
     "output_type": "stream",
     "text": [
      "Epoch 3:  15%|█▌        | 3/20 [00:04<00:24,  0.70it/s, v_num=shot, train_loss_step=3.590, val_loss_step=3.610, val_rouge_step=0.866, val_loss_epoch=3.610, val_rouge_epoch=0.822, train_loss_epoch=3.620]"
     ]
    },
    {
     "name": "stderr",
     "output_type": "stream",
     "text": [
      "INFO:__main__:Processing batch with 4 samples\n",
      "INFO:__main__:Loading image: fsdam/few_shot/train/105_00007.png\n",
      "INFO:__main__:Loading image: fsdam/few_shot/train/1046_00005.png\n",
      "INFO:__main__:Loading image: fsdam/few_shot/train/1134_00018.png\n",
      "INFO:__main__:Loading image: fsdam/few_shot/train/1021_00007.png\n",
      "INFO:__main__:Processing 4 texts\n",
      "INFO:__main__:Input shapes: input_ids=torch.Size([4, 1290]), pixel_values=torch.Size([4, 3, 3, 336, 336])\n",
      "INFO:__main__:Training batch 3, size: 4\n"
     ]
    },
    {
     "name": "stdout",
     "output_type": "stream",
     "text": [
      "Epoch 3:  20%|██        | 4/20 [00:05<00:22,  0.70it/s, v_num=shot, train_loss_step=3.600, val_loss_step=3.610, val_rouge_step=0.866, val_loss_epoch=3.610, val_rouge_epoch=0.822, train_loss_epoch=3.620]"
     ]
    },
    {
     "name": "stderr",
     "output_type": "stream",
     "text": [
      "INFO:__main__:Processing batch with 4 samples\n",
      "INFO:__main__:Loading image: fsdam/few_shot/train/1044_00041.png\n",
      "INFO:__main__:Loading image: fsdam/few_shot/train/1136_00018.png\n",
      "INFO:__main__:Loading image: fsdam/few_shot/train/1029_00109.png\n",
      "INFO:__main__:Loading image: fsdam/few_shot/train/1094_00007.png\n",
      "INFO:__main__:Processing 4 texts\n",
      "INFO:__main__:Input shapes: input_ids=torch.Size([4, 1285]), pixel_values=torch.Size([4, 3, 3, 336, 336])\n",
      "INFO:__main__:Training batch 4, size: 4\n"
     ]
    },
    {
     "name": "stdout",
     "output_type": "stream",
     "text": [
      "Epoch 3:  25%|██▌       | 5/20 [00:07<00:21,  0.70it/s, v_num=shot, train_loss_step=3.600, val_loss_step=3.610, val_rouge_step=0.866, val_loss_epoch=3.610, val_rouge_epoch=0.822, train_loss_epoch=3.620]"
     ]
    },
    {
     "name": "stderr",
     "output_type": "stream",
     "text": [
      "INFO:__main__:Processing batch with 4 samples\n",
      "INFO:__main__:Loading image: fsdam/few_shot/train/1106_00061.png\n",
      "INFO:__main__:Loading image: fsdam/few_shot/train/1093_00009.png\n",
      "INFO:__main__:Loading image: fsdam/few_shot/train/1009_00160.png\n",
      "INFO:__main__:Loading image: fsdam/few_shot/train/1084_00106.png\n",
      "INFO:__main__:Processing 4 texts\n",
      "INFO:__main__:Input shapes: input_ids=torch.Size([4, 1287]), pixel_values=torch.Size([4, 3, 3, 336, 336])\n",
      "INFO:__main__:Training batch 5, size: 4\n"
     ]
    },
    {
     "name": "stdout",
     "output_type": "stream",
     "text": [
      "Epoch 3:  30%|███       | 6/20 [00:08<00:19,  0.70it/s, v_num=shot, train_loss_step=3.610, val_loss_step=3.610, val_rouge_step=0.866, val_loss_epoch=3.610, val_rouge_epoch=0.822, train_loss_epoch=3.620]"
     ]
    },
    {
     "name": "stderr",
     "output_type": "stream",
     "text": [
      "INFO:__main__:Processing batch with 4 samples\n",
      "INFO:__main__:Loading image: fsdam/few_shot/train/1081_00005.png\n",
      "INFO:__main__:Loading image: fsdam/few_shot/train/1105_00120.png\n",
      "INFO:__main__:Loading image: fsdam/few_shot/train/1075_00022.png\n",
      "INFO:__main__:Loading image: fsdam/few_shot/train/1128_00030.png\n",
      "INFO:__main__:Processing 4 texts\n",
      "INFO:__main__:Input shapes: input_ids=torch.Size([4, 1290]), pixel_values=torch.Size([4, 3, 3, 336, 336])\n",
      "INFO:__main__:Training batch 6, size: 4\n"
     ]
    },
    {
     "name": "stdout",
     "output_type": "stream",
     "text": [
      "Epoch 3:  35%|███▌      | 7/20 [00:09<00:18,  0.70it/s, v_num=shot, train_loss_step=3.590, val_loss_step=3.610, val_rouge_step=0.866, val_loss_epoch=3.610, val_rouge_epoch=0.822, train_loss_epoch=3.620]"
     ]
    },
    {
     "name": "stderr",
     "output_type": "stream",
     "text": [
      "INFO:__main__:Processing batch with 4 samples\n",
      "INFO:__main__:Loading image: fsdam/few_shot/train/1090_00165.png\n",
      "INFO:__main__:Loading image: fsdam/few_shot/train/1126_00007.png\n",
      "INFO:__main__:Loading image: fsdam/few_shot/train/1040_00131.png\n",
      "INFO:__main__:Loading image: fsdam/few_shot/train/1065_00130.png\n",
      "INFO:__main__:Processing 4 texts\n",
      "INFO:__main__:Input shapes: input_ids=torch.Size([4, 1299]), pixel_values=torch.Size([4, 3, 3, 336, 336])\n",
      "INFO:__main__:Training batch 7, size: 4\n"
     ]
    },
    {
     "name": "stdout",
     "output_type": "stream",
     "text": [
      "Epoch 3:  40%|████      | 8/20 [00:11<00:17,  0.70it/s, v_num=shot, train_loss_step=3.590, val_loss_step=3.610, val_rouge_step=0.866, val_loss_epoch=3.610, val_rouge_epoch=0.822, train_loss_epoch=3.620]"
     ]
    },
    {
     "name": "stderr",
     "output_type": "stream",
     "text": [
      "INFO:__main__:Processing batch with 4 samples\n",
      "INFO:__main__:Loading image: fsdam/few_shot/train/1027_00007.png\n",
      "INFO:__main__:Loading image: fsdam/few_shot/train/1018_00083.png\n",
      "INFO:__main__:Loading image: fsdam/few_shot/train/106_00169.png\n",
      "INFO:__main__:Loading image: fsdam/few_shot/train/1108_00007.png\n",
      "INFO:__main__:Processing 4 texts\n",
      "INFO:__main__:Input shapes: input_ids=torch.Size([4, 1275]), pixel_values=torch.Size([4, 3, 3, 336, 336])\n",
      "INFO:__main__:Training batch 8, size: 4\n"
     ]
    },
    {
     "name": "stdout",
     "output_type": "stream",
     "text": [
      "Epoch 3:  45%|████▌     | 9/20 [00:12<00:15,  0.71it/s, v_num=shot, train_loss_step=3.610, val_loss_step=3.610, val_rouge_step=0.866, val_loss_epoch=3.610, val_rouge_epoch=0.822, train_loss_epoch=3.620]"
     ]
    },
    {
     "name": "stderr",
     "output_type": "stream",
     "text": [
      "INFO:__main__:Processing batch with 4 samples\n",
      "INFO:__main__:Loading image: fsdam/few_shot/train/1079_00082.png\n",
      "INFO:__main__:Loading image: fsdam/few_shot/train/1000_00007.png\n",
      "INFO:__main__:Loading image: fsdam/few_shot/train/1006_00018.png\n",
      "INFO:__main__:Loading image: fsdam/few_shot/train/1082_00070.png\n",
      "INFO:__main__:Processing 4 texts\n",
      "INFO:__main__:Input shapes: input_ids=torch.Size([4, 1278]), pixel_values=torch.Size([4, 3, 3, 336, 336])\n",
      "INFO:__main__:Training batch 9, size: 4\n"
     ]
    },
    {
     "name": "stdout",
     "output_type": "stream",
     "text": [
      "Epoch 3:  50%|█████     | 10/20 [00:14<00:14,  0.70it/s, v_num=shot, train_loss_step=3.610, val_loss_step=3.610, val_rouge_step=0.866, val_loss_epoch=3.610, val_rouge_epoch=0.822, train_loss_epoch=3.620]\n",
      "Validation: |          | 0/? [00:00<?, ?it/s]\u001b[A"
     ]
    },
    {
     "name": "stderr",
     "output_type": "stream",
     "text": [
      "INFO:__main__:Processing batch with 4 samples\n",
      "INFO:__main__:Loading image: fsdam/few_shot/val/1737_00085.png\n",
      "INFO:__main__:Loading image: fsdam/few_shot/val/1737_00287.png\n",
      "INFO:__main__:Loading image: fsdam/few_shot/val/1744_00119.png\n",
      "INFO:__main__:Loading image: fsdam/few_shot/val/1744_00219.png\n",
      "INFO:__main__:Processing 4 texts\n",
      "INFO:__main__:Input shapes: input_ids=torch.Size([4, 1293]), pixel_values=torch.Size([4, 3, 3, 336, 336])\n"
     ]
    },
    {
     "name": "stdout",
     "output_type": "stream",
     "text": [
      "\n",
      "Validation:   0%|          | 0/5 [00:00<?, ?it/s]\u001b[A\n",
      "Validation DataLoader 0:   0%|          | 0/5 [00:00<?, ?it/s]\u001b[A"
     ]
    },
    {
     "name": "stderr",
     "output_type": "stream",
     "text": [
      "INFO:__main__:Validation batch 0, size: 4\n",
      "INFO:__main__:Sample Validation Prediction: The scene shows a busy urban intersection with cars, buildings, and a yellow traffic light ahead. Th...\n",
      "INFO:__main__:Sample Validation Target: [INST] \n",
      "Describe the scene, the driver's current gaze, and where that gaze will likely shift next an...\n"
     ]
    },
    {
     "name": "stdout",
     "output_type": "stream",
     "text": [
      "\n",
      "Validation DataLoader 0:  20%|██        | 1/5 [00:04<00:17,  0.22it/s]\u001b[A"
     ]
    },
    {
     "name": "stderr",
     "output_type": "stream",
     "text": [
      "INFO:__main__:Processing batch with 4 samples\n",
      "INFO:__main__:Loading image: fsdam/few_shot/val/1746_00008.png\n",
      "INFO:__main__:Loading image: fsdam/few_shot/val/1747_00012.png\n",
      "INFO:__main__:Loading image: fsdam/few_shot/val/1748_00018.png\n",
      "INFO:__main__:Loading image: fsdam/few_shot/val/1748_00243.png\n",
      "INFO:__main__:Processing 4 texts\n",
      "INFO:__main__:Input shapes: input_ids=torch.Size([4, 1282]), pixel_values=torch.Size([4, 3, 3, 336, 336])\n",
      "INFO:__main__:Validation batch 1, size: 4\n"
     ]
    },
    {
     "name": "stdout",
     "output_type": "stream",
     "text": [
      "\n",
      "Validation DataLoader 0:  40%|████      | 2/5 [00:07<00:11,  0.26it/s]\u001b[A"
     ]
    },
    {
     "name": "stderr",
     "output_type": "stream",
     "text": [
      "INFO:__main__:Processing batch with 4 samples\n",
      "INFO:__main__:Loading image: fsdam/few_shot/val/1753_00160.png\n",
      "INFO:__main__:Loading image: fsdam/few_shot/val/1754_00079.png\n",
      "INFO:__main__:Loading image: fsdam/few_shot/val/1755_00078.png\n",
      "INFO:__main__:Loading image: fsdam/few_shot/val/1756_00013.png\n",
      "INFO:__main__:Processing 4 texts\n",
      "INFO:__main__:Input shapes: input_ids=torch.Size([4, 1292]), pixel_values=torch.Size([4, 3, 3, 336, 336])\n",
      "INFO:__main__:Validation batch 2, size: 4\n"
     ]
    },
    {
     "name": "stdout",
     "output_type": "stream",
     "text": [
      "\n",
      "Validation DataLoader 0:  60%|██████    | 3/5 [00:11<00:07,  0.27it/s]\u001b[A"
     ]
    },
    {
     "name": "stderr",
     "output_type": "stream",
     "text": [
      "INFO:__main__:Processing batch with 4 samples\n",
      "INFO:__main__:Loading image: fsdam/few_shot/val/1760_00071.png\n",
      "INFO:__main__:Loading image: fsdam/few_shot/val/1761_00005.png\n",
      "INFO:__main__:Loading image: fsdam/few_shot/val/1764_00032.png\n",
      "INFO:__main__:Loading image: fsdam/few_shot/val/1767_00017.png\n",
      "INFO:__main__:Processing 4 texts\n",
      "INFO:__main__:Input shapes: input_ids=torch.Size([4, 1285]), pixel_values=torch.Size([4, 3, 3, 336, 336])\n",
      "INFO:__main__:Validation batch 3, size: 4\n"
     ]
    },
    {
     "name": "stdout",
     "output_type": "stream",
     "text": [
      "\n",
      "Validation DataLoader 0:  80%|████████  | 4/5 [00:14<00:03,  0.28it/s]\u001b[A"
     ]
    },
    {
     "name": "stderr",
     "output_type": "stream",
     "text": [
      "INFO:__main__:Processing batch with 4 samples\n",
      "INFO:__main__:Loading image: fsdam/few_shot/val/1768_00239.png\n",
      "INFO:__main__:Loading image: fsdam/few_shot/val/1771_00259.png\n",
      "INFO:__main__:Loading image: fsdam/few_shot/val/1772_00192.png\n",
      "INFO:__main__:Loading image: fsdam/few_shot/val/1773_00089.png\n",
      "INFO:__main__:Processing 4 texts\n",
      "INFO:__main__:Input shapes: input_ids=torch.Size([4, 1304]), pixel_values=torch.Size([4, 3, 3, 336, 336])\n",
      "INFO:__main__:Validation batch 4, size: 4\n"
     ]
    },
    {
     "name": "stdout",
     "output_type": "stream",
     "text": [
      "\n",
      "Validation DataLoader 0: 100%|██████████| 5/5 [00:18<00:00,  0.28it/s]\u001b[A\n",
      "Epoch 3:  50%|█████     | 10/20 [00:32<00:32,  0.31it/s, v_num=shot, train_loss_step=3.610, val_loss_step=3.610, val_rouge_step=0.843, val_loss_epoch=3.610, val_rouge_epoch=0.824, train_loss_epoch=3.600]\n"
     ]
    },
    {
     "name": "stderr",
     "output_type": "stream",
     "text": [
      "INFO:__main__:Lightning checkpoint saved to fsdam-s3/logs/final_model_few_shot.ckpt\n",
      "INFO:__main__:LoRA weights saved to fsdam-s3/logs/lora_weights_few_shot\n",
      "INFO:__main__:Training completed.\n"
     ]
    },
    {
     "data": {
      "text/plain": [
       "57329"
      ]
     },
     "execution_count": 56,
     "metadata": {},
     "output_type": "execute_result"
    }
   ],
   "source": [
    "import torch\n",
    "import os\n",
    "import json\n",
    "import gc\n",
    "from PIL import Image\n",
    "from torch.utils.data import Dataset, DataLoader\n",
    "from transformers import AutoProcessor, BitsAndBytesConfig, LlavaNextForConditionalGeneration\n",
    "from peft import LoraConfig, prepare_model_for_kbit_training, get_peft_model\n",
    "import lightning.pytorch as L\n",
    "from torchmetrics.text import ROUGEScore\n",
    "from lightning.pytorch.callbacks import EarlyStopping, ModelCheckpoint\n",
    "from lightning.pytorch.loggers import CSVLogger\n",
    "import logging\n",
    "\n",
    "# Set environment variables\n",
    "os.environ[\"PYTORCH_CUDA_ALLOC_CONF\"] = \"expandable_segments:True\"\n",
    "os.environ[\"TOKENIZERS_PARALLELISM\"] = \"false\"\n",
    "\n",
    "# Set up logging\n",
    "logging.basicConfig(level=logging.INFO)\n",
    "logger = logging.getLogger(__name__)\n",
    "file_handler = logging.FileHandler(\"fsdam-s3/logs/training.log\")\n",
    "file_handler.setLevel(logging.INFO)\n",
    "formatter = logging.Formatter('%(asctime)s - %(name)s - %(levelname)s - %(message)s')\n",
    "file_handler.setFormatter(formatter)\n",
    "logger.addHandler(file_handler)\n",
    "\n",
    "# Set mixed precision\n",
    "torch.set_float32_matmul_precision('medium')\n",
    "\n",
    "# Clear GPU memory\n",
    "torch.cuda.empty_cache()\n",
    "gc.collect()\n",
    "\n",
    "# Define paths and constants\n",
    "MODEL_ID = \"llava-hf/llava-v1.6-vicuna-7b-hf\"\n",
    "DATASET_DIR = \"fsdam\"\n",
    "FEW_SHOT_DIR = os.path.join(DATASET_DIR, \"few_shot\")\n",
    "TEST_DIR = os.path.join(DATASET_DIR, \"test_set\")\n",
    "TRAIN_JSON_FEW = os.path.join(FEW_SHOT_DIR, \"train_llava.json\")\n",
    "VAL_JSON = os.path.join(FEW_SHOT_DIR, \"val_llava.json\")\n",
    "TEST_JSON = os.path.join(TEST_DIR, \"test_llava.json\")\n",
    "CHECKPOINT_DIR = \"fsdam-s3/logs\"\n",
    "LORA_CHECKPOINT_DIR = os.path.join(CHECKPOINT_DIR, \"lora_weights_few_shot\")\n",
    "MAX_LENGTH = 2048\n",
    "\n",
    "# Create checkpoint directories\n",
    "os.makedirs(CHECKPOINT_DIR, exist_ok=True)\n",
    "os.makedirs(LORA_CHECKPOINT_DIR, exist_ok=True)\n",
    "\n",
    "# Verify paths\n",
    "logger.info(\"Few-shot train JSON exists: %s\", os.path.exists(TRAIN_JSON_FEW))\n",
    "logger.info(\"Val JSON exists: %s\", os.path.exists(VAL_JSON))\n",
    "logger.info(\"Test JSON exists: %s\", os.path.exists(TEST_JSON))\n",
    "\n",
    "# Load processor and model\n",
    "try:\n",
    "    processor = AutoProcessor.from_pretrained(MODEL_ID, trust_remote_code=True)\n",
    "    processor.tokenizer.padding_side = \"left\"  # For decoder-only architecture\n",
    "    if processor.tokenizer.pad_token is None or processor.tokenizer.pad_token == \"<unk>\":\n",
    "        processor.tokenizer.pad_token = processor.tokenizer.eos_token\n",
    "        processor.tokenizer.pad_token_id = processor.tokenizer.eos_token_id\n",
    "    logger.info(\"Pad token: %s\", processor.tokenizer.pad_token)\n",
    "    bnb_cfg = BitsAndBytesConfig(\n",
    "        load_in_4bit=True,\n",
    "        bnb_4bit_quant_type=\"nf4\",\n",
    "        bnb_4bit_compute_dtype=torch.float16\n",
    "    )\n",
    "    model = LlavaNextForConditionalGeneration.from_pretrained(\n",
    "        MODEL_ID,\n",
    "        torch_dtype=torch.float16,\n",
    "        quantization_config=bnb_cfg,\n",
    "        trust_remote_code=True\n",
    "    )\n",
    "except Exception as e:\n",
    "    logger.error(\"Error loading model or processor: %s\", e)\n",
    "    raise e\n",
    "\n",
    "# Configure LoRA\n",
    "model.gradient_checkpointing_enable()\n",
    "model = prepare_model_for_kbit_training(model)\n",
    "lora_config = LoraConfig(\n",
    "    r=64,\n",
    "    lora_alpha=32,\n",
    "    lora_dropout=0.1,\n",
    "    target_modules=[\"q_proj\", \"k_proj\", \"v_proj\", \"o_proj\", \"multi_modal_projector.linear_1\", \"multi_modal_projector.linear_2\"],\n",
    "    init_lora_weights=\"gaussian\"\n",
    ")\n",
    "model = get_peft_model(model, lora_config)\n",
    "model.enable_input_require_grads()\n",
    "\n",
    "# Move to GPU\n",
    "device = torch.device(\"cuda\" if torch.cuda.is_available() else \"cpu\")\n",
    "model.to(device)\n",
    "logger.info(\"Model device: %s\", next(model.parameters()).device)\n",
    "logger.info(\"Model and processor loaded successfully.\")\n",
    "\n",
    "# Define dataset class\n",
    "class LlavaDataset(Dataset):\n",
    "    def __init__(self, json_path, image_dir):\n",
    "        try:\n",
    "            with open(json_path, 'r') as f:\n",
    "                self.data = json.load(f)\n",
    "        except Exception as e:\n",
    "            logger.error(\"Error loading JSON %s: %s\", json_path, e)\n",
    "            raise e\n",
    "        self.image_dir = image_dir\n",
    "        logger.info(\"Sample JSON entry from %s: %s\", json_path, json.dumps(self.data[0], indent=2)[:500] + \"...\")\n",
    "\n",
    "    def __len__(self):\n",
    "        return len(self.data)\n",
    "\n",
    "    def __getitem__(self, idx):\n",
    "        try:\n",
    "            item = self.data[idx]\n",
    "            image_path = os.path.join(self.image_dir, os.path.basename(item['image']))\n",
    "            if 'conversations' in item:\n",
    "                for conv in item['conversations']:\n",
    "                    if conv.get('from') == 'gpt':\n",
    "                        return image_path, conv['value']\n",
    "            if 'response' in item:\n",
    "                return image_path, item['response']\n",
    "            if 'answer' in item:\n",
    "                return image_path, item['answer']\n",
    "            raise ValueError(f\"No valid response found for item {idx}: {json.dumps(item, indent=2)}\")\n",
    "        except Exception as e:\n",
    "            logger.error(\"Error accessing item %d: %s\", idx, e)\n",
    "            raise e\n",
    "\n",
    "# Load datasets\n",
    "try:\n",
    "    train_dataset_few_shot = LlavaDataset(TRAIN_JSON_FEW, FEW_SHOT_DIR + \"/train\")\n",
    "    val_dataset = LlavaDataset(VAL_JSON, FEW_SHOT_DIR + \"/val\")\n",
    "    test_dataset = LlavaDataset(TEST_JSON, TEST_DIR + \"/test\")\n",
    "except Exception as e:\n",
    "    logger.error(\"Dataset loading error: %s\", e)\n",
    "    raise e\n",
    "\n",
    "# Debug dataset sizes\n",
    "logger.info(\"Few-shot train size: %d\", len(train_dataset_few_shot))\n",
    "logger.info(\"Val size: %d\", len(val_dataset))\n",
    "logger.info(\"Test size: %d\", len(test_dataset))\n",
    "\n",
    "# Collate function\n",
    "def collate_fn(batch, processor=processor, prompt_template=None, use_few_shot_examples=False, device=\"cuda\"):\n",
    "    logger.info(\"Processing batch with %d samples\", len(batch))\n",
    "    imgs, seqs = zip(*batch)\n",
    "    processed_imgs = []\n",
    "    for img_path in imgs:\n",
    "        logger.info(\"Loading image: %s\", img_path)\n",
    "        try:\n",
    "            img = Image.open(img_path).convert(\"RGB\").resize((336, 336))  # Updated to 336x336\n",
    "            processed_imgs.append(img)\n",
    "        except Exception as e:\n",
    "            logger.error(\"Error processing image %s: %s\", img_path, e)\n",
    "            raise e\n",
    "\n",
    "    prompt = prompt_template or \"[INST] <image>\\nDescribe the scene, the driver's current gaze, and where that gaze will likely shift next and why.[/INST] {seq}\"\n",
    "    if use_few_shot_examples:\n",
    "        few_shot_prompt = \"\"\n",
    "        for i in range(min(2, len(train_dataset_few_shot))):\n",
    "            img_path, example_seq = train_dataset_few_shot[i]\n",
    "            few_shot_prompt += f\"[INST] <image>\\nDescribe the scene, the driver's current gaze, and where that gaze will likely shift next and why.[/INST] {example_seq}\\n\"\n",
    "        conversation_texts = [few_shot_prompt + prompt.format(seq=seq) for seq in seqs]\n",
    "    else:\n",
    "        conversation_texts = [prompt.format(seq=seq) for seq in seqs]\n",
    "\n",
    "    logger.info(\"Processing %d texts\", len(conversation_texts))\n",
    "    try:\n",
    "        inputs = processor(\n",
    "            text=conversation_texts,\n",
    "            images=processed_imgs,\n",
    "            return_tensors=\"pt\",\n",
    "            padding=True,\n",
    "            truncation=False,\n",
    "            max_length=MAX_LENGTH\n",
    "        )\n",
    "        logger.info(\"Input shapes: input_ids=%s, pixel_values=%s\", inputs['input_ids'].shape, inputs['pixel_values'].shape)\n",
    "    except Exception as e:\n",
    "        logger.error(\"Processor error: %s\", e)\n",
    "        raise e\n",
    "\n",
    "    labels = inputs[\"input_ids\"].clone()\n",
    "    labels[labels == processor.tokenizer.pad_token_id] = -100\n",
    "    inputs[\"labels\"] = labels\n",
    "    inputs = {k: v.to(device) for k, v in inputs.items()}\n",
    "    return inputs\n",
    "\n",
    "# Lightning module\n",
    "class LlavaModelPLModule(L.LightningModule):\n",
    "    def __init__(self, config, processor, model):\n",
    "        super().__init__()\n",
    "        self.config = config\n",
    "        self.processor = processor\n",
    "        self.model = model\n",
    "        self.batch_size = config[\"batch_size\"]\n",
    "        self.rouge = ROUGEScore()\n",
    "\n",
    "    def training_step(self, batch, batch_idx):\n",
    "        logger.info(\"Training batch %d, size: %d\", batch_idx, len(batch['input_ids']))\n",
    "        outputs = self.model(**batch)\n",
    "        loss = outputs.loss\n",
    "        self.log(\"train_loss\", loss, prog_bar=True, on_step=True, on_epoch=True)\n",
    "        if batch_idx == 0:\n",
    "            predictions = self.processor.batch_decode(outputs.logits.argmax(-1), skip_special_tokens=True)\n",
    "            logger.info(\"Sample Training Prediction: %s...\", predictions[0][:100])\n",
    "        return loss\n",
    "\n",
    "    def validation_step(self, batch, batch_idx):\n",
    "        logger.info(\"Validation batch %d, size: %d\", batch_idx, len(batch['input_ids']))\n",
    "        \n",
    "        # Calculate validation loss first\n",
    "        outputs = self.model(**batch)\n",
    "        val_loss = outputs.loss\n",
    "        self.log(\"val_loss\", val_loss, prog_bar=True, on_step=True, on_epoch=True)\n",
    "        \n",
    "        # Then generate predictions for ROUGE score\n",
    "        generation_kwargs = {k: v for k, v in batch.items() if k != \"labels\"}\n",
    "        generated_outputs = self.model.generate(\n",
    "            **generation_kwargs,\n",
    "            max_new_tokens=512,\n",
    "            do_sample=False,\n",
    "            pad_token_id=self.processor.tokenizer.pad_token_id,\n",
    "            eos_token_id=self.processor.tokenizer.eos_token_id\n",
    "        )\n",
    "        predictions = self.processor.batch_decode(generated_outputs, skip_special_tokens=True)\n",
    "        valid_labels = batch[\"labels\"].clone()\n",
    "        valid_labels[valid_labels == -100] = self.processor.tokenizer.pad_token_id\n",
    "        targets = self.processor.tokenizer.batch_decode(valid_labels, skip_special_tokens=True)\n",
    "        targets = [t.replace(self.processor.tokenizer.pad_token, \"\").strip() for t in targets]\n",
    "        predictions = [p.split(\"[/INST]\")[-1].strip() if \"[/INST]\" in p else p for p in predictions]\n",
    "        rouge_score = self.rouge(predictions, targets)[\"rougeL_fmeasure\"]\n",
    "        self.log(\"val_rouge\", rouge_score, prog_bar=True, on_step=True, on_epoch=True)\n",
    "        \n",
    "        if batch_idx == 0:\n",
    "            logger.info(\"Sample Validation Prediction: %s...\", predictions[0][:100])\n",
    "            logger.info(\"Sample Validation Target: %s...\", targets[0][:100])\n",
    "            # Save sample predictions\n",
    "            sample_output = [{\"prediction\": p, \"target\": t} for p, t in zip(predictions, targets)]\n",
    "            with open(os.path.join(CHECKPOINT_DIR, f\"val_samples_epoch_{self.current_epoch}.json\"), 'a') as f:\n",
    "                json.dump(sample_output, f, indent=2)\n",
    "                f.write('\\n')\n",
    "        \n",
    "        return {\"val_loss\": val_loss, \"val_rouge\": rouge_score}\n",
    "\n",
    "    def configure_optimizers(self):\n",
    "        optimizer = torch.optim.AdamW(self.parameters(), lr=self.config[\"lr\"])\n",
    "        scheduler = torch.optim.lr_scheduler.CosineAnnealingLR(optimizer, T_max=self.config[\"max_epochs\"])\n",
    "        return {\"optimizer\": optimizer, \"lr_scheduler\": scheduler}\n",
    "\n",
    "    def train_dataloader(self):\n",
    "        logger.info(\"Training dataset size: %d\", len(train_dataset_few_shot))\n",
    "        return DataLoader(\n",
    "            train_dataset_few_shot,\n",
    "            collate_fn=lambda x: collate_fn(x, processor, use_few_shot_examples=False),\n",
    "            batch_size=self.batch_size,\n",
    "            shuffle=True,\n",
    "            num_workers=0\n",
    "        )\n",
    "\n",
    "    def val_dataloader(self):\n",
    "        logger.info(\"Validation dataset size: %d\", len(val_dataset))\n",
    "        return DataLoader(\n",
    "            val_dataset,\n",
    "            collate_fn=lambda x: collate_fn(x, processor, use_few_shot_examples=False),\n",
    "            batch_size=self.batch_size,\n",
    "            num_workers=0\n",
    "        )\n",
    "\n",
    "    def on_train_epoch_start(self):\n",
    "        logger.info(\"Starting epoch %d\", self.current_epoch)\n",
    "\n",
    "    def on_train_end(self):\n",
    "        save_path = os.path.join(CHECKPOINT_DIR, \"final_model_few_shot.ckpt\")\n",
    "        self.trainer.save_checkpoint(save_path)\n",
    "        logger.info(\"Lightning checkpoint saved to %s\", save_path)\n",
    "        self.model.save_pretrained(LORA_CHECKPOINT_DIR)\n",
    "        logger.info(\"LoRA weights saved to %s\", LORA_CHECKPOINT_DIR)\n",
    "\n",
    "# Training configuration\n",
    "config = {\"max_epochs\": 50, \"lr\": 5e-4, \"batch_size\": 4, \"use_contrastive\": False, \"contrastive_weight\": 0.05}\n",
    "\n",
    "# Train with early stopping, checkpointing, and CSV logging\n",
    "trainer = L.Trainer(\n",
    "    accelerator=\"gpu\",\n",
    "    devices=1,\n",
    "    max_epochs=config[\"max_epochs\"],\n",
    "    precision=\"16-mixed\",\n",
    "    val_check_interval=0.5,\n",
    "    enable_checkpointing=True,\n",
    "    enable_progress_bar=True,\n",
    "    log_every_n_steps=5,\n",
    "    default_root_dir=CHECKPOINT_DIR,\n",
    "    logger=CSVLogger(save_dir=CHECKPOINT_DIR, name=\"metrics\", version=\"few_shot\"),\n",
    "    callbacks=[\n",
    "        EarlyStopping(monitor=\"val_rouge\", mode=\"max\", patience=3),\n",
    "        ModelCheckpoint(\n",
    "            dirpath=CHECKPOINT_DIR,\n",
    "            filename=\"best_model_{epoch}_{val_rouge:.3f}\",\n",
    "            monitor=\"val_rouge\", #val_los\n",
    "            mode=\"max\",\n",
    "            save_top_k=1\n",
    "        )\n",
    "    ],\n",
    "    gradient_clip_val=1.0\n",
    ")\n",
    "\n",
    "# Initialize and train model\n",
    "llava_module = LlavaModelPLModule(config, processor, model)\n",
    "trainer.fit(llava_module)\n",
    "logger.info(\"Training completed.\")\n",
    "\n",
    "# Clean up memory\n",
    "torch.cuda.empty_cache()\n",
    "gc.collect()"
   ]
  },
  {
   "cell_type": "code",
   "execution_count": 57,
   "id": "2bf4207d-09f0-43fe-8b55-7b20e8531e96",
   "metadata": {},
   "outputs": [
    {
     "name": "stdout",
     "output_type": "stream",
     "text": [
      "   epoch  train_loss  val_loss\n",
      "0    0.0    5.562003  4.103061\n",
      "1    0.0    5.562003  3.908311\n",
      "2    1.0    3.765382  3.737016\n",
      "3    1.0    3.765382  3.642731\n",
      "4    2.0    3.619897  3.617633\n",
      "5    2.0    3.619897  3.610172\n",
      "6    3.0    3.599836  3.605660\n"
     ]
    },
    {
     "data": {
      "image/png": "[encoded data removed]",
      "text/plain": [
       "<Figure size 720x360 with 1 Axes>"
      ]
     },
     "metadata": {
      "needs_background": "light"
     },
     "output_type": "display_data"
    }
   ],
   "source": [
    "import pandas as pd\n",
    "import matplotlib.pyplot as plt\n",
    "\n",
    "df = pd.read_csv('fsdam-s3/logs/metrics/few_shot/metrics.csv')\n",
    "\n",
    "\n",
    "train = df[['epoch', 'train_loss_epoch']].dropna().rename(columns={'train_loss_epoch': 'train_loss'})\n",
    "val = df[['epoch', 'val_loss_epoch']].dropna().rename(columns={'val_loss_epoch': 'val_loss'})\n",
    "\n",
    "# Merge on epoch\n",
    "merged = pd.merge(train, val, on='epoch', how='outer').sort_values('epoch')\n",
    "print(merged.head(10))\n",
    "\n",
    "plt.figure(figsize=(10,5))\n",
    "plt.plot(merged['epoch'], merged['train_loss'], label='Train Loss (Epoch)')\n",
    "plt.plot(merged['epoch'], merged['val_loss'], label='Val Loss (Epoch)')\n",
    "plt.xlabel('Epoch')\n",
    "plt.ylabel('Loss')\n",
    "plt.title('Training & Validation Loss (Epoch)')\n",
    "plt.legend()\n",
    "plt.tight_layout()\n",
    "plt.show()\n"
   ]
  },
  {
   "cell_type": "code",
   "execution_count": null,
   "id": "88954fb1-3c09-4b7b-82d6-3c8d3715735c",
   "metadata": {},
   "outputs": [
    {
     "name": "stderr",
     "output_type": "stream",
     "text": [
      "INFO:__main__:Pad token: </s>\n",
      "Loading checkpoint shards: 100%|██████████| 3/3 [00:08<00:00,  2.97s/it]\n",
      "INFO:__main__:Model loaded from fsdam-s3/logs/lora_weights_few_shot and moved to cuda\n",
      "INFO:__main__:Loaded test JSON with 81 entries\n",
      "INFO:__main__:Processing batch of 81 images\n",
      "INFO:__main__:Batch input shapes: input_ids=torch.Size([2, 1210]), pixel_values=torch.Size([2, 3, 3, 336, 336])\n",
      "INFO:__main__:Batch predictions: The scene shows a city street with cars and buildings. The current gaze focuses on the blue car in t...\n",
      "INFO:__main__:Batch input shapes: input_ids=torch.Size([2, 1210]), pixel_values=torch.Size([2, 3, 3, 336, 336])\n",
      "INFO:__main__:Batch predictions: The scene shows a city street with cars, buildings, and a traffic light. The current gaze focuses on...\n",
      "INFO:__main__:Batch input shapes: input_ids=torch.Size([2, 1210]), pixel_values=torch.Size([2, 3, 3, 336, 336])\n"
     ]
    }
   ],
   "source": [
    "import torch\n",
    "import os\n",
    "import json\n",
    "from PIL import Image\n",
    "from transformers import AutoProcessor, BitsAndBytesConfig, LlavaNextForConditionalGeneration\n",
    "from peft import PeftModel\n",
    "from torchmetrics.text import ROUGEScore\n",
    "import logging\n",
    "import gc\n",
    "\n",
    "# Set up logging\n",
    "logging.basicConfig(level=logging.INFO)\n",
    "logger = logging.getLogger(__name__)\n",
    "\n",
    "# Define paths and constants\n",
    "MODEL_ID = \"llava-hf/llava-v1.6-vicuna-7b-hf\"\n",
    "CHECKPOINT_DIR = \"fsdam-s3/logs\"\n",
    "LORA_CHECKPOINT_DIR = os.path.join(CHECKPOINT_DIR, \"lora_weights_few_shot\")\n",
    "TEST_JSON = \"fsdam/test_set/test_llava.json\"\n",
    "TEST_IMAGE_DIR = \"fsdam/test_set/test\"\n",
    "OUTPUT_JSON = \"fsdam-s3/logs/predictions_few_shot.json\"\n",
    "MAX_NEW_TOKENS = 512\n",
    "\n",
    "# Load processor\n",
    "try:\n",
    "    processor = AutoProcessor.from_pretrained(MODEL_ID, trust_remote_code=True)\n",
    "    processor.tokenizer.padding_side = \"left\"\n",
    "    if processor.tokenizer.pad_token is None or processor.tokenizer.pad_token == \"<unk>\":\n",
    "        processor.tokenizer.pad_token = processor.tokenizer.eos_token\n",
    "        processor.tokenizer.pad_token_id = processor.tokenizer.eos_token_id\n",
    "    logger.info(\"Pad token: %s\", processor.tokenizer.pad_token)\n",
    "except Exception as e:\n",
    "    logger.error(\"Error loading processor: %s\", e)\n",
    "    raise e\n",
    "\n",
    "# Load fine-tuned model\n",
    "try:\n",
    "    if not os.path.exists(LORA_CHECKPOINT_DIR):\n",
    "        raise FileNotFoundError(f\"LoRA checkpoint directory not found at {LORA_CHECKPOINT_DIR}\")\n",
    "    bnb_cfg = BitsAndBytesConfig(\n",
    "        load_in_4bit=True,\n",
    "        bnb_4bit_quant_type=\"nf4\",\n",
    "        bnb_4bit_compute_dtype=torch.float16\n",
    "    )\n",
    "    base_model = LlavaNextForConditionalGeneration.from_pretrained(\n",
    "        MODEL_ID,\n",
    "        torch_dtype=torch.float16,\n",
    "        quantization_config=bnb_cfg,\n",
    "        trust_remote_code=True\n",
    "    )\n",
    "    model = PeftModel.from_pretrained(\n",
    "        base_model,\n",
    "        LORA_CHECKPOINT_DIR,\n",
    "        is_trainable=False,\n",
    "        torch_dtype=torch.float16\n",
    "    )\n",
    "    device = torch.device(\"cuda\" if torch.cuda.is_available() else \"cpu\")\n",
    "    model.to(device)\n",
    "    model.eval()\n",
    "    logger.info(\"Model loaded from %s and moved to %s\", LORA_CHECKPOINT_DIR, device)\n",
    "except Exception as e:\n",
    "    logger.error(\"Error loading model: %s\", e)\n",
    "    raise e\n",
    "\n",
    "# Batch inference function\n",
    "def predict_batch(image_paths, prompt=None, batch_size=2):\n",
    "    logger.info(\"Processing batch of %d images\", len(image_paths))\n",
    "    try:\n",
    "        prompt = prompt or \"[INST] <image>\\nDescribe the scene, the driver's current gaze, and where that gaze will likely shift next and why.[/INST]\"\n",
    "        predictions = []\n",
    "        for i in range(0, len(image_paths), batch_size):\n",
    "            batch_paths = image_paths[i:i + batch_size]\n",
    "            batch_images = [Image.open(path).convert(\"RGB\").resize((336, 336)) for path in batch_paths]\n",
    "            batch_prompts = [prompt] * len(batch_paths)\n",
    "            inputs = processor(\n",
    "                text=batch_prompts,\n",
    "                images=batch_images,\n",
    "                return_tensors=\"pt\",\n",
    "                padding=True,\n",
    "                truncation=False\n",
    "            )\n",
    "            inputs = {k: v.to(device) for k, v in inputs.items()}\n",
    "            logger.info(\"Batch input shapes: input_ids=%s, pixel_values=%s\", \n",
    "                        inputs['input_ids'].shape, inputs['pixel_values'].shape)\n",
    "            with torch.no_grad():\n",
    "                outputs = model.generate(\n",
    "                    **inputs,\n",
    "                    max_new_tokens=MAX_NEW_TOKENS,\n",
    "                    do_sample=False,\n",
    "                    pad_token_id=processor.tokenizer.pad_token_id,\n",
    "                    eos_token_id=processor.tokenizer.eos_token_id,\n",
    "                    min_length=10\n",
    "                )\n",
    "            batch_predictions = processor.batch_decode(outputs, skip_special_tokens=True)\n",
    "            batch_predictions = [p.split(\"[/INST]\")[-1].strip() if \"[/INST]\" in p else p for p in batch_predictions]\n",
    "            predictions.extend(batch_predictions)\n",
    "            logger.info(\"Batch predictions: %s...\", batch_predictions[0][:100])\n",
    "            torch.cuda.empty_cache()  # Clear memory after each batch\n",
    "        return predictions\n",
    "    except Exception as e:\n",
    "        logger.error(\"Error in batch inference: %s\", e)\n",
    "        return [None] * len(image_paths)\n",
    "\n",
    "# Batch inference on test dataset\n",
    "def run_batch_inference(json_path, image_dir):\n",
    "    try:\n",
    "        with open(json_path, 'r') as f:\n",
    "            test_data = json.load(f)\n",
    "        logger.info(\"Loaded test JSON with %d entries\", len(test_data))\n",
    "    except Exception as e:\n",
    "        logger.error(\"Error loading test JSON %s: %s\", json_path, e)\n",
    "        raise e\n",
    "\n",
    "    image_paths = [os.path.join(image_dir, os.path.basename(item['image'])) for item in test_data]\n",
    "    predictions = predict_batch(image_paths, batch_size=2)\n",
    "    results = []\n",
    "    rouge = ROUGEScore()\n",
    "    rouge_scores = []\n",
    "\n",
    "    for item, prediction in zip(test_data, predictions):\n",
    "        ground_truth = None\n",
    "        if 'conversations' in item:\n",
    "            for conv in item['conversations']:\n",
    "                if conv.get('from') == 'gpt':\n",
    "                    ground_truth = conv['value']\n",
    "                    break\n",
    "        elif 'response' in item:\n",
    "            ground_truth = item['response']\n",
    "        elif 'answer' in item:\n",
    "            ground_truth = item['answer']\n",
    "        if ground_truth is None:\n",
    "            logger.warning(\"No ground truth found for item %s\", item['id'])\n",
    "        if prediction is not None:\n",
    "            results.append({\n",
    "                \"id\": item['id'],\n",
    "                \"image\": item['image'],\n",
    "                \"ground_truth\": ground_truth,\n",
    "                \"prediction\": prediction\n",
    "            })\n",
    "            if ground_truth:\n",
    "                score = rouge([prediction], [ground_truth])['rougeL_fmeasure']\n",
    "                rouge_scores.append(score)\n",
    "        else:\n",
    "            logger.warning(\"Skipping item %s due to inference error\", item['id'])\n",
    "\n",
    "    # Save predictions\n",
    "    os.makedirs(os.path.dirname(OUTPUT_JSON), exist_ok=True)\n",
    "    with open(OUTPUT_JSON, 'w') as f:\n",
    "        json.dump(results, f, indent=2)\n",
    "    logger.info(\"Predictions saved to %s\", OUTPUT_JSON)\n",
    "\n",
    "    # Log ROUGE scores\n",
    "    if rouge_scores:\n",
    "        avg_rouge = sum(rouge_scores) / len(rouge_scores)\n",
    "        logger.info(\"Average ROUGE-L: %f\", avg_rouge)\n",
    "    else:\n",
    "        logger.info(\"No ROUGE scores computed (no ground truth available)\")\n",
    "\n",
    "    # Clean up memory\n",
    "    torch.cuda.empty_cache()\n",
    "    gc.collect()\n",
    "    return results\n",
    "\n",
    "# Run inference\n",
    "if __name__ == \"__main__\":\n",
    "    predictions = run_batch_inference(TEST_JSON, TEST_IMAGE_DIR)\n",
    "    logger.info(\"Inference completed. %d predictions generated.\", len(predictions))"
   ]
  },
  {
   "cell_type": "code",
   "execution_count": null,
   "id": "b49c7283-1de8-4f20-9c17-b374b2ce1c89",
   "metadata": {},
   "outputs": [],
   "source": [
    "import json\n",
    "import pandas as pd\n",
    "from nltk.translate.bleu_score import sentence_bleu, SmoothingFunction\n",
    "from nltk.translate.meteor_score import meteor_score\n",
    "from nltk.tokenize import word_tokenize\n",
    "from rouge_score import rouge_scorer\n",
    "from tqdm import tqdm\n",
    "import nltk\n",
    "\n",
    "\n",
    "nltk.download('punkt')\n",
    "\n",
    "# Json path\n",
    "PRED_PATH = 'fsdam-s3/logs/predictions_few_shot.json'\n",
    "\n",
    "with open(PRED_PATH, 'r') as f:\n",
    "    data = json.load(f)\n",
    "\n",
    "results = []\n",
    "\n",
    "\n",
    "rouge = rouge_scorer.RougeScorer(['rougeL'], use_stemmer=True)\n",
    "smoothie = SmoothingFunction().method4\n",
    "\n",
    "for entry in tqdm(data, desc=\"Scoring predictions\"):\n",
    "    gt = entry['ground_truth'].strip()\n",
    "    pr = entry['prediction'].strip()\n",
    "\n",
    "    # ROUGE-L\n",
    "    rougeL = rouge.score(gt, pr)['rougeL'].fmeasure\n",
    "\n",
    "    # BLEU-4\n",
    "    bleu4 = sentence_bleu([word_tokenize(gt)], word_tokenize(pr), smoothing_function=smoothie)\n",
    "    \n",
    "    # METEOR\n",
    "    meteor = meteor_score([word_tokenize(gt)], word_tokenize(pr))\n",
    "    \n",
    "    # Exact Match\n",
    "    exact = int(gt == pr)\n",
    "\n",
    "    results.append({\n",
    "        \"id\": entry['id'],\n",
    "        \"image\": entry['image'],\n",
    "        \"ground_truth\": gt,\n",
    "        \"prediction\": pr,\n",
    "        \"ROUGE-L\": rougeL,\n",
    "        \"BLEU-4\": bleu4,\n",
    "        \"METEOR\": meteor,\n",
    "        \"Exact Match\": exact\n",
    "    })\n",
    "\n",
    "# Convert to DataFrame\n",
    "df = pd.DataFrame(results)\n",
    "\n",
    "# Print mean scores\n",
    "print(\"\\n==== FSDAM Test Metrics ====\\n\")\n",
    "print(df[[\"ROUGE-L\", \"BLEU-4\", \"METEOR\", \"Exact Match\"]].mean())\n",
    "print(\"\\n==== Per-sample Results (first 5) ====\\n\")\n",
    "print(df.head())\n",
    "\n",
    "# Save detailed results as CSV if needed\n",
    "df.to_csv('fsdam-s3/logs/test_metrics_few_shot.csv', index=False)"
   ]
  },
  {
   "cell_type": "code",
   "execution_count": 81,
   "id": "06658edc-ba36-4451-97de-319e17335fb9",
   "metadata": {},
   "outputs": [
    {
     "data": {
      "text/plain": [
       "0"
      ]
     },
     "execution_count": 81,
     "metadata": {},
     "output_type": "execute_result"
    }
   ],
   "source": [
    "import torch\n",
    "import gc\n",
    "\n",
    "torch.cuda.empty_cache()\n",
    "gc.collect()\n",
    "\n"
   ]
  },
  {
   "cell_type": "markdown",
   "id": "eac6e13f-cc65-4a53-b01c-b52ec249e8e4",
   "metadata": {},
   "source": [
    "# ONE SHOT"
   ]
  },
  {
   "cell_type": "code",
   "execution_count": 28,
   "id": "f559ad6a-e01a-4cb2-9114-73aba82851ba",
   "metadata": {
    "scrolled": true
   },
   "outputs": [
    {
     "name": "stderr",
     "output_type": "stream",
     "text": [
      "INFO:__main__:One-shot train JSON exists: True\n",
      "INFO:__main__:Val JSON exists: True\n",
      "INFO:__main__:Test JSON exists: True\n",
      "INFO:__main__:Pad token: </s>\n",
      "Loading checkpoint shards: 100%|██████████| 3/3 [00:08<00:00,  2.68s/it]\n",
      "INFO:__main__:Model device: cuda:0\n",
      "INFO:__main__:Model and processor loaded successfully.\n",
      "INFO:__main__:Dataset from fsdam/one_shot/train_llava.json: 1 samples\n",
      "INFO:__main__:Sample JSON entry: {\n",
      "  \"id\": \"1006_00018\",\n",
      "  \"image\": \"fsdam/one_shot/train/1006_00018.png\",\n",
      "  \"conversations\": [\n",
      "    {\n",
      "      \"from\": \"human\",\n",
      "      \"value\": \"<image> Describe the scene, the driver's current gaze, and where that gaze will likely shift next and why.\"\n",
      "    },\n",
      "    {\n",
      "      \"from\": \"gpt\",\n",
      "      \"value\": \"A street lined with palm trees and houses is visible, with a green traffic light. The current gaze focuses on the green light and the road ahead. The gaze will likely shift to the approaching intersecti...\n",
      "INFO:__main__:Dataset from fsdam/one_shot/val_llava.json: 20 samples\n",
      "INFO:__main__:Sample JSON entry: {\n",
      "  \"id\": \"1737_00085\",\n",
      "  \"image\": \"fsdam/one_shot/val/1737_00085.png\",\n",
      "  \"conversations\": [\n",
      "    {\n",
      "      \"from\": \"human\",\n",
      "      \"value\": \"<image> Describe the scene, the driver's current gaze, and where that gaze will likely shift next and why.\"\n",
      "    },\n",
      "    {\n",
      "      \"from\": \"gpt\",\n",
      "      \"value\": \"The scene shows a busy urban intersection with cars, buildings, and a yellow traffic light ahead. The current gaze focuses on the car in front. The future gaze will likely shift to the traffic light. This...\n",
      "INFO:__main__:Dataset from fsdam/test_set/test_llava.json: 81 samples\n",
      "INFO:__main__:Sample JSON entry: {\n",
      "  \"id\": \"1003_00057\",\n",
      "  \"image\": \"fsdam/test_set/test/1003_00057.png\",\n",
      "  \"conversations\": [\n",
      "    {\n",
      "      \"from\": \"human\",\n",
      "      \"value\": \"<image> Describe the scene, the driver's current gaze, and where that gaze will likely shift next and why.\"\n",
      "    },\n",
      "    {\n",
      "      \"from\": \"gpt\",\n",
      "      \"value\": \"The scene shows a city street with cars and buildings. The current gaze focuses on the blue car ahead. The future gaze will likely remain on the blue car. This is because the driver needs to maintain a s...\n",
      "INFO:__main__:One-shot train size: 1\n",
      "INFO:__main__:Val size: 20\n",
      "INFO:__main__:Test size: 81\n",
      "Using 16bit Automatic Mixed Precision (AMP)\n",
      "GPU available: True (cuda), used: True\n",
      "TPU available: False, using: 0 TPU cores\n",
      "HPU available: False, using: 0 HPUs\n",
      "/home/ubuntu/.local/lib/python3.10/site-packages/lightning/fabric/loggers/csv_logs.py:268: Experiment logs directory fsdam-s3/logs/metrics/one_shot exists and is not empty. Previous log files in this directory will be deleted when the new ones are saved!\n",
      "/home/ubuntu/.local/lib/python3.10/site-packages/lightning/pytorch/callbacks/model_checkpoint.py:658: Checkpoint directory /home/ubuntu/fsdam-s3/logs exists and is not empty.\n",
      "LOCAL_RANK: 0 - CUDA_VISIBLE_DEVICES: [0]\n",
      "\n",
      "  | Name  | Type       | Params | Mode \n",
      "---------------------------------------------\n",
      "0 | model | PeftModel  | 3.7 B  | train\n",
      "1 | rouge | ROUGEScore | 0      | train\n",
      "---------------------------------------------\n",
      "9.7 M     Trainable params\n",
      "3.7 B     Non-trainable params\n",
      "3.7 B     Total params\n",
      "14,694.490Total estimated model params size (MB)\n",
      "2023      Modules in train mode\n",
      "725       Modules in eval mode\n"
     ]
    },
    {
     "name": "stdout",
     "output_type": "stream",
     "text": [
      "Sanity Checking: |          | 0/? [00:00<?, ?it/s]"
     ]
    },
    {
     "name": "stderr",
     "output_type": "stream",
     "text": [
      "INFO:__main__:Validation dataset size: 20\n",
      "/home/ubuntu/.local/lib/python3.10/site-packages/lightning/pytorch/trainer/connectors/data_connector.py:425: The 'val_dataloader' does not have many workers which may be a bottleneck. Consider increasing the value of the `num_workers` argument` to `num_workers=25` in the `DataLoader` to improve performance.\n",
      "INFO:__main__:Processing batch with 1 samples\n",
      "INFO:__main__:Loading image: fsdam/one_shot/val/1737_00085.png\n",
      "INFO:__main__:Input shapes: input_ids=torch.Size([1, 1282]), pixel_values=torch.Size([1, 3, 3, 336, 336])\n"
     ]
    },
    {
     "name": "stdout",
     "output_type": "stream",
     "text": [
      "Sanity Checking DataLoader 0:   0%|          | 0/2 [00:00<?, ?it/s]"
     ]
    },
    {
     "name": "stderr",
     "output_type": "stream",
     "text": [
      "INFO:__main__:Validation batch 0, size: 1\n",
      "INFO:__main__:Sample Validation Prediction: The scene shows a busy urban intersection with cars, buildings, and a yellow traffic light ahead. The current gaze focuses on the car in front. The future gaze will likely shift to the traffic light. ...\n",
      "INFO:__main__:Sample Validation Target: [INST] \n",
      "Describe the scene, the driver's current gaze, and where that gaze will likely shift next and why.[/INST] The scene shows a busy urban intersection with cars, buildings, and a yellow traffic l...\n",
      "INFO:__main__:Validation Loss: 14.732455\n"
     ]
    },
    {
     "name": "stdout",
     "output_type": "stream",
     "text": [
      "Sanity Checking DataLoader 0:  50%|█████     | 1/2 [00:00<00:00,  2.43it/s]"
     ]
    },
    {
     "name": "stderr",
     "output_type": "stream",
     "text": [
      "INFO:__main__:Processing batch with 1 samples\n",
      "INFO:__main__:Loading image: fsdam/one_shot/val/1737_00287.png\n",
      "INFO:__main__:Input shapes: input_ids=torch.Size([1, 1293]), pixel_values=torch.Size([1, 3, 3, 336, 336])\n",
      "INFO:__main__:Validation batch 1, size: 1\n"
     ]
    },
    {
     "name": "stdout",
     "output_type": "stream",
     "text": [
      "                                                                           "
     ]
    },
    {
     "name": "stderr",
     "output_type": "stream",
     "text": [
      "INFO:__main__:Training dataset size: 1\n",
      "/home/ubuntu/.local/lib/python3.10/site-packages/lightning/pytorch/trainer/connectors/data_connector.py:425: The 'train_dataloader' does not have many workers which may be a bottleneck. Consider increasing the value of the `num_workers` argument` to `num_workers=25` in the `DataLoader` to improve performance.\n"
     ]
    },
    {
     "name": "stdout",
     "output_type": "stream",
     "text": [
      "Epoch 0:   0%|          | 0/1 [00:00<?, ?it/s] "
     ]
    },
    {
     "name": "stderr",
     "output_type": "stream",
     "text": [
      "INFO:__main__:Starting epoch 0\n",
      "INFO:__main__:Processing batch with 1 samples\n",
      "INFO:__main__:Loading image: fsdam/one_shot/train/1006_00018.png\n",
      "INFO:__main__:Input shapes: input_ids=torch.Size([1, 1271]), pixel_values=torch.Size([1, 3, 3, 336, 336])\n",
      "INFO:__main__:Training batch 0, size: 1\n",
      "INFO:__main__:Sample Training Prediction: sierp…ALL\n",
      "1\n",
      ", m.m\n",
      "mm trees trees trees... day2 of trees. The, day pal treesmt palmm and sky sky day trees trees,, The0 from trees pal palm trees,ing,,.. Miami A. ofmmt trees. oft of..0 y Palday light....\n",
      "INFO:__main__:Training loss: 15.448358\n"
     ]
    },
    {
     "name": "stdout",
     "output_type": "stream",
     "text": [
      "Epoch 0: 100%|██████████| 1/1 [00:00<00:00,  2.04it/s, v_num=shot, train_loss_step=15.40]\n",
      "Validation: |          | 0/? [00:00<?, ?it/s]\u001b[A"
     ]
    },
    {
     "name": "stderr",
     "output_type": "stream",
     "text": [
      "INFO:__main__:Processing batch with 1 samples\n",
      "INFO:__main__:Loading image: fsdam/one_shot/val/1737_00085.png\n",
      "INFO:__main__:Input shapes: input_ids=torch.Size([1, 1282]), pixel_values=torch.Size([1, 3, 3, 336, 336])\n"
     ]
    },
    {
     "name": "stdout",
     "output_type": "stream",
     "text": [
      "\n",
      "Validation:   0%|          | 0/20 [00:00<?, ?it/s]\u001b[A\n",
      "Validation DataLoader 0:   0%|          | 0/20 [00:00<?, ?it/s]\u001b[A"
     ]
    },
    {
     "name": "stderr",
     "output_type": "stream",
     "text": [
      "INFO:__main__:Validation batch 0, size: 1\n",
      "INFO:__main__:Sample Validation Prediction: The scene shows a busy urban intersection with cars, buildings, and a yellow traffic light ahead. The current gaze focuses on the car in front. The future gaze will likely shift to the traffic light. ...\n",
      "INFO:__main__:Sample Validation Target: [INST] \n",
      "Describe the scene, the driver's current gaze, and where that gaze will likely shift next and why.[/INST] The scene shows a busy urban intersection with cars, buildings, and a yellow traffic l...\n",
      "INFO:__main__:Validation Loss: 14.732455\n"
     ]
    },
    {
     "name": "stdout",
     "output_type": "stream",
     "text": [
      "\n",
      "Validation DataLoader 0:   5%|▌         | 1/20 [00:00<00:07,  2.38it/s]\u001b[A"
     ]
    },
    {
     "name": "stderr",
     "output_type": "stream",
     "text": [
      "INFO:__main__:Processing batch with 1 samples\n",
      "INFO:__main__:Loading image: fsdam/one_shot/val/1737_00287.png\n",
      "INFO:__main__:Input shapes: input_ids=torch.Size([1, 1293]), pixel_values=torch.Size([1, 3, 3, 336, 336])\n",
      "INFO:__main__:Validation batch 1, size: 1\n"
     ]
    },
    {
     "name": "stdout",
     "output_type": "stream",
     "text": [
      "\n",
      "Validation DataLoader 0:  10%|█         | 2/20 [00:02<00:18,  0.96it/s]\u001b[A"
     ]
    },
    {
     "name": "stderr",
     "output_type": "stream",
     "text": [
      "INFO:__main__:Processing batch with 1 samples\n",
      "INFO:__main__:Loading image: fsdam/one_shot/val/1744_00119.png\n",
      "INFO:__main__:Input shapes: input_ids=torch.Size([1, 1272]), pixel_values=torch.Size([1, 3, 3, 336, 336])\n",
      "INFO:__main__:Validation batch 2, size: 1\n"
     ]
    },
    {
     "name": "stdout",
     "output_type": "stream",
     "text": [
      "\n",
      "Validation DataLoader 0:  15%|█▌        | 3/20 [00:02<00:14,  1.18it/s]\u001b[A"
     ]
    },
    {
     "name": "stderr",
     "output_type": "stream",
     "text": [
      "INFO:__main__:Processing batch with 1 samples\n",
      "INFO:__main__:Loading image: fsdam/one_shot/val/1744_00219.png\n",
      "INFO:__main__:Input shapes: input_ids=torch.Size([1, 1262]), pixel_values=torch.Size([1, 3, 3, 336, 336])\n",
      "INFO:__main__:Validation batch 3, size: 1\n"
     ]
    },
    {
     "name": "stdout",
     "output_type": "stream",
     "text": [
      "\n",
      "Validation DataLoader 0:  20%|██        | 4/20 [00:02<00:11,  1.34it/s]\u001b[A"
     ]
    },
    {
     "name": "stderr",
     "output_type": "stream",
     "text": [
      "INFO:__main__:Processing batch with 1 samples\n",
      "INFO:__main__:Loading image: fsdam/one_shot/val/1746_00008.png\n",
      "INFO:__main__:Input shapes: input_ids=torch.Size([1, 1272]), pixel_values=torch.Size([1, 3, 3, 336, 336])\n",
      "INFO:__main__:Validation batch 4, size: 1\n"
     ]
    },
    {
     "name": "stdout",
     "output_type": "stream",
     "text": [
      "\n",
      "Validation DataLoader 0:  25%|██▌       | 5/20 [00:04<00:13,  1.14it/s]\u001b[A"
     ]
    },
    {
     "name": "stderr",
     "output_type": "stream",
     "text": [
      "INFO:__main__:Processing batch with 1 samples\n",
      "INFO:__main__:Loading image: fsdam/one_shot/val/1747_00012.png\n",
      "INFO:__main__:Input shapes: input_ids=torch.Size([1, 1282]), pixel_values=torch.Size([1, 3, 3, 336, 336])\n",
      "INFO:__main__:Validation batch 5, size: 1\n"
     ]
    },
    {
     "name": "stdout",
     "output_type": "stream",
     "text": [
      "\n",
      "Validation DataLoader 0:  30%|███       | 6/20 [00:04<00:11,  1.24it/s]\u001b[A"
     ]
    },
    {
     "name": "stderr",
     "output_type": "stream",
     "text": [
      "INFO:__main__:Processing batch with 1 samples\n",
      "INFO:__main__:Loading image: fsdam/one_shot/val/1748_00018.png\n",
      "INFO:__main__:Input shapes: input_ids=torch.Size([1, 1269]), pixel_values=torch.Size([1, 3, 3, 336, 336])\n",
      "INFO:__main__:Validation batch 6, size: 1\n"
     ]
    },
    {
     "name": "stdout",
     "output_type": "stream",
     "text": [
      "\n",
      "Validation DataLoader 0:  35%|███▌      | 7/20 [00:05<00:09,  1.32it/s]\u001b[A"
     ]
    },
    {
     "name": "stderr",
     "output_type": "stream",
     "text": [
      "INFO:__main__:Processing batch with 1 samples\n",
      "INFO:__main__:Loading image: fsdam/one_shot/val/1748_00243.png\n",
      "INFO:__main__:Input shapes: input_ids=torch.Size([1, 1277]), pixel_values=torch.Size([1, 3, 3, 336, 336])\n",
      "INFO:__main__:Validation batch 7, size: 1\n"
     ]
    },
    {
     "name": "stdout",
     "output_type": "stream",
     "text": [
      "\n",
      "Validation DataLoader 0:  40%|████      | 8/20 [00:05<00:08,  1.39it/s]\u001b[A"
     ]
    },
    {
     "name": "stderr",
     "output_type": "stream",
     "text": [
      "INFO:__main__:Processing batch with 1 samples\n",
      "INFO:__main__:Loading image: fsdam/one_shot/val/1753_00160.png\n",
      "INFO:__main__:Input shapes: input_ids=torch.Size([1, 1283]), pixel_values=torch.Size([1, 3, 3, 336, 336])\n",
      "INFO:__main__:Validation batch 8, size: 1\n"
     ]
    },
    {
     "name": "stdout",
     "output_type": "stream",
     "text": [
      "\n",
      "Validation DataLoader 0:  45%|████▌     | 9/20 [00:07<00:09,  1.17it/s]\u001b[A"
     ]
    },
    {
     "name": "stderr",
     "output_type": "stream",
     "text": [
      "INFO:__main__:Processing batch with 1 samples\n",
      "INFO:__main__:Loading image: fsdam/one_shot/val/1754_00079.png\n",
      "INFO:__main__:Input shapes: input_ids=torch.Size([1, 1292]), pixel_values=torch.Size([1, 3, 3, 336, 336])\n",
      "INFO:__main__:Validation batch 9, size: 1\n"
     ]
    },
    {
     "name": "stdout",
     "output_type": "stream",
     "text": [
      "\n",
      "Validation DataLoader 0:  50%|█████     | 10/20 [00:08<00:08,  1.22it/s]\u001b[A"
     ]
    },
    {
     "name": "stderr",
     "output_type": "stream",
     "text": [
      "INFO:__main__:Processing batch with 1 samples\n",
      "INFO:__main__:Loading image: fsdam/one_shot/val/1755_00078.png\n",
      "INFO:__main__:Input shapes: input_ids=torch.Size([1, 1269]), pixel_values=torch.Size([1, 3, 3, 336, 336])\n",
      "INFO:__main__:Validation batch 10, size: 1\n"
     ]
    },
    {
     "name": "stdout",
     "output_type": "stream",
     "text": [
      "\n",
      "Validation DataLoader 0:  55%|█████▌    | 11/20 [00:09<00:07,  1.14it/s]\u001b[A"
     ]
    },
    {
     "name": "stderr",
     "output_type": "stream",
     "text": [
      "INFO:__main__:Processing batch with 1 samples\n",
      "INFO:__main__:Loading image: fsdam/one_shot/val/1756_00013.png\n",
      "INFO:__main__:Input shapes: input_ids=torch.Size([1, 1287]), pixel_values=torch.Size([1, 3, 3, 336, 336])\n",
      "INFO:__main__:Validation batch 11, size: 1\n"
     ]
    },
    {
     "name": "stdout",
     "output_type": "stream",
     "text": [
      "\n",
      "Validation DataLoader 0:  60%|██████    | 12/20 [00:10<00:06,  1.19it/s]\u001b[A"
     ]
    },
    {
     "name": "stderr",
     "output_type": "stream",
     "text": [
      "INFO:__main__:Processing batch with 1 samples\n",
      "INFO:__main__:Loading image: fsdam/one_shot/val/1760_00071.png\n",
      "INFO:__main__:Input shapes: input_ids=torch.Size([1, 1280]), pixel_values=torch.Size([1, 3, 3, 336, 336])\n",
      "INFO:__main__:Validation batch 12, size: 1\n"
     ]
    },
    {
     "name": "stdout",
     "output_type": "stream",
     "text": [
      "\n",
      "Validation DataLoader 0:  65%|██████▌   | 13/20 [00:10<00:05,  1.23it/s]\u001b[A"
     ]
    },
    {
     "name": "stderr",
     "output_type": "stream",
     "text": [
      "INFO:__main__:Processing batch with 1 samples\n",
      "INFO:__main__:Loading image: fsdam/one_shot/val/1761_00005.png\n",
      "INFO:__main__:Input shapes: input_ids=torch.Size([1, 1285]), pixel_values=torch.Size([1, 3, 3, 336, 336])\n",
      "INFO:__main__:Validation batch 13, size: 1\n"
     ]
    },
    {
     "name": "stdout",
     "output_type": "stream",
     "text": [
      "\n",
      "Validation DataLoader 0:  70%|███████   | 14/20 [00:11<00:04,  1.27it/s]\u001b[A"
     ]
    },
    {
     "name": "stderr",
     "output_type": "stream",
     "text": [
      "INFO:__main__:Processing batch with 1 samples\n",
      "INFO:__main__:Loading image: fsdam/one_shot/val/1764_00032.png\n",
      "INFO:__main__:Input shapes: input_ids=torch.Size([1, 1274]), pixel_values=torch.Size([1, 3, 3, 336, 336])\n",
      "INFO:__main__:Validation batch 14, size: 1\n"
     ]
    },
    {
     "name": "stdout",
     "output_type": "stream",
     "text": [
      "\n",
      "Validation DataLoader 0:  75%|███████▌  | 15/20 [00:12<00:04,  1.18it/s]\u001b[A"
     ]
    },
    {
     "name": "stderr",
     "output_type": "stream",
     "text": [
      "INFO:__main__:Processing batch with 1 samples\n",
      "INFO:__main__:Loading image: fsdam/one_shot/val/1767_00017.png\n",
      "INFO:__main__:Input shapes: input_ids=torch.Size([1, 1281]), pixel_values=torch.Size([1, 3, 3, 336, 336])\n",
      "INFO:__main__:Validation batch 15, size: 1\n"
     ]
    },
    {
     "name": "stdout",
     "output_type": "stream",
     "text": [
      "\n",
      "Validation DataLoader 0:  80%|████████  | 16/20 [00:13<00:03,  1.22it/s]\u001b[A"
     ]
    },
    {
     "name": "stderr",
     "output_type": "stream",
     "text": [
      "INFO:__main__:Processing batch with 1 samples\n",
      "INFO:__main__:Loading image: fsdam/one_shot/val/1768_00239.png\n",
      "INFO:__main__:Input shapes: input_ids=torch.Size([1, 1304]), pixel_values=torch.Size([1, 3, 3, 336, 336])\n",
      "INFO:__main__:Validation batch 16, size: 1\n"
     ]
    },
    {
     "name": "stdout",
     "output_type": "stream",
     "text": [
      "\n",
      "Validation DataLoader 0:  85%|████████▌ | 17/20 [00:13<00:02,  1.25it/s]\u001b[A"
     ]
    },
    {
     "name": "stderr",
     "output_type": "stream",
     "text": [
      "INFO:__main__:Processing batch with 1 samples\n",
      "INFO:__main__:Loading image: fsdam/one_shot/val/1771_00259.png\n",
      "INFO:__main__:Input shapes: input_ids=torch.Size([1, 1295]), pixel_values=torch.Size([1, 3, 3, 336, 336])\n",
      "INFO:__main__:Validation batch 17, size: 1\n"
     ]
    },
    {
     "name": "stdout",
     "output_type": "stream",
     "text": [
      "\n",
      "Validation DataLoader 0:  90%|█████████ | 18/20 [00:14<00:01,  1.26it/s]\u001b[A"
     ]
    },
    {
     "name": "stderr",
     "output_type": "stream",
     "text": [
      "INFO:__main__:Processing batch with 1 samples\n",
      "INFO:__main__:Loading image: fsdam/one_shot/val/1772_00192.png\n",
      "INFO:__main__:Input shapes: input_ids=torch.Size([1, 1299]), pixel_values=torch.Size([1, 3, 3, 336, 336])\n",
      "INFO:__main__:Validation batch 18, size: 1\n"
     ]
    },
    {
     "name": "stdout",
     "output_type": "stream",
     "text": [
      "\n",
      "Validation DataLoader 0:  95%|█████████▌| 19/20 [00:14<00:00,  1.29it/s]\u001b[A"
     ]
    },
    {
     "name": "stderr",
     "output_type": "stream",
     "text": [
      "INFO:__main__:Processing batch with 1 samples\n",
      "INFO:__main__:Loading image: fsdam/one_shot/val/1773_00089.png\n",
      "INFO:__main__:Input shapes: input_ids=torch.Size([1, 1275]), pixel_values=torch.Size([1, 3, 3, 336, 336])\n",
      "INFO:__main__:Validation batch 19, size: 1\n"
     ]
    },
    {
     "name": "stdout",
     "output_type": "stream",
     "text": [
      "\n",
      "Validation DataLoader 0: 100%|██████████| 20/20 [00:15<00:00,  1.32it/s]\u001b[A\n",
      "Epoch 1:   0%|          | 0/1 [00:00<?, ?it/s, v_num=shot, train_loss_step=15.40, val_loss_step=15.20, val_rouge_step=0.836, val_loss_epoch=15.00, val_rouge_epoch=0.822, train_loss_epoch=15.40]        "
     ]
    },
    {
     "name": "stderr",
     "output_type": "stream",
     "text": [
      "INFO:__main__:Starting epoch 1\n",
      "INFO:__main__:Processing batch with 1 samples\n",
      "INFO:__main__:Loading image: fsdam/one_shot/train/1006_00018.png\n",
      "INFO:__main__:Input shapes: input_ids=torch.Size([1, 1271]), pixel_values=torch.Size([1, 3, 3, 336, 336])\n",
      "INFO:__main__:Training batch 0, size: 1\n",
      "INFO:__main__:Sample Training Prediction: sierp…ALL\n",
      "1\n",
      ", m.m\n",
      "mm trees trees trees... day2 of trees. The, day pal treesmt palmm and sky sky day trees trees,, The0 from trees pal palm trees,ing,,.. Miami A. ofmmt trees. oft of..0 y Palday light....\n",
      "INFO:__main__:Training loss: 15.448358\n"
     ]
    },
    {
     "name": "stdout",
     "output_type": "stream",
     "text": [
      "Epoch 1: 100%|██████████| 1/1 [00:00<00:00,  2.02it/s, v_num=shot, train_loss_step=15.40, val_loss_step=15.20, val_rouge_step=0.836, val_loss_epoch=15.00, val_rouge_epoch=0.822, train_loss_epoch=15.40]\n",
      "Validation: |          | 0/? [00:00<?, ?it/s]\u001b[A"
     ]
    },
    {
     "name": "stderr",
     "output_type": "stream",
     "text": [
      "INFO:__main__:Processing batch with 1 samples\n",
      "INFO:__main__:Loading image: fsdam/one_shot/val/1737_00085.png\n",
      "INFO:__main__:Input shapes: input_ids=torch.Size([1, 1282]), pixel_values=torch.Size([1, 3, 3, 336, 336])\n"
     ]
    },
    {
     "name": "stdout",
     "output_type": "stream",
     "text": [
      "\n",
      "Validation:   0%|          | 0/20 [00:00<?, ?it/s]\u001b[A\n",
      "Validation DataLoader 0:   0%|          | 0/20 [00:00<?, ?it/s]\u001b[A"
     ]
    },
    {
     "name": "stderr",
     "output_type": "stream",
     "text": [
      "INFO:__main__:Validation batch 0, size: 1\n",
      "INFO:__main__:Sample Validation Prediction: The scene shows a busy urban intersection with cars, buildings, and a yellow traffic light ahead. The current gaze focuses on the car in front. The future gaze will likely shift to the traffic light. ...\n",
      "INFO:__main__:Sample Validation Target: [INST] \n",
      "Describe the scene, the driver's current gaze, and where that gaze will likely shift next and why.[/INST] The scene shows a busy urban intersection with cars, buildings, and a yellow traffic l...\n",
      "INFO:__main__:Validation Loss: 14.732455\n"
     ]
    },
    {
     "name": "stdout",
     "output_type": "stream",
     "text": [
      "\n",
      "Validation DataLoader 0:   5%|▌         | 1/20 [00:00<00:08,  2.31it/s]\u001b[A"
     ]
    },
    {
     "name": "stderr",
     "output_type": "stream",
     "text": [
      "INFO:__main__:Processing batch with 1 samples\n",
      "INFO:__main__:Loading image: fsdam/one_shot/val/1737_00287.png\n",
      "INFO:__main__:Input shapes: input_ids=torch.Size([1, 1293]), pixel_values=torch.Size([1, 3, 3, 336, 336])\n",
      "INFO:__main__:Validation batch 1, size: 1\n"
     ]
    },
    {
     "name": "stdout",
     "output_type": "stream",
     "text": [
      "\n",
      "Validation DataLoader 0:  10%|█         | 2/20 [00:02<00:18,  0.95it/s]\u001b[A"
     ]
    },
    {
     "name": "stderr",
     "output_type": "stream",
     "text": [
      "INFO:__main__:Processing batch with 1 samples\n",
      "INFO:__main__:Loading image: fsdam/one_shot/val/1744_00119.png\n",
      "INFO:__main__:Input shapes: input_ids=torch.Size([1, 1272]), pixel_values=torch.Size([1, 3, 3, 336, 336])\n",
      "INFO:__main__:Validation batch 2, size: 1\n"
     ]
    },
    {
     "name": "stdout",
     "output_type": "stream",
     "text": [
      "\n",
      "Validation DataLoader 0:  15%|█▌        | 3/20 [00:02<00:14,  1.18it/s]\u001b[A"
     ]
    },
    {
     "name": "stderr",
     "output_type": "stream",
     "text": [
      "INFO:__main__:Processing batch with 1 samples\n",
      "INFO:__main__:Loading image: fsdam/one_shot/val/1744_00219.png\n",
      "INFO:__main__:Input shapes: input_ids=torch.Size([1, 1262]), pixel_values=torch.Size([1, 3, 3, 336, 336])\n",
      "INFO:__main__:Validation batch 3, size: 1\n"
     ]
    },
    {
     "name": "stdout",
     "output_type": "stream",
     "text": [
      "\n",
      "Validation DataLoader 0:  20%|██        | 4/20 [00:02<00:11,  1.34it/s]\u001b[A"
     ]
    },
    {
     "name": "stderr",
     "output_type": "stream",
     "text": [
      "INFO:__main__:Processing batch with 1 samples\n",
      "INFO:__main__:Loading image: fsdam/one_shot/val/1746_00008.png\n",
      "INFO:__main__:Input shapes: input_ids=torch.Size([1, 1272]), pixel_values=torch.Size([1, 3, 3, 336, 336])\n",
      "INFO:__main__:Validation batch 4, size: 1\n"
     ]
    },
    {
     "name": "stdout",
     "output_type": "stream",
     "text": [
      "\n",
      "Validation DataLoader 0:  25%|██▌       | 5/20 [00:04<00:14,  1.07it/s]\u001b[A"
     ]
    },
    {
     "name": "stderr",
     "output_type": "stream",
     "text": [
      "INFO:__main__:Processing batch with 1 samples\n",
      "INFO:__main__:Loading image: fsdam/one_shot/val/1747_00012.png\n",
      "INFO:__main__:Input shapes: input_ids=torch.Size([1, 1282]), pixel_values=torch.Size([1, 3, 3, 336, 336])\n",
      "INFO:__main__:Validation batch 5, size: 1\n"
     ]
    },
    {
     "name": "stdout",
     "output_type": "stream",
     "text": [
      "\n",
      "Validation DataLoader 0:  30%|███       | 6/20 [00:05<00:12,  1.16it/s]\u001b[A"
     ]
    },
    {
     "name": "stderr",
     "output_type": "stream",
     "text": [
      "INFO:__main__:Processing batch with 1 samples\n",
      "INFO:__main__:Loading image: fsdam/one_shot/val/1748_00018.png\n",
      "INFO:__main__:Input shapes: input_ids=torch.Size([1, 1269]), pixel_values=torch.Size([1, 3, 3, 336, 336])\n",
      "INFO:__main__:Validation batch 6, size: 1\n"
     ]
    },
    {
     "name": "stdout",
     "output_type": "stream",
     "text": [
      "\n",
      "Validation DataLoader 0:  35%|███▌      | 7/20 [00:05<00:10,  1.23it/s]\u001b[A"
     ]
    },
    {
     "name": "stderr",
     "output_type": "stream",
     "text": [
      "INFO:__main__:Processing batch with 1 samples\n",
      "INFO:__main__:Loading image: fsdam/one_shot/val/1748_00243.png\n",
      "INFO:__main__:Input shapes: input_ids=torch.Size([1, 1277]), pixel_values=torch.Size([1, 3, 3, 336, 336])\n",
      "INFO:__main__:Validation batch 7, size: 1\n"
     ]
    },
    {
     "name": "stdout",
     "output_type": "stream",
     "text": [
      "\n",
      "Validation DataLoader 0:  40%|████      | 8/20 [00:06<00:09,  1.29it/s]\u001b[A"
     ]
    },
    {
     "name": "stderr",
     "output_type": "stream",
     "text": [
      "INFO:__main__:Processing batch with 1 samples\n",
      "INFO:__main__:Loading image: fsdam/one_shot/val/1753_00160.png\n",
      "INFO:__main__:Input shapes: input_ids=torch.Size([1, 1283]), pixel_values=torch.Size([1, 3, 3, 336, 336])\n",
      "INFO:__main__:Validation batch 8, size: 1\n"
     ]
    },
    {
     "name": "stdout",
     "output_type": "stream",
     "text": [
      "\n",
      "Validation DataLoader 0:  45%|████▌     | 9/20 [00:08<00:10,  1.06it/s]\u001b[A"
     ]
    },
    {
     "name": "stderr",
     "output_type": "stream",
     "text": [
      "INFO:__main__:Processing batch with 1 samples\n",
      "INFO:__main__:Loading image: fsdam/one_shot/val/1754_00079.png\n",
      "INFO:__main__:Input shapes: input_ids=torch.Size([1, 1292]), pixel_values=torch.Size([1, 3, 3, 336, 336])\n",
      "INFO:__main__:Validation batch 9, size: 1\n"
     ]
    },
    {
     "name": "stdout",
     "output_type": "stream",
     "text": [
      "\n",
      "Validation DataLoader 0:  50%|█████     | 10/20 [00:08<00:08,  1.12it/s]\u001b[A"
     ]
    },
    {
     "name": "stderr",
     "output_type": "stream",
     "text": [
      "INFO:__main__:Processing batch with 1 samples\n",
      "INFO:__main__:Loading image: fsdam/one_shot/val/1755_00078.png\n",
      "INFO:__main__:Input shapes: input_ids=torch.Size([1, 1269]), pixel_values=torch.Size([1, 3, 3, 336, 336])\n",
      "INFO:__main__:Validation batch 10, size: 1\n"
     ]
    },
    {
     "name": "stdout",
     "output_type": "stream",
     "text": [
      "\n",
      "Validation DataLoader 0:  55%|█████▌    | 11/20 [00:10<00:08,  1.06it/s]\u001b[A"
     ]
    },
    {
     "name": "stderr",
     "output_type": "stream",
     "text": [
      "INFO:__main__:Processing batch with 1 samples\n",
      "INFO:__main__:Loading image: fsdam/one_shot/val/1756_00013.png\n",
      "INFO:__main__:Input shapes: input_ids=torch.Size([1, 1287]), pixel_values=torch.Size([1, 3, 3, 336, 336])\n",
      "INFO:__main__:Validation batch 11, size: 1\n"
     ]
    },
    {
     "name": "stdout",
     "output_type": "stream",
     "text": [
      "\n",
      "Validation DataLoader 0:  60%|██████    | 12/20 [00:10<00:07,  1.11it/s]\u001b[A"
     ]
    },
    {
     "name": "stderr",
     "output_type": "stream",
     "text": [
      "INFO:__main__:Processing batch with 1 samples\n",
      "INFO:__main__:Loading image: fsdam/one_shot/val/1760_00071.png\n",
      "INFO:__main__:Input shapes: input_ids=torch.Size([1, 1280]), pixel_values=torch.Size([1, 3, 3, 336, 336])\n",
      "INFO:__main__:Validation batch 12, size: 1\n"
     ]
    },
    {
     "name": "stdout",
     "output_type": "stream",
     "text": [
      "\n",
      "Validation DataLoader 0:  65%|██████▌   | 13/20 [00:11<00:06,  1.16it/s]\u001b[A"
     ]
    },
    {
     "name": "stderr",
     "output_type": "stream",
     "text": [
      "INFO:__main__:Processing batch with 1 samples\n",
      "INFO:__main__:Loading image: fsdam/one_shot/val/1761_00005.png\n",
      "INFO:__main__:Input shapes: input_ids=torch.Size([1, 1285]), pixel_values=torch.Size([1, 3, 3, 336, 336])\n",
      "INFO:__main__:Validation batch 13, size: 1\n"
     ]
    },
    {
     "name": "stdout",
     "output_type": "stream",
     "text": [
      "\n",
      "Validation DataLoader 0:  70%|███████   | 14/20 [00:11<00:05,  1.20it/s]\u001b[A"
     ]
    },
    {
     "name": "stderr",
     "output_type": "stream",
     "text": [
      "INFO:__main__:Processing batch with 1 samples\n",
      "INFO:__main__:Loading image: fsdam/one_shot/val/1764_00032.png\n",
      "INFO:__main__:Input shapes: input_ids=torch.Size([1, 1274]), pixel_values=torch.Size([1, 3, 3, 336, 336])\n",
      "INFO:__main__:Validation batch 14, size: 1\n"
     ]
    },
    {
     "name": "stdout",
     "output_type": "stream",
     "text": [
      "\n",
      "Validation DataLoader 0:  75%|███████▌  | 15/20 [00:13<00:04,  1.13it/s]\u001b[A"
     ]
    },
    {
     "name": "stderr",
     "output_type": "stream",
     "text": [
      "INFO:__main__:Processing batch with 1 samples\n",
      "INFO:__main__:Loading image: fsdam/one_shot/val/1767_00017.png\n",
      "INFO:__main__:Input shapes: input_ids=torch.Size([1, 1281]), pixel_values=torch.Size([1, 3, 3, 336, 336])\n",
      "INFO:__main__:Validation batch 15, size: 1\n"
     ]
    },
    {
     "name": "stdout",
     "output_type": "stream",
     "text": [
      "\n",
      "Validation DataLoader 0:  80%|████████  | 16/20 [00:13<00:03,  1.16it/s]\u001b[A"
     ]
    },
    {
     "name": "stderr",
     "output_type": "stream",
     "text": [
      "INFO:__main__:Processing batch with 1 samples\n",
      "INFO:__main__:Loading image: fsdam/one_shot/val/1768_00239.png\n",
      "INFO:__main__:Input shapes: input_ids=torch.Size([1, 1304]), pixel_values=torch.Size([1, 3, 3, 336, 336])\n",
      "INFO:__main__:Validation batch 16, size: 1\n"
     ]
    },
    {
     "name": "stdout",
     "output_type": "stream",
     "text": [
      "\n",
      "Validation DataLoader 0:  85%|████████▌ | 17/20 [00:14<00:02,  1.19it/s]\u001b[A"
     ]
    },
    {
     "name": "stderr",
     "output_type": "stream",
     "text": [
      "INFO:__main__:Processing batch with 1 samples\n",
      "INFO:__main__:Loading image: fsdam/one_shot/val/1771_00259.png\n",
      "INFO:__main__:Input shapes: input_ids=torch.Size([1, 1295]), pixel_values=torch.Size([1, 3, 3, 336, 336])\n",
      "INFO:__main__:Validation batch 17, size: 1\n"
     ]
    },
    {
     "name": "stdout",
     "output_type": "stream",
     "text": [
      "\n",
      "Validation DataLoader 0:  90%|█████████ | 18/20 [00:14<00:01,  1.21it/s]\u001b[A"
     ]
    },
    {
     "name": "stderr",
     "output_type": "stream",
     "text": [
      "INFO:__main__:Processing batch with 1 samples\n",
      "INFO:__main__:Loading image: fsdam/one_shot/val/1772_00192.png\n",
      "INFO:__main__:Input shapes: input_ids=torch.Size([1, 1299]), pixel_values=torch.Size([1, 3, 3, 336, 336])\n",
      "INFO:__main__:Validation batch 18, size: 1\n"
     ]
    },
    {
     "name": "stdout",
     "output_type": "stream",
     "text": [
      "\n",
      "Validation DataLoader 0:  95%|█████████▌| 19/20 [00:15<00:00,  1.24it/s]\u001b[A"
     ]
    },
    {
     "name": "stderr",
     "output_type": "stream",
     "text": [
      "INFO:__main__:Processing batch with 1 samples\n",
      "INFO:__main__:Loading image: fsdam/one_shot/val/1773_00089.png\n",
      "INFO:__main__:Input shapes: input_ids=torch.Size([1, 1275]), pixel_values=torch.Size([1, 3, 3, 336, 336])\n",
      "INFO:__main__:Validation batch 19, size: 1\n"
     ]
    },
    {
     "name": "stdout",
     "output_type": "stream",
     "text": [
      "\n",
      "Validation DataLoader 0: 100%|██████████| 20/20 [00:15<00:00,  1.26it/s]\u001b[A\n",
      "Epoch 2:   0%|          | 0/1 [00:00<?, ?it/s, v_num=shot, train_loss_step=15.40, val_loss_step=15.20, val_rouge_step=0.836, val_loss_epoch=15.00, val_rouge_epoch=0.822, train_loss_epoch=15.40]        "
     ]
    },
    {
     "name": "stderr",
     "output_type": "stream",
     "text": [
      "INFO:__main__:Starting epoch 2\n",
      "INFO:__main__:Processing batch with 1 samples\n",
      "INFO:__main__:Loading image: fsdam/one_shot/train/1006_00018.png\n",
      "INFO:__main__:Input shapes: input_ids=torch.Size([1, 1271]), pixel_values=torch.Size([1, 3, 3, 336, 336])\n",
      "INFO:__main__:Training batch 0, size: 1\n",
      "INFO:__main__:Sample Training Prediction: sierp…ALL\n",
      "1\n",
      ", m.m\n",
      "mm trees trees trees... day2 of trees. The, day pal treesmt palmm and sky sky day trees trees,, The0 from trees pal palm trees,ing,,.. Miami A. ofmmt trees. oft of..0 y Palday light....\n",
      "INFO:__main__:Training loss: 15.448358\n"
     ]
    },
    {
     "name": "stdout",
     "output_type": "stream",
     "text": [
      "Epoch 2: 100%|██████████| 1/1 [00:00<00:00,  2.04it/s, v_num=shot, train_loss_step=15.40, val_loss_step=15.20, val_rouge_step=0.836, val_loss_epoch=15.00, val_rouge_epoch=0.822, train_loss_epoch=15.40]\n",
      "Validation: |          | 0/? [00:00<?, ?it/s]\u001b[A"
     ]
    },
    {
     "name": "stderr",
     "output_type": "stream",
     "text": [
      "INFO:__main__:Processing batch with 1 samples\n",
      "INFO:__main__:Loading image: fsdam/one_shot/val/1737_00085.png\n",
      "INFO:__main__:Input shapes: input_ids=torch.Size([1, 1282]), pixel_values=torch.Size([1, 3, 3, 336, 336])\n"
     ]
    },
    {
     "name": "stdout",
     "output_type": "stream",
     "text": [
      "\n",
      "Validation:   0%|          | 0/20 [00:00<?, ?it/s]\u001b[A\n",
      "Validation DataLoader 0:   0%|          | 0/20 [00:00<?, ?it/s]\u001b[A"
     ]
    },
    {
     "name": "stderr",
     "output_type": "stream",
     "text": [
      "INFO:__main__:Validation batch 0, size: 1\n",
      "INFO:__main__:Sample Validation Prediction: The scene shows a busy urban intersection with cars, buildings, and a yellow traffic light ahead. The current gaze focuses on the car in front. The future gaze will likely shift to the traffic light. ...\n",
      "INFO:__main__:Sample Validation Target: [INST] \n",
      "Describe the scene, the driver's current gaze, and where that gaze will likely shift next and why.[/INST] The scene shows a busy urban intersection with cars, buildings, and a yellow traffic l...\n",
      "INFO:__main__:Validation Loss: 14.732455\n"
     ]
    },
    {
     "name": "stdout",
     "output_type": "stream",
     "text": [
      "\n",
      "Validation DataLoader 0:   5%|▌         | 1/20 [00:00<00:08,  2.29it/s]\u001b[A"
     ]
    },
    {
     "name": "stderr",
     "output_type": "stream",
     "text": [
      "INFO:__main__:Processing batch with 1 samples\n",
      "INFO:__main__:Loading image: fsdam/one_shot/val/1737_00287.png\n",
      "INFO:__main__:Input shapes: input_ids=torch.Size([1, 1293]), pixel_values=torch.Size([1, 3, 3, 336, 336])\n",
      "INFO:__main__:Validation batch 1, size: 1\n"
     ]
    },
    {
     "name": "stdout",
     "output_type": "stream",
     "text": [
      "\n",
      "Validation DataLoader 0:  10%|█         | 2/20 [00:02<00:18,  0.98it/s]\u001b[A"
     ]
    },
    {
     "name": "stderr",
     "output_type": "stream",
     "text": [
      "INFO:__main__:Processing batch with 1 samples\n",
      "INFO:__main__:Loading image: fsdam/one_shot/val/1744_00119.png\n",
      "INFO:__main__:Input shapes: input_ids=torch.Size([1, 1272]), pixel_values=torch.Size([1, 3, 3, 336, 336])\n",
      "INFO:__main__:Validation batch 2, size: 1\n"
     ]
    },
    {
     "name": "stdout",
     "output_type": "stream",
     "text": [
      "\n",
      "Validation DataLoader 0:  15%|█▌        | 3/20 [00:02<00:14,  1.20it/s]\u001b[A"
     ]
    },
    {
     "name": "stderr",
     "output_type": "stream",
     "text": [
      "INFO:__main__:Processing batch with 1 samples\n",
      "INFO:__main__:Loading image: fsdam/one_shot/val/1744_00219.png\n",
      "INFO:__main__:Input shapes: input_ids=torch.Size([1, 1262]), pixel_values=torch.Size([1, 3, 3, 336, 336])\n",
      "INFO:__main__:Validation batch 3, size: 1\n"
     ]
    },
    {
     "name": "stdout",
     "output_type": "stream",
     "text": [
      "\n",
      "Validation DataLoader 0:  20%|██        | 4/20 [00:02<00:11,  1.36it/s]\u001b[A"
     ]
    },
    {
     "name": "stderr",
     "output_type": "stream",
     "text": [
      "INFO:__main__:Processing batch with 1 samples\n",
      "INFO:__main__:Loading image: fsdam/one_shot/val/1746_00008.png\n",
      "INFO:__main__:Input shapes: input_ids=torch.Size([1, 1272]), pixel_values=torch.Size([1, 3, 3, 336, 336])\n",
      "INFO:__main__:Validation batch 4, size: 1\n"
     ]
    },
    {
     "name": "stdout",
     "output_type": "stream",
     "text": [
      "\n",
      "Validation DataLoader 0:  25%|██▌       | 5/20 [00:04<00:12,  1.16it/s]\u001b[A"
     ]
    },
    {
     "name": "stderr",
     "output_type": "stream",
     "text": [
      "INFO:__main__:Processing batch with 1 samples\n",
      "INFO:__main__:Loading image: fsdam/one_shot/val/1747_00012.png\n",
      "INFO:__main__:Input shapes: input_ids=torch.Size([1, 1282]), pixel_values=torch.Size([1, 3, 3, 336, 336])\n",
      "INFO:__main__:Validation batch 5, size: 1\n"
     ]
    },
    {
     "name": "stdout",
     "output_type": "stream",
     "text": [
      "\n",
      "Validation DataLoader 0:  30%|███       | 6/20 [00:04<00:11,  1.26it/s]\u001b[A"
     ]
    },
    {
     "name": "stderr",
     "output_type": "stream",
     "text": [
      "INFO:__main__:Processing batch with 1 samples\n",
      "INFO:__main__:Loading image: fsdam/one_shot/val/1748_00018.png\n",
      "INFO:__main__:Input shapes: input_ids=torch.Size([1, 1269]), pixel_values=torch.Size([1, 3, 3, 336, 336])\n",
      "INFO:__main__:Validation batch 6, size: 1\n"
     ]
    },
    {
     "name": "stdout",
     "output_type": "stream",
     "text": [
      "\n",
      "Validation DataLoader 0:  35%|███▌      | 7/20 [00:05<00:09,  1.34it/s]\u001b[A"
     ]
    },
    {
     "name": "stderr",
     "output_type": "stream",
     "text": [
      "INFO:__main__:Processing batch with 1 samples\n",
      "INFO:__main__:Loading image: fsdam/one_shot/val/1748_00243.png\n",
      "INFO:__main__:Input shapes: input_ids=torch.Size([1, 1277]), pixel_values=torch.Size([1, 3, 3, 336, 336])\n",
      "INFO:__main__:Validation batch 7, size: 1\n"
     ]
    },
    {
     "name": "stdout",
     "output_type": "stream",
     "text": [
      "\n",
      "Validation DataLoader 0:  40%|████      | 8/20 [00:05<00:08,  1.41it/s]\u001b[A"
     ]
    },
    {
     "name": "stderr",
     "output_type": "stream",
     "text": [
      "INFO:__main__:Processing batch with 1 samples\n",
      "INFO:__main__:Loading image: fsdam/one_shot/val/1753_00160.png\n",
      "INFO:__main__:Input shapes: input_ids=torch.Size([1, 1283]), pixel_values=torch.Size([1, 3, 3, 336, 336])\n",
      "INFO:__main__:Validation batch 8, size: 1\n"
     ]
    },
    {
     "name": "stdout",
     "output_type": "stream",
     "text": [
      "\n",
      "Validation DataLoader 0:  45%|████▌     | 9/20 [00:07<00:09,  1.19it/s]\u001b[A"
     ]
    },
    {
     "name": "stderr",
     "output_type": "stream",
     "text": [
      "INFO:__main__:Processing batch with 1 samples\n",
      "INFO:__main__:Loading image: fsdam/one_shot/val/1754_00079.png\n",
      "INFO:__main__:Input shapes: input_ids=torch.Size([1, 1292]), pixel_values=torch.Size([1, 3, 3, 336, 336])\n",
      "INFO:__main__:Validation batch 9, size: 1\n"
     ]
    },
    {
     "name": "stdout",
     "output_type": "stream",
     "text": [
      "\n",
      "Validation DataLoader 0:  50%|█████     | 10/20 [00:08<00:08,  1.24it/s]\u001b[A"
     ]
    },
    {
     "name": "stderr",
     "output_type": "stream",
     "text": [
      "INFO:__main__:Processing batch with 1 samples\n",
      "INFO:__main__:Loading image: fsdam/one_shot/val/1755_00078.png\n",
      "INFO:__main__:Input shapes: input_ids=torch.Size([1, 1269]), pixel_values=torch.Size([1, 3, 3, 336, 336])\n",
      "INFO:__main__:Validation batch 10, size: 1\n"
     ]
    },
    {
     "name": "stdout",
     "output_type": "stream",
     "text": [
      "\n",
      "Validation DataLoader 0:  55%|█████▌    | 11/20 [00:09<00:07,  1.16it/s]\u001b[A"
     ]
    },
    {
     "name": "stderr",
     "output_type": "stream",
     "text": [
      "INFO:__main__:Processing batch with 1 samples\n",
      "INFO:__main__:Loading image: fsdam/one_shot/val/1756_00013.png\n",
      "INFO:__main__:Input shapes: input_ids=torch.Size([1, 1287]), pixel_values=torch.Size([1, 3, 3, 336, 336])\n",
      "INFO:__main__:Validation batch 11, size: 1\n"
     ]
    },
    {
     "name": "stdout",
     "output_type": "stream",
     "text": [
      "\n",
      "Validation DataLoader 0:  60%|██████    | 12/20 [00:09<00:06,  1.21it/s]\u001b[A"
     ]
    },
    {
     "name": "stderr",
     "output_type": "stream",
     "text": [
      "INFO:__main__:Processing batch with 1 samples\n",
      "INFO:__main__:Loading image: fsdam/one_shot/val/1760_00071.png\n",
      "INFO:__main__:Input shapes: input_ids=torch.Size([1, 1280]), pixel_values=torch.Size([1, 3, 3, 336, 336])\n",
      "INFO:__main__:Validation batch 12, size: 1\n"
     ]
    },
    {
     "name": "stdout",
     "output_type": "stream",
     "text": [
      "\n",
      "Validation DataLoader 0:  65%|██████▌   | 13/20 [00:10<00:05,  1.25it/s]\u001b[A"
     ]
    },
    {
     "name": "stderr",
     "output_type": "stream",
     "text": [
      "INFO:__main__:Processing batch with 1 samples\n",
      "INFO:__main__:Loading image: fsdam/one_shot/val/1761_00005.png\n",
      "INFO:__main__:Input shapes: input_ids=torch.Size([1, 1285]), pixel_values=torch.Size([1, 3, 3, 336, 336])\n",
      "INFO:__main__:Validation batch 13, size: 1\n"
     ]
    },
    {
     "name": "stdout",
     "output_type": "stream",
     "text": [
      "\n",
      "Validation DataLoader 0:  70%|███████   | 14/20 [00:10<00:04,  1.29it/s]\u001b[A"
     ]
    },
    {
     "name": "stderr",
     "output_type": "stream",
     "text": [
      "INFO:__main__:Processing batch with 1 samples\n",
      "INFO:__main__:Loading image: fsdam/one_shot/val/1764_00032.png\n",
      "INFO:__main__:Input shapes: input_ids=torch.Size([1, 1274]), pixel_values=torch.Size([1, 3, 3, 336, 336])\n",
      "INFO:__main__:Validation batch 14, size: 1\n"
     ]
    },
    {
     "name": "stdout",
     "output_type": "stream",
     "text": [
      "\n",
      "Validation DataLoader 0:  75%|███████▌  | 15/20 [00:12<00:04,  1.20it/s]\u001b[A"
     ]
    },
    {
     "name": "stderr",
     "output_type": "stream",
     "text": [
      "INFO:__main__:Processing batch with 1 samples\n",
      "INFO:__main__:Loading image: fsdam/one_shot/val/1767_00017.png\n",
      "INFO:__main__:Input shapes: input_ids=torch.Size([1, 1281]), pixel_values=torch.Size([1, 3, 3, 336, 336])\n",
      "INFO:__main__:Validation batch 15, size: 1\n"
     ]
    },
    {
     "name": "stdout",
     "output_type": "stream",
     "text": [
      "\n",
      "Validation DataLoader 0:  80%|████████  | 16/20 [00:12<00:03,  1.24it/s]\u001b[A"
     ]
    },
    {
     "name": "stderr",
     "output_type": "stream",
     "text": [
      "INFO:__main__:Processing batch with 1 samples\n",
      "INFO:__main__:Loading image: fsdam/one_shot/val/1768_00239.png\n",
      "INFO:__main__:Input shapes: input_ids=torch.Size([1, 1304]), pixel_values=torch.Size([1, 3, 3, 336, 336])\n",
      "INFO:__main__:Validation batch 16, size: 1\n"
     ]
    },
    {
     "name": "stdout",
     "output_type": "stream",
     "text": [
      "\n",
      "Validation DataLoader 0:  85%|████████▌ | 17/20 [00:13<00:02,  1.27it/s]\u001b[A"
     ]
    },
    {
     "name": "stderr",
     "output_type": "stream",
     "text": [
      "INFO:__main__:Processing batch with 1 samples\n",
      "INFO:__main__:Loading image: fsdam/one_shot/val/1771_00259.png\n",
      "INFO:__main__:Input shapes: input_ids=torch.Size([1, 1295]), pixel_values=torch.Size([1, 3, 3, 336, 336])\n",
      "INFO:__main__:Validation batch 17, size: 1\n"
     ]
    },
    {
     "name": "stdout",
     "output_type": "stream",
     "text": [
      "\n",
      "Validation DataLoader 0:  90%|█████████ | 18/20 [00:14<00:01,  1.28it/s]\u001b[A"
     ]
    },
    {
     "name": "stderr",
     "output_type": "stream",
     "text": [
      "INFO:__main__:Processing batch with 1 samples\n",
      "INFO:__main__:Loading image: fsdam/one_shot/val/1772_00192.png\n",
      "INFO:__main__:Input shapes: input_ids=torch.Size([1, 1299]), pixel_values=torch.Size([1, 3, 3, 336, 336])\n",
      "INFO:__main__:Validation batch 18, size: 1\n"
     ]
    },
    {
     "name": "stdout",
     "output_type": "stream",
     "text": [
      "\n",
      "Validation DataLoader 0:  95%|█████████▌| 19/20 [00:14<00:00,  1.31it/s]\u001b[A"
     ]
    },
    {
     "name": "stderr",
     "output_type": "stream",
     "text": [
      "INFO:__main__:Processing batch with 1 samples\n",
      "INFO:__main__:Loading image: fsdam/one_shot/val/1773_00089.png\n",
      "INFO:__main__:Input shapes: input_ids=torch.Size([1, 1275]), pixel_values=torch.Size([1, 3, 3, 336, 336])\n",
      "INFO:__main__:Validation batch 19, size: 1\n"
     ]
    },
    {
     "name": "stdout",
     "output_type": "stream",
     "text": [
      "\n",
      "Validation DataLoader 0: 100%|██████████| 20/20 [00:14<00:00,  1.34it/s]\u001b[A\n",
      "Epoch 3:   0%|          | 0/1 [00:00<?, ?it/s, v_num=shot, train_loss_step=15.40, val_loss_step=15.20, val_rouge_step=0.836, val_loss_epoch=15.00, val_rouge_epoch=0.822, train_loss_epoch=15.40]        "
     ]
    },
    {
     "name": "stderr",
     "output_type": "stream",
     "text": [
      "INFO:__main__:Starting epoch 3\n",
      "INFO:__main__:Processing batch with 1 samples\n",
      "INFO:__main__:Loading image: fsdam/one_shot/train/1006_00018.png\n",
      "INFO:__main__:Input shapes: input_ids=torch.Size([1, 1271]), pixel_values=torch.Size([1, 3, 3, 336, 336])\n",
      "INFO:__main__:Training batch 0, size: 1\n",
      "INFO:__main__:Sample Training Prediction: sierp…ALL\n",
      "1\n",
      ", m.m\n",
      "mm trees trees trees... day2 of trees. The, day pal treesmt palmm and sky sky day trees trees,, The0 from trees pal palm trees,ing,,.. Miami A. ofmmt trees. oft of..0 y Palday light....\n",
      "INFO:__main__:Training loss: 15.448358\n"
     ]
    },
    {
     "name": "stdout",
     "output_type": "stream",
     "text": [
      "Epoch 3: 100%|██████████| 1/1 [00:00<00:00,  2.07it/s, v_num=shot, train_loss_step=15.40, val_loss_step=15.20, val_rouge_step=0.836, val_loss_epoch=15.00, val_rouge_epoch=0.822, train_loss_epoch=15.40]\n",
      "Validation: |          | 0/? [00:00<?, ?it/s]\u001b[A"
     ]
    },
    {
     "name": "stderr",
     "output_type": "stream",
     "text": [
      "INFO:__main__:Processing batch with 1 samples\n",
      "INFO:__main__:Loading image: fsdam/one_shot/val/1737_00085.png\n",
      "INFO:__main__:Input shapes: input_ids=torch.Size([1, 1282]), pixel_values=torch.Size([1, 3, 3, 336, 336])\n"
     ]
    },
    {
     "name": "stdout",
     "output_type": "stream",
     "text": [
      "\n",
      "Validation:   0%|          | 0/20 [00:00<?, ?it/s]\u001b[A\n",
      "Validation DataLoader 0:   0%|          | 0/20 [00:00<?, ?it/s]\u001b[A"
     ]
    },
    {
     "name": "stderr",
     "output_type": "stream",
     "text": [
      "INFO:__main__:Validation batch 0, size: 1\n",
      "INFO:__main__:Sample Validation Prediction: The scene shows a busy urban intersection with cars, buildings, and a yellow traffic light ahead. The current gaze focuses on the car in front. The future gaze will likely shift to the traffic light. ...\n",
      "INFO:__main__:Sample Validation Target: [INST] \n",
      "Describe the scene, the driver's current gaze, and where that gaze will likely shift next and why.[/INST] The scene shows a busy urban intersection with cars, buildings, and a yellow traffic l...\n",
      "INFO:__main__:Validation Loss: 14.732455\n"
     ]
    },
    {
     "name": "stdout",
     "output_type": "stream",
     "text": [
      "\n",
      "Validation DataLoader 0:   5%|▌         | 1/20 [00:00<00:08,  2.34it/s]\u001b[A"
     ]
    },
    {
     "name": "stderr",
     "output_type": "stream",
     "text": [
      "INFO:__main__:Processing batch with 1 samples\n",
      "INFO:__main__:Loading image: fsdam/one_shot/val/1737_00287.png\n",
      "INFO:__main__:Input shapes: input_ids=torch.Size([1, 1293]), pixel_values=torch.Size([1, 3, 3, 336, 336])\n",
      "INFO:__main__:Validation batch 1, size: 1\n"
     ]
    },
    {
     "name": "stdout",
     "output_type": "stream",
     "text": [
      "\n",
      "Validation DataLoader 0:  10%|█         | 2/20 [00:02<00:18,  0.98it/s]\u001b[A"
     ]
    },
    {
     "name": "stderr",
     "output_type": "stream",
     "text": [
      "INFO:__main__:Processing batch with 1 samples\n",
      "INFO:__main__:Loading image: fsdam/one_shot/val/1744_00119.png\n",
      "INFO:__main__:Input shapes: input_ids=torch.Size([1, 1272]), pixel_values=torch.Size([1, 3, 3, 336, 336])\n",
      "INFO:__main__:Validation batch 2, size: 1\n"
     ]
    },
    {
     "name": "stdout",
     "output_type": "stream",
     "text": [
      "\n",
      "Validation DataLoader 0:  15%|█▌        | 3/20 [00:02<00:14,  1.21it/s]\u001b[A"
     ]
    },
    {
     "name": "stderr",
     "output_type": "stream",
     "text": [
      "INFO:__main__:Processing batch with 1 samples\n",
      "INFO:__main__:Loading image: fsdam/one_shot/val/1744_00219.png\n",
      "INFO:__main__:Input shapes: input_ids=torch.Size([1, 1262]), pixel_values=torch.Size([1, 3, 3, 336, 336])\n",
      "INFO:__main__:Validation batch 3, size: 1\n"
     ]
    },
    {
     "name": "stdout",
     "output_type": "stream",
     "text": [
      "\n",
      "Validation DataLoader 0:  20%|██        | 4/20 [00:02<00:11,  1.36it/s]\u001b[A"
     ]
    },
    {
     "name": "stderr",
     "output_type": "stream",
     "text": [
      "INFO:__main__:Processing batch with 1 samples\n",
      "INFO:__main__:Loading image: fsdam/one_shot/val/1746_00008.png\n",
      "INFO:__main__:Input shapes: input_ids=torch.Size([1, 1272]), pixel_values=torch.Size([1, 3, 3, 336, 336])\n",
      "INFO:__main__:Validation batch 4, size: 1\n"
     ]
    },
    {
     "name": "stdout",
     "output_type": "stream",
     "text": [
      "\n",
      "Validation DataLoader 0:  25%|██▌       | 5/20 [00:04<00:12,  1.16it/s]\u001b[A"
     ]
    },
    {
     "name": "stderr",
     "output_type": "stream",
     "text": [
      "INFO:__main__:Processing batch with 1 samples\n",
      "INFO:__main__:Loading image: fsdam/one_shot/val/1747_00012.png\n",
      "INFO:__main__:Input shapes: input_ids=torch.Size([1, 1282]), pixel_values=torch.Size([1, 3, 3, 336, 336])\n",
      "INFO:__main__:Validation batch 5, size: 1\n"
     ]
    },
    {
     "name": "stdout",
     "output_type": "stream",
     "text": [
      "\n",
      "Validation DataLoader 0:  30%|███       | 6/20 [00:04<00:11,  1.26it/s]\u001b[A"
     ]
    },
    {
     "name": "stderr",
     "output_type": "stream",
     "text": [
      "INFO:__main__:Processing batch with 1 samples\n",
      "INFO:__main__:Loading image: fsdam/one_shot/val/1748_00018.png\n",
      "INFO:__main__:Input shapes: input_ids=torch.Size([1, 1269]), pixel_values=torch.Size([1, 3, 3, 336, 336])\n",
      "INFO:__main__:Validation batch 6, size: 1\n"
     ]
    },
    {
     "name": "stdout",
     "output_type": "stream",
     "text": [
      "\n",
      "Validation DataLoader 0:  35%|███▌      | 7/20 [00:05<00:09,  1.34it/s]\u001b[A"
     ]
    },
    {
     "name": "stderr",
     "output_type": "stream",
     "text": [
      "INFO:__main__:Processing batch with 1 samples\n",
      "INFO:__main__:Loading image: fsdam/one_shot/val/1748_00243.png\n",
      "INFO:__main__:Input shapes: input_ids=torch.Size([1, 1277]), pixel_values=torch.Size([1, 3, 3, 336, 336])\n",
      "INFO:__main__:Validation batch 7, size: 1\n"
     ]
    },
    {
     "name": "stdout",
     "output_type": "stream",
     "text": [
      "\n",
      "Validation DataLoader 0:  40%|████      | 8/20 [00:05<00:08,  1.41it/s]\u001b[A"
     ]
    },
    {
     "name": "stderr",
     "output_type": "stream",
     "text": [
      "INFO:__main__:Processing batch with 1 samples\n",
      "INFO:__main__:Loading image: fsdam/one_shot/val/1753_00160.png\n",
      "INFO:__main__:Input shapes: input_ids=torch.Size([1, 1283]), pixel_values=torch.Size([1, 3, 3, 336, 336])\n",
      "INFO:__main__:Validation batch 8, size: 1\n"
     ]
    },
    {
     "name": "stdout",
     "output_type": "stream",
     "text": [
      "\n",
      "Validation DataLoader 0:  45%|████▌     | 9/20 [00:07<00:09,  1.19it/s]\u001b[A"
     ]
    },
    {
     "name": "stderr",
     "output_type": "stream",
     "text": [
      "INFO:__main__:Processing batch with 1 samples\n",
      "INFO:__main__:Loading image: fsdam/one_shot/val/1754_00079.png\n",
      "INFO:__main__:Input shapes: input_ids=torch.Size([1, 1292]), pixel_values=torch.Size([1, 3, 3, 336, 336])\n",
      "INFO:__main__:Validation batch 9, size: 1\n"
     ]
    },
    {
     "name": "stdout",
     "output_type": "stream",
     "text": [
      "\n",
      "Validation DataLoader 0:  50%|█████     | 10/20 [00:08<00:08,  1.24it/s]\u001b[A"
     ]
    },
    {
     "name": "stderr",
     "output_type": "stream",
     "text": [
      "INFO:__main__:Processing batch with 1 samples\n",
      "INFO:__main__:Loading image: fsdam/one_shot/val/1755_00078.png\n",
      "INFO:__main__:Input shapes: input_ids=torch.Size([1, 1269]), pixel_values=torch.Size([1, 3, 3, 336, 336])\n",
      "INFO:__main__:Validation batch 10, size: 1\n"
     ]
    },
    {
     "name": "stdout",
     "output_type": "stream",
     "text": [
      "\n",
      "Validation DataLoader 0:  55%|█████▌    | 11/20 [00:09<00:07,  1.16it/s]\u001b[A"
     ]
    },
    {
     "name": "stderr",
     "output_type": "stream",
     "text": [
      "INFO:__main__:Processing batch with 1 samples\n",
      "INFO:__main__:Loading image: fsdam/one_shot/val/1756_00013.png\n",
      "INFO:__main__:Input shapes: input_ids=torch.Size([1, 1287]), pixel_values=torch.Size([1, 3, 3, 336, 336])\n",
      "INFO:__main__:Validation batch 11, size: 1\n"
     ]
    },
    {
     "name": "stdout",
     "output_type": "stream",
     "text": [
      "\n",
      "Validation DataLoader 0:  60%|██████    | 12/20 [00:09<00:06,  1.21it/s]\u001b[A"
     ]
    },
    {
     "name": "stderr",
     "output_type": "stream",
     "text": [
      "INFO:__main__:Processing batch with 1 samples\n",
      "INFO:__main__:Loading image: fsdam/one_shot/val/1760_00071.png\n",
      "INFO:__main__:Input shapes: input_ids=torch.Size([1, 1280]), pixel_values=torch.Size([1, 3, 3, 336, 336])\n",
      "INFO:__main__:Validation batch 12, size: 1\n"
     ]
    },
    {
     "name": "stdout",
     "output_type": "stream",
     "text": [
      "\n",
      "Validation DataLoader 0:  65%|██████▌   | 13/20 [00:10<00:05,  1.25it/s]\u001b[A"
     ]
    },
    {
     "name": "stderr",
     "output_type": "stream",
     "text": [
      "INFO:__main__:Processing batch with 1 samples\n",
      "INFO:__main__:Loading image: fsdam/one_shot/val/1761_00005.png\n",
      "INFO:__main__:Input shapes: input_ids=torch.Size([1, 1285]), pixel_values=torch.Size([1, 3, 3, 336, 336])\n",
      "INFO:__main__:Validation batch 13, size: 1\n"
     ]
    },
    {
     "name": "stdout",
     "output_type": "stream",
     "text": [
      "\n",
      "Validation DataLoader 0:  70%|███████   | 14/20 [00:10<00:04,  1.29it/s]\u001b[A"
     ]
    },
    {
     "name": "stderr",
     "output_type": "stream",
     "text": [
      "INFO:__main__:Processing batch with 1 samples\n",
      "INFO:__main__:Loading image: fsdam/one_shot/val/1764_00032.png\n",
      "INFO:__main__:Input shapes: input_ids=torch.Size([1, 1274]), pixel_values=torch.Size([1, 3, 3, 336, 336])\n",
      "INFO:__main__:Validation batch 14, size: 1\n"
     ]
    },
    {
     "name": "stdout",
     "output_type": "stream",
     "text": [
      "\n",
      "Validation DataLoader 0:  75%|███████▌  | 15/20 [00:12<00:04,  1.20it/s]\u001b[A"
     ]
    },
    {
     "name": "stderr",
     "output_type": "stream",
     "text": [
      "INFO:__main__:Processing batch with 1 samples\n",
      "INFO:__main__:Loading image: fsdam/one_shot/val/1767_00017.png\n",
      "INFO:__main__:Input shapes: input_ids=torch.Size([1, 1281]), pixel_values=torch.Size([1, 3, 3, 336, 336])\n",
      "INFO:__main__:Validation batch 15, size: 1\n"
     ]
    },
    {
     "name": "stdout",
     "output_type": "stream",
     "text": [
      "\n",
      "Validation DataLoader 0:  80%|████████  | 16/20 [00:12<00:03,  1.23it/s]\u001b[A"
     ]
    },
    {
     "name": "stderr",
     "output_type": "stream",
     "text": [
      "INFO:__main__:Processing batch with 1 samples\n",
      "INFO:__main__:Loading image: fsdam/one_shot/val/1768_00239.png\n",
      "INFO:__main__:Input shapes: input_ids=torch.Size([1, 1304]), pixel_values=torch.Size([1, 3, 3, 336, 336])\n",
      "INFO:__main__:Validation batch 16, size: 1\n"
     ]
    },
    {
     "name": "stdout",
     "output_type": "stream",
     "text": [
      "\n",
      "Validation DataLoader 0:  85%|████████▌ | 17/20 [00:13<00:02,  1.27it/s]\u001b[A"
     ]
    },
    {
     "name": "stderr",
     "output_type": "stream",
     "text": [
      "INFO:__main__:Processing batch with 1 samples\n",
      "INFO:__main__:Loading image: fsdam/one_shot/val/1771_00259.png\n",
      "INFO:__main__:Input shapes: input_ids=torch.Size([1, 1295]), pixel_values=torch.Size([1, 3, 3, 336, 336])\n",
      "INFO:__main__:Validation batch 17, size: 1\n"
     ]
    },
    {
     "name": "stdout",
     "output_type": "stream",
     "text": [
      "\n",
      "Validation DataLoader 0:  90%|█████████ | 18/20 [00:14<00:01,  1.28it/s]\u001b[A"
     ]
    },
    {
     "name": "stderr",
     "output_type": "stream",
     "text": [
      "INFO:__main__:Processing batch with 1 samples\n",
      "INFO:__main__:Loading image: fsdam/one_shot/val/1772_00192.png\n",
      "INFO:__main__:Input shapes: input_ids=torch.Size([1, 1299]), pixel_values=torch.Size([1, 3, 3, 336, 336])\n",
      "INFO:__main__:Validation batch 18, size: 1\n"
     ]
    },
    {
     "name": "stdout",
     "output_type": "stream",
     "text": [
      "\n",
      "Validation DataLoader 0:  95%|█████████▌| 19/20 [00:14<00:00,  1.30it/s]\u001b[A"
     ]
    },
    {
     "name": "stderr",
     "output_type": "stream",
     "text": [
      "INFO:__main__:Processing batch with 1 samples\n",
      "INFO:__main__:Loading image: fsdam/one_shot/val/1773_00089.png\n",
      "INFO:__main__:Input shapes: input_ids=torch.Size([1, 1275]), pixel_values=torch.Size([1, 3, 3, 336, 336])\n",
      "INFO:__main__:Validation batch 19, size: 1\n"
     ]
    },
    {
     "name": "stdout",
     "output_type": "stream",
     "text": [
      "\n",
      "Validation DataLoader 0: 100%|██████████| 20/20 [00:15<00:00,  1.33it/s]\u001b[A\n",
      "Epoch 4:   0%|          | 0/1 [00:00<?, ?it/s, v_num=shot, train_loss_step=15.40, val_loss_step=15.20, val_rouge_step=0.836, val_loss_epoch=15.00, val_rouge_epoch=0.822, train_loss_epoch=15.40]        "
     ]
    },
    {
     "name": "stderr",
     "output_type": "stream",
     "text": [
      "INFO:__main__:Starting epoch 4\n",
      "INFO:__main__:Processing batch with 1 samples\n",
      "INFO:__main__:Loading image: fsdam/one_shot/train/1006_00018.png\n",
      "INFO:__main__:Input shapes: input_ids=torch.Size([1, 1271]), pixel_values=torch.Size([1, 3, 3, 336, 336])\n",
      "INFO:__main__:Training batch 0, size: 1\n",
      "INFO:__main__:Sample Training Prediction: sierp…ALL\n",
      "1\n",
      ", m.m\n",
      "mm trees trees trees... day2 of trees. The, day pal treesmt palmm and sky sky day trees trees,, The0 from trees pal palm trees,ing,,.. Miami A. ofmmt trees. oft of..0 y Palday light....\n",
      "INFO:__main__:Training loss: 15.448358\n"
     ]
    },
    {
     "name": "stdout",
     "output_type": "stream",
     "text": [
      "Epoch 4: 100%|██████████| 1/1 [00:00<00:00,  2.02it/s, v_num=shot, train_loss_step=15.40, val_loss_step=15.20, val_rouge_step=0.836, val_loss_epoch=15.00, val_rouge_epoch=0.822, train_loss_epoch=15.40]\n",
      "Validation: |          | 0/? [00:00<?, ?it/s]\u001b[A"
     ]
    },
    {
     "name": "stderr",
     "output_type": "stream",
     "text": [
      "INFO:__main__:Processing batch with 1 samples\n",
      "INFO:__main__:Loading image: fsdam/one_shot/val/1737_00085.png\n",
      "INFO:__main__:Input shapes: input_ids=torch.Size([1, 1282]), pixel_values=torch.Size([1, 3, 3, 336, 336])\n"
     ]
    },
    {
     "name": "stdout",
     "output_type": "stream",
     "text": [
      "\n",
      "Validation:   0%|          | 0/20 [00:00<?, ?it/s]\u001b[A\n",
      "Validation DataLoader 0:   0%|          | 0/20 [00:00<?, ?it/s]\u001b[A"
     ]
    },
    {
     "name": "stderr",
     "output_type": "stream",
     "text": [
      "INFO:__main__:Validation batch 0, size: 1\n",
      "INFO:__main__:Sample Validation Prediction: The scene shows a busy urban intersection with cars, buildings, and a yellow traffic light ahead. The current gaze focuses on the car in front. The future gaze will likely shift to the traffic light. ...\n",
      "INFO:__main__:Sample Validation Target: [INST] \n",
      "Describe the scene, the driver's current gaze, and where that gaze will likely shift next and why.[/INST] The scene shows a busy urban intersection with cars, buildings, and a yellow traffic l...\n",
      "INFO:__main__:Validation Loss: 9.022706\n"
     ]
    },
    {
     "name": "stdout",
     "output_type": "stream",
     "text": [
      "\n",
      "Validation DataLoader 0:   5%|▌         | 1/20 [00:00<00:08,  2.34it/s]\u001b[A"
     ]
    },
    {
     "name": "stderr",
     "output_type": "stream",
     "text": [
      "INFO:__main__:Processing batch with 1 samples\n",
      "INFO:__main__:Loading image: fsdam/one_shot/val/1737_00287.png\n",
      "INFO:__main__:Input shapes: input_ids=torch.Size([1, 1293]), pixel_values=torch.Size([1, 3, 3, 336, 336])\n",
      "INFO:__main__:Validation batch 1, size: 1\n"
     ]
    },
    {
     "name": "stdout",
     "output_type": "stream",
     "text": [
      "\n",
      "Validation DataLoader 0:  10%|█         | 2/20 [00:02<00:18,  0.96it/s]\u001b[A"
     ]
    },
    {
     "name": "stderr",
     "output_type": "stream",
     "text": [
      "INFO:__main__:Processing batch with 1 samples\n",
      "INFO:__main__:Loading image: fsdam/one_shot/val/1744_00119.png\n",
      "INFO:__main__:Input shapes: input_ids=torch.Size([1, 1272]), pixel_values=torch.Size([1, 3, 3, 336, 336])\n",
      "INFO:__main__:Validation batch 2, size: 1\n"
     ]
    },
    {
     "name": "stdout",
     "output_type": "stream",
     "text": [
      "\n",
      "Validation DataLoader 0:  15%|█▌        | 3/20 [00:02<00:14,  1.18it/s]\u001b[A"
     ]
    },
    {
     "name": "stderr",
     "output_type": "stream",
     "text": [
      "INFO:__main__:Processing batch with 1 samples\n",
      "INFO:__main__:Loading image: fsdam/one_shot/val/1744_00219.png\n",
      "INFO:__main__:Input shapes: input_ids=torch.Size([1, 1262]), pixel_values=torch.Size([1, 3, 3, 336, 336])\n",
      "INFO:__main__:Validation batch 3, size: 1\n"
     ]
    },
    {
     "name": "stdout",
     "output_type": "stream",
     "text": [
      "\n",
      "Validation DataLoader 0:  20%|██        | 4/20 [00:02<00:11,  1.34it/s]\u001b[A"
     ]
    },
    {
     "name": "stderr",
     "output_type": "stream",
     "text": [
      "INFO:__main__:Processing batch with 1 samples\n",
      "INFO:__main__:Loading image: fsdam/one_shot/val/1746_00008.png\n",
      "INFO:__main__:Input shapes: input_ids=torch.Size([1, 1272]), pixel_values=torch.Size([1, 3, 3, 336, 336])\n",
      "INFO:__main__:Validation batch 4, size: 1\n"
     ]
    },
    {
     "name": "stdout",
     "output_type": "stream",
     "text": [
      "\n",
      "Validation DataLoader 0:  25%|██▌       | 5/20 [00:03<00:10,  1.45it/s]\u001b[A"
     ]
    },
    {
     "name": "stderr",
     "output_type": "stream",
     "text": [
      "INFO:__main__:Processing batch with 1 samples\n",
      "INFO:__main__:Loading image: fsdam/one_shot/val/1747_00012.png\n",
      "INFO:__main__:Input shapes: input_ids=torch.Size([1, 1282]), pixel_values=torch.Size([1, 3, 3, 336, 336])\n",
      "INFO:__main__:Validation batch 5, size: 1\n"
     ]
    },
    {
     "name": "stdout",
     "output_type": "stream",
     "text": [
      "\n",
      "Validation DataLoader 0:  30%|███       | 6/20 [00:03<00:09,  1.54it/s]\u001b[A"
     ]
    },
    {
     "name": "stderr",
     "output_type": "stream",
     "text": [
      "INFO:__main__:Processing batch with 1 samples\n",
      "INFO:__main__:Loading image: fsdam/one_shot/val/1748_00018.png\n",
      "INFO:__main__:Input shapes: input_ids=torch.Size([1, 1269]), pixel_values=torch.Size([1, 3, 3, 336, 336])\n",
      "INFO:__main__:Validation batch 6, size: 1\n"
     ]
    },
    {
     "name": "stdout",
     "output_type": "stream",
     "text": [
      "\n",
      "Validation DataLoader 0:  35%|███▌      | 7/20 [00:04<00:08,  1.61it/s]\u001b[A"
     ]
    },
    {
     "name": "stderr",
     "output_type": "stream",
     "text": [
      "INFO:__main__:Processing batch with 1 samples\n",
      "INFO:__main__:Loading image: fsdam/one_shot/val/1748_00243.png\n",
      "INFO:__main__:Input shapes: input_ids=torch.Size([1, 1277]), pixel_values=torch.Size([1, 3, 3, 336, 336])\n",
      "INFO:__main__:Validation batch 7, size: 1\n"
     ]
    },
    {
     "name": "stdout",
     "output_type": "stream",
     "text": [
      "\n",
      "Validation DataLoader 0:  40%|████      | 8/20 [00:04<00:07,  1.66it/s]\u001b[A"
     ]
    },
    {
     "name": "stderr",
     "output_type": "stream",
     "text": [
      "INFO:__main__:Processing batch with 1 samples\n",
      "INFO:__main__:Loading image: fsdam/one_shot/val/1753_00160.png\n",
      "INFO:__main__:Input shapes: input_ids=torch.Size([1, 1283]), pixel_values=torch.Size([1, 3, 3, 336, 336])\n",
      "INFO:__main__:Validation batch 8, size: 1\n"
     ]
    },
    {
     "name": "stdout",
     "output_type": "stream",
     "text": [
      "\n",
      "Validation DataLoader 0:  45%|████▌     | 9/20 [00:05<00:06,  1.71it/s]\u001b[A"
     ]
    },
    {
     "name": "stderr",
     "output_type": "stream",
     "text": [
      "INFO:__main__:Processing batch with 1 samples\n",
      "INFO:__main__:Loading image: fsdam/one_shot/val/1754_00079.png\n",
      "INFO:__main__:Input shapes: input_ids=torch.Size([1, 1292]), pixel_values=torch.Size([1, 3, 3, 336, 336])\n",
      "INFO:__main__:Validation batch 9, size: 1\n"
     ]
    },
    {
     "name": "stdout",
     "output_type": "stream",
     "text": [
      "\n",
      "Validation DataLoader 0:  50%|█████     | 10/20 [00:05<00:05,  1.74it/s]\u001b[A"
     ]
    },
    {
     "name": "stderr",
     "output_type": "stream",
     "text": [
      "INFO:__main__:Processing batch with 1 samples\n",
      "INFO:__main__:Loading image: fsdam/one_shot/val/1755_00078.png\n",
      "INFO:__main__:Input shapes: input_ids=torch.Size([1, 1269]), pixel_values=torch.Size([1, 3, 3, 336, 336])\n",
      "INFO:__main__:Validation batch 10, size: 1\n"
     ]
    },
    {
     "name": "stdout",
     "output_type": "stream",
     "text": [
      "\n",
      "Validation DataLoader 0:  55%|█████▌    | 11/20 [00:07<00:05,  1.53it/s]\u001b[A"
     ]
    },
    {
     "name": "stderr",
     "output_type": "stream",
     "text": [
      "INFO:__main__:Processing batch with 1 samples\n",
      "INFO:__main__:Loading image: fsdam/one_shot/val/1756_00013.png\n",
      "INFO:__main__:Input shapes: input_ids=torch.Size([1, 1287]), pixel_values=torch.Size([1, 3, 3, 336, 336])\n",
      "INFO:__main__:Validation batch 11, size: 1\n"
     ]
    },
    {
     "name": "stdout",
     "output_type": "stream",
     "text": [
      "\n",
      "Validation DataLoader 0:  60%|██████    | 12/20 [00:07<00:05,  1.57it/s]\u001b[A"
     ]
    },
    {
     "name": "stderr",
     "output_type": "stream",
     "text": [
      "INFO:__main__:Processing batch with 1 samples\n",
      "INFO:__main__:Loading image: fsdam/one_shot/val/1760_00071.png\n",
      "INFO:__main__:Input shapes: input_ids=torch.Size([1, 1280]), pixel_values=torch.Size([1, 3, 3, 336, 336])\n",
      "INFO:__main__:Validation batch 12, size: 1\n"
     ]
    },
    {
     "name": "stdout",
     "output_type": "stream",
     "text": [
      "\n",
      "Validation DataLoader 0:  65%|██████▌   | 13/20 [00:08<00:04,  1.61it/s]\u001b[A"
     ]
    },
    {
     "name": "stderr",
     "output_type": "stream",
     "text": [
      "INFO:__main__:Processing batch with 1 samples\n",
      "INFO:__main__:Loading image: fsdam/one_shot/val/1761_00005.png\n",
      "INFO:__main__:Input shapes: input_ids=torch.Size([1, 1285]), pixel_values=torch.Size([1, 3, 3, 336, 336])\n",
      "INFO:__main__:Validation batch 13, size: 1\n"
     ]
    },
    {
     "name": "stdout",
     "output_type": "stream",
     "text": [
      "\n",
      "Validation DataLoader 0:  70%|███████   | 14/20 [00:08<00:03,  1.64it/s]\u001b[A"
     ]
    },
    {
     "name": "stderr",
     "output_type": "stream",
     "text": [
      "INFO:__main__:Processing batch with 1 samples\n",
      "INFO:__main__:Loading image: fsdam/one_shot/val/1764_00032.png\n",
      "INFO:__main__:Input shapes: input_ids=torch.Size([1, 1274]), pixel_values=torch.Size([1, 3, 3, 336, 336])\n",
      "INFO:__main__:Validation batch 14, size: 1\n"
     ]
    },
    {
     "name": "stdout",
     "output_type": "stream",
     "text": [
      "\n",
      "Validation DataLoader 0:  75%|███████▌  | 15/20 [00:10<00:03,  1.48it/s]\u001b[A"
     ]
    },
    {
     "name": "stderr",
     "output_type": "stream",
     "text": [
      "INFO:__main__:Processing batch with 1 samples\n",
      "INFO:__main__:Loading image: fsdam/one_shot/val/1767_00017.png\n",
      "INFO:__main__:Input shapes: input_ids=torch.Size([1, 1281]), pixel_values=torch.Size([1, 3, 3, 336, 336])\n",
      "INFO:__main__:Validation batch 15, size: 1\n"
     ]
    },
    {
     "name": "stdout",
     "output_type": "stream",
     "text": [
      "\n",
      "Validation DataLoader 0:  80%|████████  | 16/20 [00:10<00:02,  1.51it/s]\u001b[A"
     ]
    },
    {
     "name": "stderr",
     "output_type": "stream",
     "text": [
      "INFO:__main__:Processing batch with 1 samples\n",
      "INFO:__main__:Loading image: fsdam/one_shot/val/1768_00239.png\n",
      "INFO:__main__:Input shapes: input_ids=torch.Size([1, 1304]), pixel_values=torch.Size([1, 3, 3, 336, 336])\n",
      "INFO:__main__:Validation batch 16, size: 1\n"
     ]
    },
    {
     "name": "stdout",
     "output_type": "stream",
     "text": [
      "\n",
      "Validation DataLoader 0:  85%|████████▌ | 17/20 [00:11<00:01,  1.53it/s]\u001b[A"
     ]
    },
    {
     "name": "stderr",
     "output_type": "stream",
     "text": [
      "INFO:__main__:Processing batch with 1 samples\n",
      "INFO:__main__:Loading image: fsdam/one_shot/val/1771_00259.png\n",
      "INFO:__main__:Input shapes: input_ids=torch.Size([1, 1295]), pixel_values=torch.Size([1, 3, 3, 336, 336])\n",
      "INFO:__main__:Validation batch 17, size: 1\n"
     ]
    },
    {
     "name": "stdout",
     "output_type": "stream",
     "text": [
      "\n",
      "Validation DataLoader 0:  90%|█████████ | 18/20 [00:11<00:01,  1.51it/s]\u001b[A"
     ]
    },
    {
     "name": "stderr",
     "output_type": "stream",
     "text": [
      "INFO:__main__:Processing batch with 1 samples\n",
      "INFO:__main__:Loading image: fsdam/one_shot/val/1772_00192.png\n",
      "INFO:__main__:Input shapes: input_ids=torch.Size([1, 1299]), pixel_values=torch.Size([1, 3, 3, 336, 336])\n",
      "INFO:__main__:Validation batch 18, size: 1\n"
     ]
    },
    {
     "name": "stdout",
     "output_type": "stream",
     "text": [
      "\n",
      "Validation DataLoader 0:  95%|█████████▌| 19/20 [00:12<00:00,  1.53it/s]\u001b[A"
     ]
    },
    {
     "name": "stderr",
     "output_type": "stream",
     "text": [
      "INFO:__main__:Processing batch with 1 samples\n",
      "INFO:__main__:Loading image: fsdam/one_shot/val/1773_00089.png\n",
      "INFO:__main__:Input shapes: input_ids=torch.Size([1, 1275]), pixel_values=torch.Size([1, 3, 3, 336, 336])\n",
      "INFO:__main__:Validation batch 19, size: 1\n"
     ]
    },
    {
     "name": "stdout",
     "output_type": "stream",
     "text": [
      "\n",
      "Validation DataLoader 0: 100%|██████████| 20/20 [00:12<00:00,  1.56it/s]\u001b[A\n",
      "Epoch 5:   0%|          | 0/1 [00:00<?, ?it/s, v_num=shot, train_loss_step=15.40, val_loss_step=9.260, val_rouge_step=0.836, val_loss_epoch=9.180, val_rouge_epoch=0.833, train_loss_epoch=15.40]        "
     ]
    },
    {
     "name": "stderr",
     "output_type": "stream",
     "text": [
      "INFO:__main__:Starting epoch 5\n",
      "INFO:__main__:Processing batch with 1 samples\n",
      "INFO:__main__:Loading image: fsdam/one_shot/train/1006_00018.png\n",
      "INFO:__main__:Input shapes: input_ids=torch.Size([1, 1271]), pixel_values=torch.Size([1, 3, 3, 336, 336])\n",
      "INFO:__main__:Training batch 0, size: 1\n",
      "INFO:__main__:Sample Training Prediction: sierp…IT\n",
      "1\n",
      "ideymtm2mmero r.0202.   t  0dayetmm01mia,9 8002es220ankalkort2ing2:091a0202mmt trees0tsow0. trees200es2dayens.ammyyymino1.ing10 W 2s.as.angingmestymitoosestyest)inging1121.asagesetsas light...\n",
      "INFO:__main__:Training loss: 9.073468\n"
     ]
    },
    {
     "name": "stdout",
     "output_type": "stream",
     "text": [
      "Epoch 5: 100%|██████████| 1/1 [00:00<00:00,  1.86it/s, v_num=shot, train_loss_step=9.070, val_loss_step=9.260, val_rouge_step=0.836, val_loss_epoch=9.180, val_rouge_epoch=0.833, train_loss_epoch=15.40]\n",
      "Validation: |          | 0/? [00:00<?, ?it/s]\u001b[A"
     ]
    },
    {
     "name": "stderr",
     "output_type": "stream",
     "text": [
      "INFO:__main__:Processing batch with 1 samples\n",
      "INFO:__main__:Loading image: fsdam/one_shot/val/1737_00085.png\n",
      "INFO:__main__:Input shapes: input_ids=torch.Size([1, 1282]), pixel_values=torch.Size([1, 3, 3, 336, 336])\n"
     ]
    },
    {
     "name": "stdout",
     "output_type": "stream",
     "text": [
      "\n",
      "Validation:   0%|          | 0/20 [00:00<?, ?it/s]\u001b[A\n",
      "Validation DataLoader 0:   0%|          | 0/20 [00:00<?, ?it/s]\u001b[A"
     ]
    },
    {
     "name": "stderr",
     "output_type": "stream",
     "text": [
      "INFO:__main__:Validation batch 0, size: 1\n",
      "INFO:__main__:Sample Validation Prediction: The scene shows a busy urban intersection with cars, buildings, and a yellow traffic light ahead. The current gaze focuses on the car in front. The future gaze will likely shift to the traffic light. ...\n",
      "INFO:__main__:Sample Validation Target: [INST] \n",
      "Describe the scene, the driver's current gaze, and where that gaze will likely shift next and why.[/INST] The scene shows a busy urban intersection with cars, buildings, and a yellow traffic l...\n",
      "INFO:__main__:Validation Loss: 6.514228\n"
     ]
    },
    {
     "name": "stdout",
     "output_type": "stream",
     "text": [
      "\n",
      "Validation DataLoader 0:   5%|▌         | 1/20 [00:00<00:08,  2.13it/s]\u001b[A"
     ]
    },
    {
     "name": "stderr",
     "output_type": "stream",
     "text": [
      "INFO:__main__:Processing batch with 1 samples\n",
      "INFO:__main__:Loading image: fsdam/one_shot/val/1737_00287.png\n",
      "INFO:__main__:Input shapes: input_ids=torch.Size([1, 1293]), pixel_values=torch.Size([1, 3, 3, 336, 336])\n",
      "INFO:__main__:Validation batch 1, size: 1\n"
     ]
    },
    {
     "name": "stdout",
     "output_type": "stream",
     "text": [
      "\n",
      "Validation DataLoader 0:  10%|█         | 2/20 [00:02<00:23,  0.76it/s]\u001b[A"
     ]
    },
    {
     "name": "stderr",
     "output_type": "stream",
     "text": [
      "INFO:__main__:Processing batch with 1 samples\n",
      "INFO:__main__:Loading image: fsdam/one_shot/val/1744_00119.png\n",
      "INFO:__main__:Input shapes: input_ids=torch.Size([1, 1272]), pixel_values=torch.Size([1, 3, 3, 336, 336])\n",
      "INFO:__main__:Validation batch 2, size: 1\n"
     ]
    },
    {
     "name": "stdout",
     "output_type": "stream",
     "text": [
      "\n",
      "Validation DataLoader 0:  15%|█▌        | 3/20 [00:03<00:17,  0.95it/s]\u001b[A"
     ]
    },
    {
     "name": "stderr",
     "output_type": "stream",
     "text": [
      "INFO:__main__:Processing batch with 1 samples\n",
      "INFO:__main__:Loading image: fsdam/one_shot/val/1744_00219.png\n",
      "INFO:__main__:Input shapes: input_ids=torch.Size([1, 1262]), pixel_values=torch.Size([1, 3, 3, 336, 336])\n",
      "INFO:__main__:Validation batch 3, size: 1\n"
     ]
    },
    {
     "name": "stdout",
     "output_type": "stream",
     "text": [
      "\n",
      "Validation DataLoader 0:  20%|██        | 4/20 [00:03<00:14,  1.09it/s]\u001b[A"
     ]
    },
    {
     "name": "stderr",
     "output_type": "stream",
     "text": [
      "INFO:__main__:Processing batch with 1 samples\n",
      "INFO:__main__:Loading image: fsdam/one_shot/val/1746_00008.png\n",
      "INFO:__main__:Input shapes: input_ids=torch.Size([1, 1272]), pixel_values=torch.Size([1, 3, 3, 336, 336])\n",
      "INFO:__main__:Validation batch 4, size: 1\n"
     ]
    },
    {
     "name": "stdout",
     "output_type": "stream",
     "text": [
      "\n",
      "Validation DataLoader 0:  25%|██▌       | 5/20 [00:04<00:12,  1.20it/s]\u001b[A"
     ]
    },
    {
     "name": "stderr",
     "output_type": "stream",
     "text": [
      "INFO:__main__:Processing batch with 1 samples\n",
      "INFO:__main__:Loading image: fsdam/one_shot/val/1747_00012.png\n",
      "INFO:__main__:Input shapes: input_ids=torch.Size([1, 1282]), pixel_values=torch.Size([1, 3, 3, 336, 336])\n",
      "INFO:__main__:Validation batch 5, size: 1\n"
     ]
    },
    {
     "name": "stdout",
     "output_type": "stream",
     "text": [
      "\n",
      "Validation DataLoader 0:  30%|███       | 6/20 [00:04<00:10,  1.29it/s]\u001b[A"
     ]
    },
    {
     "name": "stderr",
     "output_type": "stream",
     "text": [
      "INFO:__main__:Processing batch with 1 samples\n",
      "INFO:__main__:Loading image: fsdam/one_shot/val/1748_00018.png\n",
      "INFO:__main__:Input shapes: input_ids=torch.Size([1, 1269]), pixel_values=torch.Size([1, 3, 3, 336, 336])\n",
      "INFO:__main__:Validation batch 6, size: 1\n"
     ]
    },
    {
     "name": "stdout",
     "output_type": "stream",
     "text": [
      "\n",
      "Validation DataLoader 0:  35%|███▌      | 7/20 [00:05<00:09,  1.37it/s]\u001b[A"
     ]
    },
    {
     "name": "stderr",
     "output_type": "stream",
     "text": [
      "INFO:__main__:Processing batch with 1 samples\n",
      "INFO:__main__:Loading image: fsdam/one_shot/val/1748_00243.png\n",
      "INFO:__main__:Input shapes: input_ids=torch.Size([1, 1277]), pixel_values=torch.Size([1, 3, 3, 336, 336])\n",
      "INFO:__main__:Validation batch 7, size: 1\n"
     ]
    },
    {
     "name": "stdout",
     "output_type": "stream",
     "text": [
      "\n",
      "Validation DataLoader 0:  40%|████      | 8/20 [00:05<00:08,  1.44it/s]\u001b[A"
     ]
    },
    {
     "name": "stderr",
     "output_type": "stream",
     "text": [
      "INFO:__main__:Processing batch with 1 samples\n",
      "INFO:__main__:Loading image: fsdam/one_shot/val/1753_00160.png\n",
      "INFO:__main__:Input shapes: input_ids=torch.Size([1, 1283]), pixel_values=torch.Size([1, 3, 3, 336, 336])\n",
      "INFO:__main__:Validation batch 8, size: 1\n"
     ]
    },
    {
     "name": "stdout",
     "output_type": "stream",
     "text": [
      "\n",
      "Validation DataLoader 0:  45%|████▌     | 9/20 [00:06<00:07,  1.49it/s]\u001b[A"
     ]
    },
    {
     "name": "stderr",
     "output_type": "stream",
     "text": [
      "INFO:__main__:Processing batch with 1 samples\n",
      "INFO:__main__:Loading image: fsdam/one_shot/val/1754_00079.png\n",
      "INFO:__main__:Input shapes: input_ids=torch.Size([1, 1292]), pixel_values=torch.Size([1, 3, 3, 336, 336])\n",
      "INFO:__main__:Validation batch 9, size: 1\n"
     ]
    },
    {
     "name": "stdout",
     "output_type": "stream",
     "text": [
      "\n",
      "Validation DataLoader 0:  50%|█████     | 10/20 [00:06<00:06,  1.54it/s]\u001b[A"
     ]
    },
    {
     "name": "stderr",
     "output_type": "stream",
     "text": [
      "INFO:__main__:Processing batch with 1 samples\n",
      "INFO:__main__:Loading image: fsdam/one_shot/val/1755_00078.png\n",
      "INFO:__main__:Input shapes: input_ids=torch.Size([1, 1269]), pixel_values=torch.Size([1, 3, 3, 336, 336])\n",
      "INFO:__main__:Validation batch 10, size: 1\n"
     ]
    },
    {
     "name": "stdout",
     "output_type": "stream",
     "text": [
      "\n",
      "Validation DataLoader 0:  55%|█████▌    | 11/20 [00:07<00:06,  1.40it/s]\u001b[A"
     ]
    },
    {
     "name": "stderr",
     "output_type": "stream",
     "text": [
      "INFO:__main__:Processing batch with 1 samples\n",
      "INFO:__main__:Loading image: fsdam/one_shot/val/1756_00013.png\n",
      "INFO:__main__:Input shapes: input_ids=torch.Size([1, 1287]), pixel_values=torch.Size([1, 3, 3, 336, 336])\n",
      "INFO:__main__:Validation batch 11, size: 1\n"
     ]
    },
    {
     "name": "stdout",
     "output_type": "stream",
     "text": [
      "\n",
      "Validation DataLoader 0:  60%|██████    | 12/20 [00:08<00:05,  1.44it/s]\u001b[A"
     ]
    },
    {
     "name": "stderr",
     "output_type": "stream",
     "text": [
      "INFO:__main__:Processing batch with 1 samples\n",
      "INFO:__main__:Loading image: fsdam/one_shot/val/1760_00071.png\n",
      "INFO:__main__:Input shapes: input_ids=torch.Size([1, 1280]), pixel_values=torch.Size([1, 3, 3, 336, 336])\n",
      "INFO:__main__:Validation batch 12, size: 1\n"
     ]
    },
    {
     "name": "stdout",
     "output_type": "stream",
     "text": [
      "\n",
      "Validation DataLoader 0:  65%|██████▌   | 13/20 [00:08<00:04,  1.48it/s]\u001b[A"
     ]
    },
    {
     "name": "stderr",
     "output_type": "stream",
     "text": [
      "INFO:__main__:Processing batch with 1 samples\n",
      "INFO:__main__:Loading image: fsdam/one_shot/val/1761_00005.png\n",
      "INFO:__main__:Input shapes: input_ids=torch.Size([1, 1285]), pixel_values=torch.Size([1, 3, 3, 336, 336])\n",
      "INFO:__main__:Validation batch 13, size: 1\n"
     ]
    },
    {
     "name": "stdout",
     "output_type": "stream",
     "text": [
      "\n",
      "Validation DataLoader 0:  70%|███████   | 14/20 [00:09<00:03,  1.51it/s]\u001b[A"
     ]
    },
    {
     "name": "stderr",
     "output_type": "stream",
     "text": [
      "INFO:__main__:Processing batch with 1 samples\n",
      "INFO:__main__:Loading image: fsdam/one_shot/val/1764_00032.png\n",
      "INFO:__main__:Input shapes: input_ids=torch.Size([1, 1274]), pixel_values=torch.Size([1, 3, 3, 336, 336])\n",
      "INFO:__main__:Validation batch 14, size: 1\n"
     ]
    },
    {
     "name": "stdout",
     "output_type": "stream",
     "text": [
      "\n",
      "Validation DataLoader 0:  75%|███████▌  | 15/20 [00:10<00:03,  1.37it/s]\u001b[A"
     ]
    },
    {
     "name": "stderr",
     "output_type": "stream",
     "text": [
      "INFO:__main__:Processing batch with 1 samples\n",
      "INFO:__main__:Loading image: fsdam/one_shot/val/1767_00017.png\n",
      "INFO:__main__:Input shapes: input_ids=torch.Size([1, 1281]), pixel_values=torch.Size([1, 3, 3, 336, 336])\n",
      "INFO:__main__:Validation batch 15, size: 1\n"
     ]
    },
    {
     "name": "stdout",
     "output_type": "stream",
     "text": [
      "\n",
      "Validation DataLoader 0:  80%|████████  | 16/20 [00:11<00:02,  1.41it/s]\u001b[A"
     ]
    },
    {
     "name": "stderr",
     "output_type": "stream",
     "text": [
      "INFO:__main__:Processing batch with 1 samples\n",
      "INFO:__main__:Loading image: fsdam/one_shot/val/1768_00239.png\n",
      "INFO:__main__:Input shapes: input_ids=torch.Size([1, 1304]), pixel_values=torch.Size([1, 3, 3, 336, 336])\n",
      "INFO:__main__:Validation batch 16, size: 1\n"
     ]
    },
    {
     "name": "stdout",
     "output_type": "stream",
     "text": [
      "\n",
      "Validation DataLoader 0:  85%|████████▌ | 17/20 [00:11<00:02,  1.43it/s]\u001b[A"
     ]
    },
    {
     "name": "stderr",
     "output_type": "stream",
     "text": [
      "INFO:__main__:Processing batch with 1 samples\n",
      "INFO:__main__:Loading image: fsdam/one_shot/val/1771_00259.png\n",
      "INFO:__main__:Input shapes: input_ids=torch.Size([1, 1295]), pixel_values=torch.Size([1, 3, 3, 336, 336])\n",
      "INFO:__main__:Validation batch 17, size: 1\n"
     ]
    },
    {
     "name": "stdout",
     "output_type": "stream",
     "text": [
      "\n",
      "Validation DataLoader 0:  90%|█████████ | 18/20 [00:13<00:01,  1.34it/s]\u001b[A"
     ]
    },
    {
     "name": "stderr",
     "output_type": "stream",
     "text": [
      "INFO:__main__:Processing batch with 1 samples\n",
      "INFO:__main__:Loading image: fsdam/one_shot/val/1772_00192.png\n",
      "INFO:__main__:Input shapes: input_ids=torch.Size([1, 1299]), pixel_values=torch.Size([1, 3, 3, 336, 336])\n",
      "INFO:__main__:Validation batch 18, size: 1\n"
     ]
    },
    {
     "name": "stdout",
     "output_type": "stream",
     "text": [
      "\n",
      "Validation DataLoader 0:  95%|█████████▌| 19/20 [00:13<00:00,  1.37it/s]\u001b[A"
     ]
    },
    {
     "name": "stderr",
     "output_type": "stream",
     "text": [
      "INFO:__main__:Processing batch with 1 samples\n",
      "INFO:__main__:Loading image: fsdam/one_shot/val/1773_00089.png\n",
      "INFO:__main__:Input shapes: input_ids=torch.Size([1, 1275]), pixel_values=torch.Size([1, 3, 3, 336, 336])\n",
      "INFO:__main__:Validation batch 19, size: 1\n"
     ]
    },
    {
     "name": "stdout",
     "output_type": "stream",
     "text": [
      "\n",
      "Validation DataLoader 0: 100%|██████████| 20/20 [00:14<00:00,  1.39it/s]\u001b[A\n",
      "Epoch 6:   0%|          | 0/1 [00:00<?, ?it/s, v_num=shot, train_loss_step=9.070, val_loss_step=6.480, val_rouge_step=0.836, val_loss_epoch=6.490, val_rouge_epoch=0.829, train_loss_epoch=9.070]        "
     ]
    },
    {
     "name": "stderr",
     "output_type": "stream",
     "text": [
      "INFO:__main__:Starting epoch 6\n",
      "INFO:__main__:Processing batch with 1 samples\n",
      "INFO:__main__:Loading image: fsdam/one_shot/train/1006_00018.png\n",
      "INFO:__main__:Input shapes: input_ids=torch.Size([1, 1271]), pixel_values=torch.Size([1, 3, 3, 336, 336])\n",
      "INFO:__main__:Training batch 0, size: 1\n",
      "INFO:__main__:Sample Training Prediction: Unterscheidung…IT\n",
      "1..inm[ig2mm [0..s1.2.q\" t\" ..\"ia.an1.ia.q.{m\".t   ],..\"2. [p \" .{s [...\"\"2itot. [�lt�..\" 1A.asasat paly..inoos.g.ing �. ...1..w pal .os.osesyl. ing 211..et..asatedy. Pal.ito. ....2 ...\n",
      "INFO:__main__:Training loss: 6.544812\n"
     ]
    },
    {
     "name": "stdout",
     "output_type": "stream",
     "text": [
      "Epoch 6: 100%|██████████| 1/1 [00:00<00:00,  1.87it/s, v_num=shot, train_loss_step=6.540, val_loss_step=6.480, val_rouge_step=0.836, val_loss_epoch=6.490, val_rouge_epoch=0.829, train_loss_epoch=9.070]\n",
      "Validation: |          | 0/? [00:00<?, ?it/s]\u001b[A"
     ]
    },
    {
     "name": "stderr",
     "output_type": "stream",
     "text": [
      "INFO:__main__:Processing batch with 1 samples\n",
      "INFO:__main__:Loading image: fsdam/one_shot/val/1737_00085.png\n",
      "INFO:__main__:Input shapes: input_ids=torch.Size([1, 1282]), pixel_values=torch.Size([1, 3, 3, 336, 336])\n"
     ]
    },
    {
     "name": "stdout",
     "output_type": "stream",
     "text": [
      "\n",
      "Validation:   0%|          | 0/20 [00:00<?, ?it/s]\u001b[A\n",
      "Validation DataLoader 0:   0%|          | 0/20 [00:00<?, ?it/s]\u001b[A"
     ]
    },
    {
     "name": "stderr",
     "output_type": "stream",
     "text": [
      "INFO:__main__:Validation batch 0, size: 1\n",
      "INFO:__main__:Sample Validation Prediction: The scene shows a busy urban intersection with cars, buildings, and a yellow traffic light ahead. The current gaze focuses on the car in front. The future gaze will likely shift to the traffic light. ...\n",
      "INFO:__main__:Sample Validation Target: [INST] \n",
      "Describe the scene, the driver's current gaze, and where that gaze will likely shift next and why.[/INST] The scene shows a busy urban intersection with cars, buildings, and a yellow traffic l...\n",
      "INFO:__main__:Validation Loss: 4.790903\n"
     ]
    },
    {
     "name": "stdout",
     "output_type": "stream",
     "text": [
      "\n",
      "Validation DataLoader 0:   5%|▌         | 1/20 [00:00<00:08,  2.32it/s]\u001b[A"
     ]
    },
    {
     "name": "stderr",
     "output_type": "stream",
     "text": [
      "INFO:__main__:Processing batch with 1 samples\n",
      "INFO:__main__:Loading image: fsdam/one_shot/val/1737_00287.png\n",
      "INFO:__main__:Input shapes: input_ids=torch.Size([1, 1293]), pixel_values=torch.Size([1, 3, 3, 336, 336])\n",
      "INFO:__main__:Validation batch 1, size: 1\n"
     ]
    },
    {
     "name": "stdout",
     "output_type": "stream",
     "text": [
      "\n",
      "Validation DataLoader 0:  10%|█         | 2/20 [00:02<00:18,  0.99it/s]\u001b[A"
     ]
    },
    {
     "name": "stderr",
     "output_type": "stream",
     "text": [
      "INFO:__main__:Processing batch with 1 samples\n",
      "INFO:__main__:Loading image: fsdam/one_shot/val/1744_00119.png\n",
      "INFO:__main__:Input shapes: input_ids=torch.Size([1, 1272]), pixel_values=torch.Size([1, 3, 3, 336, 336])\n",
      "INFO:__main__:Validation batch 2, size: 1\n"
     ]
    },
    {
     "name": "stdout",
     "output_type": "stream",
     "text": [
      "\n",
      "Validation DataLoader 0:  15%|█▌        | 3/20 [00:02<00:14,  1.21it/s]\u001b[A"
     ]
    },
    {
     "name": "stderr",
     "output_type": "stream",
     "text": [
      "INFO:__main__:Processing batch with 1 samples\n",
      "INFO:__main__:Loading image: fsdam/one_shot/val/1744_00219.png\n",
      "INFO:__main__:Input shapes: input_ids=torch.Size([1, 1262]), pixel_values=torch.Size([1, 3, 3, 336, 336])\n",
      "INFO:__main__:Validation batch 3, size: 1\n"
     ]
    },
    {
     "name": "stdout",
     "output_type": "stream",
     "text": [
      "\n",
      "Validation DataLoader 0:  20%|██        | 4/20 [00:02<00:11,  1.37it/s]\u001b[A"
     ]
    },
    {
     "name": "stderr",
     "output_type": "stream",
     "text": [
      "INFO:__main__:Processing batch with 1 samples\n",
      "INFO:__main__:Loading image: fsdam/one_shot/val/1746_00008.png\n",
      "INFO:__main__:Input shapes: input_ids=torch.Size([1, 1272]), pixel_values=torch.Size([1, 3, 3, 336, 336])\n",
      "INFO:__main__:Validation batch 4, size: 1\n"
     ]
    },
    {
     "name": "stdout",
     "output_type": "stream",
     "text": [
      "\n",
      "Validation DataLoader 0:  25%|██▌       | 5/20 [00:03<00:10,  1.47it/s]\u001b[A"
     ]
    },
    {
     "name": "stderr",
     "output_type": "stream",
     "text": [
      "INFO:__main__:Processing batch with 1 samples\n",
      "INFO:__main__:Loading image: fsdam/one_shot/val/1747_00012.png\n",
      "INFO:__main__:Input shapes: input_ids=torch.Size([1, 1282]), pixel_values=torch.Size([1, 3, 3, 336, 336])\n",
      "INFO:__main__:Validation batch 5, size: 1\n"
     ]
    },
    {
     "name": "stdout",
     "output_type": "stream",
     "text": [
      "\n",
      "Validation DataLoader 0:  30%|███       | 6/20 [00:03<00:08,  1.56it/s]\u001b[A"
     ]
    },
    {
     "name": "stderr",
     "output_type": "stream",
     "text": [
      "INFO:__main__:Processing batch with 1 samples\n",
      "INFO:__main__:Loading image: fsdam/one_shot/val/1748_00018.png\n",
      "INFO:__main__:Input shapes: input_ids=torch.Size([1, 1269]), pixel_values=torch.Size([1, 3, 3, 336, 336])\n",
      "INFO:__main__:Validation batch 6, size: 1\n"
     ]
    },
    {
     "name": "stdout",
     "output_type": "stream",
     "text": [
      "\n",
      "Validation DataLoader 0:  35%|███▌      | 7/20 [00:04<00:08,  1.62it/s]\u001b[A"
     ]
    },
    {
     "name": "stderr",
     "output_type": "stream",
     "text": [
      "INFO:__main__:Processing batch with 1 samples\n",
      "INFO:__main__:Loading image: fsdam/one_shot/val/1748_00243.png\n",
      "INFO:__main__:Input shapes: input_ids=torch.Size([1, 1277]), pixel_values=torch.Size([1, 3, 3, 336, 336])\n",
      "INFO:__main__:Validation batch 7, size: 1\n"
     ]
    },
    {
     "name": "stdout",
     "output_type": "stream",
     "text": [
      "\n",
      "Validation DataLoader 0:  40%|████      | 8/20 [00:04<00:07,  1.67it/s]\u001b[A"
     ]
    },
    {
     "name": "stderr",
     "output_type": "stream",
     "text": [
      "INFO:__main__:Processing batch with 1 samples\n",
      "INFO:__main__:Loading image: fsdam/one_shot/val/1753_00160.png\n",
      "INFO:__main__:Input shapes: input_ids=torch.Size([1, 1283]), pixel_values=torch.Size([1, 3, 3, 336, 336])\n",
      "INFO:__main__:Validation batch 8, size: 1\n"
     ]
    },
    {
     "name": "stdout",
     "output_type": "stream",
     "text": [
      "\n",
      "Validation DataLoader 0:  45%|████▌     | 9/20 [00:05<00:06,  1.72it/s]\u001b[A"
     ]
    },
    {
     "name": "stderr",
     "output_type": "stream",
     "text": [
      "INFO:__main__:Processing batch with 1 samples\n",
      "INFO:__main__:Loading image: fsdam/one_shot/val/1754_00079.png\n",
      "INFO:__main__:Input shapes: input_ids=torch.Size([1, 1292]), pixel_values=torch.Size([1, 3, 3, 336, 336])\n",
      "INFO:__main__:Validation batch 9, size: 1\n"
     ]
    },
    {
     "name": "stdout",
     "output_type": "stream",
     "text": [
      "\n",
      "Validation DataLoader 0:  50%|█████     | 10/20 [00:05<00:05,  1.75it/s]\u001b[A"
     ]
    },
    {
     "name": "stderr",
     "output_type": "stream",
     "text": [
      "INFO:__main__:Processing batch with 1 samples\n",
      "INFO:__main__:Loading image: fsdam/one_shot/val/1755_00078.png\n",
      "INFO:__main__:Input shapes: input_ids=torch.Size([1, 1269]), pixel_values=torch.Size([1, 3, 3, 336, 336])\n",
      "INFO:__main__:Validation batch 10, size: 1\n"
     ]
    },
    {
     "name": "stdout",
     "output_type": "stream",
     "text": [
      "\n",
      "Validation DataLoader 0:  55%|█████▌    | 11/20 [00:07<00:05,  1.55it/s]\u001b[A"
     ]
    },
    {
     "name": "stderr",
     "output_type": "stream",
     "text": [
      "INFO:__main__:Processing batch with 1 samples\n",
      "INFO:__main__:Loading image: fsdam/one_shot/val/1756_00013.png\n",
      "INFO:__main__:Input shapes: input_ids=torch.Size([1, 1287]), pixel_values=torch.Size([1, 3, 3, 336, 336])\n",
      "INFO:__main__:Validation batch 11, size: 1\n"
     ]
    },
    {
     "name": "stdout",
     "output_type": "stream",
     "text": [
      "\n",
      "Validation DataLoader 0:  60%|██████    | 12/20 [00:07<00:05,  1.58it/s]\u001b[A"
     ]
    },
    {
     "name": "stderr",
     "output_type": "stream",
     "text": [
      "INFO:__main__:Processing batch with 1 samples\n",
      "INFO:__main__:Loading image: fsdam/one_shot/val/1760_00071.png\n",
      "INFO:__main__:Input shapes: input_ids=torch.Size([1, 1280]), pixel_values=torch.Size([1, 3, 3, 336, 336])\n",
      "INFO:__main__:Validation batch 12, size: 1\n"
     ]
    },
    {
     "name": "stdout",
     "output_type": "stream",
     "text": [
      "\n",
      "Validation DataLoader 0:  65%|██████▌   | 13/20 [00:08<00:04,  1.62it/s]\u001b[A"
     ]
    },
    {
     "name": "stderr",
     "output_type": "stream",
     "text": [
      "INFO:__main__:Processing batch with 1 samples\n",
      "INFO:__main__:Loading image: fsdam/one_shot/val/1761_00005.png\n",
      "INFO:__main__:Input shapes: input_ids=torch.Size([1, 1285]), pixel_values=torch.Size([1, 3, 3, 336, 336])\n",
      "INFO:__main__:Validation batch 13, size: 1\n"
     ]
    },
    {
     "name": "stdout",
     "output_type": "stream",
     "text": [
      "\n",
      "Validation DataLoader 0:  70%|███████   | 14/20 [00:08<00:03,  1.65it/s]\u001b[A"
     ]
    },
    {
     "name": "stderr",
     "output_type": "stream",
     "text": [
      "INFO:__main__:Processing batch with 1 samples\n",
      "INFO:__main__:Loading image: fsdam/one_shot/val/1764_00032.png\n",
      "INFO:__main__:Input shapes: input_ids=torch.Size([1, 1274]), pixel_values=torch.Size([1, 3, 3, 336, 336])\n",
      "INFO:__main__:Validation batch 14, size: 1\n"
     ]
    },
    {
     "name": "stdout",
     "output_type": "stream",
     "text": [
      "\n",
      "Validation DataLoader 0:  75%|███████▌  | 15/20 [00:09<00:03,  1.53it/s]\u001b[A"
     ]
    },
    {
     "name": "stderr",
     "output_type": "stream",
     "text": [
      "INFO:__main__:Processing batch with 1 samples\n",
      "INFO:__main__:Loading image: fsdam/one_shot/val/1767_00017.png\n",
      "INFO:__main__:Input shapes: input_ids=torch.Size([1, 1281]), pixel_values=torch.Size([1, 3, 3, 336, 336])\n",
      "INFO:__main__:Validation batch 15, size: 1\n"
     ]
    },
    {
     "name": "stdout",
     "output_type": "stream",
     "text": [
      "\n",
      "Validation DataLoader 0:  80%|████████  | 16/20 [00:10<00:02,  1.56it/s]\u001b[A"
     ]
    },
    {
     "name": "stderr",
     "output_type": "stream",
     "text": [
      "INFO:__main__:Processing batch with 1 samples\n",
      "INFO:__main__:Loading image: fsdam/one_shot/val/1768_00239.png\n",
      "INFO:__main__:Input shapes: input_ids=torch.Size([1, 1304]), pixel_values=torch.Size([1, 3, 3, 336, 336])\n",
      "INFO:__main__:Validation batch 16, size: 1\n"
     ]
    },
    {
     "name": "stdout",
     "output_type": "stream",
     "text": [
      "\n",
      "Validation DataLoader 0:  85%|████████▌ | 17/20 [00:10<00:01,  1.58it/s]\u001b[A"
     ]
    },
    {
     "name": "stderr",
     "output_type": "stream",
     "text": [
      "INFO:__main__:Processing batch with 1 samples\n",
      "INFO:__main__:Loading image: fsdam/one_shot/val/1771_00259.png\n",
      "INFO:__main__:Input shapes: input_ids=torch.Size([1, 1295]), pixel_values=torch.Size([1, 3, 3, 336, 336])\n",
      "INFO:__main__:Validation batch 17, size: 1\n"
     ]
    },
    {
     "name": "stdout",
     "output_type": "stream",
     "text": [
      "\n",
      "Validation DataLoader 0:  90%|█████████ | 18/20 [00:12<00:01,  1.49it/s]\u001b[A"
     ]
    },
    {
     "name": "stderr",
     "output_type": "stream",
     "text": [
      "INFO:__main__:Processing batch with 1 samples\n",
      "INFO:__main__:Loading image: fsdam/one_shot/val/1772_00192.png\n",
      "INFO:__main__:Input shapes: input_ids=torch.Size([1, 1299]), pixel_values=torch.Size([1, 3, 3, 336, 336])\n",
      "INFO:__main__:Validation batch 18, size: 1\n"
     ]
    },
    {
     "name": "stdout",
     "output_type": "stream",
     "text": [
      "\n",
      "Validation DataLoader 0:  95%|█████████▌| 19/20 [00:12<00:00,  1.51it/s]\u001b[A"
     ]
    },
    {
     "name": "stderr",
     "output_type": "stream",
     "text": [
      "INFO:__main__:Processing batch with 1 samples\n",
      "INFO:__main__:Loading image: fsdam/one_shot/val/1773_00089.png\n",
      "INFO:__main__:Input shapes: input_ids=torch.Size([1, 1275]), pixel_values=torch.Size([1, 3, 3, 336, 336])\n",
      "INFO:__main__:Validation batch 19, size: 1\n"
     ]
    },
    {
     "name": "stdout",
     "output_type": "stream",
     "text": [
      "\n",
      "Validation DataLoader 0: 100%|██████████| 20/20 [00:13<00:00,  1.53it/s]\u001b[A\n",
      "Epoch 7:   0%|          | 0/1 [00:00<?, ?it/s, v_num=shot, train_loss_step=6.540, val_loss_step=4.830, val_rouge_step=0.836, val_loss_epoch=4.800, val_rouge_epoch=0.832, train_loss_epoch=6.540]        "
     ]
    },
    {
     "name": "stderr",
     "output_type": "stream",
     "text": [
      "INFO:__main__:Starting epoch 7\n",
      "INFO:__main__:Processing batch with 1 samples\n",
      "INFO:__main__:Loading image: fsdam/one_shot/train/1006_00018.png\n",
      "INFO:__main__:Input shapes: input_ids=torch.Size([1, 1271]), pixel_values=torch.Size([1, 3, 3, 336, 336])\n",
      "INFO:__main__:Training batch 0, size: 1\n",
      "INFO:__main__:Sample Training Prediction: Unterscheidung…IT\n",
      "1m.elm.2�misos[..s1...em\".{\"..\"ia..1.ia.{.\"..ely\".\".,\".is\"..art.\"\"\"{.. …......{..l\".\"\"{H..asat.y..1us..ing{......= Pal.os.us.ing......asatedat...ino.......ers..at. Pal.....â{',ah.eme...\n",
      "INFO:__main__:Training loss: 4.714968\n"
     ]
    },
    {
     "name": "stdout",
     "output_type": "stream",
     "text": [
      "Epoch 7: 100%|██████████| 1/1 [00:00<00:00,  1.97it/s, v_num=shot, train_loss_step=4.710, val_loss_step=4.830, val_rouge_step=0.836, val_loss_epoch=4.800, val_rouge_epoch=0.832, train_loss_epoch=6.540]\n",
      "Validation: |          | 0/? [00:00<?, ?it/s]\u001b[A"
     ]
    },
    {
     "name": "stderr",
     "output_type": "stream",
     "text": [
      "INFO:__main__:Processing batch with 1 samples\n",
      "INFO:__main__:Loading image: fsdam/one_shot/val/1737_00085.png\n",
      "INFO:__main__:Input shapes: input_ids=torch.Size([1, 1282]), pixel_values=torch.Size([1, 3, 3, 336, 336])\n"
     ]
    },
    {
     "name": "stdout",
     "output_type": "stream",
     "text": [
      "\n",
      "Validation:   0%|          | 0/20 [00:00<?, ?it/s]\u001b[A\n",
      "Validation DataLoader 0:   0%|          | 0/20 [00:00<?, ?it/s]\u001b[A"
     ]
    },
    {
     "name": "stderr",
     "output_type": "stream",
     "text": [
      "INFO:__main__:Validation batch 0, size: 1\n",
      "INFO:__main__:Sample Validation Prediction: The scene shows a busy urban intersection with cars, buildings, and a yellow traffic light ahead. The current gaze focuses on the car in front. The future gaze will likely shift to the traffic light. ...\n",
      "INFO:__main__:Sample Validation Target: [INST] \n",
      "Describe the scene, the driver's current gaze, and where that gaze will likely shift next and why.[/INST] The scene shows a busy urban intersection with cars, buildings, and a yellow traffic l...\n",
      "INFO:__main__:Validation Loss: 4.351518\n"
     ]
    },
    {
     "name": "stdout",
     "output_type": "stream",
     "text": [
      "\n",
      "Validation DataLoader 0:   5%|▌         | 1/20 [00:00<00:08,  2.26it/s]\u001b[A"
     ]
    },
    {
     "name": "stderr",
     "output_type": "stream",
     "text": [
      "INFO:__main__:Processing batch with 1 samples\n",
      "INFO:__main__:Loading image: fsdam/one_shot/val/1737_00287.png\n",
      "INFO:__main__:Input shapes: input_ids=torch.Size([1, 1293]), pixel_values=torch.Size([1, 3, 3, 336, 336])\n",
      "INFO:__main__:Validation batch 1, size: 1\n"
     ]
    },
    {
     "name": "stdout",
     "output_type": "stream",
     "text": [
      "\n",
      "Validation DataLoader 0:  10%|█         | 2/20 [00:02<00:18,  0.96it/s]\u001b[A"
     ]
    },
    {
     "name": "stderr",
     "output_type": "stream",
     "text": [
      "INFO:__main__:Processing batch with 1 samples\n",
      "INFO:__main__:Loading image: fsdam/one_shot/val/1744_00119.png\n",
      "INFO:__main__:Input shapes: input_ids=torch.Size([1, 1272]), pixel_values=torch.Size([1, 3, 3, 336, 336])\n",
      "INFO:__main__:Validation batch 2, size: 1\n"
     ]
    },
    {
     "name": "stdout",
     "output_type": "stream",
     "text": [
      "\n",
      "Validation DataLoader 0:  15%|█▌        | 3/20 [00:02<00:14,  1.17it/s]\u001b[A"
     ]
    },
    {
     "name": "stderr",
     "output_type": "stream",
     "text": [
      "INFO:__main__:Processing batch with 1 samples\n",
      "INFO:__main__:Loading image: fsdam/one_shot/val/1744_00219.png\n",
      "INFO:__main__:Input shapes: input_ids=torch.Size([1, 1262]), pixel_values=torch.Size([1, 3, 3, 336, 336])\n",
      "INFO:__main__:Validation batch 3, size: 1\n"
     ]
    },
    {
     "name": "stdout",
     "output_type": "stream",
     "text": [
      "\n",
      "Validation DataLoader 0:  20%|██        | 4/20 [00:03<00:12,  1.33it/s]\u001b[A"
     ]
    },
    {
     "name": "stderr",
     "output_type": "stream",
     "text": [
      "INFO:__main__:Processing batch with 1 samples\n",
      "INFO:__main__:Loading image: fsdam/one_shot/val/1746_00008.png\n",
      "INFO:__main__:Input shapes: input_ids=torch.Size([1, 1272]), pixel_values=torch.Size([1, 3, 3, 336, 336])\n",
      "INFO:__main__:Validation batch 4, size: 1\n"
     ]
    },
    {
     "name": "stdout",
     "output_type": "stream",
     "text": [
      "\n",
      "Validation DataLoader 0:  25%|██▌       | 5/20 [00:03<00:10,  1.44it/s]\u001b[A"
     ]
    },
    {
     "name": "stderr",
     "output_type": "stream",
     "text": [
      "INFO:__main__:Processing batch with 1 samples\n",
      "INFO:__main__:Loading image: fsdam/one_shot/val/1747_00012.png\n",
      "INFO:__main__:Input shapes: input_ids=torch.Size([1, 1282]), pixel_values=torch.Size([1, 3, 3, 336, 336])\n",
      "INFO:__main__:Validation batch 5, size: 1\n"
     ]
    },
    {
     "name": "stdout",
     "output_type": "stream",
     "text": [
      "\n",
      "Validation DataLoader 0:  30%|███       | 6/20 [00:03<00:09,  1.52it/s]\u001b[A"
     ]
    },
    {
     "name": "stderr",
     "output_type": "stream",
     "text": [
      "INFO:__main__:Processing batch with 1 samples\n",
      "INFO:__main__:Loading image: fsdam/one_shot/val/1748_00018.png\n",
      "INFO:__main__:Input shapes: input_ids=torch.Size([1, 1269]), pixel_values=torch.Size([1, 3, 3, 336, 336])\n",
      "INFO:__main__:Validation batch 6, size: 1\n"
     ]
    },
    {
     "name": "stdout",
     "output_type": "stream",
     "text": [
      "\n",
      "Validation DataLoader 0:  35%|███▌      | 7/20 [00:04<00:08,  1.59it/s]\u001b[A"
     ]
    },
    {
     "name": "stderr",
     "output_type": "stream",
     "text": [
      "INFO:__main__:Processing batch with 1 samples\n",
      "INFO:__main__:Loading image: fsdam/one_shot/val/1748_00243.png\n",
      "INFO:__main__:Input shapes: input_ids=torch.Size([1, 1277]), pixel_values=torch.Size([1, 3, 3, 336, 336])\n",
      "INFO:__main__:Validation batch 7, size: 1\n"
     ]
    },
    {
     "name": "stdout",
     "output_type": "stream",
     "text": [
      "\n",
      "Validation DataLoader 0:  40%|████      | 8/20 [00:04<00:07,  1.64it/s]\u001b[A"
     ]
    },
    {
     "name": "stderr",
     "output_type": "stream",
     "text": [
      "INFO:__main__:Processing batch with 1 samples\n",
      "INFO:__main__:Loading image: fsdam/one_shot/val/1753_00160.png\n",
      "INFO:__main__:Input shapes: input_ids=torch.Size([1, 1283]), pixel_values=torch.Size([1, 3, 3, 336, 336])\n",
      "INFO:__main__:Validation batch 8, size: 1\n"
     ]
    },
    {
     "name": "stdout",
     "output_type": "stream",
     "text": [
      "\n",
      "Validation DataLoader 0:  45%|████▌     | 9/20 [00:06<00:08,  1.35it/s]\u001b[A"
     ]
    },
    {
     "name": "stderr",
     "output_type": "stream",
     "text": [
      "INFO:__main__:Processing batch with 1 samples\n",
      "INFO:__main__:Loading image: fsdam/one_shot/val/1754_00079.png\n",
      "INFO:__main__:Input shapes: input_ids=torch.Size([1, 1292]), pixel_values=torch.Size([1, 3, 3, 336, 336])\n",
      "INFO:__main__:Validation batch 9, size: 1\n"
     ]
    },
    {
     "name": "stdout",
     "output_type": "stream",
     "text": [
      "\n",
      "Validation DataLoader 0:  50%|█████     | 10/20 [00:07<00:07,  1.40it/s]\u001b[A"
     ]
    },
    {
     "name": "stderr",
     "output_type": "stream",
     "text": [
      "INFO:__main__:Processing batch with 1 samples\n",
      "INFO:__main__:Loading image: fsdam/one_shot/val/1755_00078.png\n",
      "INFO:__main__:Input shapes: input_ids=torch.Size([1, 1269]), pixel_values=torch.Size([1, 3, 3, 336, 336])\n",
      "INFO:__main__:Validation batch 10, size: 1\n"
     ]
    },
    {
     "name": "stdout",
     "output_type": "stream",
     "text": [
      "\n",
      "Validation DataLoader 0:  55%|█████▌    | 11/20 [00:08<00:06,  1.31it/s]\u001b[A"
     ]
    },
    {
     "name": "stderr",
     "output_type": "stream",
     "text": [
      "INFO:__main__:Processing batch with 1 samples\n",
      "INFO:__main__:Loading image: fsdam/one_shot/val/1756_00013.png\n",
      "INFO:__main__:Input shapes: input_ids=torch.Size([1, 1287]), pixel_values=torch.Size([1, 3, 3, 336, 336])\n",
      "INFO:__main__:Validation batch 11, size: 1\n"
     ]
    },
    {
     "name": "stdout",
     "output_type": "stream",
     "text": [
      "\n",
      "Validation DataLoader 0:  60%|██████    | 12/20 [00:08<00:05,  1.36it/s]\u001b[A"
     ]
    },
    {
     "name": "stderr",
     "output_type": "stream",
     "text": [
      "INFO:__main__:Processing batch with 1 samples\n",
      "INFO:__main__:Loading image: fsdam/one_shot/val/1760_00071.png\n",
      "INFO:__main__:Input shapes: input_ids=torch.Size([1, 1280]), pixel_values=torch.Size([1, 3, 3, 336, 336])\n",
      "INFO:__main__:Validation batch 12, size: 1\n"
     ]
    },
    {
     "name": "stdout",
     "output_type": "stream",
     "text": [
      "\n",
      "Validation DataLoader 0:  65%|██████▌   | 13/20 [00:09<00:05,  1.39it/s]\u001b[A"
     ]
    },
    {
     "name": "stderr",
     "output_type": "stream",
     "text": [
      "INFO:__main__:Processing batch with 1 samples\n",
      "INFO:__main__:Loading image: fsdam/one_shot/val/1761_00005.png\n",
      "INFO:__main__:Input shapes: input_ids=torch.Size([1, 1285]), pixel_values=torch.Size([1, 3, 3, 336, 336])\n",
      "INFO:__main__:Validation batch 13, size: 1\n"
     ]
    },
    {
     "name": "stdout",
     "output_type": "stream",
     "text": [
      "\n",
      "Validation DataLoader 0:  70%|███████   | 14/20 [00:09<00:04,  1.43it/s]\u001b[A"
     ]
    },
    {
     "name": "stderr",
     "output_type": "stream",
     "text": [
      "INFO:__main__:Processing batch with 1 samples\n",
      "INFO:__main__:Loading image: fsdam/one_shot/val/1764_00032.png\n",
      "INFO:__main__:Input shapes: input_ids=torch.Size([1, 1274]), pixel_values=torch.Size([1, 3, 3, 336, 336])\n",
      "INFO:__main__:Validation batch 14, size: 1\n"
     ]
    },
    {
     "name": "stdout",
     "output_type": "stream",
     "text": [
      "\n",
      "Validation DataLoader 0:  75%|███████▌  | 15/20 [00:11<00:03,  1.35it/s]\u001b[A"
     ]
    },
    {
     "name": "stderr",
     "output_type": "stream",
     "text": [
      "INFO:__main__:Processing batch with 1 samples\n",
      "INFO:__main__:Loading image: fsdam/one_shot/val/1767_00017.png\n",
      "INFO:__main__:Input shapes: input_ids=torch.Size([1, 1281]), pixel_values=torch.Size([1, 3, 3, 336, 336])\n",
      "INFO:__main__:Validation batch 15, size: 1\n"
     ]
    },
    {
     "name": "stdout",
     "output_type": "stream",
     "text": [
      "\n",
      "Validation DataLoader 0:  80%|████████  | 16/20 [00:11<00:02,  1.38it/s]\u001b[A"
     ]
    },
    {
     "name": "stderr",
     "output_type": "stream",
     "text": [
      "INFO:__main__:Processing batch with 1 samples\n",
      "INFO:__main__:Loading image: fsdam/one_shot/val/1768_00239.png\n",
      "INFO:__main__:Input shapes: input_ids=torch.Size([1, 1304]), pixel_values=torch.Size([1, 3, 3, 336, 336])\n",
      "INFO:__main__:Validation batch 16, size: 1\n"
     ]
    },
    {
     "name": "stdout",
     "output_type": "stream",
     "text": [
      "\n",
      "Validation DataLoader 0:  85%|████████▌ | 17/20 [00:12<00:02,  1.41it/s]\u001b[A"
     ]
    },
    {
     "name": "stderr",
     "output_type": "stream",
     "text": [
      "INFO:__main__:Processing batch with 1 samples\n",
      "INFO:__main__:Loading image: fsdam/one_shot/val/1771_00259.png\n",
      "INFO:__main__:Input shapes: input_ids=torch.Size([1, 1295]), pixel_values=torch.Size([1, 3, 3, 336, 336])\n",
      "INFO:__main__:Validation batch 17, size: 1\n"
     ]
    },
    {
     "name": "stdout",
     "output_type": "stream",
     "text": [
      "\n",
      "Validation DataLoader 0:  90%|█████████ | 18/20 [00:13<00:01,  1.34it/s]\u001b[A"
     ]
    },
    {
     "name": "stderr",
     "output_type": "stream",
     "text": [
      "INFO:__main__:Processing batch with 1 samples\n",
      "INFO:__main__:Loading image: fsdam/one_shot/val/1772_00192.png\n",
      "INFO:__main__:Input shapes: input_ids=torch.Size([1, 1299]), pixel_values=torch.Size([1, 3, 3, 336, 336])\n",
      "INFO:__main__:Validation batch 18, size: 1\n"
     ]
    },
    {
     "name": "stdout",
     "output_type": "stream",
     "text": [
      "\n",
      "Validation DataLoader 0:  95%|█████████▌| 19/20 [00:13<00:00,  1.37it/s]\u001b[A"
     ]
    },
    {
     "name": "stderr",
     "output_type": "stream",
     "text": [
      "INFO:__main__:Processing batch with 1 samples\n",
      "INFO:__main__:Loading image: fsdam/one_shot/val/1773_00089.png\n",
      "INFO:__main__:Input shapes: input_ids=torch.Size([1, 1275]), pixel_values=torch.Size([1, 3, 3, 336, 336])\n",
      "INFO:__main__:Validation batch 19, size: 1\n"
     ]
    },
    {
     "name": "stdout",
     "output_type": "stream",
     "text": [
      "\n",
      "Validation DataLoader 0: 100%|██████████| 20/20 [00:14<00:00,  1.39it/s]\u001b[A\n",
      "Epoch 8:   0%|          | 0/1 [00:00<?, ?it/s, v_num=shot, train_loss_step=4.710, val_loss_step=4.400, val_rouge_step=0.836, val_loss_epoch=4.360, val_rouge_epoch=0.827, train_loss_epoch=4.710]        "
     ]
    },
    {
     "name": "stderr",
     "output_type": "stream",
     "text": [
      "INFO:__main__:Starting epoch 8\n",
      "INFO:__main__:Processing batch with 1 samples\n",
      "INFO:__main__:Loading image: fsdam/one_shot/train/1006_00018.png\n",
      "INFO:__main__:Input shapes: input_ids=torch.Size([1, 1271]), pixel_values=torch.Size([1, 3, 3, 336, 336])\n",
      "INFO:__main__:Training batch 0, size: 1\n",
      "INFO:__main__:Sample Training Prediction: Unterscheidung…IT\n",
      "1... Bedeut..., \" \" \"... Pal nobodyp the image in including traffic,s perspective locatione, and the the gaze is likely go next. why./caption]\n",
      " driver sceneined with palm trees and a...\n",
      "INFO:__main__:Training loss: 4.349764\n"
     ]
    },
    {
     "name": "stdout",
     "output_type": "stream",
     "text": [
      "Epoch 8: 100%|██████████| 1/1 [00:00<00:00,  1.95it/s, v_num=shot, train_loss_step=4.350, val_loss_step=4.400, val_rouge_step=0.836, val_loss_epoch=4.360, val_rouge_epoch=0.827, train_loss_epoch=4.710]\n",
      "Validation: |          | 0/? [00:00<?, ?it/s]\u001b[A"
     ]
    },
    {
     "name": "stderr",
     "output_type": "stream",
     "text": [
      "INFO:__main__:Processing batch with 1 samples\n",
      "INFO:__main__:Loading image: fsdam/one_shot/val/1737_00085.png\n",
      "INFO:__main__:Input shapes: input_ids=torch.Size([1, 1282]), pixel_values=torch.Size([1, 3, 3, 336, 336])\n"
     ]
    },
    {
     "name": "stdout",
     "output_type": "stream",
     "text": [
      "\n",
      "Validation:   0%|          | 0/20 [00:00<?, ?it/s]\u001b[A\n",
      "Validation DataLoader 0:   0%|          | 0/20 [00:00<?, ?it/s]\u001b[A"
     ]
    },
    {
     "name": "stderr",
     "output_type": "stream",
     "text": [
      "INFO:__main__:Validation batch 0, size: 1\n",
      "INFO:__main__:Sample Validation Prediction: The scene shows a busy urban intersection with cars, buildings, and a yellow traffic light ahead. The current gaze focuses on the car in front. The future gaze will likely shift to the traffic light. ...\n",
      "INFO:__main__:Sample Validation Target: [INST] \n",
      "Describe the scene, the driver's current gaze, and where that gaze will likely shift next and why.[/INST] The scene shows a busy urban intersection with cars, buildings, and a yellow traffic l...\n",
      "INFO:__main__:Validation Loss: 4.234362\n"
     ]
    },
    {
     "name": "stdout",
     "output_type": "stream",
     "text": [
      "\n",
      "Validation DataLoader 0:   5%|▌         | 1/20 [00:00<00:08,  2.24it/s]\u001b[A"
     ]
    },
    {
     "name": "stderr",
     "output_type": "stream",
     "text": [
      "INFO:__main__:Processing batch with 1 samples\n",
      "INFO:__main__:Loading image: fsdam/one_shot/val/1737_00287.png\n",
      "INFO:__main__:Input shapes: input_ids=torch.Size([1, 1293]), pixel_values=torch.Size([1, 3, 3, 336, 336])\n",
      "INFO:__main__:Validation batch 1, size: 1\n"
     ]
    },
    {
     "name": "stdout",
     "output_type": "stream",
     "text": [
      "\n",
      "Validation DataLoader 0:  10%|█         | 2/20 [00:02<00:18,  0.96it/s]\u001b[A"
     ]
    },
    {
     "name": "stderr",
     "output_type": "stream",
     "text": [
      "INFO:__main__:Processing batch with 1 samples\n",
      "INFO:__main__:Loading image: fsdam/one_shot/val/1744_00119.png\n",
      "INFO:__main__:Input shapes: input_ids=torch.Size([1, 1272]), pixel_values=torch.Size([1, 3, 3, 336, 336])\n",
      "INFO:__main__:Validation batch 2, size: 1\n"
     ]
    },
    {
     "name": "stdout",
     "output_type": "stream",
     "text": [
      "\n",
      "Validation DataLoader 0:  15%|█▌        | 3/20 [00:03<00:18,  0.90it/s]\u001b[A"
     ]
    },
    {
     "name": "stderr",
     "output_type": "stream",
     "text": [
      "INFO:__main__:Processing batch with 1 samples\n",
      "INFO:__main__:Loading image: fsdam/one_shot/val/1744_00219.png\n",
      "INFO:__main__:Input shapes: input_ids=torch.Size([1, 1262]), pixel_values=torch.Size([1, 3, 3, 336, 336])\n",
      "INFO:__main__:Validation batch 3, size: 1\n"
     ]
    },
    {
     "name": "stdout",
     "output_type": "stream",
     "text": [
      "\n",
      "Validation DataLoader 0:  20%|██        | 4/20 [00:03<00:15,  1.06it/s]\u001b[A"
     ]
    },
    {
     "name": "stderr",
     "output_type": "stream",
     "text": [
      "INFO:__main__:Processing batch with 1 samples\n",
      "INFO:__main__:Loading image: fsdam/one_shot/val/1746_00008.png\n",
      "INFO:__main__:Input shapes: input_ids=torch.Size([1, 1272]), pixel_values=torch.Size([1, 3, 3, 336, 336])\n",
      "INFO:__main__:Validation batch 4, size: 1\n"
     ]
    },
    {
     "name": "stdout",
     "output_type": "stream",
     "text": [
      "\n",
      "Validation DataLoader 0:  25%|██▌       | 5/20 [00:04<00:12,  1.17it/s]\u001b[A"
     ]
    },
    {
     "name": "stderr",
     "output_type": "stream",
     "text": [
      "INFO:__main__:Processing batch with 1 samples\n",
      "INFO:__main__:Loading image: fsdam/one_shot/val/1747_00012.png\n",
      "INFO:__main__:Input shapes: input_ids=torch.Size([1, 1282]), pixel_values=torch.Size([1, 3, 3, 336, 336])\n",
      "INFO:__main__:Validation batch 5, size: 1\n"
     ]
    },
    {
     "name": "stdout",
     "output_type": "stream",
     "text": [
      "\n",
      "Validation DataLoader 0:  30%|███       | 6/20 [00:04<00:11,  1.27it/s]\u001b[A"
     ]
    },
    {
     "name": "stderr",
     "output_type": "stream",
     "text": [
      "INFO:__main__:Processing batch with 1 samples\n",
      "INFO:__main__:Loading image: fsdam/one_shot/val/1748_00018.png\n",
      "INFO:__main__:Input shapes: input_ids=torch.Size([1, 1269]), pixel_values=torch.Size([1, 3, 3, 336, 336])\n",
      "INFO:__main__:Validation batch 6, size: 1\n"
     ]
    },
    {
     "name": "stdout",
     "output_type": "stream",
     "text": [
      "\n",
      "Validation DataLoader 0:  35%|███▌      | 7/20 [00:05<00:09,  1.35it/s]\u001b[A"
     ]
    },
    {
     "name": "stderr",
     "output_type": "stream",
     "text": [
      "INFO:__main__:Processing batch with 1 samples\n",
      "INFO:__main__:Loading image: fsdam/one_shot/val/1748_00243.png\n",
      "INFO:__main__:Input shapes: input_ids=torch.Size([1, 1277]), pixel_values=torch.Size([1, 3, 3, 336, 336])\n",
      "INFO:__main__:Validation batch 7, size: 1\n"
     ]
    },
    {
     "name": "stdout",
     "output_type": "stream",
     "text": [
      "\n",
      "Validation DataLoader 0:  40%|████      | 8/20 [00:05<00:08,  1.41it/s]\u001b[A"
     ]
    },
    {
     "name": "stderr",
     "output_type": "stream",
     "text": [
      "INFO:__main__:Processing batch with 1 samples\n",
      "INFO:__main__:Loading image: fsdam/one_shot/val/1753_00160.png\n",
      "INFO:__main__:Input shapes: input_ids=torch.Size([1, 1283]), pixel_values=torch.Size([1, 3, 3, 336, 336])\n",
      "INFO:__main__:Validation batch 8, size: 1\n"
     ]
    },
    {
     "name": "stdout",
     "output_type": "stream",
     "text": [
      "\n",
      "Validation DataLoader 0:  45%|████▌     | 9/20 [00:07<00:09,  1.21it/s]\u001b[A"
     ]
    },
    {
     "name": "stderr",
     "output_type": "stream",
     "text": [
      "INFO:__main__:Processing batch with 1 samples\n",
      "INFO:__main__:Loading image: fsdam/one_shot/val/1754_00079.png\n",
      "INFO:__main__:Input shapes: input_ids=torch.Size([1, 1292]), pixel_values=torch.Size([1, 3, 3, 336, 336])\n",
      "INFO:__main__:Validation batch 9, size: 1\n"
     ]
    },
    {
     "name": "stdout",
     "output_type": "stream",
     "text": [
      "\n",
      "Validation DataLoader 0:  50%|█████     | 10/20 [00:07<00:07,  1.26it/s]\u001b[A"
     ]
    },
    {
     "name": "stderr",
     "output_type": "stream",
     "text": [
      "INFO:__main__:Processing batch with 1 samples\n",
      "INFO:__main__:Loading image: fsdam/one_shot/val/1755_00078.png\n",
      "INFO:__main__:Input shapes: input_ids=torch.Size([1, 1269]), pixel_values=torch.Size([1, 3, 3, 336, 336])\n",
      "INFO:__main__:Validation batch 10, size: 1\n"
     ]
    },
    {
     "name": "stdout",
     "output_type": "stream",
     "text": [
      "\n",
      "Validation DataLoader 0:  55%|█████▌    | 11/20 [00:09<00:07,  1.22it/s]\u001b[A"
     ]
    },
    {
     "name": "stderr",
     "output_type": "stream",
     "text": [
      "INFO:__main__:Processing batch with 1 samples\n",
      "INFO:__main__:Loading image: fsdam/one_shot/val/1756_00013.png\n",
      "INFO:__main__:Input shapes: input_ids=torch.Size([1, 1287]), pixel_values=torch.Size([1, 3, 3, 336, 336])\n",
      "INFO:__main__:Validation batch 11, size: 1\n"
     ]
    },
    {
     "name": "stdout",
     "output_type": "stream",
     "text": [
      "\n",
      "Validation DataLoader 0:  60%|██████    | 12/20 [00:09<00:06,  1.26it/s]\u001b[A"
     ]
    },
    {
     "name": "stderr",
     "output_type": "stream",
     "text": [
      "INFO:__main__:Processing batch with 1 samples\n",
      "INFO:__main__:Loading image: fsdam/one_shot/val/1760_00071.png\n",
      "INFO:__main__:Input shapes: input_ids=torch.Size([1, 1280]), pixel_values=torch.Size([1, 3, 3, 336, 336])\n",
      "INFO:__main__:Validation batch 12, size: 1\n"
     ]
    },
    {
     "name": "stdout",
     "output_type": "stream",
     "text": [
      "\n",
      "Validation DataLoader 0:  65%|██████▌   | 13/20 [00:09<00:05,  1.30it/s]\u001b[A"
     ]
    },
    {
     "name": "stderr",
     "output_type": "stream",
     "text": [
      "INFO:__main__:Processing batch with 1 samples\n",
      "INFO:__main__:Loading image: fsdam/one_shot/val/1761_00005.png\n",
      "INFO:__main__:Input shapes: input_ids=torch.Size([1, 1285]), pixel_values=torch.Size([1, 3, 3, 336, 336])\n",
      "INFO:__main__:Validation batch 13, size: 1\n"
     ]
    },
    {
     "name": "stdout",
     "output_type": "stream",
     "text": [
      "\n",
      "Validation DataLoader 0:  70%|███████   | 14/20 [00:10<00:04,  1.34it/s]\u001b[A"
     ]
    },
    {
     "name": "stderr",
     "output_type": "stream",
     "text": [
      "INFO:__main__:Processing batch with 1 samples\n",
      "INFO:__main__:Loading image: fsdam/one_shot/val/1764_00032.png\n",
      "INFO:__main__:Input shapes: input_ids=torch.Size([1, 1274]), pixel_values=torch.Size([1, 3, 3, 336, 336])\n",
      "INFO:__main__:Validation batch 14, size: 1\n"
     ]
    },
    {
     "name": "stdout",
     "output_type": "stream",
     "text": [
      "\n",
      "Validation DataLoader 0:  75%|███████▌  | 15/20 [00:11<00:03,  1.28it/s]\u001b[A"
     ]
    },
    {
     "name": "stderr",
     "output_type": "stream",
     "text": [
      "INFO:__main__:Processing batch with 1 samples\n",
      "INFO:__main__:Loading image: fsdam/one_shot/val/1767_00017.png\n",
      "INFO:__main__:Input shapes: input_ids=torch.Size([1, 1281]), pixel_values=torch.Size([1, 3, 3, 336, 336])\n",
      "INFO:__main__:Validation batch 15, size: 1\n"
     ]
    },
    {
     "name": "stdout",
     "output_type": "stream",
     "text": [
      "\n",
      "Validation DataLoader 0:  80%|████████  | 16/20 [00:12<00:03,  1.31it/s]\u001b[A"
     ]
    },
    {
     "name": "stderr",
     "output_type": "stream",
     "text": [
      "INFO:__main__:Processing batch with 1 samples\n",
      "INFO:__main__:Loading image: fsdam/one_shot/val/1768_00239.png\n",
      "INFO:__main__:Input shapes: input_ids=torch.Size([1, 1304]), pixel_values=torch.Size([1, 3, 3, 336, 336])\n",
      "INFO:__main__:Validation batch 16, size: 1\n"
     ]
    },
    {
     "name": "stdout",
     "output_type": "stream",
     "text": [
      "\n",
      "Validation DataLoader 0:  85%|████████▌ | 17/20 [00:12<00:02,  1.34it/s]\u001b[A"
     ]
    },
    {
     "name": "stderr",
     "output_type": "stream",
     "text": [
      "INFO:__main__:Processing batch with 1 samples\n",
      "INFO:__main__:Loading image: fsdam/one_shot/val/1771_00259.png\n",
      "INFO:__main__:Input shapes: input_ids=torch.Size([1, 1295]), pixel_values=torch.Size([1, 3, 3, 336, 336])\n",
      "INFO:__main__:Validation batch 17, size: 1\n"
     ]
    },
    {
     "name": "stdout",
     "output_type": "stream",
     "text": [
      "\n",
      "Validation DataLoader 0:  90%|█████████ | 18/20 [00:14<00:01,  1.28it/s]\u001b[A"
     ]
    },
    {
     "name": "stderr",
     "output_type": "stream",
     "text": [
      "INFO:__main__:Processing batch with 1 samples\n",
      "INFO:__main__:Loading image: fsdam/one_shot/val/1772_00192.png\n",
      "INFO:__main__:Input shapes: input_ids=torch.Size([1, 1299]), pixel_values=torch.Size([1, 3, 3, 336, 336])\n",
      "INFO:__main__:Validation batch 18, size: 1\n"
     ]
    },
    {
     "name": "stdout",
     "output_type": "stream",
     "text": [
      "\n",
      "Validation DataLoader 0:  95%|█████████▌| 19/20 [00:14<00:00,  1.31it/s]\u001b[A"
     ]
    },
    {
     "name": "stderr",
     "output_type": "stream",
     "text": [
      "INFO:__main__:Processing batch with 1 samples\n",
      "INFO:__main__:Loading image: fsdam/one_shot/val/1773_00089.png\n",
      "INFO:__main__:Input shapes: input_ids=torch.Size([1, 1275]), pixel_values=torch.Size([1, 3, 3, 336, 336])\n",
      "INFO:__main__:Validation batch 19, size: 1\n"
     ]
    },
    {
     "name": "stdout",
     "output_type": "stream",
     "text": [
      "\n",
      "Validation DataLoader 0: 100%|██████████| 20/20 [00:14<00:00,  1.33it/s]\u001b[A\n",
      "Epoch 9:   0%|          | 0/1 [00:00<?, ?it/s, v_num=shot, train_loss_step=4.350, val_loss_step=4.290, val_rouge_step=0.836, val_loss_epoch=4.250, val_rouge_epoch=0.823, train_loss_epoch=4.350]        "
     ]
    },
    {
     "name": "stderr",
     "output_type": "stream",
     "text": [
      "INFO:__main__:Starting epoch 9\n",
      "INFO:__main__:Processing batch with 1 samples\n",
      "INFO:__main__:Loading image: fsdam/one_shot/train/1006_00018.png\n",
      "INFO:__main__:Input shapes: input_ids=torch.Size([1, 1271]), pixel_values=torch.Size([1, 3, 3, 336, 336])\n",
      "INFO:__main__:Training batch 0, size: 1\n",
      "INFO:__main__:Sample Training Prediction: Unterscheidung…IT [1. \". \" nobodyp the image in including people's perspective locatione, and the the gaze is likely go next. why./RE]  scene sceneined with palm trees and houses. visible. with a gree...\n",
      "INFO:__main__:Training loss: 4.225982\n"
     ]
    },
    {
     "name": "stdout",
     "output_type": "stream",
     "text": [
      "Epoch 9: 100%|██████████| 1/1 [00:00<00:00,  2.03it/s, v_num=shot, train_loss_step=4.230, val_loss_step=4.290, val_rouge_step=0.836, val_loss_epoch=4.250, val_rouge_epoch=0.823, train_loss_epoch=4.350]\n",
      "Validation: |          | 0/? [00:00<?, ?it/s]\u001b[A"
     ]
    },
    {
     "name": "stderr",
     "output_type": "stream",
     "text": [
      "INFO:__main__:Processing batch with 1 samples\n",
      "INFO:__main__:Loading image: fsdam/one_shot/val/1737_00085.png\n",
      "INFO:__main__:Input shapes: input_ids=torch.Size([1, 1282]), pixel_values=torch.Size([1, 3, 3, 336, 336])\n"
     ]
    },
    {
     "name": "stdout",
     "output_type": "stream",
     "text": [
      "\n",
      "Validation:   0%|          | 0/20 [00:00<?, ?it/s]\u001b[A\n",
      "Validation DataLoader 0:   0%|          | 0/20 [00:00<?, ?it/s]\u001b[A"
     ]
    },
    {
     "name": "stderr",
     "output_type": "stream",
     "text": [
      "INFO:__main__:Validation batch 0, size: 1\n",
      "INFO:__main__:Sample Validation Prediction: The scene shows a busy urban intersection with cars, buildings, and a yellow traffic light ahead. The current gaze focuses on the car in front. The future gaze will likely shift to the traffic light. ...\n",
      "INFO:__main__:Sample Validation Target: [INST] \n",
      "Describe the scene, the driver's current gaze, and where that gaze will likely shift next and why.[/INST] The scene shows a busy urban intersection with cars, buildings, and a yellow traffic l...\n",
      "INFO:__main__:Validation Loss: 4.213659\n"
     ]
    },
    {
     "name": "stdout",
     "output_type": "stream",
     "text": [
      "\n",
      "Validation DataLoader 0:   5%|▌         | 1/20 [00:00<00:08,  2.25it/s]\u001b[A"
     ]
    },
    {
     "name": "stderr",
     "output_type": "stream",
     "text": [
      "INFO:__main__:Processing batch with 1 samples\n",
      "INFO:__main__:Loading image: fsdam/one_shot/val/1737_00287.png\n",
      "INFO:__main__:Input shapes: input_ids=torch.Size([1, 1293]), pixel_values=torch.Size([1, 3, 3, 336, 336])\n",
      "INFO:__main__:Validation batch 1, size: 1\n"
     ]
    },
    {
     "name": "stdout",
     "output_type": "stream",
     "text": [
      "\n",
      "Validation DataLoader 0:  10%|█         | 2/20 [00:02<00:23,  0.77it/s]\u001b[A"
     ]
    },
    {
     "name": "stderr",
     "output_type": "stream",
     "text": [
      "INFO:__main__:Processing batch with 1 samples\n",
      "INFO:__main__:Loading image: fsdam/one_shot/val/1744_00119.png\n",
      "INFO:__main__:Input shapes: input_ids=torch.Size([1, 1272]), pixel_values=torch.Size([1, 3, 3, 336, 336])\n",
      "INFO:__main__:Validation batch 2, size: 1\n"
     ]
    },
    {
     "name": "stdout",
     "output_type": "stream",
     "text": [
      "\n",
      "Validation DataLoader 0:  15%|█▌        | 3/20 [00:03<00:22,  0.76it/s]\u001b[A"
     ]
    },
    {
     "name": "stderr",
     "output_type": "stream",
     "text": [
      "INFO:__main__:Processing batch with 1 samples\n",
      "INFO:__main__:Loading image: fsdam/one_shot/val/1744_00219.png\n",
      "INFO:__main__:Input shapes: input_ids=torch.Size([1, 1262]), pixel_values=torch.Size([1, 3, 3, 336, 336])\n",
      "INFO:__main__:Validation batch 3, size: 1\n"
     ]
    },
    {
     "name": "stdout",
     "output_type": "stream",
     "text": [
      "\n",
      "Validation DataLoader 0:  20%|██        | 4/20 [00:04<00:17,  0.91it/s]\u001b[A"
     ]
    },
    {
     "name": "stderr",
     "output_type": "stream",
     "text": [
      "INFO:__main__:Processing batch with 1 samples\n",
      "INFO:__main__:Loading image: fsdam/one_shot/val/1746_00008.png\n",
      "INFO:__main__:Input shapes: input_ids=torch.Size([1, 1272]), pixel_values=torch.Size([1, 3, 3, 336, 336])\n",
      "INFO:__main__:Validation batch 4, size: 1\n"
     ]
    },
    {
     "name": "stdout",
     "output_type": "stream",
     "text": [
      "\n",
      "Validation DataLoader 0:  25%|██▌       | 5/20 [00:04<00:14,  1.03it/s]\u001b[A"
     ]
    },
    {
     "name": "stderr",
     "output_type": "stream",
     "text": [
      "INFO:__main__:Processing batch with 1 samples\n",
      "INFO:__main__:Loading image: fsdam/one_shot/val/1747_00012.png\n",
      "INFO:__main__:Input shapes: input_ids=torch.Size([1, 1282]), pixel_values=torch.Size([1, 3, 3, 336, 336])\n",
      "INFO:__main__:Validation batch 5, size: 1\n"
     ]
    },
    {
     "name": "stdout",
     "output_type": "stream",
     "text": [
      "\n",
      "Validation DataLoader 0:  30%|███       | 6/20 [00:05<00:12,  1.13it/s]\u001b[A"
     ]
    },
    {
     "name": "stderr",
     "output_type": "stream",
     "text": [
      "INFO:__main__:Processing batch with 1 samples\n",
      "INFO:__main__:Loading image: fsdam/one_shot/val/1748_00018.png\n",
      "INFO:__main__:Input shapes: input_ids=torch.Size([1, 1269]), pixel_values=torch.Size([1, 3, 3, 336, 336])\n",
      "INFO:__main__:Validation batch 6, size: 1\n"
     ]
    },
    {
     "name": "stdout",
     "output_type": "stream",
     "text": [
      "\n",
      "Validation DataLoader 0:  35%|███▌      | 7/20 [00:05<00:10,  1.21it/s]\u001b[A"
     ]
    },
    {
     "name": "stderr",
     "output_type": "stream",
     "text": [
      "INFO:__main__:Processing batch with 1 samples\n",
      "INFO:__main__:Loading image: fsdam/one_shot/val/1748_00243.png\n",
      "INFO:__main__:Input shapes: input_ids=torch.Size([1, 1277]), pixel_values=torch.Size([1, 3, 3, 336, 336])\n",
      "INFO:__main__:Validation batch 7, size: 1\n"
     ]
    },
    {
     "name": "stdout",
     "output_type": "stream",
     "text": [
      "\n",
      "Validation DataLoader 0:  40%|████      | 8/20 [00:06<00:09,  1.28it/s]\u001b[A"
     ]
    },
    {
     "name": "stderr",
     "output_type": "stream",
     "text": [
      "INFO:__main__:Processing batch with 1 samples\n",
      "INFO:__main__:Loading image: fsdam/one_shot/val/1753_00160.png\n",
      "INFO:__main__:Input shapes: input_ids=torch.Size([1, 1283]), pixel_values=torch.Size([1, 3, 3, 336, 336])\n",
      "INFO:__main__:Validation batch 8, size: 1\n"
     ]
    },
    {
     "name": "stdout",
     "output_type": "stream",
     "text": [
      "\n",
      "Validation DataLoader 0:  45%|████▌     | 9/20 [00:08<00:10,  1.06it/s]\u001b[A"
     ]
    },
    {
     "name": "stderr",
     "output_type": "stream",
     "text": [
      "INFO:__main__:Processing batch with 1 samples\n",
      "INFO:__main__:Loading image: fsdam/one_shot/val/1754_00079.png\n",
      "INFO:__main__:Input shapes: input_ids=torch.Size([1, 1292]), pixel_values=torch.Size([1, 3, 3, 336, 336])\n",
      "INFO:__main__:Validation batch 9, size: 1\n"
     ]
    },
    {
     "name": "stdout",
     "output_type": "stream",
     "text": [
      "\n",
      "Validation DataLoader 0:  50%|█████     | 10/20 [00:08<00:08,  1.12it/s]\u001b[A"
     ]
    },
    {
     "name": "stderr",
     "output_type": "stream",
     "text": [
      "INFO:__main__:Processing batch with 1 samples\n",
      "INFO:__main__:Loading image: fsdam/one_shot/val/1755_00078.png\n",
      "INFO:__main__:Input shapes: input_ids=torch.Size([1, 1269]), pixel_values=torch.Size([1, 3, 3, 336, 336])\n",
      "INFO:__main__:Validation batch 10, size: 1\n"
     ]
    },
    {
     "name": "stdout",
     "output_type": "stream",
     "text": [
      "\n",
      "Validation DataLoader 0:  55%|█████▌    | 11/20 [00:10<00:08,  1.04it/s]\u001b[A"
     ]
    },
    {
     "name": "stderr",
     "output_type": "stream",
     "text": [
      "INFO:__main__:Processing batch with 1 samples\n",
      "INFO:__main__:Loading image: fsdam/one_shot/val/1756_00013.png\n",
      "INFO:__main__:Input shapes: input_ids=torch.Size([1, 1287]), pixel_values=torch.Size([1, 3, 3, 336, 336])\n",
      "INFO:__main__:Validation batch 11, size: 1\n"
     ]
    },
    {
     "name": "stdout",
     "output_type": "stream",
     "text": [
      "\n",
      "Validation DataLoader 0:  60%|██████    | 12/20 [00:11<00:07,  1.09it/s]\u001b[A"
     ]
    },
    {
     "name": "stderr",
     "output_type": "stream",
     "text": [
      "INFO:__main__:Processing batch with 1 samples\n",
      "INFO:__main__:Loading image: fsdam/one_shot/val/1760_00071.png\n",
      "INFO:__main__:Input shapes: input_ids=torch.Size([1, 1280]), pixel_values=torch.Size([1, 3, 3, 336, 336])\n",
      "INFO:__main__:Validation batch 12, size: 1\n"
     ]
    },
    {
     "name": "stdout",
     "output_type": "stream",
     "text": [
      "\n",
      "Validation DataLoader 0:  65%|██████▌   | 13/20 [00:12<00:06,  1.08it/s]\u001b[A"
     ]
    },
    {
     "name": "stderr",
     "output_type": "stream",
     "text": [
      "INFO:__main__:Processing batch with 1 samples\n",
      "INFO:__main__:Loading image: fsdam/one_shot/val/1761_00005.png\n",
      "INFO:__main__:Input shapes: input_ids=torch.Size([1, 1285]), pixel_values=torch.Size([1, 3, 3, 336, 336])\n",
      "INFO:__main__:Validation batch 13, size: 1\n"
     ]
    },
    {
     "name": "stdout",
     "output_type": "stream",
     "text": [
      "\n",
      "Validation DataLoader 0:  70%|███████   | 14/20 [00:12<00:05,  1.12it/s]\u001b[A"
     ]
    },
    {
     "name": "stderr",
     "output_type": "stream",
     "text": [
      "INFO:__main__:Processing batch with 1 samples\n",
      "INFO:__main__:Loading image: fsdam/one_shot/val/1764_00032.png\n",
      "INFO:__main__:Input shapes: input_ids=torch.Size([1, 1274]), pixel_values=torch.Size([1, 3, 3, 336, 336])\n",
      "INFO:__main__:Validation batch 14, size: 1\n"
     ]
    },
    {
     "name": "stdout",
     "output_type": "stream",
     "text": [
      "\n",
      "Validation DataLoader 0:  75%|███████▌  | 15/20 [00:13<00:04,  1.09it/s]\u001b[A"
     ]
    },
    {
     "name": "stderr",
     "output_type": "stream",
     "text": [
      "INFO:__main__:Processing batch with 1 samples\n",
      "INFO:__main__:Loading image: fsdam/one_shot/val/1767_00017.png\n",
      "INFO:__main__:Input shapes: input_ids=torch.Size([1, 1281]), pixel_values=torch.Size([1, 3, 3, 336, 336])\n",
      "INFO:__main__:Validation batch 15, size: 1\n"
     ]
    },
    {
     "name": "stdout",
     "output_type": "stream",
     "text": [
      "\n",
      "Validation DataLoader 0:  80%|████████  | 16/20 [00:14<00:03,  1.12it/s]\u001b[A"
     ]
    },
    {
     "name": "stderr",
     "output_type": "stream",
     "text": [
      "INFO:__main__:Processing batch with 1 samples\n",
      "INFO:__main__:Loading image: fsdam/one_shot/val/1768_00239.png\n",
      "INFO:__main__:Input shapes: input_ids=torch.Size([1, 1304]), pixel_values=torch.Size([1, 3, 3, 336, 336])\n",
      "INFO:__main__:Validation batch 16, size: 1\n"
     ]
    },
    {
     "name": "stdout",
     "output_type": "stream",
     "text": [
      "\n",
      "Validation DataLoader 0:  85%|████████▌ | 17/20 [00:14<00:02,  1.15it/s]\u001b[A"
     ]
    },
    {
     "name": "stderr",
     "output_type": "stream",
     "text": [
      "INFO:__main__:Processing batch with 1 samples\n",
      "INFO:__main__:Loading image: fsdam/one_shot/val/1771_00259.png\n",
      "INFO:__main__:Input shapes: input_ids=torch.Size([1, 1295]), pixel_values=torch.Size([1, 3, 3, 336, 336])\n",
      "INFO:__main__:Validation batch 17, size: 1\n"
     ]
    },
    {
     "name": "stdout",
     "output_type": "stream",
     "text": [
      "\n",
      "Validation DataLoader 0:  90%|█████████ | 18/20 [00:16<00:01,  1.12it/s]\u001b[A"
     ]
    },
    {
     "name": "stderr",
     "output_type": "stream",
     "text": [
      "INFO:__main__:Processing batch with 1 samples\n",
      "INFO:__main__:Loading image: fsdam/one_shot/val/1772_00192.png\n",
      "INFO:__main__:Input shapes: input_ids=torch.Size([1, 1299]), pixel_values=torch.Size([1, 3, 3, 336, 336])\n",
      "INFO:__main__:Validation batch 18, size: 1\n"
     ]
    },
    {
     "name": "stdout",
     "output_type": "stream",
     "text": [
      "\n",
      "Validation DataLoader 0:  95%|█████████▌| 19/20 [00:16<00:00,  1.15it/s]\u001b[A"
     ]
    },
    {
     "name": "stderr",
     "output_type": "stream",
     "text": [
      "INFO:__main__:Processing batch with 1 samples\n",
      "INFO:__main__:Loading image: fsdam/one_shot/val/1773_00089.png\n",
      "INFO:__main__:Input shapes: input_ids=torch.Size([1, 1275]), pixel_values=torch.Size([1, 3, 3, 336, 336])\n",
      "INFO:__main__:Validation batch 19, size: 1\n"
     ]
    },
    {
     "name": "stdout",
     "output_type": "stream",
     "text": [
      "\n",
      "Validation DataLoader 0: 100%|██████████| 20/20 [00:17<00:00,  1.17it/s]\u001b[A\n",
      "Epoch 10:   0%|          | 0/1 [00:00<?, ?it/s, v_num=shot, train_loss_step=4.230, val_loss_step=4.280, val_rouge_step=0.836, val_loss_epoch=4.230, val_rouge_epoch=0.814, train_loss_epoch=4.230]       "
     ]
    },
    {
     "name": "stderr",
     "output_type": "stream",
     "text": [
      "INFO:__main__:Starting epoch 10\n",
      "INFO:__main__:Processing batch with 1 samples\n",
      "INFO:__main__:Loading image: fsdam/one_shot/train/1006_00018.png\n",
      "INFO:__main__:Input shapes: input_ids=torch.Size([1, 1271]), pixel_values=torch.Size([1, 3, 3, 336, 336])\n",
      "INFO:__main__:Training batch 0, size: 1\n",
      "INFO:__main__:Sample Training Prediction: Unterscheidung…IT [1 \" \" nobodyp the image in including people's actions locatione, and the the gaze is likely go next. why.1RE]\n",
      " scene sceneined with palm trees and houses. visible. with a green traf...\n",
      "INFO:__main__:Training loss: 4.205929\n"
     ]
    },
    {
     "name": "stdout",
     "output_type": "stream",
     "text": [
      "Epoch 10: 100%|██████████| 1/1 [00:00<00:00,  1.99it/s, v_num=shot, train_loss_step=4.210, val_loss_step=4.280, val_rouge_step=0.836, val_loss_epoch=4.230, val_rouge_epoch=0.814, train_loss_epoch=4.230]\n",
      "Validation: |          | 0/? [00:00<?, ?it/s]\u001b[A"
     ]
    },
    {
     "name": "stderr",
     "output_type": "stream",
     "text": [
      "INFO:__main__:Processing batch with 1 samples\n",
      "INFO:__main__:Loading image: fsdam/one_shot/val/1737_00085.png\n",
      "INFO:__main__:Input shapes: input_ids=torch.Size([1, 1282]), pixel_values=torch.Size([1, 3, 3, 336, 336])\n"
     ]
    },
    {
     "name": "stdout",
     "output_type": "stream",
     "text": [
      "\n",
      "Validation:   0%|          | 0/20 [00:00<?, ?it/s]\u001b[A\n",
      "Validation DataLoader 0:   0%|          | 0/20 [00:00<?, ?it/s]\u001b[A"
     ]
    },
    {
     "name": "stderr",
     "output_type": "stream",
     "text": [
      "INFO:__main__:Validation batch 0, size: 1\n",
      "INFO:__main__:Sample Validation Prediction: The scene shows a busy urban intersection with cars, buildings, and a yellow traffic light ahead. The current gaze focuses on the car in front. The future gaze will likely shift to the traffic light. ...\n",
      "INFO:__main__:Sample Validation Target: [INST] \n",
      "Describe the scene, the driver's current gaze, and where that gaze will likely shift next and why.[/INST] The scene shows a busy urban intersection with cars, buildings, and a yellow traffic l...\n",
      "INFO:__main__:Validation Loss: 4.138876\n"
     ]
    },
    {
     "name": "stdout",
     "output_type": "stream",
     "text": [
      "\n",
      "Validation DataLoader 0:   5%|▌         | 1/20 [00:00<00:08,  2.21it/s]\u001b[A"
     ]
    },
    {
     "name": "stderr",
     "output_type": "stream",
     "text": [
      "INFO:__main__:Processing batch with 1 samples\n",
      "INFO:__main__:Loading image: fsdam/one_shot/val/1737_00287.png\n",
      "INFO:__main__:Input shapes: input_ids=torch.Size([1, 1293]), pixel_values=torch.Size([1, 3, 3, 336, 336])\n",
      "INFO:__main__:Validation batch 1, size: 1\n"
     ]
    },
    {
     "name": "stdout",
     "output_type": "stream",
     "text": [
      "\n",
      "Validation DataLoader 0:  10%|█         | 2/20 [00:02<00:20,  0.88it/s]\u001b[A"
     ]
    },
    {
     "name": "stderr",
     "output_type": "stream",
     "text": [
      "INFO:__main__:Processing batch with 1 samples\n",
      "INFO:__main__:Loading image: fsdam/one_shot/val/1744_00119.png\n",
      "INFO:__main__:Input shapes: input_ids=torch.Size([1, 1272]), pixel_values=torch.Size([1, 3, 3, 336, 336])\n",
      "INFO:__main__:Validation batch 2, size: 1\n"
     ]
    },
    {
     "name": "stdout",
     "output_type": "stream",
     "text": [
      "\n",
      "Validation DataLoader 0:  15%|█▌        | 3/20 [00:03<00:20,  0.83it/s]\u001b[A"
     ]
    },
    {
     "name": "stderr",
     "output_type": "stream",
     "text": [
      "INFO:__main__:Processing batch with 1 samples\n",
      "INFO:__main__:Loading image: fsdam/one_shot/val/1744_00219.png\n",
      "INFO:__main__:Input shapes: input_ids=torch.Size([1, 1262]), pixel_values=torch.Size([1, 3, 3, 336, 336])\n",
      "INFO:__main__:Validation batch 3, size: 1\n"
     ]
    },
    {
     "name": "stdout",
     "output_type": "stream",
     "text": [
      "\n",
      "Validation DataLoader 0:  20%|██        | 4/20 [00:04<00:16,  0.98it/s]\u001b[A"
     ]
    },
    {
     "name": "stderr",
     "output_type": "stream",
     "text": [
      "INFO:__main__:Processing batch with 1 samples\n",
      "INFO:__main__:Loading image: fsdam/one_shot/val/1746_00008.png\n",
      "INFO:__main__:Input shapes: input_ids=torch.Size([1, 1272]), pixel_values=torch.Size([1, 3, 3, 336, 336])\n",
      "INFO:__main__:Validation batch 4, size: 1\n"
     ]
    },
    {
     "name": "stdout",
     "output_type": "stream",
     "text": [
      "\n",
      "Validation DataLoader 0:  25%|██▌       | 5/20 [00:04<00:13,  1.10it/s]\u001b[A"
     ]
    },
    {
     "name": "stderr",
     "output_type": "stream",
     "text": [
      "INFO:__main__:Processing batch with 1 samples\n",
      "INFO:__main__:Loading image: fsdam/one_shot/val/1747_00012.png\n",
      "INFO:__main__:Input shapes: input_ids=torch.Size([1, 1282]), pixel_values=torch.Size([1, 3, 3, 336, 336])\n",
      "INFO:__main__:Validation batch 5, size: 1\n"
     ]
    },
    {
     "name": "stdout",
     "output_type": "stream",
     "text": [
      "\n",
      "Validation DataLoader 0:  30%|███       | 6/20 [00:05<00:11,  1.20it/s]\u001b[A"
     ]
    },
    {
     "name": "stderr",
     "output_type": "stream",
     "text": [
      "INFO:__main__:Processing batch with 1 samples\n",
      "INFO:__main__:Loading image: fsdam/one_shot/val/1748_00018.png\n",
      "INFO:__main__:Input shapes: input_ids=torch.Size([1, 1269]), pixel_values=torch.Size([1, 3, 3, 336, 336])\n",
      "INFO:__main__:Validation batch 6, size: 1\n"
     ]
    },
    {
     "name": "stdout",
     "output_type": "stream",
     "text": [
      "\n",
      "Validation DataLoader 0:  35%|███▌      | 7/20 [00:05<00:10,  1.28it/s]\u001b[A"
     ]
    },
    {
     "name": "stderr",
     "output_type": "stream",
     "text": [
      "INFO:__main__:Processing batch with 1 samples\n",
      "INFO:__main__:Loading image: fsdam/one_shot/val/1748_00243.png\n",
      "INFO:__main__:Input shapes: input_ids=torch.Size([1, 1277]), pixel_values=torch.Size([1, 3, 3, 336, 336])\n",
      "INFO:__main__:Validation batch 7, size: 1\n"
     ]
    },
    {
     "name": "stdout",
     "output_type": "stream",
     "text": [
      "\n",
      "Validation DataLoader 0:  40%|████      | 8/20 [00:05<00:08,  1.34it/s]\u001b[A"
     ]
    },
    {
     "name": "stderr",
     "output_type": "stream",
     "text": [
      "INFO:__main__:Processing batch with 1 samples\n",
      "INFO:__main__:Loading image: fsdam/one_shot/val/1753_00160.png\n",
      "INFO:__main__:Input shapes: input_ids=torch.Size([1, 1283]), pixel_values=torch.Size([1, 3, 3, 336, 336])\n",
      "INFO:__main__:Validation batch 8, size: 1\n"
     ]
    },
    {
     "name": "stdout",
     "output_type": "stream",
     "text": [
      "\n",
      "Validation DataLoader 0:  45%|████▌     | 9/20 [00:09<00:11,  1.00it/s]\u001b[A"
     ]
    },
    {
     "name": "stderr",
     "output_type": "stream",
     "text": [
      "INFO:__main__:Processing batch with 1 samples\n",
      "INFO:__main__:Loading image: fsdam/one_shot/val/1754_00079.png\n",
      "INFO:__main__:Input shapes: input_ids=torch.Size([1, 1292]), pixel_values=torch.Size([1, 3, 3, 336, 336])\n",
      "INFO:__main__:Validation batch 9, size: 1\n"
     ]
    },
    {
     "name": "stdout",
     "output_type": "stream",
     "text": [
      "\n",
      "Validation DataLoader 0:  50%|█████     | 10/20 [00:09<00:09,  1.04it/s]\u001b[A"
     ]
    },
    {
     "name": "stderr",
     "output_type": "stream",
     "text": [
      "INFO:__main__:Processing batch with 1 samples\n",
      "INFO:__main__:Loading image: fsdam/one_shot/val/1755_00078.png\n",
      "INFO:__main__:Input shapes: input_ids=torch.Size([1, 1269]), pixel_values=torch.Size([1, 3, 3, 336, 336])\n",
      "INFO:__main__:Validation batch 10, size: 1\n"
     ]
    },
    {
     "name": "stdout",
     "output_type": "stream",
     "text": [
      "\n",
      "Validation DataLoader 0:  55%|█████▌    | 11/20 [00:11<00:09,  0.97it/s]\u001b[A"
     ]
    },
    {
     "name": "stderr",
     "output_type": "stream",
     "text": [
      "INFO:__main__:Processing batch with 1 samples\n",
      "INFO:__main__:Loading image: fsdam/one_shot/val/1756_00013.png\n",
      "INFO:__main__:Input shapes: input_ids=torch.Size([1, 1287]), pixel_values=torch.Size([1, 3, 3, 336, 336])\n",
      "INFO:__main__:Validation batch 11, size: 1\n"
     ]
    },
    {
     "name": "stdout",
     "output_type": "stream",
     "text": [
      "\n",
      "Validation DataLoader 0:  60%|██████    | 12/20 [00:11<00:07,  1.01it/s]\u001b[A"
     ]
    },
    {
     "name": "stderr",
     "output_type": "stream",
     "text": [
      "INFO:__main__:Processing batch with 1 samples\n",
      "INFO:__main__:Loading image: fsdam/one_shot/val/1760_00071.png\n",
      "INFO:__main__:Input shapes: input_ids=torch.Size([1, 1280]), pixel_values=torch.Size([1, 3, 3, 336, 336])\n",
      "INFO:__main__:Validation batch 12, size: 1\n"
     ]
    },
    {
     "name": "stdout",
     "output_type": "stream",
     "text": [
      "\n",
      "Validation DataLoader 0:  65%|██████▌   | 13/20 [00:12<00:06,  1.01it/s]\u001b[A"
     ]
    },
    {
     "name": "stderr",
     "output_type": "stream",
     "text": [
      "INFO:__main__:Processing batch with 1 samples\n",
      "INFO:__main__:Loading image: fsdam/one_shot/val/1761_00005.png\n",
      "INFO:__main__:Input shapes: input_ids=torch.Size([1, 1285]), pixel_values=torch.Size([1, 3, 3, 336, 336])\n",
      "INFO:__main__:Validation batch 13, size: 1\n"
     ]
    },
    {
     "name": "stdout",
     "output_type": "stream",
     "text": [
      "\n",
      "Validation DataLoader 0:  70%|███████   | 14/20 [00:13<00:05,  1.05it/s]\u001b[A"
     ]
    },
    {
     "name": "stderr",
     "output_type": "stream",
     "text": [
      "INFO:__main__:Processing batch with 1 samples\n",
      "INFO:__main__:Loading image: fsdam/one_shot/val/1764_00032.png\n",
      "INFO:__main__:Input shapes: input_ids=torch.Size([1, 1274]), pixel_values=torch.Size([1, 3, 3, 336, 336])\n",
      "INFO:__main__:Validation batch 14, size: 1\n"
     ]
    },
    {
     "name": "stdout",
     "output_type": "stream",
     "text": [
      "\n",
      "Validation DataLoader 0:  75%|███████▌  | 15/20 [00:14<00:04,  1.03it/s]\u001b[A"
     ]
    },
    {
     "name": "stderr",
     "output_type": "stream",
     "text": [
      "INFO:__main__:Processing batch with 1 samples\n",
      "INFO:__main__:Loading image: fsdam/one_shot/val/1767_00017.png\n",
      "INFO:__main__:Input shapes: input_ids=torch.Size([1, 1281]), pixel_values=torch.Size([1, 3, 3, 336, 336])\n",
      "INFO:__main__:Validation batch 15, size: 1\n"
     ]
    },
    {
     "name": "stdout",
     "output_type": "stream",
     "text": [
      "\n",
      "Validation DataLoader 0:  80%|████████  | 16/20 [00:15<00:03,  1.06it/s]\u001b[A"
     ]
    },
    {
     "name": "stderr",
     "output_type": "stream",
     "text": [
      "INFO:__main__:Processing batch with 1 samples\n",
      "INFO:__main__:Loading image: fsdam/one_shot/val/1768_00239.png\n",
      "INFO:__main__:Input shapes: input_ids=torch.Size([1, 1304]), pixel_values=torch.Size([1, 3, 3, 336, 336])\n",
      "INFO:__main__:Validation batch 16, size: 1\n"
     ]
    },
    {
     "name": "stdout",
     "output_type": "stream",
     "text": [
      "\n",
      "Validation DataLoader 0:  85%|████████▌ | 17/20 [00:15<00:02,  1.09it/s]\u001b[A"
     ]
    },
    {
     "name": "stderr",
     "output_type": "stream",
     "text": [
      "INFO:__main__:Processing batch with 1 samples\n",
      "INFO:__main__:Loading image: fsdam/one_shot/val/1771_00259.png\n",
      "INFO:__main__:Input shapes: input_ids=torch.Size([1, 1295]), pixel_values=torch.Size([1, 3, 3, 336, 336])\n",
      "INFO:__main__:Validation batch 17, size: 1\n"
     ]
    },
    {
     "name": "stdout",
     "output_type": "stream",
     "text": [
      "\n",
      "Validation DataLoader 0:  90%|█████████ | 18/20 [00:16<00:01,  1.06it/s]\u001b[A"
     ]
    },
    {
     "name": "stderr",
     "output_type": "stream",
     "text": [
      "INFO:__main__:Processing batch with 1 samples\n",
      "INFO:__main__:Loading image: fsdam/one_shot/val/1772_00192.png\n",
      "INFO:__main__:Input shapes: input_ids=torch.Size([1, 1299]), pixel_values=torch.Size([1, 3, 3, 336, 336])\n",
      "INFO:__main__:Validation batch 18, size: 1\n"
     ]
    },
    {
     "name": "stdout",
     "output_type": "stream",
     "text": [
      "\n",
      "Validation DataLoader 0:  95%|█████████▌| 19/20 [00:17<00:00,  1.09it/s]\u001b[A"
     ]
    },
    {
     "name": "stderr",
     "output_type": "stream",
     "text": [
      "INFO:__main__:Processing batch with 1 samples\n",
      "INFO:__main__:Loading image: fsdam/one_shot/val/1773_00089.png\n",
      "INFO:__main__:Input shapes: input_ids=torch.Size([1, 1275]), pixel_values=torch.Size([1, 3, 3, 336, 336])\n",
      "INFO:__main__:Validation batch 19, size: 1\n"
     ]
    },
    {
     "name": "stdout",
     "output_type": "stream",
     "text": [
      "\n",
      "Validation DataLoader 0: 100%|██████████| 20/20 [00:17<00:00,  1.12it/s]\u001b[A\n",
      "Epoch 11:   0%|          | 0/1 [00:00<?, ?it/s, v_num=shot, train_loss_step=4.210, val_loss_step=4.200, val_rouge_step=0.836, val_loss_epoch=4.150, val_rouge_epoch=0.815, train_loss_epoch=4.210]        "
     ]
    },
    {
     "name": "stderr",
     "output_type": "stream",
     "text": [
      "INFO:__main__:Starting epoch 11\n",
      "INFO:__main__:Processing batch with 1 samples\n",
      "INFO:__main__:Loading image: fsdam/one_shot/train/1006_00018.png\n",
      "INFO:__main__:Input shapes: input_ids=torch.Size([1, 1271]), pixel_values=torch.Size([1, 3, 3, 336, 336])\n",
      "INFO:__main__:Training batch 0, size: 1\n",
      "INFO:__main__:Sample Training Prediction: Unterscheidung…IT [1 anch \"\n",
      "p the image in including people's perspective locatione, and the the gaze is likely move next. why.1RE] The scene sceneined with palm trees and houses is visible. with a gr...\n",
      "INFO:__main__:Training loss: 4.130141\n"
     ]
    },
    {
     "name": "stdout",
     "output_type": "stream",
     "text": [
      "Epoch 11: 100%|██████████| 1/1 [00:00<00:00,  1.86it/s, v_num=shot, train_loss_step=4.130, val_loss_step=4.200, val_rouge_step=0.836, val_loss_epoch=4.150, val_rouge_epoch=0.815, train_loss_epoch=4.210]\n",
      "Validation: |          | 0/? [00:00<?, ?it/s]\u001b[A"
     ]
    },
    {
     "name": "stderr",
     "output_type": "stream",
     "text": [
      "INFO:__main__:Processing batch with 1 samples\n",
      "INFO:__main__:Loading image: fsdam/one_shot/val/1737_00085.png\n",
      "INFO:__main__:Input shapes: input_ids=torch.Size([1, 1282]), pixel_values=torch.Size([1, 3, 3, 336, 336])\n"
     ]
    },
    {
     "name": "stdout",
     "output_type": "stream",
     "text": [
      "\n",
      "Validation:   0%|          | 0/20 [00:00<?, ?it/s]\u001b[A\n",
      "Validation DataLoader 0:   0%|          | 0/20 [00:00<?, ?it/s]\u001b[A"
     ]
    },
    {
     "name": "stderr",
     "output_type": "stream",
     "text": [
      "INFO:__main__:Validation batch 0, size: 1\n",
      "INFO:__main__:Sample Validation Prediction: The scene shows a busy urban intersection with cars, buildings, and a yellow traffic light ahead. The current gaze focuses on the car in front. The future gaze will likely shift to the traffic light. ...\n",
      "INFO:__main__:Sample Validation Target: [INST] \n",
      "Describe the scene, the driver's current gaze, and where that gaze will likely shift next and why.[/INST] The scene shows a busy urban intersection with cars, buildings, and a yellow traffic l...\n",
      "INFO:__main__:Validation Loss: 4.110312\n"
     ]
    },
    {
     "name": "stdout",
     "output_type": "stream",
     "text": [
      "\n",
      "Validation DataLoader 0:   5%|▌         | 1/20 [00:00<00:09,  2.04it/s]\u001b[A"
     ]
    },
    {
     "name": "stderr",
     "output_type": "stream",
     "text": [
      "INFO:__main__:Processing batch with 1 samples\n",
      "INFO:__main__:Loading image: fsdam/one_shot/val/1737_00287.png\n",
      "INFO:__main__:Input shapes: input_ids=torch.Size([1, 1293]), pixel_values=torch.Size([1, 3, 3, 336, 336])\n",
      "INFO:__main__:Validation batch 1, size: 1\n"
     ]
    },
    {
     "name": "stdout",
     "output_type": "stream",
     "text": [
      "\n",
      "Validation DataLoader 0:  10%|█         | 2/20 [00:02<00:26,  0.67it/s]\u001b[A"
     ]
    },
    {
     "name": "stderr",
     "output_type": "stream",
     "text": [
      "INFO:__main__:Processing batch with 1 samples\n",
      "INFO:__main__:Loading image: fsdam/one_shot/val/1744_00119.png\n",
      "INFO:__main__:Input shapes: input_ids=torch.Size([1, 1272]), pixel_values=torch.Size([1, 3, 3, 336, 336])\n",
      "INFO:__main__:Validation batch 2, size: 1\n"
     ]
    },
    {
     "name": "stdout",
     "output_type": "stream",
     "text": [
      "\n",
      "Validation DataLoader 0:  15%|█▌        | 3/20 [00:04<00:25,  0.67it/s]\u001b[A"
     ]
    },
    {
     "name": "stderr",
     "output_type": "stream",
     "text": [
      "INFO:__main__:Processing batch with 1 samples\n",
      "INFO:__main__:Loading image: fsdam/one_shot/val/1744_00219.png\n",
      "INFO:__main__:Input shapes: input_ids=torch.Size([1, 1262]), pixel_values=torch.Size([1, 3, 3, 336, 336])\n",
      "INFO:__main__:Validation batch 3, size: 1\n"
     ]
    },
    {
     "name": "stdout",
     "output_type": "stream",
     "text": [
      "\n",
      "Validation DataLoader 0:  20%|██        | 4/20 [00:04<00:19,  0.81it/s]\u001b[A"
     ]
    },
    {
     "name": "stderr",
     "output_type": "stream",
     "text": [
      "INFO:__main__:Processing batch with 1 samples\n",
      "INFO:__main__:Loading image: fsdam/one_shot/val/1746_00008.png\n",
      "INFO:__main__:Input shapes: input_ids=torch.Size([1, 1272]), pixel_values=torch.Size([1, 3, 3, 336, 336])\n",
      "INFO:__main__:Validation batch 4, size: 1\n"
     ]
    },
    {
     "name": "stdout",
     "output_type": "stream",
     "text": [
      "\n",
      "Validation DataLoader 0:  25%|██▌       | 5/20 [00:05<00:16,  0.92it/s]\u001b[A"
     ]
    },
    {
     "name": "stderr",
     "output_type": "stream",
     "text": [
      "INFO:__main__:Processing batch with 1 samples\n",
      "INFO:__main__:Loading image: fsdam/one_shot/val/1747_00012.png\n",
      "INFO:__main__:Input shapes: input_ids=torch.Size([1, 1282]), pixel_values=torch.Size([1, 3, 3, 336, 336])\n",
      "INFO:__main__:Validation batch 5, size: 1\n"
     ]
    },
    {
     "name": "stdout",
     "output_type": "stream",
     "text": [
      "\n",
      "Validation DataLoader 0:  30%|███       | 6/20 [00:05<00:13,  1.02it/s]\u001b[A"
     ]
    },
    {
     "name": "stderr",
     "output_type": "stream",
     "text": [
      "INFO:__main__:Processing batch with 1 samples\n",
      "INFO:__main__:Loading image: fsdam/one_shot/val/1748_00018.png\n",
      "INFO:__main__:Input shapes: input_ids=torch.Size([1, 1269]), pixel_values=torch.Size([1, 3, 3, 336, 336])\n",
      "INFO:__main__:Validation batch 6, size: 1\n"
     ]
    },
    {
     "name": "stdout",
     "output_type": "stream",
     "text": [
      "\n",
      "Validation DataLoader 0:  35%|███▌      | 7/20 [00:06<00:11,  1.10it/s]\u001b[A"
     ]
    },
    {
     "name": "stderr",
     "output_type": "stream",
     "text": [
      "INFO:__main__:Processing batch with 1 samples\n",
      "INFO:__main__:Loading image: fsdam/one_shot/val/1748_00243.png\n",
      "INFO:__main__:Input shapes: input_ids=torch.Size([1, 1277]), pixel_values=torch.Size([1, 3, 3, 336, 336])\n",
      "INFO:__main__:Validation batch 7, size: 1\n"
     ]
    },
    {
     "name": "stdout",
     "output_type": "stream",
     "text": [
      "\n",
      "Validation DataLoader 0:  40%|████      | 8/20 [00:06<00:10,  1.17it/s]\u001b[A"
     ]
    },
    {
     "name": "stderr",
     "output_type": "stream",
     "text": [
      "INFO:__main__:Processing batch with 1 samples\n",
      "INFO:__main__:Loading image: fsdam/one_shot/val/1753_00160.png\n",
      "INFO:__main__:Input shapes: input_ids=torch.Size([1, 1283]), pixel_values=torch.Size([1, 3, 3, 336, 336])\n",
      "INFO:__main__:Validation batch 8, size: 1\n"
     ]
    },
    {
     "name": "stdout",
     "output_type": "stream",
     "text": [
      "\n",
      "Validation DataLoader 0:  45%|████▌     | 9/20 [00:08<00:10,  1.03it/s]\u001b[A"
     ]
    },
    {
     "name": "stderr",
     "output_type": "stream",
     "text": [
      "INFO:__main__:Processing batch with 1 samples\n",
      "INFO:__main__:Loading image: fsdam/one_shot/val/1754_00079.png\n",
      "INFO:__main__:Input shapes: input_ids=torch.Size([1, 1292]), pixel_values=torch.Size([1, 3, 3, 336, 336])\n",
      "INFO:__main__:Validation batch 9, size: 1\n"
     ]
    },
    {
     "name": "stdout",
     "output_type": "stream",
     "text": [
      "\n",
      "Validation DataLoader 0:  50%|█████     | 10/20 [00:09<00:09,  1.09it/s]\u001b[A"
     ]
    },
    {
     "name": "stderr",
     "output_type": "stream",
     "text": [
      "INFO:__main__:Processing batch with 1 samples\n",
      "INFO:__main__:Loading image: fsdam/one_shot/val/1755_00078.png\n",
      "INFO:__main__:Input shapes: input_ids=torch.Size([1, 1269]), pixel_values=torch.Size([1, 3, 3, 336, 336])\n",
      "INFO:__main__:Validation batch 10, size: 1\n"
     ]
    },
    {
     "name": "stdout",
     "output_type": "stream",
     "text": [
      "\n",
      "Validation DataLoader 0:  55%|█████▌    | 11/20 [00:10<00:08,  1.00it/s]\u001b[A"
     ]
    },
    {
     "name": "stderr",
     "output_type": "stream",
     "text": [
      "INFO:__main__:Processing batch with 1 samples\n",
      "INFO:__main__:Loading image: fsdam/one_shot/val/1756_00013.png\n",
      "INFO:__main__:Input shapes: input_ids=torch.Size([1, 1287]), pixel_values=torch.Size([1, 3, 3, 336, 336])\n",
      "INFO:__main__:Validation batch 11, size: 1\n"
     ]
    },
    {
     "name": "stdout",
     "output_type": "stream",
     "text": [
      "\n",
      "Validation DataLoader 0:  60%|██████    | 12/20 [00:11<00:07,  1.05it/s]\u001b[A"
     ]
    },
    {
     "name": "stderr",
     "output_type": "stream",
     "text": [
      "INFO:__main__:Processing batch with 1 samples\n",
      "INFO:__main__:Loading image: fsdam/one_shot/val/1760_00071.png\n",
      "INFO:__main__:Input shapes: input_ids=torch.Size([1, 1280]), pixel_values=torch.Size([1, 3, 3, 336, 336])\n",
      "INFO:__main__:Validation batch 12, size: 1\n"
     ]
    },
    {
     "name": "stdout",
     "output_type": "stream",
     "text": [
      "\n",
      "Validation DataLoader 0:  65%|██████▌   | 13/20 [00:12<00:06,  1.05it/s]\u001b[A"
     ]
    },
    {
     "name": "stderr",
     "output_type": "stream",
     "text": [
      "INFO:__main__:Processing batch with 1 samples\n",
      "INFO:__main__:Loading image: fsdam/one_shot/val/1761_00005.png\n",
      "INFO:__main__:Input shapes: input_ids=torch.Size([1, 1285]), pixel_values=torch.Size([1, 3, 3, 336, 336])\n",
      "INFO:__main__:Validation batch 13, size: 1\n"
     ]
    },
    {
     "name": "stdout",
     "output_type": "stream",
     "text": [
      "\n",
      "Validation DataLoader 0:  70%|███████   | 14/20 [00:12<00:05,  1.09it/s]\u001b[A"
     ]
    },
    {
     "name": "stderr",
     "output_type": "stream",
     "text": [
      "INFO:__main__:Processing batch with 1 samples\n",
      "INFO:__main__:Loading image: fsdam/one_shot/val/1764_00032.png\n",
      "INFO:__main__:Input shapes: input_ids=torch.Size([1, 1274]), pixel_values=torch.Size([1, 3, 3, 336, 336])\n",
      "INFO:__main__:Validation batch 14, size: 1\n"
     ]
    },
    {
     "name": "stdout",
     "output_type": "stream",
     "text": [
      "\n",
      "Validation DataLoader 0:  75%|███████▌  | 15/20 [00:14<00:04,  1.06it/s]\u001b[A"
     ]
    },
    {
     "name": "stderr",
     "output_type": "stream",
     "text": [
      "INFO:__main__:Processing batch with 1 samples\n",
      "INFO:__main__:Loading image: fsdam/one_shot/val/1767_00017.png\n",
      "INFO:__main__:Input shapes: input_ids=torch.Size([1, 1281]), pixel_values=torch.Size([1, 3, 3, 336, 336])\n",
      "INFO:__main__:Validation batch 15, size: 1\n"
     ]
    },
    {
     "name": "stdout",
     "output_type": "stream",
     "text": [
      "\n",
      "Validation DataLoader 0:  80%|████████  | 16/20 [00:14<00:03,  1.09it/s]\u001b[A"
     ]
    },
    {
     "name": "stderr",
     "output_type": "stream",
     "text": [
      "INFO:__main__:Processing batch with 1 samples\n",
      "INFO:__main__:Loading image: fsdam/one_shot/val/1768_00239.png\n",
      "INFO:__main__:Input shapes: input_ids=torch.Size([1, 1304]), pixel_values=torch.Size([1, 3, 3, 336, 336])\n",
      "INFO:__main__:Validation batch 16, size: 1\n"
     ]
    },
    {
     "name": "stdout",
     "output_type": "stream",
     "text": [
      "\n",
      "Validation DataLoader 0:  85%|████████▌ | 17/20 [00:15<00:02,  1.12it/s]\u001b[A"
     ]
    },
    {
     "name": "stderr",
     "output_type": "stream",
     "text": [
      "INFO:__main__:Processing batch with 1 samples\n",
      "INFO:__main__:Loading image: fsdam/one_shot/val/1771_00259.png\n",
      "INFO:__main__:Input shapes: input_ids=torch.Size([1, 1295]), pixel_values=torch.Size([1, 3, 3, 336, 336])\n",
      "INFO:__main__:Validation batch 17, size: 1\n"
     ]
    },
    {
     "name": "stdout",
     "output_type": "stream",
     "text": [
      "\n",
      "Validation DataLoader 0:  90%|█████████ | 18/20 [00:16<00:01,  1.09it/s]\u001b[A"
     ]
    },
    {
     "name": "stderr",
     "output_type": "stream",
     "text": [
      "INFO:__main__:Processing batch with 1 samples\n",
      "INFO:__main__:Loading image: fsdam/one_shot/val/1772_00192.png\n",
      "INFO:__main__:Input shapes: input_ids=torch.Size([1, 1299]), pixel_values=torch.Size([1, 3, 3, 336, 336])\n",
      "INFO:__main__:Validation batch 18, size: 1\n"
     ]
    },
    {
     "name": "stdout",
     "output_type": "stream",
     "text": [
      "\n",
      "Validation DataLoader 0:  95%|█████████▌| 19/20 [00:16<00:00,  1.12it/s]\u001b[A"
     ]
    },
    {
     "name": "stderr",
     "output_type": "stream",
     "text": [
      "INFO:__main__:Processing batch with 1 samples\n",
      "INFO:__main__:Loading image: fsdam/one_shot/val/1773_00089.png\n",
      "INFO:__main__:Input shapes: input_ids=torch.Size([1, 1275]), pixel_values=torch.Size([1, 3, 3, 336, 336])\n",
      "INFO:__main__:Validation batch 19, size: 1\n"
     ]
    },
    {
     "name": "stdout",
     "output_type": "stream",
     "text": [
      "\n",
      "Validation DataLoader 0: 100%|██████████| 20/20 [00:17<00:00,  1.14it/s]\u001b[A\n",
      "Epoch 12:   0%|          | 0/1 [00:00<?, ?it/s, v_num=shot, train_loss_step=4.130, val_loss_step=4.170, val_rouge_step=0.836, val_loss_epoch=4.120, val_rouge_epoch=0.817, train_loss_epoch=4.130]        "
     ]
    },
    {
     "name": "stderr",
     "output_type": "stream",
     "text": [
      "INFO:__main__:Starting epoch 12\n",
      "INFO:__main__:Processing batch with 1 samples\n",
      "INFO:__main__:Loading image: fsdam/one_shot/train/1006_00018.png\n",
      "INFO:__main__:Input shapes: input_ids=torch.Size([1, 1271]), pixel_values=torch.Size([1, 3, 3, 336, 336])\n",
      "INFO:__main__:Training batch 0, size: 1\n",
      "INFO:__main__:Sample Training Prediction: kwiet…IT [1 anch \"\n",
      "p the image in including people's perspective locatione, and the the gaze is likely move next. why./RE] The scene sceneined with palm trees and houses is visible. with a green traff...\n",
      "INFO:__main__:Training loss: 4.096413\n"
     ]
    },
    {
     "name": "stdout",
     "output_type": "stream",
     "text": [
      "Epoch 12: 100%|██████████| 1/1 [00:00<00:00,  1.86it/s, v_num=shot, train_loss_step=4.100, val_loss_step=4.170, val_rouge_step=0.836, val_loss_epoch=4.120, val_rouge_epoch=0.817, train_loss_epoch=4.130]\n",
      "Validation: |          | 0/? [00:00<?, ?it/s]\u001b[A"
     ]
    },
    {
     "name": "stderr",
     "output_type": "stream",
     "text": [
      "INFO:__main__:Processing batch with 1 samples\n",
      "INFO:__main__:Loading image: fsdam/one_shot/val/1737_00085.png\n",
      "INFO:__main__:Input shapes: input_ids=torch.Size([1, 1282]), pixel_values=torch.Size([1, 3, 3, 336, 336])\n"
     ]
    },
    {
     "name": "stdout",
     "output_type": "stream",
     "text": [
      "\n",
      "Validation:   0%|          | 0/20 [00:00<?, ?it/s]\u001b[A\n",
      "Validation DataLoader 0:   0%|          | 0/20 [00:00<?, ?it/s]\u001b[A"
     ]
    },
    {
     "name": "stderr",
     "output_type": "stream",
     "text": [
      "INFO:__main__:Validation batch 0, size: 1\n",
      "INFO:__main__:Sample Validation Prediction: The scene shows a busy urban intersection with cars, buildings, and a yellow traffic light ahead. The current gaze focuses on the car in front. The future gaze will likely shift to the traffic light. ...\n",
      "INFO:__main__:Sample Validation Target: [INST] \n",
      "Describe the scene, the driver's current gaze, and where that gaze will likely shift next and why.[/INST] The scene shows a busy urban intersection with cars, buildings, and a yellow traffic l...\n",
      "INFO:__main__:Validation Loss: 4.092103\n"
     ]
    },
    {
     "name": "stdout",
     "output_type": "stream",
     "text": [
      "\n",
      "Validation DataLoader 0:   5%|▌         | 1/20 [00:00<00:09,  2.01it/s]\u001b[A"
     ]
    },
    {
     "name": "stderr",
     "output_type": "stream",
     "text": [
      "INFO:__main__:Processing batch with 1 samples\n",
      "INFO:__main__:Loading image: fsdam/one_shot/val/1737_00287.png\n",
      "INFO:__main__:Input shapes: input_ids=torch.Size([1, 1293]), pixel_values=torch.Size([1, 3, 3, 336, 336])\n",
      "INFO:__main__:Validation batch 1, size: 1\n"
     ]
    },
    {
     "name": "stdout",
     "output_type": "stream",
     "text": [
      "\n",
      "Validation DataLoader 0:  10%|█         | 2/20 [00:02<00:24,  0.74it/s]\u001b[A"
     ]
    },
    {
     "name": "stderr",
     "output_type": "stream",
     "text": [
      "INFO:__main__:Processing batch with 1 samples\n",
      "INFO:__main__:Loading image: fsdam/one_shot/val/1744_00119.png\n",
      "INFO:__main__:Input shapes: input_ids=torch.Size([1, 1272]), pixel_values=torch.Size([1, 3, 3, 336, 336])\n",
      "INFO:__main__:Validation batch 2, size: 1\n"
     ]
    },
    {
     "name": "stdout",
     "output_type": "stream",
     "text": [
      "\n",
      "Validation DataLoader 0:  15%|█▌        | 3/20 [00:04<00:23,  0.72it/s]\u001b[A"
     ]
    },
    {
     "name": "stderr",
     "output_type": "stream",
     "text": [
      "INFO:__main__:Processing batch with 1 samples\n",
      "INFO:__main__:Loading image: fsdam/one_shot/val/1744_00219.png\n",
      "INFO:__main__:Input shapes: input_ids=torch.Size([1, 1262]), pixel_values=torch.Size([1, 3, 3, 336, 336])\n",
      "INFO:__main__:Validation batch 3, size: 1\n"
     ]
    },
    {
     "name": "stdout",
     "output_type": "stream",
     "text": [
      "\n",
      "Validation DataLoader 0:  20%|██        | 4/20 [00:04<00:18,  0.86it/s]\u001b[A"
     ]
    },
    {
     "name": "stderr",
     "output_type": "stream",
     "text": [
      "INFO:__main__:Processing batch with 1 samples\n",
      "INFO:__main__:Loading image: fsdam/one_shot/val/1746_00008.png\n",
      "INFO:__main__:Input shapes: input_ids=torch.Size([1, 1272]), pixel_values=torch.Size([1, 3, 3, 336, 336])\n",
      "INFO:__main__:Validation batch 4, size: 1\n"
     ]
    },
    {
     "name": "stdout",
     "output_type": "stream",
     "text": [
      "\n",
      "Validation DataLoader 0:  25%|██▌       | 5/20 [00:05<00:15,  0.98it/s]\u001b[A"
     ]
    },
    {
     "name": "stderr",
     "output_type": "stream",
     "text": [
      "INFO:__main__:Processing batch with 1 samples\n",
      "INFO:__main__:Loading image: fsdam/one_shot/val/1747_00012.png\n",
      "INFO:__main__:Input shapes: input_ids=torch.Size([1, 1282]), pixel_values=torch.Size([1, 3, 3, 336, 336])\n",
      "INFO:__main__:Validation batch 5, size: 1\n"
     ]
    },
    {
     "name": "stdout",
     "output_type": "stream",
     "text": [
      "\n",
      "Validation DataLoader 0:  30%|███       | 6/20 [00:05<00:13,  1.07it/s]\u001b[A"
     ]
    },
    {
     "name": "stderr",
     "output_type": "stream",
     "text": [
      "INFO:__main__:Processing batch with 1 samples\n",
      "INFO:__main__:Loading image: fsdam/one_shot/val/1748_00018.png\n",
      "INFO:__main__:Input shapes: input_ids=torch.Size([1, 1269]), pixel_values=torch.Size([1, 3, 3, 336, 336])\n",
      "INFO:__main__:Validation batch 6, size: 1\n"
     ]
    },
    {
     "name": "stdout",
     "output_type": "stream",
     "text": [
      "\n",
      "Validation DataLoader 0:  35%|███▌      | 7/20 [00:06<00:11,  1.15it/s]\u001b[A"
     ]
    },
    {
     "name": "stderr",
     "output_type": "stream",
     "text": [
      "INFO:__main__:Processing batch with 1 samples\n",
      "INFO:__main__:Loading image: fsdam/one_shot/val/1748_00243.png\n",
      "INFO:__main__:Input shapes: input_ids=torch.Size([1, 1277]), pixel_values=torch.Size([1, 3, 3, 336, 336])\n",
      "INFO:__main__:Validation batch 7, size: 1\n"
     ]
    },
    {
     "name": "stdout",
     "output_type": "stream",
     "text": [
      "\n",
      "Validation DataLoader 0:  40%|████      | 8/20 [00:06<00:09,  1.22it/s]\u001b[A"
     ]
    },
    {
     "name": "stderr",
     "output_type": "stream",
     "text": [
      "INFO:__main__:Processing batch with 1 samples\n",
      "INFO:__main__:Loading image: fsdam/one_shot/val/1753_00160.png\n",
      "INFO:__main__:Input shapes: input_ids=torch.Size([1, 1283]), pixel_values=torch.Size([1, 3, 3, 336, 336])\n",
      "INFO:__main__:Validation batch 8, size: 1\n"
     ]
    },
    {
     "name": "stdout",
     "output_type": "stream",
     "text": [
      "\n",
      "Validation DataLoader 0:  45%|████▌     | 9/20 [00:08<00:10,  1.06it/s]\u001b[A"
     ]
    },
    {
     "name": "stderr",
     "output_type": "stream",
     "text": [
      "INFO:__main__:Processing batch with 1 samples\n",
      "INFO:__main__:Loading image: fsdam/one_shot/val/1754_00079.png\n",
      "INFO:__main__:Input shapes: input_ids=torch.Size([1, 1292]), pixel_values=torch.Size([1, 3, 3, 336, 336])\n",
      "INFO:__main__:Validation batch 9, size: 1\n"
     ]
    },
    {
     "name": "stdout",
     "output_type": "stream",
     "text": [
      "\n",
      "Validation DataLoader 0:  50%|█████     | 10/20 [00:08<00:08,  1.11it/s]\u001b[A"
     ]
    },
    {
     "name": "stderr",
     "output_type": "stream",
     "text": [
      "INFO:__main__:Processing batch with 1 samples\n",
      "INFO:__main__:Loading image: fsdam/one_shot/val/1755_00078.png\n",
      "INFO:__main__:Input shapes: input_ids=torch.Size([1, 1269]), pixel_values=torch.Size([1, 3, 3, 336, 336])\n",
      "INFO:__main__:Validation batch 10, size: 1\n"
     ]
    },
    {
     "name": "stdout",
     "output_type": "stream",
     "text": [
      "\n",
      "Validation DataLoader 0:  55%|█████▌    | 11/20 [00:10<00:08,  1.04it/s]\u001b[A"
     ]
    },
    {
     "name": "stderr",
     "output_type": "stream",
     "text": [
      "INFO:__main__:Processing batch with 1 samples\n",
      "INFO:__main__:Loading image: fsdam/one_shot/val/1756_00013.png\n",
      "INFO:__main__:Input shapes: input_ids=torch.Size([1, 1287]), pixel_values=torch.Size([1, 3, 3, 336, 336])\n",
      "INFO:__main__:Validation batch 11, size: 1\n"
     ]
    },
    {
     "name": "stdout",
     "output_type": "stream",
     "text": [
      "\n",
      "Validation DataLoader 0:  60%|██████    | 12/20 [00:11<00:07,  1.09it/s]\u001b[A"
     ]
    },
    {
     "name": "stderr",
     "output_type": "stream",
     "text": [
      "INFO:__main__:Processing batch with 1 samples\n",
      "INFO:__main__:Loading image: fsdam/one_shot/val/1760_00071.png\n",
      "INFO:__main__:Input shapes: input_ids=torch.Size([1, 1280]), pixel_values=torch.Size([1, 3, 3, 336, 336])\n",
      "INFO:__main__:Validation batch 12, size: 1\n"
     ]
    },
    {
     "name": "stdout",
     "output_type": "stream",
     "text": [
      "\n",
      "Validation DataLoader 0:  65%|██████▌   | 13/20 [00:11<00:06,  1.08it/s]\u001b[A"
     ]
    },
    {
     "name": "stderr",
     "output_type": "stream",
     "text": [
      "INFO:__main__:Processing batch with 1 samples\n",
      "INFO:__main__:Loading image: fsdam/one_shot/val/1761_00005.png\n",
      "INFO:__main__:Input shapes: input_ids=torch.Size([1, 1285]), pixel_values=torch.Size([1, 3, 3, 336, 336])\n",
      "INFO:__main__:Validation batch 13, size: 1\n"
     ]
    },
    {
     "name": "stdout",
     "output_type": "stream",
     "text": [
      "\n",
      "Validation DataLoader 0:  70%|███████   | 14/20 [00:12<00:05,  1.12it/s]\u001b[A"
     ]
    },
    {
     "name": "stderr",
     "output_type": "stream",
     "text": [
      "INFO:__main__:Processing batch with 1 samples\n",
      "INFO:__main__:Loading image: fsdam/one_shot/val/1764_00032.png\n",
      "INFO:__main__:Input shapes: input_ids=torch.Size([1, 1274]), pixel_values=torch.Size([1, 3, 3, 336, 336])\n",
      "INFO:__main__:Validation batch 14, size: 1\n"
     ]
    },
    {
     "name": "stdout",
     "output_type": "stream",
     "text": [
      "\n",
      "Validation DataLoader 0:  75%|███████▌  | 15/20 [00:13<00:04,  1.09it/s]\u001b[A"
     ]
    },
    {
     "name": "stderr",
     "output_type": "stream",
     "text": [
      "INFO:__main__:Processing batch with 1 samples\n",
      "INFO:__main__:Loading image: fsdam/one_shot/val/1767_00017.png\n",
      "INFO:__main__:Input shapes: input_ids=torch.Size([1, 1281]), pixel_values=torch.Size([1, 3, 3, 336, 336])\n",
      "INFO:__main__:Validation batch 15, size: 1\n"
     ]
    },
    {
     "name": "stdout",
     "output_type": "stream",
     "text": [
      "\n",
      "Validation DataLoader 0:  80%|████████  | 16/20 [00:14<00:03,  1.12it/s]\u001b[A"
     ]
    },
    {
     "name": "stderr",
     "output_type": "stream",
     "text": [
      "INFO:__main__:Processing batch with 1 samples\n",
      "INFO:__main__:Loading image: fsdam/one_shot/val/1768_00239.png\n",
      "INFO:__main__:Input shapes: input_ids=torch.Size([1, 1304]), pixel_values=torch.Size([1, 3, 3, 336, 336])\n",
      "INFO:__main__:Validation batch 16, size: 1\n"
     ]
    },
    {
     "name": "stdout",
     "output_type": "stream",
     "text": [
      "\n",
      "Validation DataLoader 0:  85%|████████▌ | 17/20 [00:14<00:02,  1.15it/s]\u001b[A"
     ]
    },
    {
     "name": "stderr",
     "output_type": "stream",
     "text": [
      "INFO:__main__:Processing batch with 1 samples\n",
      "INFO:__main__:Loading image: fsdam/one_shot/val/1771_00259.png\n",
      "INFO:__main__:Input shapes: input_ids=torch.Size([1, 1295]), pixel_values=torch.Size([1, 3, 3, 336, 336])\n",
      "INFO:__main__:Validation batch 17, size: 1\n"
     ]
    },
    {
     "name": "stdout",
     "output_type": "stream",
     "text": [
      "\n",
      "Validation DataLoader 0:  90%|█████████ | 18/20 [00:16<00:01,  1.11it/s]\u001b[A"
     ]
    },
    {
     "name": "stderr",
     "output_type": "stream",
     "text": [
      "INFO:__main__:Processing batch with 1 samples\n",
      "INFO:__main__:Loading image: fsdam/one_shot/val/1772_00192.png\n",
      "INFO:__main__:Input shapes: input_ids=torch.Size([1, 1299]), pixel_values=torch.Size([1, 3, 3, 336, 336])\n",
      "INFO:__main__:Validation batch 18, size: 1\n"
     ]
    },
    {
     "name": "stdout",
     "output_type": "stream",
     "text": [
      "\n",
      "Validation DataLoader 0:  95%|█████████▌| 19/20 [00:16<00:00,  1.14it/s]\u001b[A"
     ]
    },
    {
     "name": "stderr",
     "output_type": "stream",
     "text": [
      "INFO:__main__:Processing batch with 1 samples\n",
      "INFO:__main__:Loading image: fsdam/one_shot/val/1773_00089.png\n",
      "INFO:__main__:Input shapes: input_ids=torch.Size([1, 1275]), pixel_values=torch.Size([1, 3, 3, 336, 336])\n",
      "INFO:__main__:Validation batch 19, size: 1\n"
     ]
    },
    {
     "name": "stdout",
     "output_type": "stream",
     "text": [
      "\n",
      "Validation DataLoader 0: 100%|██████████| 20/20 [00:17<00:00,  1.17it/s]\u001b[A\n",
      "Epoch 13:   0%|          | 0/1 [00:00<?, ?it/s, v_num=shot, train_loss_step=4.100, val_loss_step=4.160, val_rouge_step=0.836, val_loss_epoch=4.110, val_rouge_epoch=0.819, train_loss_epoch=4.100]        "
     ]
    },
    {
     "name": "stderr",
     "output_type": "stream",
     "text": [
      "INFO:__main__:Starting epoch 13\n",
      "INFO:__main__:Processing batch with 1 samples\n",
      "INFO:__main__:Loading image: fsdam/one_shot/train/1006_00018.png\n",
      "INFO:__main__:Input shapes: input_ids=torch.Size([1, 1271]), pixel_values=torch.Size([1, 3, 3, 336, 336])\n",
      "INFO:__main__:Training batch 0, size: 1\n",
      "INFO:__main__:Sample Training Prediction: …IT [1 anch \"\n",
      "cribe the image in including time's perspective locatione, and the the gaze is likely shift next. why./INST] The scene sceneined with palm trees and houses. visible. with a green traffic...\n",
      "INFO:__main__:Training loss: 4.073254\n"
     ]
    },
    {
     "name": "stdout",
     "output_type": "stream",
     "text": [
      "Epoch 13: 100%|██████████| 1/1 [00:00<00:00,  1.86it/s, v_num=shot, train_loss_step=4.070, val_loss_step=4.160, val_rouge_step=0.836, val_loss_epoch=4.110, val_rouge_epoch=0.819, train_loss_epoch=4.100]\n",
      "Validation: |          | 0/? [00:00<?, ?it/s]\u001b[A"
     ]
    },
    {
     "name": "stderr",
     "output_type": "stream",
     "text": [
      "INFO:__main__:Processing batch with 1 samples\n",
      "INFO:__main__:Loading image: fsdam/one_shot/val/1737_00085.png\n",
      "INFO:__main__:Input shapes: input_ids=torch.Size([1, 1282]), pixel_values=torch.Size([1, 3, 3, 336, 336])\n"
     ]
    },
    {
     "name": "stdout",
     "output_type": "stream",
     "text": [
      "\n",
      "Validation:   0%|          | 0/20 [00:00<?, ?it/s]\u001b[A\n",
      "Validation DataLoader 0:   0%|          | 0/20 [00:00<?, ?it/s]\u001b[A"
     ]
    },
    {
     "name": "stderr",
     "output_type": "stream",
     "text": [
      "INFO:__main__:Validation batch 0, size: 1\n",
      "INFO:__main__:Sample Validation Prediction: The scene shows a busy urban intersection with cars, buildings, and a yellow traffic light ahead. The current gaze focuses on the car in front. The future gaze will likely shift to the traffic light. ...\n",
      "INFO:__main__:Sample Validation Target: [INST] \n",
      "Describe the scene, the driver's current gaze, and where that gaze will likely shift next and why.[/INST] The scene shows a busy urban intersection with cars, buildings, and a yellow traffic l...\n",
      "INFO:__main__:Validation Loss: 4.065484\n"
     ]
    },
    {
     "name": "stdout",
     "output_type": "stream",
     "text": [
      "\n",
      "Validation DataLoader 0:   5%|▌         | 1/20 [00:00<00:09,  2.00it/s]\u001b[A"
     ]
    },
    {
     "name": "stderr",
     "output_type": "stream",
     "text": [
      "INFO:__main__:Processing batch with 1 samples\n",
      "INFO:__main__:Loading image: fsdam/one_shot/val/1737_00287.png\n",
      "INFO:__main__:Input shapes: input_ids=torch.Size([1, 1293]), pixel_values=torch.Size([1, 3, 3, 336, 336])\n",
      "INFO:__main__:Validation batch 1, size: 1\n"
     ]
    },
    {
     "name": "stdout",
     "output_type": "stream",
     "text": [
      "\n",
      "Validation DataLoader 0:  10%|█         | 2/20 [00:02<00:24,  0.75it/s]\u001b[A"
     ]
    },
    {
     "name": "stderr",
     "output_type": "stream",
     "text": [
      "INFO:__main__:Processing batch with 1 samples\n",
      "INFO:__main__:Loading image: fsdam/one_shot/val/1744_00119.png\n",
      "INFO:__main__:Input shapes: input_ids=torch.Size([1, 1272]), pixel_values=torch.Size([1, 3, 3, 336, 336])\n",
      "INFO:__main__:Validation batch 2, size: 1\n"
     ]
    },
    {
     "name": "stdout",
     "output_type": "stream",
     "text": [
      "\n",
      "Validation DataLoader 0:  15%|█▌        | 3/20 [00:04<00:23,  0.72it/s]\u001b[A"
     ]
    },
    {
     "name": "stderr",
     "output_type": "stream",
     "text": [
      "INFO:__main__:Processing batch with 1 samples\n",
      "INFO:__main__:Loading image: fsdam/one_shot/val/1744_00219.png\n",
      "INFO:__main__:Input shapes: input_ids=torch.Size([1, 1262]), pixel_values=torch.Size([1, 3, 3, 336, 336])\n",
      "INFO:__main__:Validation batch 3, size: 1\n"
     ]
    },
    {
     "name": "stdout",
     "output_type": "stream",
     "text": [
      "\n",
      "Validation DataLoader 0:  20%|██        | 4/20 [00:04<00:18,  0.85it/s]\u001b[A"
     ]
    },
    {
     "name": "stderr",
     "output_type": "stream",
     "text": [
      "INFO:__main__:Processing batch with 1 samples\n",
      "INFO:__main__:Loading image: fsdam/one_shot/val/1746_00008.png\n",
      "INFO:__main__:Input shapes: input_ids=torch.Size([1, 1272]), pixel_values=torch.Size([1, 3, 3, 336, 336])\n",
      "INFO:__main__:Validation batch 4, size: 1\n"
     ]
    },
    {
     "name": "stdout",
     "output_type": "stream",
     "text": [
      "\n",
      "Validation DataLoader 0:  25%|██▌       | 5/20 [00:05<00:15,  0.97it/s]\u001b[A"
     ]
    },
    {
     "name": "stderr",
     "output_type": "stream",
     "text": [
      "INFO:__main__:Processing batch with 1 samples\n",
      "INFO:__main__:Loading image: fsdam/one_shot/val/1747_00012.png\n",
      "INFO:__main__:Input shapes: input_ids=torch.Size([1, 1282]), pixel_values=torch.Size([1, 3, 3, 336, 336])\n",
      "INFO:__main__:Validation batch 5, size: 1\n"
     ]
    },
    {
     "name": "stdout",
     "output_type": "stream",
     "text": [
      "\n",
      "Validation DataLoader 0:  30%|███       | 6/20 [00:05<00:13,  1.06it/s]\u001b[A"
     ]
    },
    {
     "name": "stderr",
     "output_type": "stream",
     "text": [
      "INFO:__main__:Processing batch with 1 samples\n",
      "INFO:__main__:Loading image: fsdam/one_shot/val/1748_00018.png\n",
      "INFO:__main__:Input shapes: input_ids=torch.Size([1, 1269]), pixel_values=torch.Size([1, 3, 3, 336, 336])\n",
      "INFO:__main__:Validation batch 6, size: 1\n"
     ]
    },
    {
     "name": "stdout",
     "output_type": "stream",
     "text": [
      "\n",
      "Validation DataLoader 0:  35%|███▌      | 7/20 [00:06<00:11,  1.14it/s]\u001b[A"
     ]
    },
    {
     "name": "stderr",
     "output_type": "stream",
     "text": [
      "INFO:__main__:Processing batch with 1 samples\n",
      "INFO:__main__:Loading image: fsdam/one_shot/val/1748_00243.png\n",
      "INFO:__main__:Input shapes: input_ids=torch.Size([1, 1277]), pixel_values=torch.Size([1, 3, 3, 336, 336])\n",
      "INFO:__main__:Validation batch 7, size: 1\n"
     ]
    },
    {
     "name": "stdout",
     "output_type": "stream",
     "text": [
      "\n",
      "Validation DataLoader 0:  40%|████      | 8/20 [00:06<00:09,  1.21it/s]\u001b[A"
     ]
    },
    {
     "name": "stderr",
     "output_type": "stream",
     "text": [
      "INFO:__main__:Processing batch with 1 samples\n",
      "INFO:__main__:Loading image: fsdam/one_shot/val/1753_00160.png\n",
      "INFO:__main__:Input shapes: input_ids=torch.Size([1, 1283]), pixel_values=torch.Size([1, 3, 3, 336, 336])\n",
      "INFO:__main__:Validation batch 8, size: 1\n"
     ]
    },
    {
     "name": "stdout",
     "output_type": "stream",
     "text": [
      "\n",
      "Validation DataLoader 0:  45%|████▌     | 9/20 [00:08<00:10,  1.09it/s]\u001b[A"
     ]
    },
    {
     "name": "stderr",
     "output_type": "stream",
     "text": [
      "INFO:__main__:Processing batch with 1 samples\n",
      "INFO:__main__:Loading image: fsdam/one_shot/val/1754_00079.png\n",
      "INFO:__main__:Input shapes: input_ids=torch.Size([1, 1292]), pixel_values=torch.Size([1, 3, 3, 336, 336])\n",
      "INFO:__main__:Validation batch 9, size: 1\n"
     ]
    },
    {
     "name": "stdout",
     "output_type": "stream",
     "text": [
      "\n",
      "Validation DataLoader 0:  50%|█████     | 10/20 [00:08<00:08,  1.14it/s]\u001b[A"
     ]
    },
    {
     "name": "stderr",
     "output_type": "stream",
     "text": [
      "INFO:__main__:Processing batch with 1 samples\n",
      "INFO:__main__:Loading image: fsdam/one_shot/val/1755_00078.png\n",
      "INFO:__main__:Input shapes: input_ids=torch.Size([1, 1269]), pixel_values=torch.Size([1, 3, 3, 336, 336])\n",
      "INFO:__main__:Validation batch 10, size: 1\n"
     ]
    },
    {
     "name": "stdout",
     "output_type": "stream",
     "text": [
      "\n",
      "Validation DataLoader 0:  55%|█████▌    | 11/20 [00:10<00:08,  1.07it/s]\u001b[A"
     ]
    },
    {
     "name": "stderr",
     "output_type": "stream",
     "text": [
      "INFO:__main__:Processing batch with 1 samples\n",
      "INFO:__main__:Loading image: fsdam/one_shot/val/1756_00013.png\n",
      "INFO:__main__:Input shapes: input_ids=torch.Size([1, 1287]), pixel_values=torch.Size([1, 3, 3, 336, 336])\n",
      "INFO:__main__:Validation batch 11, size: 1\n"
     ]
    },
    {
     "name": "stdout",
     "output_type": "stream",
     "text": [
      "\n",
      "Validation DataLoader 0:  60%|██████    | 12/20 [00:10<00:07,  1.10it/s]\u001b[A"
     ]
    },
    {
     "name": "stderr",
     "output_type": "stream",
     "text": [
      "INFO:__main__:Processing batch with 1 samples\n",
      "INFO:__main__:Loading image: fsdam/one_shot/val/1760_00071.png\n",
      "INFO:__main__:Input shapes: input_ids=torch.Size([1, 1280]), pixel_values=torch.Size([1, 3, 3, 336, 336])\n",
      "INFO:__main__:Validation batch 12, size: 1\n"
     ]
    },
    {
     "name": "stdout",
     "output_type": "stream",
     "text": [
      "\n",
      "Validation DataLoader 0:  65%|██████▌   | 13/20 [00:12<00:06,  1.07it/s]\u001b[A"
     ]
    },
    {
     "name": "stderr",
     "output_type": "stream",
     "text": [
      "INFO:__main__:Processing batch with 1 samples\n",
      "INFO:__main__:Loading image: fsdam/one_shot/val/1761_00005.png\n",
      "INFO:__main__:Input shapes: input_ids=torch.Size([1, 1285]), pixel_values=torch.Size([1, 3, 3, 336, 336])\n",
      "INFO:__main__:Validation batch 13, size: 1\n"
     ]
    },
    {
     "name": "stdout",
     "output_type": "stream",
     "text": [
      "\n",
      "Validation DataLoader 0:  70%|███████   | 14/20 [00:12<00:05,  1.10it/s]\u001b[A"
     ]
    },
    {
     "name": "stderr",
     "output_type": "stream",
     "text": [
      "INFO:__main__:Processing batch with 1 samples\n",
      "INFO:__main__:Loading image: fsdam/one_shot/val/1764_00032.png\n",
      "INFO:__main__:Input shapes: input_ids=torch.Size([1, 1274]), pixel_values=torch.Size([1, 3, 3, 336, 336])\n",
      "INFO:__main__:Validation batch 14, size: 1\n"
     ]
    },
    {
     "name": "stdout",
     "output_type": "stream",
     "text": [
      "\n",
      "Validation DataLoader 0:  75%|███████▌  | 15/20 [00:14<00:04,  1.04it/s]\u001b[A"
     ]
    },
    {
     "name": "stderr",
     "output_type": "stream",
     "text": [
      "INFO:__main__:Processing batch with 1 samples\n",
      "INFO:__main__:Loading image: fsdam/one_shot/val/1767_00017.png\n",
      "INFO:__main__:Input shapes: input_ids=torch.Size([1, 1281]), pixel_values=torch.Size([1, 3, 3, 336, 336])\n",
      "INFO:__main__:Validation batch 15, size: 1\n"
     ]
    },
    {
     "name": "stdout",
     "output_type": "stream",
     "text": [
      "\n",
      "Validation DataLoader 0:  80%|████████  | 16/20 [00:14<00:03,  1.08it/s]\u001b[A"
     ]
    },
    {
     "name": "stderr",
     "output_type": "stream",
     "text": [
      "INFO:__main__:Processing batch with 1 samples\n",
      "INFO:__main__:Loading image: fsdam/one_shot/val/1768_00239.png\n",
      "INFO:__main__:Input shapes: input_ids=torch.Size([1, 1304]), pixel_values=torch.Size([1, 3, 3, 336, 336])\n",
      "INFO:__main__:Validation batch 16, size: 1\n"
     ]
    },
    {
     "name": "stdout",
     "output_type": "stream",
     "text": [
      "\n",
      "Validation DataLoader 0:  85%|████████▌ | 17/20 [00:15<00:02,  1.11it/s]\u001b[A"
     ]
    },
    {
     "name": "stderr",
     "output_type": "stream",
     "text": [
      "INFO:__main__:Processing batch with 1 samples\n",
      "INFO:__main__:Loading image: fsdam/one_shot/val/1771_00259.png\n",
      "INFO:__main__:Input shapes: input_ids=torch.Size([1, 1295]), pixel_values=torch.Size([1, 3, 3, 336, 336])\n",
      "INFO:__main__:Validation batch 17, size: 1\n"
     ]
    },
    {
     "name": "stdout",
     "output_type": "stream",
     "text": [
      "\n",
      "Validation DataLoader 0:  90%|█████████ | 18/20 [00:16<00:01,  1.08it/s]\u001b[A"
     ]
    },
    {
     "name": "stderr",
     "output_type": "stream",
     "text": [
      "INFO:__main__:Processing batch with 1 samples\n",
      "INFO:__main__:Loading image: fsdam/one_shot/val/1772_00192.png\n",
      "INFO:__main__:Input shapes: input_ids=torch.Size([1, 1299]), pixel_values=torch.Size([1, 3, 3, 336, 336])\n",
      "INFO:__main__:Validation batch 18, size: 1\n"
     ]
    },
    {
     "name": "stdout",
     "output_type": "stream",
     "text": [
      "\n",
      "Validation DataLoader 0:  95%|█████████▌| 19/20 [00:17<00:00,  1.10it/s]\u001b[A"
     ]
    },
    {
     "name": "stderr",
     "output_type": "stream",
     "text": [
      "INFO:__main__:Processing batch with 1 samples\n",
      "INFO:__main__:Loading image: fsdam/one_shot/val/1773_00089.png\n",
      "INFO:__main__:Input shapes: input_ids=torch.Size([1, 1275]), pixel_values=torch.Size([1, 3, 3, 336, 336])\n",
      "INFO:__main__:Validation batch 19, size: 1\n"
     ]
    },
    {
     "name": "stdout",
     "output_type": "stream",
     "text": [
      "\n",
      "Validation DataLoader 0: 100%|██████████| 20/20 [00:17<00:00,  1.13it/s]\u001b[A\n",
      "Epoch 14:   0%|          | 0/1 [00:00<?, ?it/s, v_num=shot, train_loss_step=4.070, val_loss_step=4.130, val_rouge_step=0.836, val_loss_epoch=4.080, val_rouge_epoch=0.820, train_loss_epoch=4.070]        "
     ]
    },
    {
     "name": "stderr",
     "output_type": "stream",
     "text": [
      "INFO:__main__:Starting epoch 14\n",
      "INFO:__main__:Processing batch with 1 samples\n",
      "INFO:__main__:Loading image: fsdam/one_shot/train/1006_00018.png\n",
      "INFO:__main__:Input shapes: input_ids=torch.Size([1, 1271]), pixel_values=torch.Size([1, 3, 3, 336, 336])\n",
      "INFO:__main__:Training batch 0, size: 1\n",
      "INFO:__main__:Sample Training Prediction: …IT [1 anch.\n",
      "cribe the scene in including time's perspective locatione, and the the gaze is likely shift next. why./INST] The scene lined with palm trees and houses. visible. with a green traffic ligh...\n",
      "INFO:__main__:Training loss: 4.040391\n"
     ]
    },
    {
     "name": "stdout",
     "output_type": "stream",
     "text": [
      "Epoch 14: 100%|██████████| 1/1 [00:00<00:00,  1.99it/s, v_num=shot, train_loss_step=4.040, val_loss_step=4.130, val_rouge_step=0.836, val_loss_epoch=4.080, val_rouge_epoch=0.820, train_loss_epoch=4.070]\n",
      "Validation: |          | 0/? [00:00<?, ?it/s]\u001b[A"
     ]
    },
    {
     "name": "stderr",
     "output_type": "stream",
     "text": [
      "INFO:__main__:Processing batch with 1 samples\n",
      "INFO:__main__:Loading image: fsdam/one_shot/val/1737_00085.png\n",
      "INFO:__main__:Input shapes: input_ids=torch.Size([1, 1282]), pixel_values=torch.Size([1, 3, 3, 336, 336])\n"
     ]
    },
    {
     "name": "stdout",
     "output_type": "stream",
     "text": [
      "\n",
      "Validation:   0%|          | 0/20 [00:00<?, ?it/s]\u001b[A\n",
      "Validation DataLoader 0:   0%|          | 0/20 [00:00<?, ?it/s]\u001b[A"
     ]
    },
    {
     "name": "stderr",
     "output_type": "stream",
     "text": [
      "INFO:__main__:Validation batch 0, size: 1\n",
      "INFO:__main__:Sample Validation Prediction: The scene shows a busy urban intersection with cars, buildings, and a yellow traffic light ahead. The current gaze focuses on the car in front. The future gaze will likely shift to the traffic light. ...\n",
      "INFO:__main__:Sample Validation Target: [INST] \n",
      "Describe the scene, the driver's current gaze, and where that gaze will likely shift next and why.[/INST] The scene shows a busy urban intersection with cars, buildings, and a yellow traffic l...\n",
      "INFO:__main__:Validation Loss: 4.050284\n"
     ]
    },
    {
     "name": "stdout",
     "output_type": "stream",
     "text": [
      "\n",
      "Validation DataLoader 0:   5%|▌         | 1/20 [00:00<00:08,  2.24it/s]\u001b[A"
     ]
    },
    {
     "name": "stderr",
     "output_type": "stream",
     "text": [
      "INFO:__main__:Processing batch with 1 samples\n",
      "INFO:__main__:Loading image: fsdam/one_shot/val/1737_00287.png\n",
      "INFO:__main__:Input shapes: input_ids=torch.Size([1, 1293]), pixel_values=torch.Size([1, 3, 3, 336, 336])\n",
      "INFO:__main__:Validation batch 1, size: 1\n"
     ]
    },
    {
     "name": "stdout",
     "output_type": "stream",
     "text": [
      "\n",
      "Validation DataLoader 0:  10%|█         | 2/20 [00:02<00:18,  0.97it/s]\u001b[A"
     ]
    },
    {
     "name": "stderr",
     "output_type": "stream",
     "text": [
      "INFO:__main__:Processing batch with 1 samples\n",
      "INFO:__main__:Loading image: fsdam/one_shot/val/1744_00119.png\n",
      "INFO:__main__:Input shapes: input_ids=torch.Size([1, 1272]), pixel_values=torch.Size([1, 3, 3, 336, 336])\n",
      "INFO:__main__:Validation batch 2, size: 1\n"
     ]
    },
    {
     "name": "stdout",
     "output_type": "stream",
     "text": [
      "\n",
      "Validation DataLoader 0:  15%|█▌        | 3/20 [00:03<00:18,  0.93it/s]\u001b[A"
     ]
    },
    {
     "name": "stderr",
     "output_type": "stream",
     "text": [
      "INFO:__main__:Processing batch with 1 samples\n",
      "INFO:__main__:Loading image: fsdam/one_shot/val/1744_00219.png\n",
      "INFO:__main__:Input shapes: input_ids=torch.Size([1, 1262]), pixel_values=torch.Size([1, 3, 3, 336, 336])\n",
      "INFO:__main__:Validation batch 3, size: 1\n"
     ]
    },
    {
     "name": "stdout",
     "output_type": "stream",
     "text": [
      "\n",
      "Validation DataLoader 0:  20%|██        | 4/20 [00:03<00:14,  1.08it/s]\u001b[A"
     ]
    },
    {
     "name": "stderr",
     "output_type": "stream",
     "text": [
      "INFO:__main__:Processing batch with 1 samples\n",
      "INFO:__main__:Loading image: fsdam/one_shot/val/1746_00008.png\n",
      "INFO:__main__:Input shapes: input_ids=torch.Size([1, 1272]), pixel_values=torch.Size([1, 3, 3, 336, 336])\n",
      "INFO:__main__:Validation batch 4, size: 1\n"
     ]
    },
    {
     "name": "stdout",
     "output_type": "stream",
     "text": [
      "\n",
      "Validation DataLoader 0:  25%|██▌       | 5/20 [00:04<00:12,  1.19it/s]\u001b[A"
     ]
    },
    {
     "name": "stderr",
     "output_type": "stream",
     "text": [
      "INFO:__main__:Processing batch with 1 samples\n",
      "INFO:__main__:Loading image: fsdam/one_shot/val/1747_00012.png\n",
      "INFO:__main__:Input shapes: input_ids=torch.Size([1, 1282]), pixel_values=torch.Size([1, 3, 3, 336, 336])\n",
      "INFO:__main__:Validation batch 5, size: 1\n"
     ]
    },
    {
     "name": "stdout",
     "output_type": "stream",
     "text": [
      "\n",
      "Validation DataLoader 0:  30%|███       | 6/20 [00:04<00:10,  1.29it/s]\u001b[A"
     ]
    },
    {
     "name": "stderr",
     "output_type": "stream",
     "text": [
      "INFO:__main__:Processing batch with 1 samples\n",
      "INFO:__main__:Loading image: fsdam/one_shot/val/1748_00018.png\n",
      "INFO:__main__:Input shapes: input_ids=torch.Size([1, 1269]), pixel_values=torch.Size([1, 3, 3, 336, 336])\n",
      "INFO:__main__:Validation batch 6, size: 1\n"
     ]
    },
    {
     "name": "stdout",
     "output_type": "stream",
     "text": [
      "\n",
      "Validation DataLoader 0:  35%|███▌      | 7/20 [00:05<00:09,  1.36it/s]\u001b[A"
     ]
    },
    {
     "name": "stderr",
     "output_type": "stream",
     "text": [
      "INFO:__main__:Processing batch with 1 samples\n",
      "INFO:__main__:Loading image: fsdam/one_shot/val/1748_00243.png\n",
      "INFO:__main__:Input shapes: input_ids=torch.Size([1, 1277]), pixel_values=torch.Size([1, 3, 3, 336, 336])\n",
      "INFO:__main__:Validation batch 7, size: 1\n"
     ]
    },
    {
     "name": "stdout",
     "output_type": "stream",
     "text": [
      "\n",
      "Validation DataLoader 0:  40%|████      | 8/20 [00:05<00:08,  1.42it/s]\u001b[A"
     ]
    },
    {
     "name": "stderr",
     "output_type": "stream",
     "text": [
      "INFO:__main__:Processing batch with 1 samples\n",
      "INFO:__main__:Loading image: fsdam/one_shot/val/1753_00160.png\n",
      "INFO:__main__:Input shapes: input_ids=torch.Size([1, 1283]), pixel_values=torch.Size([1, 3, 3, 336, 336])\n",
      "INFO:__main__:Validation batch 8, size: 1\n"
     ]
    },
    {
     "name": "stdout",
     "output_type": "stream",
     "text": [
      "\n",
      "Validation DataLoader 0:  45%|████▌     | 9/20 [00:07<00:08,  1.24it/s]\u001b[A"
     ]
    },
    {
     "name": "stderr",
     "output_type": "stream",
     "text": [
      "INFO:__main__:Processing batch with 1 samples\n",
      "INFO:__main__:Loading image: fsdam/one_shot/val/1754_00079.png\n",
      "INFO:__main__:Input shapes: input_ids=torch.Size([1, 1292]), pixel_values=torch.Size([1, 3, 3, 336, 336])\n",
      "INFO:__main__:Validation batch 9, size: 1\n"
     ]
    },
    {
     "name": "stdout",
     "output_type": "stream",
     "text": [
      "\n",
      "Validation DataLoader 0:  50%|█████     | 10/20 [00:07<00:07,  1.29it/s]\u001b[A"
     ]
    },
    {
     "name": "stderr",
     "output_type": "stream",
     "text": [
      "INFO:__main__:Processing batch with 1 samples\n",
      "INFO:__main__:Loading image: fsdam/one_shot/val/1755_00078.png\n",
      "INFO:__main__:Input shapes: input_ids=torch.Size([1, 1269]), pixel_values=torch.Size([1, 3, 3, 336, 336])\n",
      "INFO:__main__:Validation batch 10, size: 1\n"
     ]
    },
    {
     "name": "stdout",
     "output_type": "stream",
     "text": [
      "\n",
      "Validation DataLoader 0:  55%|█████▌    | 11/20 [00:09<00:07,  1.18it/s]\u001b[A"
     ]
    },
    {
     "name": "stderr",
     "output_type": "stream",
     "text": [
      "INFO:__main__:Processing batch with 1 samples\n",
      "INFO:__main__:Loading image: fsdam/one_shot/val/1756_00013.png\n",
      "INFO:__main__:Input shapes: input_ids=torch.Size([1, 1287]), pixel_values=torch.Size([1, 3, 3, 336, 336])\n",
      "INFO:__main__:Validation batch 11, size: 1\n"
     ]
    },
    {
     "name": "stdout",
     "output_type": "stream",
     "text": [
      "\n",
      "Validation DataLoader 0:  60%|██████    | 12/20 [00:09<00:06,  1.22it/s]\u001b[A"
     ]
    },
    {
     "name": "stderr",
     "output_type": "stream",
     "text": [
      "INFO:__main__:Processing batch with 1 samples\n",
      "INFO:__main__:Loading image: fsdam/one_shot/val/1760_00071.png\n",
      "INFO:__main__:Input shapes: input_ids=torch.Size([1, 1280]), pixel_values=torch.Size([1, 3, 3, 336, 336])\n",
      "INFO:__main__:Validation batch 12, size: 1\n"
     ]
    },
    {
     "name": "stdout",
     "output_type": "stream",
     "text": [
      "\n",
      "Validation DataLoader 0:  65%|██████▌   | 13/20 [00:10<00:05,  1.21it/s]\u001b[A"
     ]
    },
    {
     "name": "stderr",
     "output_type": "stream",
     "text": [
      "INFO:__main__:Processing batch with 1 samples\n",
      "INFO:__main__:Loading image: fsdam/one_shot/val/1761_00005.png\n",
      "INFO:__main__:Input shapes: input_ids=torch.Size([1, 1285]), pixel_values=torch.Size([1, 3, 3, 336, 336])\n",
      "INFO:__main__:Validation batch 13, size: 1\n"
     ]
    },
    {
     "name": "stdout",
     "output_type": "stream",
     "text": [
      "\n",
      "Validation DataLoader 0:  70%|███████   | 14/20 [00:11<00:04,  1.24it/s]\u001b[A"
     ]
    },
    {
     "name": "stderr",
     "output_type": "stream",
     "text": [
      "INFO:__main__:Processing batch with 1 samples\n",
      "INFO:__main__:Loading image: fsdam/one_shot/val/1764_00032.png\n",
      "INFO:__main__:Input shapes: input_ids=torch.Size([1, 1274]), pixel_values=torch.Size([1, 3, 3, 336, 336])\n",
      "INFO:__main__:Validation batch 14, size: 1\n"
     ]
    },
    {
     "name": "stdout",
     "output_type": "stream",
     "text": [
      "\n",
      "Validation DataLoader 0:  75%|███████▌  | 15/20 [00:12<00:04,  1.19it/s]\u001b[A"
     ]
    },
    {
     "name": "stderr",
     "output_type": "stream",
     "text": [
      "INFO:__main__:Processing batch with 1 samples\n",
      "INFO:__main__:Loading image: fsdam/one_shot/val/1767_00017.png\n",
      "INFO:__main__:Input shapes: input_ids=torch.Size([1, 1281]), pixel_values=torch.Size([1, 3, 3, 336, 336])\n",
      "INFO:__main__:Validation batch 15, size: 1\n"
     ]
    },
    {
     "name": "stdout",
     "output_type": "stream",
     "text": [
      "\n",
      "Validation DataLoader 0:  80%|████████  | 16/20 [00:13<00:03,  1.22it/s]\u001b[A"
     ]
    },
    {
     "name": "stderr",
     "output_type": "stream",
     "text": [
      "INFO:__main__:Processing batch with 1 samples\n",
      "INFO:__main__:Loading image: fsdam/one_shot/val/1768_00239.png\n",
      "INFO:__main__:Input shapes: input_ids=torch.Size([1, 1304]), pixel_values=torch.Size([1, 3, 3, 336, 336])\n",
      "INFO:__main__:Validation batch 16, size: 1\n"
     ]
    },
    {
     "name": "stdout",
     "output_type": "stream",
     "text": [
      "\n",
      "Validation DataLoader 0:  85%|████████▌ | 17/20 [00:13<00:02,  1.25it/s]\u001b[A"
     ]
    },
    {
     "name": "stderr",
     "output_type": "stream",
     "text": [
      "INFO:__main__:Processing batch with 1 samples\n",
      "INFO:__main__:Loading image: fsdam/one_shot/val/1771_00259.png\n",
      "INFO:__main__:Input shapes: input_ids=torch.Size([1, 1295]), pixel_values=torch.Size([1, 3, 3, 336, 336])\n",
      "INFO:__main__:Validation batch 17, size: 1\n"
     ]
    },
    {
     "name": "stdout",
     "output_type": "stream",
     "text": [
      "\n",
      "Validation DataLoader 0:  90%|█████████ | 18/20 [00:14<00:01,  1.20it/s]\u001b[A"
     ]
    },
    {
     "name": "stderr",
     "output_type": "stream",
     "text": [
      "INFO:__main__:Processing batch with 1 samples\n",
      "INFO:__main__:Loading image: fsdam/one_shot/val/1772_00192.png\n",
      "INFO:__main__:Input shapes: input_ids=torch.Size([1, 1299]), pixel_values=torch.Size([1, 3, 3, 336, 336])\n",
      "INFO:__main__:Validation batch 18, size: 1\n"
     ]
    },
    {
     "name": "stdout",
     "output_type": "stream",
     "text": [
      "\n",
      "Validation DataLoader 0:  95%|█████████▌| 19/20 [00:15<00:00,  1.23it/s]\u001b[A"
     ]
    },
    {
     "name": "stderr",
     "output_type": "stream",
     "text": [
      "INFO:__main__:Processing batch with 1 samples\n",
      "INFO:__main__:Loading image: fsdam/one_shot/val/1773_00089.png\n",
      "INFO:__main__:Input shapes: input_ids=torch.Size([1, 1275]), pixel_values=torch.Size([1, 3, 3, 336, 336])\n",
      "INFO:__main__:Validation batch 19, size: 1\n"
     ]
    },
    {
     "name": "stdout",
     "output_type": "stream",
     "text": [
      "\n",
      "Validation DataLoader 0: 100%|██████████| 20/20 [00:15<00:00,  1.26it/s]\u001b[A\n",
      "Epoch 15:   0%|          | 0/1 [00:00<?, ?it/s, v_num=shot, train_loss_step=4.040, val_loss_step=4.120, val_rouge_step=0.836, val_loss_epoch=4.070, val_rouge_epoch=0.820, train_loss_epoch=4.040]        "
     ]
    },
    {
     "name": "stderr",
     "output_type": "stream",
     "text": [
      "INFO:__main__:Starting epoch 15\n",
      "INFO:__main__:Processing batch with 1 samples\n",
      "INFO:__main__:Loading image: fsdam/one_shot/train/1006_00018.png\n",
      "INFO:__main__:Input shapes: input_ids=torch.Size([1, 1271]), pixel_values=torch.Size([1, 3, 3, 336, 336])\n",
      "INFO:__main__:Training batch 0, size: 1\n",
      "INFO:__main__:Sample Training Prediction: kwiet…IT [1 anch.\n",
      "cribe the scene in including time's perspective situatione, and the the gaze is likely shift next. why./INST] A scene lined with palm trees and houses is visible. with a green traffi...\n",
      "INFO:__main__:Training loss: 4.018245\n"
     ]
    },
    {
     "name": "stdout",
     "output_type": "stream",
     "text": [
      "Epoch 15: 100%|██████████| 1/1 [00:00<00:00,  1.92it/s, v_num=shot, train_loss_step=4.020, val_loss_step=4.120, val_rouge_step=0.836, val_loss_epoch=4.070, val_rouge_epoch=0.820, train_loss_epoch=4.040]\n",
      "Validation: |          | 0/? [00:00<?, ?it/s]\u001b[A"
     ]
    },
    {
     "name": "stderr",
     "output_type": "stream",
     "text": [
      "INFO:__main__:Processing batch with 1 samples\n",
      "INFO:__main__:Loading image: fsdam/one_shot/val/1737_00085.png\n",
      "INFO:__main__:Input shapes: input_ids=torch.Size([1, 1282]), pixel_values=torch.Size([1, 3, 3, 336, 336])\n"
     ]
    },
    {
     "name": "stdout",
     "output_type": "stream",
     "text": [
      "\n",
      "Validation:   0%|          | 0/20 [00:00<?, ?it/s]\u001b[A\n",
      "Validation DataLoader 0:   0%|          | 0/20 [00:00<?, ?it/s]\u001b[A"
     ]
    },
    {
     "name": "stderr",
     "output_type": "stream",
     "text": [
      "INFO:__main__:Validation batch 0, size: 1\n",
      "INFO:__main__:Sample Validation Prediction: The scene shows a busy urban intersection with cars, buildings, and a yellow traffic light ahead. The current gaze focuses on the car in front. The future gaze will likely shift to the traffic light. ...\n",
      "INFO:__main__:Sample Validation Target: [INST] \n",
      "Describe the scene, the driver's current gaze, and where that gaze will likely shift next and why.[/INST] The scene shows a busy urban intersection with cars, buildings, and a yellow traffic l...\n",
      "INFO:__main__:Validation Loss: 4.042135\n"
     ]
    },
    {
     "name": "stdout",
     "output_type": "stream",
     "text": [
      "\n",
      "Validation DataLoader 0:   5%|▌         | 1/20 [00:00<00:09,  2.09it/s]\u001b[A"
     ]
    },
    {
     "name": "stderr",
     "output_type": "stream",
     "text": [
      "INFO:__main__:Processing batch with 1 samples\n",
      "INFO:__main__:Loading image: fsdam/one_shot/val/1737_00287.png\n",
      "INFO:__main__:Input shapes: input_ids=torch.Size([1, 1293]), pixel_values=torch.Size([1, 3, 3, 336, 336])\n",
      "INFO:__main__:Validation batch 1, size: 1\n"
     ]
    },
    {
     "name": "stdout",
     "output_type": "stream",
     "text": [
      "\n",
      "Validation DataLoader 0:  10%|█         | 2/20 [00:02<00:18,  0.95it/s]\u001b[A"
     ]
    },
    {
     "name": "stderr",
     "output_type": "stream",
     "text": [
      "INFO:__main__:Processing batch with 1 samples\n",
      "INFO:__main__:Loading image: fsdam/one_shot/val/1744_00119.png\n",
      "INFO:__main__:Input shapes: input_ids=torch.Size([1, 1272]), pixel_values=torch.Size([1, 3, 3, 336, 336])\n",
      "INFO:__main__:Validation batch 2, size: 1\n"
     ]
    },
    {
     "name": "stdout",
     "output_type": "stream",
     "text": [
      "\n",
      "Validation DataLoader 0:  15%|█▌        | 3/20 [00:03<00:18,  0.92it/s]\u001b[A"
     ]
    },
    {
     "name": "stderr",
     "output_type": "stream",
     "text": [
      "INFO:__main__:Processing batch with 1 samples\n",
      "INFO:__main__:Loading image: fsdam/one_shot/val/1744_00219.png\n",
      "INFO:__main__:Input shapes: input_ids=torch.Size([1, 1262]), pixel_values=torch.Size([1, 3, 3, 336, 336])\n",
      "INFO:__main__:Validation batch 3, size: 1\n"
     ]
    },
    {
     "name": "stdout",
     "output_type": "stream",
     "text": [
      "\n",
      "Validation DataLoader 0:  20%|██        | 4/20 [00:03<00:14,  1.07it/s]\u001b[A"
     ]
    },
    {
     "name": "stderr",
     "output_type": "stream",
     "text": [
      "INFO:__main__:Processing batch with 1 samples\n",
      "INFO:__main__:Loading image: fsdam/one_shot/val/1746_00008.png\n",
      "INFO:__main__:Input shapes: input_ids=torch.Size([1, 1272]), pixel_values=torch.Size([1, 3, 3, 336, 336])\n",
      "INFO:__main__:Validation batch 4, size: 1\n"
     ]
    },
    {
     "name": "stdout",
     "output_type": "stream",
     "text": [
      "\n",
      "Validation DataLoader 0:  25%|██▌       | 5/20 [00:04<00:12,  1.19it/s]\u001b[A"
     ]
    },
    {
     "name": "stderr",
     "output_type": "stream",
     "text": [
      "INFO:__main__:Processing batch with 1 samples\n",
      "INFO:__main__:Loading image: fsdam/one_shot/val/1747_00012.png\n",
      "INFO:__main__:Input shapes: input_ids=torch.Size([1, 1282]), pixel_values=torch.Size([1, 3, 3, 336, 336])\n",
      "INFO:__main__:Validation batch 5, size: 1\n"
     ]
    },
    {
     "name": "stdout",
     "output_type": "stream",
     "text": [
      "\n",
      "Validation DataLoader 0:  30%|███       | 6/20 [00:04<00:10,  1.28it/s]\u001b[A"
     ]
    },
    {
     "name": "stderr",
     "output_type": "stream",
     "text": [
      "INFO:__main__:Processing batch with 1 samples\n",
      "INFO:__main__:Loading image: fsdam/one_shot/val/1748_00018.png\n",
      "INFO:__main__:Input shapes: input_ids=torch.Size([1, 1269]), pixel_values=torch.Size([1, 3, 3, 336, 336])\n",
      "INFO:__main__:Validation batch 6, size: 1\n"
     ]
    },
    {
     "name": "stdout",
     "output_type": "stream",
     "text": [
      "\n",
      "Validation DataLoader 0:  35%|███▌      | 7/20 [00:05<00:09,  1.35it/s]\u001b[A"
     ]
    },
    {
     "name": "stderr",
     "output_type": "stream",
     "text": [
      "INFO:__main__:Processing batch with 1 samples\n",
      "INFO:__main__:Loading image: fsdam/one_shot/val/1748_00243.png\n",
      "INFO:__main__:Input shapes: input_ids=torch.Size([1, 1277]), pixel_values=torch.Size([1, 3, 3, 336, 336])\n",
      "INFO:__main__:Validation batch 7, size: 1\n"
     ]
    },
    {
     "name": "stdout",
     "output_type": "stream",
     "text": [
      "\n",
      "Validation DataLoader 0:  40%|████      | 8/20 [00:05<00:08,  1.41it/s]\u001b[A"
     ]
    },
    {
     "name": "stderr",
     "output_type": "stream",
     "text": [
      "INFO:__main__:Processing batch with 1 samples\n",
      "INFO:__main__:Loading image: fsdam/one_shot/val/1753_00160.png\n",
      "INFO:__main__:Input shapes: input_ids=torch.Size([1, 1283]), pixel_values=torch.Size([1, 3, 3, 336, 336])\n",
      "INFO:__main__:Validation batch 8, size: 1\n"
     ]
    },
    {
     "name": "stdout",
     "output_type": "stream",
     "text": [
      "\n",
      "Validation DataLoader 0:  45%|████▌     | 9/20 [00:07<00:08,  1.23it/s]\u001b[A"
     ]
    },
    {
     "name": "stderr",
     "output_type": "stream",
     "text": [
      "INFO:__main__:Processing batch with 1 samples\n",
      "INFO:__main__:Loading image: fsdam/one_shot/val/1754_00079.png\n",
      "INFO:__main__:Input shapes: input_ids=torch.Size([1, 1292]), pixel_values=torch.Size([1, 3, 3, 336, 336])\n",
      "INFO:__main__:Validation batch 9, size: 1\n"
     ]
    },
    {
     "name": "stdout",
     "output_type": "stream",
     "text": [
      "\n",
      "Validation DataLoader 0:  50%|█████     | 10/20 [00:07<00:07,  1.28it/s]\u001b[A"
     ]
    },
    {
     "name": "stderr",
     "output_type": "stream",
     "text": [
      "INFO:__main__:Processing batch with 1 samples\n",
      "INFO:__main__:Loading image: fsdam/one_shot/val/1755_00078.png\n",
      "INFO:__main__:Input shapes: input_ids=torch.Size([1, 1269]), pixel_values=torch.Size([1, 3, 3, 336, 336])\n",
      "INFO:__main__:Validation batch 10, size: 1\n"
     ]
    },
    {
     "name": "stdout",
     "output_type": "stream",
     "text": [
      "\n",
      "Validation DataLoader 0:  55%|█████▌    | 11/20 [00:09<00:07,  1.17it/s]\u001b[A"
     ]
    },
    {
     "name": "stderr",
     "output_type": "stream",
     "text": [
      "INFO:__main__:Processing batch with 1 samples\n",
      "INFO:__main__:Loading image: fsdam/one_shot/val/1756_00013.png\n",
      "INFO:__main__:Input shapes: input_ids=torch.Size([1, 1287]), pixel_values=torch.Size([1, 3, 3, 336, 336])\n",
      "INFO:__main__:Validation batch 11, size: 1\n"
     ]
    },
    {
     "name": "stdout",
     "output_type": "stream",
     "text": [
      "\n",
      "Validation DataLoader 0:  60%|██████    | 12/20 [00:09<00:06,  1.21it/s]\u001b[A"
     ]
    },
    {
     "name": "stderr",
     "output_type": "stream",
     "text": [
      "INFO:__main__:Processing batch with 1 samples\n",
      "INFO:__main__:Loading image: fsdam/one_shot/val/1760_00071.png\n",
      "INFO:__main__:Input shapes: input_ids=torch.Size([1, 1280]), pixel_values=torch.Size([1, 3, 3, 336, 336])\n",
      "INFO:__main__:Validation batch 12, size: 1\n"
     ]
    },
    {
     "name": "stdout",
     "output_type": "stream",
     "text": [
      "\n",
      "Validation DataLoader 0:  65%|██████▌   | 13/20 [00:11<00:06,  1.16it/s]\u001b[A"
     ]
    },
    {
     "name": "stderr",
     "output_type": "stream",
     "text": [
      "INFO:__main__:Processing batch with 1 samples\n",
      "INFO:__main__:Loading image: fsdam/one_shot/val/1761_00005.png\n",
      "INFO:__main__:Input shapes: input_ids=torch.Size([1, 1285]), pixel_values=torch.Size([1, 3, 3, 336, 336])\n",
      "INFO:__main__:Validation batch 13, size: 1\n"
     ]
    },
    {
     "name": "stdout",
     "output_type": "stream",
     "text": [
      "\n",
      "Validation DataLoader 0:  70%|███████   | 14/20 [00:11<00:05,  1.19it/s]\u001b[A"
     ]
    },
    {
     "name": "stderr",
     "output_type": "stream",
     "text": [
      "INFO:__main__:Processing batch with 1 samples\n",
      "INFO:__main__:Loading image: fsdam/one_shot/val/1764_00032.png\n",
      "INFO:__main__:Input shapes: input_ids=torch.Size([1, 1274]), pixel_values=torch.Size([1, 3, 3, 336, 336])\n",
      "INFO:__main__:Validation batch 14, size: 1\n"
     ]
    },
    {
     "name": "stdout",
     "output_type": "stream",
     "text": [
      "\n",
      "Validation DataLoader 0:  75%|███████▌  | 15/20 [00:13<00:04,  1.15it/s]\u001b[A"
     ]
    },
    {
     "name": "stderr",
     "output_type": "stream",
     "text": [
      "INFO:__main__:Processing batch with 1 samples\n",
      "INFO:__main__:Loading image: fsdam/one_shot/val/1767_00017.png\n",
      "INFO:__main__:Input shapes: input_ids=torch.Size([1, 1281]), pixel_values=torch.Size([1, 3, 3, 336, 336])\n",
      "INFO:__main__:Validation batch 15, size: 1\n"
     ]
    },
    {
     "name": "stdout",
     "output_type": "stream",
     "text": [
      "\n",
      "Validation DataLoader 0:  80%|████████  | 16/20 [00:13<00:03,  1.19it/s]\u001b[A"
     ]
    },
    {
     "name": "stderr",
     "output_type": "stream",
     "text": [
      "INFO:__main__:Processing batch with 1 samples\n",
      "INFO:__main__:Loading image: fsdam/one_shot/val/1768_00239.png\n",
      "INFO:__main__:Input shapes: input_ids=torch.Size([1, 1304]), pixel_values=torch.Size([1, 3, 3, 336, 336])\n",
      "INFO:__main__:Validation batch 16, size: 1\n"
     ]
    },
    {
     "name": "stdout",
     "output_type": "stream",
     "text": [
      "\n",
      "Validation DataLoader 0:  85%|████████▌ | 17/20 [00:13<00:02,  1.22it/s]\u001b[A"
     ]
    },
    {
     "name": "stderr",
     "output_type": "stream",
     "text": [
      "INFO:__main__:Processing batch with 1 samples\n",
      "INFO:__main__:Loading image: fsdam/one_shot/val/1771_00259.png\n",
      "INFO:__main__:Input shapes: input_ids=torch.Size([1, 1295]), pixel_values=torch.Size([1, 3, 3, 336, 336])\n",
      "INFO:__main__:Validation batch 17, size: 1\n"
     ]
    },
    {
     "name": "stdout",
     "output_type": "stream",
     "text": [
      "\n",
      "Validation DataLoader 0:  90%|█████████ | 18/20 [00:15<00:01,  1.17it/s]\u001b[A"
     ]
    },
    {
     "name": "stderr",
     "output_type": "stream",
     "text": [
      "INFO:__main__:Processing batch with 1 samples\n",
      "INFO:__main__:Loading image: fsdam/one_shot/val/1772_00192.png\n",
      "INFO:__main__:Input shapes: input_ids=torch.Size([1, 1299]), pixel_values=torch.Size([1, 3, 3, 336, 336])\n",
      "INFO:__main__:Validation batch 18, size: 1\n"
     ]
    },
    {
     "name": "stdout",
     "output_type": "stream",
     "text": [
      "\n",
      "Validation DataLoader 0:  95%|█████████▌| 19/20 [00:15<00:00,  1.20it/s]\u001b[A"
     ]
    },
    {
     "name": "stderr",
     "output_type": "stream",
     "text": [
      "INFO:__main__:Processing batch with 1 samples\n",
      "INFO:__main__:Loading image: fsdam/one_shot/val/1773_00089.png\n",
      "INFO:__main__:Input shapes: input_ids=torch.Size([1, 1275]), pixel_values=torch.Size([1, 3, 3, 336, 336])\n",
      "INFO:__main__:Validation batch 19, size: 1\n"
     ]
    },
    {
     "name": "stdout",
     "output_type": "stream",
     "text": [
      "\n",
      "Validation DataLoader 0: 100%|██████████| 20/20 [00:16<00:00,  1.22it/s]\u001b[A\n",
      "Epoch 16:   0%|          | 0/1 [00:00<?, ?it/s, v_num=shot, train_loss_step=4.020, val_loss_step=4.110, val_rouge_step=0.836, val_loss_epoch=4.060, val_rouge_epoch=0.820, train_loss_epoch=4.020]        "
     ]
    },
    {
     "name": "stderr",
     "output_type": "stream",
     "text": [
      "INFO:__main__:Starting epoch 16\n",
      "INFO:__main__:Processing batch with 1 samples\n",
      "INFO:__main__:Loading image: fsdam/one_shot/train/1006_00018.png\n",
      "INFO:__main__:Input shapes: input_ids=torch.Size([1, 1271]), pixel_values=torch.Size([1, 3, 3, 336, 336])\n",
      "INFO:__main__:Training batch 0, size: 1\n",
      "INFO:__main__:Sample Training Prediction: …IT [1 anch nobodycribe the scene in including time's perspective situatione, and the the gaze is likely shift next. why.INSTINST] A scene lined with palm trees and houses is visible. with a green tra...\n",
      "INFO:__main__:Training loss: 4.004328\n"
     ]
    },
    {
     "name": "stdout",
     "output_type": "stream",
     "text": [
      "Epoch 16: 100%|██████████| 1/1 [00:00<00:00,  1.97it/s, v_num=shot, train_loss_step=4.000, val_loss_step=4.110, val_rouge_step=0.836, val_loss_epoch=4.060, val_rouge_epoch=0.820, train_loss_epoch=4.020]\n",
      "Validation: |          | 0/? [00:00<?, ?it/s]\u001b[A"
     ]
    },
    {
     "name": "stderr",
     "output_type": "stream",
     "text": [
      "INFO:__main__:Processing batch with 1 samples\n",
      "INFO:__main__:Loading image: fsdam/one_shot/val/1737_00085.png\n",
      "INFO:__main__:Input shapes: input_ids=torch.Size([1, 1282]), pixel_values=torch.Size([1, 3, 3, 336, 336])\n"
     ]
    },
    {
     "name": "stdout",
     "output_type": "stream",
     "text": [
      "\n",
      "Validation:   0%|          | 0/20 [00:00<?, ?it/s]\u001b[A\n",
      "Validation DataLoader 0:   0%|          | 0/20 [00:00<?, ?it/s]\u001b[A"
     ]
    },
    {
     "name": "stderr",
     "output_type": "stream",
     "text": [
      "INFO:__main__:Validation batch 0, size: 1\n",
      "INFO:__main__:Sample Validation Prediction: The scene shows a busy urban intersection with cars, buildings, and a yellow traffic light ahead. The current gaze focuses on the car in front. The future gaze will likely shift to the traffic light. ...\n",
      "INFO:__main__:Sample Validation Target: [INST] \n",
      "Describe the scene, the driver's current gaze, and where that gaze will likely shift next and why.[/INST] The scene shows a busy urban intersection with cars, buildings, and a yellow traffic l...\n",
      "INFO:__main__:Validation Loss: 4.036854\n"
     ]
    },
    {
     "name": "stdout",
     "output_type": "stream",
     "text": [
      "\n",
      "Validation DataLoader 0:   5%|▌         | 1/20 [00:00<00:09,  1.92it/s]\u001b[A"
     ]
    },
    {
     "name": "stderr",
     "output_type": "stream",
     "text": [
      "INFO:__main__:Processing batch with 1 samples\n",
      "INFO:__main__:Loading image: fsdam/one_shot/val/1737_00287.png\n",
      "INFO:__main__:Input shapes: input_ids=torch.Size([1, 1293]), pixel_values=torch.Size([1, 3, 3, 336, 336])\n",
      "INFO:__main__:Validation batch 1, size: 1\n"
     ]
    },
    {
     "name": "stdout",
     "output_type": "stream",
     "text": [
      "\n",
      "Validation DataLoader 0:  10%|█         | 2/20 [00:02<00:24,  0.74it/s]\u001b[A"
     ]
    },
    {
     "name": "stderr",
     "output_type": "stream",
     "text": [
      "INFO:__main__:Processing batch with 1 samples\n",
      "INFO:__main__:Loading image: fsdam/one_shot/val/1744_00119.png\n",
      "INFO:__main__:Input shapes: input_ids=torch.Size([1, 1272]), pixel_values=torch.Size([1, 3, 3, 336, 336])\n",
      "INFO:__main__:Validation batch 2, size: 1\n"
     ]
    },
    {
     "name": "stdout",
     "output_type": "stream",
     "text": [
      "\n",
      "Validation DataLoader 0:  15%|█▌        | 3/20 [00:04<00:23,  0.71it/s]\u001b[A"
     ]
    },
    {
     "name": "stderr",
     "output_type": "stream",
     "text": [
      "INFO:__main__:Processing batch with 1 samples\n",
      "INFO:__main__:Loading image: fsdam/one_shot/val/1744_00219.png\n",
      "INFO:__main__:Input shapes: input_ids=torch.Size([1, 1262]), pixel_values=torch.Size([1, 3, 3, 336, 336])\n",
      "INFO:__main__:Validation batch 3, size: 1\n"
     ]
    },
    {
     "name": "stdout",
     "output_type": "stream",
     "text": [
      "\n",
      "Validation DataLoader 0:  20%|██        | 4/20 [00:04<00:19,  0.84it/s]\u001b[A"
     ]
    },
    {
     "name": "stderr",
     "output_type": "stream",
     "text": [
      "INFO:__main__:Processing batch with 1 samples\n",
      "INFO:__main__:Loading image: fsdam/one_shot/val/1746_00008.png\n",
      "INFO:__main__:Input shapes: input_ids=torch.Size([1, 1272]), pixel_values=torch.Size([1, 3, 3, 336, 336])\n",
      "INFO:__main__:Validation batch 4, size: 1\n"
     ]
    },
    {
     "name": "stdout",
     "output_type": "stream",
     "text": [
      "\n",
      "Validation DataLoader 0:  25%|██▌       | 5/20 [00:05<00:16,  0.94it/s]\u001b[A"
     ]
    },
    {
     "name": "stderr",
     "output_type": "stream",
     "text": [
      "INFO:__main__:Processing batch with 1 samples\n",
      "INFO:__main__:Loading image: fsdam/one_shot/val/1747_00012.png\n",
      "INFO:__main__:Input shapes: input_ids=torch.Size([1, 1282]), pixel_values=torch.Size([1, 3, 3, 336, 336])\n",
      "INFO:__main__:Validation batch 5, size: 1\n"
     ]
    },
    {
     "name": "stdout",
     "output_type": "stream",
     "text": [
      "\n",
      "Validation DataLoader 0:  30%|███       | 6/20 [00:05<00:13,  1.02it/s]\u001b[A"
     ]
    },
    {
     "name": "stderr",
     "output_type": "stream",
     "text": [
      "INFO:__main__:Processing batch with 1 samples\n",
      "INFO:__main__:Loading image: fsdam/one_shot/val/1748_00018.png\n",
      "INFO:__main__:Input shapes: input_ids=torch.Size([1, 1269]), pixel_values=torch.Size([1, 3, 3, 336, 336])\n",
      "INFO:__main__:Validation batch 6, size: 1\n"
     ]
    },
    {
     "name": "stdout",
     "output_type": "stream",
     "text": [
      "\n",
      "Validation DataLoader 0:  35%|███▌      | 7/20 [00:06<00:11,  1.10it/s]\u001b[A"
     ]
    },
    {
     "name": "stderr",
     "output_type": "stream",
     "text": [
      "INFO:__main__:Processing batch with 1 samples\n",
      "INFO:__main__:Loading image: fsdam/one_shot/val/1748_00243.png\n",
      "INFO:__main__:Input shapes: input_ids=torch.Size([1, 1277]), pixel_values=torch.Size([1, 3, 3, 336, 336])\n",
      "INFO:__main__:Validation batch 7, size: 1\n"
     ]
    },
    {
     "name": "stdout",
     "output_type": "stream",
     "text": [
      "\n",
      "Validation DataLoader 0:  40%|████      | 8/20 [00:06<00:10,  1.17it/s]\u001b[A"
     ]
    },
    {
     "name": "stderr",
     "output_type": "stream",
     "text": [
      "INFO:__main__:Processing batch with 1 samples\n",
      "INFO:__main__:Loading image: fsdam/one_shot/val/1753_00160.png\n",
      "INFO:__main__:Input shapes: input_ids=torch.Size([1, 1283]), pixel_values=torch.Size([1, 3, 3, 336, 336])\n",
      "INFO:__main__:Validation batch 8, size: 1\n"
     ]
    },
    {
     "name": "stdout",
     "output_type": "stream",
     "text": [
      "\n",
      "Validation DataLoader 0:  45%|████▌     | 9/20 [00:08<00:10,  1.06it/s]\u001b[A"
     ]
    },
    {
     "name": "stderr",
     "output_type": "stream",
     "text": [
      "INFO:__main__:Processing batch with 1 samples\n",
      "INFO:__main__:Loading image: fsdam/one_shot/val/1754_00079.png\n",
      "INFO:__main__:Input shapes: input_ids=torch.Size([1, 1292]), pixel_values=torch.Size([1, 3, 3, 336, 336])\n",
      "INFO:__main__:Validation batch 9, size: 1\n"
     ]
    },
    {
     "name": "stdout",
     "output_type": "stream",
     "text": [
      "\n",
      "Validation DataLoader 0:  50%|█████     | 10/20 [00:08<00:08,  1.11it/s]\u001b[A"
     ]
    },
    {
     "name": "stderr",
     "output_type": "stream",
     "text": [
      "INFO:__main__:Processing batch with 1 samples\n",
      "INFO:__main__:Loading image: fsdam/one_shot/val/1755_00078.png\n",
      "INFO:__main__:Input shapes: input_ids=torch.Size([1, 1269]), pixel_values=torch.Size([1, 3, 3, 336, 336])\n",
      "INFO:__main__:Validation batch 10, size: 1\n"
     ]
    },
    {
     "name": "stdout",
     "output_type": "stream",
     "text": [
      "\n",
      "Validation DataLoader 0:  55%|█████▌    | 11/20 [00:10<00:08,  1.06it/s]\u001b[A"
     ]
    },
    {
     "name": "stderr",
     "output_type": "stream",
     "text": [
      "INFO:__main__:Processing batch with 1 samples\n",
      "INFO:__main__:Loading image: fsdam/one_shot/val/1756_00013.png\n",
      "INFO:__main__:Input shapes: input_ids=torch.Size([1, 1287]), pixel_values=torch.Size([1, 3, 3, 336, 336])\n",
      "INFO:__main__:Validation batch 11, size: 1\n"
     ]
    },
    {
     "name": "stdout",
     "output_type": "stream",
     "text": [
      "\n",
      "Validation DataLoader 0:  60%|██████    | 12/20 [00:10<00:07,  1.10it/s]\u001b[A"
     ]
    },
    {
     "name": "stderr",
     "output_type": "stream",
     "text": [
      "INFO:__main__:Processing batch with 1 samples\n",
      "INFO:__main__:Loading image: fsdam/one_shot/val/1760_00071.png\n",
      "INFO:__main__:Input shapes: input_ids=torch.Size([1, 1280]), pixel_values=torch.Size([1, 3, 3, 336, 336])\n",
      "INFO:__main__:Validation batch 12, size: 1\n"
     ]
    },
    {
     "name": "stdout",
     "output_type": "stream",
     "text": [
      "\n",
      "Validation DataLoader 0:  65%|██████▌   | 13/20 [00:11<00:06,  1.09it/s]\u001b[A"
     ]
    },
    {
     "name": "stderr",
     "output_type": "stream",
     "text": [
      "INFO:__main__:Processing batch with 1 samples\n",
      "INFO:__main__:Loading image: fsdam/one_shot/val/1761_00005.png\n",
      "INFO:__main__:Input shapes: input_ids=torch.Size([1, 1285]), pixel_values=torch.Size([1, 3, 3, 336, 336])\n",
      "INFO:__main__:Validation batch 13, size: 1\n"
     ]
    },
    {
     "name": "stdout",
     "output_type": "stream",
     "text": [
      "\n",
      "Validation DataLoader 0:  70%|███████   | 14/20 [00:12<00:05,  1.13it/s]\u001b[A"
     ]
    },
    {
     "name": "stderr",
     "output_type": "stream",
     "text": [
      "INFO:__main__:Processing batch with 1 samples\n",
      "INFO:__main__:Loading image: fsdam/one_shot/val/1764_00032.png\n",
      "INFO:__main__:Input shapes: input_ids=torch.Size([1, 1274]), pixel_values=torch.Size([1, 3, 3, 336, 336])\n",
      "INFO:__main__:Validation batch 14, size: 1\n"
     ]
    },
    {
     "name": "stdout",
     "output_type": "stream",
     "text": [
      "\n",
      "Validation DataLoader 0:  75%|███████▌  | 15/20 [00:13<00:04,  1.10it/s]\u001b[A"
     ]
    },
    {
     "name": "stderr",
     "output_type": "stream",
     "text": [
      "INFO:__main__:Processing batch with 1 samples\n",
      "INFO:__main__:Loading image: fsdam/one_shot/val/1767_00017.png\n",
      "INFO:__main__:Input shapes: input_ids=torch.Size([1, 1281]), pixel_values=torch.Size([1, 3, 3, 336, 336])\n",
      "INFO:__main__:Validation batch 15, size: 1\n"
     ]
    },
    {
     "name": "stdout",
     "output_type": "stream",
     "text": [
      "\n",
      "Validation DataLoader 0:  80%|████████  | 16/20 [00:14<00:03,  1.13it/s]\u001b[A"
     ]
    },
    {
     "name": "stderr",
     "output_type": "stream",
     "text": [
      "INFO:__main__:Processing batch with 1 samples\n",
      "INFO:__main__:Loading image: fsdam/one_shot/val/1768_00239.png\n",
      "INFO:__main__:Input shapes: input_ids=torch.Size([1, 1304]), pixel_values=torch.Size([1, 3, 3, 336, 336])\n",
      "INFO:__main__:Validation batch 16, size: 1\n"
     ]
    },
    {
     "name": "stdout",
     "output_type": "stream",
     "text": [
      "\n",
      "Validation DataLoader 0:  85%|████████▌ | 17/20 [00:14<00:02,  1.16it/s]\u001b[A"
     ]
    },
    {
     "name": "stderr",
     "output_type": "stream",
     "text": [
      "INFO:__main__:Processing batch with 1 samples\n",
      "INFO:__main__:Loading image: fsdam/one_shot/val/1771_00259.png\n",
      "INFO:__main__:Input shapes: input_ids=torch.Size([1, 1295]), pixel_values=torch.Size([1, 3, 3, 336, 336])\n",
      "INFO:__main__:Validation batch 17, size: 1\n"
     ]
    },
    {
     "name": "stdout",
     "output_type": "stream",
     "text": [
      "\n",
      "Validation DataLoader 0:  90%|█████████ | 18/20 [00:16<00:01,  1.12it/s]\u001b[A"
     ]
    },
    {
     "name": "stderr",
     "output_type": "stream",
     "text": [
      "INFO:__main__:Processing batch with 1 samples\n",
      "INFO:__main__:Loading image: fsdam/one_shot/val/1772_00192.png\n",
      "INFO:__main__:Input shapes: input_ids=torch.Size([1, 1299]), pixel_values=torch.Size([1, 3, 3, 336, 336])\n",
      "INFO:__main__:Validation batch 18, size: 1\n"
     ]
    },
    {
     "name": "stdout",
     "output_type": "stream",
     "text": [
      "\n",
      "Validation DataLoader 0:  95%|█████████▌| 19/20 [00:16<00:00,  1.15it/s]\u001b[A"
     ]
    },
    {
     "name": "stderr",
     "output_type": "stream",
     "text": [
      "INFO:__main__:Processing batch with 1 samples\n",
      "INFO:__main__:Loading image: fsdam/one_shot/val/1773_00089.png\n",
      "INFO:__main__:Input shapes: input_ids=torch.Size([1, 1275]), pixel_values=torch.Size([1, 3, 3, 336, 336])\n",
      "INFO:__main__:Validation batch 19, size: 1\n"
     ]
    },
    {
     "name": "stdout",
     "output_type": "stream",
     "text": [
      "\n",
      "Validation DataLoader 0: 100%|██████████| 20/20 [00:17<00:00,  1.17it/s]\u001b[A\n",
      "Epoch 17:   0%|          | 0/1 [00:00<?, ?it/s, v_num=shot, train_loss_step=4.000, val_loss_step=4.100, val_rouge_step=0.836, val_loss_epoch=4.050, val_rouge_epoch=0.821, train_loss_epoch=4.000]        "
     ]
    },
    {
     "name": "stderr",
     "output_type": "stream",
     "text": [
      "INFO:__main__:Starting epoch 17\n",
      "INFO:__main__:Processing batch with 1 samples\n",
      "INFO:__main__:Loading image: fsdam/one_shot/train/1006_00018.png\n",
      "INFO:__main__:Input shapes: input_ids=torch.Size([1, 1271]), pixel_values=torch.Size([1, 3, 3, 336, 336])\n",
      "INFO:__main__:Training batch 0, size: 1\n",
      "INFO:__main__:Sample Training Prediction: IT [1 anch\n",
      "cribe the scene in including time's perspective situatione, and the the gaze is likely shift next. why.INSTINST] A street lined with palm trees and houses is visible. with a green traffic l...\n",
      "INFO:__main__:Training loss: 3.996549\n"
     ]
    },
    {
     "name": "stdout",
     "output_type": "stream",
     "text": [
      "Epoch 17: 100%|██████████| 1/1 [00:00<00:00,  2.01it/s, v_num=shot, train_loss_step=4.000, val_loss_step=4.100, val_rouge_step=0.836, val_loss_epoch=4.050, val_rouge_epoch=0.821, train_loss_epoch=4.000]\n",
      "Validation: |          | 0/? [00:00<?, ?it/s]\u001b[A"
     ]
    },
    {
     "name": "stderr",
     "output_type": "stream",
     "text": [
      "INFO:__main__:Processing batch with 1 samples\n",
      "INFO:__main__:Loading image: fsdam/one_shot/val/1737_00085.png\n",
      "INFO:__main__:Input shapes: input_ids=torch.Size([1, 1282]), pixel_values=torch.Size([1, 3, 3, 336, 336])\n"
     ]
    },
    {
     "name": "stdout",
     "output_type": "stream",
     "text": [
      "\n",
      "Validation:   0%|          | 0/20 [00:00<?, ?it/s]\u001b[A\n",
      "Validation DataLoader 0:   0%|          | 0/20 [00:00<?, ?it/s]\u001b[A"
     ]
    },
    {
     "name": "stderr",
     "output_type": "stream",
     "text": [
      "INFO:__main__:Validation batch 0, size: 1\n",
      "INFO:__main__:Sample Validation Prediction: The scene shows a busy urban intersection with cars, buildings, and a yellow traffic light ahead. The current gaze focuses on the car in front. The future gaze will likely shift to the traffic light. ...\n",
      "INFO:__main__:Sample Validation Target: [INST] \n",
      "Describe the scene, the driver's current gaze, and where that gaze will likely shift next and why.[/INST] The scene shows a busy urban intersection with cars, buildings, and a yellow traffic l...\n",
      "INFO:__main__:Validation Loss: 4.033705\n"
     ]
    },
    {
     "name": "stdout",
     "output_type": "stream",
     "text": [
      "\n",
      "Validation DataLoader 0:   5%|▌         | 1/20 [00:00<00:08,  2.16it/s]\u001b[A"
     ]
    },
    {
     "name": "stderr",
     "output_type": "stream",
     "text": [
      "INFO:__main__:Processing batch with 1 samples\n",
      "INFO:__main__:Loading image: fsdam/one_shot/val/1737_00287.png\n",
      "INFO:__main__:Input shapes: input_ids=torch.Size([1, 1293]), pixel_values=torch.Size([1, 3, 3, 336, 336])\n",
      "INFO:__main__:Validation batch 1, size: 1\n"
     ]
    },
    {
     "name": "stdout",
     "output_type": "stream",
     "text": [
      "\n",
      "Validation DataLoader 0:  10%|█         | 2/20 [00:02<00:18,  0.96it/s]\u001b[A"
     ]
    },
    {
     "name": "stderr",
     "output_type": "stream",
     "text": [
      "INFO:__main__:Processing batch with 1 samples\n",
      "INFO:__main__:Loading image: fsdam/one_shot/val/1744_00119.png\n",
      "INFO:__main__:Input shapes: input_ids=torch.Size([1, 1272]), pixel_values=torch.Size([1, 3, 3, 336, 336])\n",
      "INFO:__main__:Validation batch 2, size: 1\n"
     ]
    },
    {
     "name": "stdout",
     "output_type": "stream",
     "text": [
      "\n",
      "Validation DataLoader 0:  15%|█▌        | 3/20 [00:03<00:18,  0.93it/s]\u001b[A"
     ]
    },
    {
     "name": "stderr",
     "output_type": "stream",
     "text": [
      "INFO:__main__:Processing batch with 1 samples\n",
      "INFO:__main__:Loading image: fsdam/one_shot/val/1744_00219.png\n",
      "INFO:__main__:Input shapes: input_ids=torch.Size([1, 1262]), pixel_values=torch.Size([1, 3, 3, 336, 336])\n",
      "INFO:__main__:Validation batch 3, size: 1\n"
     ]
    },
    {
     "name": "stdout",
     "output_type": "stream",
     "text": [
      "\n",
      "Validation DataLoader 0:  20%|██        | 4/20 [00:03<00:14,  1.07it/s]\u001b[A"
     ]
    },
    {
     "name": "stderr",
     "output_type": "stream",
     "text": [
      "INFO:__main__:Processing batch with 1 samples\n",
      "INFO:__main__:Loading image: fsdam/one_shot/val/1746_00008.png\n",
      "INFO:__main__:Input shapes: input_ids=torch.Size([1, 1272]), pixel_values=torch.Size([1, 3, 3, 336, 336])\n",
      "INFO:__main__:Validation batch 4, size: 1\n"
     ]
    },
    {
     "name": "stdout",
     "output_type": "stream",
     "text": [
      "\n",
      "Validation DataLoader 0:  25%|██▌       | 5/20 [00:04<00:12,  1.19it/s]\u001b[A"
     ]
    },
    {
     "name": "stderr",
     "output_type": "stream",
     "text": [
      "INFO:__main__:Processing batch with 1 samples\n",
      "INFO:__main__:Loading image: fsdam/one_shot/val/1747_00012.png\n",
      "INFO:__main__:Input shapes: input_ids=torch.Size([1, 1282]), pixel_values=torch.Size([1, 3, 3, 336, 336])\n",
      "INFO:__main__:Validation batch 5, size: 1\n"
     ]
    },
    {
     "name": "stdout",
     "output_type": "stream",
     "text": [
      "\n",
      "Validation DataLoader 0:  30%|███       | 6/20 [00:04<00:10,  1.28it/s]\u001b[A"
     ]
    },
    {
     "name": "stderr",
     "output_type": "stream",
     "text": [
      "INFO:__main__:Processing batch with 1 samples\n",
      "INFO:__main__:Loading image: fsdam/one_shot/val/1748_00018.png\n",
      "INFO:__main__:Input shapes: input_ids=torch.Size([1, 1269]), pixel_values=torch.Size([1, 3, 3, 336, 336])\n",
      "INFO:__main__:Validation batch 6, size: 1\n"
     ]
    },
    {
     "name": "stdout",
     "output_type": "stream",
     "text": [
      "\n",
      "Validation DataLoader 0:  35%|███▌      | 7/20 [00:05<00:09,  1.35it/s]\u001b[A"
     ]
    },
    {
     "name": "stderr",
     "output_type": "stream",
     "text": [
      "INFO:__main__:Processing batch with 1 samples\n",
      "INFO:__main__:Loading image: fsdam/one_shot/val/1748_00243.png\n",
      "INFO:__main__:Input shapes: input_ids=torch.Size([1, 1277]), pixel_values=torch.Size([1, 3, 3, 336, 336])\n",
      "INFO:__main__:Validation batch 7, size: 1\n"
     ]
    },
    {
     "name": "stdout",
     "output_type": "stream",
     "text": [
      "\n",
      "Validation DataLoader 0:  40%|████      | 8/20 [00:05<00:08,  1.41it/s]\u001b[A"
     ]
    },
    {
     "name": "stderr",
     "output_type": "stream",
     "text": [
      "INFO:__main__:Processing batch with 1 samples\n",
      "INFO:__main__:Loading image: fsdam/one_shot/val/1753_00160.png\n",
      "INFO:__main__:Input shapes: input_ids=torch.Size([1, 1283]), pixel_values=torch.Size([1, 3, 3, 336, 336])\n",
      "INFO:__main__:Validation batch 8, size: 1\n"
     ]
    },
    {
     "name": "stdout",
     "output_type": "stream",
     "text": [
      "\n",
      "Validation DataLoader 0:  45%|████▌     | 9/20 [00:07<00:08,  1.23it/s]\u001b[A"
     ]
    },
    {
     "name": "stderr",
     "output_type": "stream",
     "text": [
      "INFO:__main__:Processing batch with 1 samples\n",
      "INFO:__main__:Loading image: fsdam/one_shot/val/1754_00079.png\n",
      "INFO:__main__:Input shapes: input_ids=torch.Size([1, 1292]), pixel_values=torch.Size([1, 3, 3, 336, 336])\n",
      "INFO:__main__:Validation batch 9, size: 1\n"
     ]
    },
    {
     "name": "stdout",
     "output_type": "stream",
     "text": [
      "\n",
      "Validation DataLoader 0:  50%|█████     | 10/20 [00:07<00:07,  1.28it/s]\u001b[A"
     ]
    },
    {
     "name": "stderr",
     "output_type": "stream",
     "text": [
      "INFO:__main__:Processing batch with 1 samples\n",
      "INFO:__main__:Loading image: fsdam/one_shot/val/1755_00078.png\n",
      "INFO:__main__:Input shapes: input_ids=torch.Size([1, 1269]), pixel_values=torch.Size([1, 3, 3, 336, 336])\n",
      "INFO:__main__:Validation batch 10, size: 1\n"
     ]
    },
    {
     "name": "stdout",
     "output_type": "stream",
     "text": [
      "\n",
      "Validation DataLoader 0:  55%|█████▌    | 11/20 [00:09<00:07,  1.15it/s]\u001b[A"
     ]
    },
    {
     "name": "stderr",
     "output_type": "stream",
     "text": [
      "INFO:__main__:Processing batch with 1 samples\n",
      "INFO:__main__:Loading image: fsdam/one_shot/val/1756_00013.png\n",
      "INFO:__main__:Input shapes: input_ids=torch.Size([1, 1287]), pixel_values=torch.Size([1, 3, 3, 336, 336])\n",
      "INFO:__main__:Validation batch 11, size: 1\n"
     ]
    },
    {
     "name": "stdout",
     "output_type": "stream",
     "text": [
      "\n",
      "Validation DataLoader 0:  60%|██████    | 12/20 [00:10<00:06,  1.19it/s]\u001b[A"
     ]
    },
    {
     "name": "stderr",
     "output_type": "stream",
     "text": [
      "INFO:__main__:Processing batch with 1 samples\n",
      "INFO:__main__:Loading image: fsdam/one_shot/val/1760_00071.png\n",
      "INFO:__main__:Input shapes: input_ids=torch.Size([1, 1280]), pixel_values=torch.Size([1, 3, 3, 336, 336])\n",
      "INFO:__main__:Validation batch 12, size: 1\n"
     ]
    },
    {
     "name": "stdout",
     "output_type": "stream",
     "text": [
      "\n",
      "Validation DataLoader 0:  65%|██████▌   | 13/20 [00:11<00:05,  1.18it/s]\u001b[A"
     ]
    },
    {
     "name": "stderr",
     "output_type": "stream",
     "text": [
      "INFO:__main__:Processing batch with 1 samples\n",
      "INFO:__main__:Loading image: fsdam/one_shot/val/1761_00005.png\n",
      "INFO:__main__:Input shapes: input_ids=torch.Size([1, 1285]), pixel_values=torch.Size([1, 3, 3, 336, 336])\n",
      "INFO:__main__:Validation batch 13, size: 1\n"
     ]
    },
    {
     "name": "stdout",
     "output_type": "stream",
     "text": [
      "\n",
      "Validation DataLoader 0:  70%|███████   | 14/20 [00:11<00:04,  1.21it/s]\u001b[A"
     ]
    },
    {
     "name": "stderr",
     "output_type": "stream",
     "text": [
      "INFO:__main__:Processing batch with 1 samples\n",
      "INFO:__main__:Loading image: fsdam/one_shot/val/1764_00032.png\n",
      "INFO:__main__:Input shapes: input_ids=torch.Size([1, 1274]), pixel_values=torch.Size([1, 3, 3, 336, 336])\n",
      "INFO:__main__:Validation batch 14, size: 1\n"
     ]
    },
    {
     "name": "stdout",
     "output_type": "stream",
     "text": [
      "\n",
      "Validation DataLoader 0:  75%|███████▌  | 15/20 [00:12<00:04,  1.17it/s]\u001b[A"
     ]
    },
    {
     "name": "stderr",
     "output_type": "stream",
     "text": [
      "INFO:__main__:Processing batch with 1 samples\n",
      "INFO:__main__:Loading image: fsdam/one_shot/val/1767_00017.png\n",
      "INFO:__main__:Input shapes: input_ids=torch.Size([1, 1281]), pixel_values=torch.Size([1, 3, 3, 336, 336])\n",
      "INFO:__main__:Validation batch 15, size: 1\n"
     ]
    },
    {
     "name": "stdout",
     "output_type": "stream",
     "text": [
      "\n",
      "Validation DataLoader 0:  80%|████████  | 16/20 [00:13<00:03,  1.20it/s]\u001b[A"
     ]
    },
    {
     "name": "stderr",
     "output_type": "stream",
     "text": [
      "INFO:__main__:Processing batch with 1 samples\n",
      "INFO:__main__:Loading image: fsdam/one_shot/val/1768_00239.png\n",
      "INFO:__main__:Input shapes: input_ids=torch.Size([1, 1304]), pixel_values=torch.Size([1, 3, 3, 336, 336])\n",
      "INFO:__main__:Validation batch 16, size: 1\n"
     ]
    },
    {
     "name": "stdout",
     "output_type": "stream",
     "text": [
      "\n",
      "Validation DataLoader 0:  85%|████████▌ | 17/20 [00:13<00:02,  1.23it/s]\u001b[A"
     ]
    },
    {
     "name": "stderr",
     "output_type": "stream",
     "text": [
      "INFO:__main__:Processing batch with 1 samples\n",
      "INFO:__main__:Loading image: fsdam/one_shot/val/1771_00259.png\n",
      "INFO:__main__:Input shapes: input_ids=torch.Size([1, 1295]), pixel_values=torch.Size([1, 3, 3, 336, 336])\n",
      "INFO:__main__:Validation batch 17, size: 1\n"
     ]
    },
    {
     "name": "stdout",
     "output_type": "stream",
     "text": [
      "\n",
      "Validation DataLoader 0:  90%|█████████ | 18/20 [00:15<00:01,  1.18it/s]\u001b[A"
     ]
    },
    {
     "name": "stderr",
     "output_type": "stream",
     "text": [
      "INFO:__main__:Processing batch with 1 samples\n",
      "INFO:__main__:Loading image: fsdam/one_shot/val/1772_00192.png\n",
      "INFO:__main__:Input shapes: input_ids=torch.Size([1, 1299]), pixel_values=torch.Size([1, 3, 3, 336, 336])\n",
      "INFO:__main__:Validation batch 18, size: 1\n"
     ]
    },
    {
     "name": "stdout",
     "output_type": "stream",
     "text": [
      "\n",
      "Validation DataLoader 0:  95%|█████████▌| 19/20 [00:15<00:00,  1.21it/s]\u001b[A"
     ]
    },
    {
     "name": "stderr",
     "output_type": "stream",
     "text": [
      "INFO:__main__:Processing batch with 1 samples\n",
      "INFO:__main__:Loading image: fsdam/one_shot/val/1773_00089.png\n",
      "INFO:__main__:Input shapes: input_ids=torch.Size([1, 1275]), pixel_values=torch.Size([1, 3, 3, 336, 336])\n",
      "INFO:__main__:Validation batch 19, size: 1\n"
     ]
    },
    {
     "name": "stdout",
     "output_type": "stream",
     "text": [
      "\n",
      "Validation DataLoader 0: 100%|██████████| 20/20 [00:16<00:00,  1.24it/s]\u001b[A\n",
      "Epoch 18:   0%|          | 0/1 [00:00<?, ?it/s, v_num=shot, train_loss_step=4.000, val_loss_step=4.100, val_rouge_step=0.836, val_loss_epoch=4.050, val_rouge_epoch=0.818, train_loss_epoch=4.000]        "
     ]
    },
    {
     "name": "stderr",
     "output_type": "stream",
     "text": [
      "INFO:__main__:Starting epoch 18\n",
      "INFO:__main__:Processing batch with 1 samples\n",
      "INFO:__main__:Loading image: fsdam/one_shot/train/1006_00018.png\n",
      "INFO:__main__:Input shapes: input_ids=torch.Size([1, 1271]), pixel_values=torch.Size([1, 3, 3, 336, 336])\n",
      "INFO:__main__:Training batch 0, size: 1\n",
      "INFO:__main__:Sample Training Prediction: IT [1 anch\n",
      "cribe the scene in including time's perspective situatione, and the the gaze will likely shift next. why.INSTINST] A street lined with palm trees and houses is visible. with a green traffic...\n",
      "INFO:__main__:Training loss: 3.992222\n"
     ]
    },
    {
     "name": "stdout",
     "output_type": "stream",
     "text": [
      "Epoch 18: 100%|██████████| 1/1 [00:00<00:00,  1.99it/s, v_num=shot, train_loss_step=3.990, val_loss_step=4.100, val_rouge_step=0.836, val_loss_epoch=4.050, val_rouge_epoch=0.818, train_loss_epoch=4.000]\n",
      "Validation: |          | 0/? [00:00<?, ?it/s]\u001b[A"
     ]
    },
    {
     "name": "stderr",
     "output_type": "stream",
     "text": [
      "INFO:__main__:Processing batch with 1 samples\n",
      "INFO:__main__:Loading image: fsdam/one_shot/val/1737_00085.png\n",
      "INFO:__main__:Input shapes: input_ids=torch.Size([1, 1282]), pixel_values=torch.Size([1, 3, 3, 336, 336])\n"
     ]
    },
    {
     "name": "stdout",
     "output_type": "stream",
     "text": [
      "\n",
      "Validation:   0%|          | 0/20 [00:00<?, ?it/s]\u001b[A\n",
      "Validation DataLoader 0:   0%|          | 0/20 [00:00<?, ?it/s]\u001b[A"
     ]
    },
    {
     "name": "stderr",
     "output_type": "stream",
     "text": [
      "INFO:__main__:Validation batch 0, size: 1\n",
      "INFO:__main__:Sample Validation Prediction: The scene shows a busy urban intersection with cars, buildings, and a yellow traffic light ahead. The current gaze focuses on the car in front. The future gaze will likely shift to the traffic light. ...\n",
      "INFO:__main__:Sample Validation Target: [INST] \n",
      "Describe the scene, the driver's current gaze, and where that gaze will likely shift next and why.[/INST] The scene shows a busy urban intersection with cars, buildings, and a yellow traffic l...\n",
      "INFO:__main__:Validation Loss: 4.032174\n"
     ]
    },
    {
     "name": "stdout",
     "output_type": "stream",
     "text": [
      "\n",
      "Validation DataLoader 0:   5%|▌         | 1/20 [00:00<00:08,  2.17it/s]\u001b[A"
     ]
    },
    {
     "name": "stderr",
     "output_type": "stream",
     "text": [
      "INFO:__main__:Processing batch with 1 samples\n",
      "INFO:__main__:Loading image: fsdam/one_shot/val/1737_00287.png\n",
      "INFO:__main__:Input shapes: input_ids=torch.Size([1, 1293]), pixel_values=torch.Size([1, 3, 3, 336, 336])\n",
      "INFO:__main__:Validation batch 1, size: 1\n"
     ]
    },
    {
     "name": "stdout",
     "output_type": "stream",
     "text": [
      "\n",
      "Validation DataLoader 0:  10%|█         | 2/20 [00:02<00:18,  0.97it/s]\u001b[A"
     ]
    },
    {
     "name": "stderr",
     "output_type": "stream",
     "text": [
      "INFO:__main__:Processing batch with 1 samples\n",
      "INFO:__main__:Loading image: fsdam/one_shot/val/1744_00119.png\n",
      "INFO:__main__:Input shapes: input_ids=torch.Size([1, 1272]), pixel_values=torch.Size([1, 3, 3, 336, 336])\n",
      "INFO:__main__:Validation batch 2, size: 1\n"
     ]
    },
    {
     "name": "stdout",
     "output_type": "stream",
     "text": [
      "\n",
      "Validation DataLoader 0:  15%|█▌        | 3/20 [00:03<00:17,  0.97it/s]\u001b[A"
     ]
    },
    {
     "name": "stderr",
     "output_type": "stream",
     "text": [
      "INFO:__main__:Processing batch with 1 samples\n",
      "INFO:__main__:Loading image: fsdam/one_shot/val/1744_00219.png\n",
      "INFO:__main__:Input shapes: input_ids=torch.Size([1, 1262]), pixel_values=torch.Size([1, 3, 3, 336, 336])\n",
      "INFO:__main__:Validation batch 3, size: 1\n"
     ]
    },
    {
     "name": "stdout",
     "output_type": "stream",
     "text": [
      "\n",
      "Validation DataLoader 0:  20%|██        | 4/20 [00:03<00:14,  1.12it/s]\u001b[A"
     ]
    },
    {
     "name": "stderr",
     "output_type": "stream",
     "text": [
      "INFO:__main__:Processing batch with 1 samples\n",
      "INFO:__main__:Loading image: fsdam/one_shot/val/1746_00008.png\n",
      "INFO:__main__:Input shapes: input_ids=torch.Size([1, 1272]), pixel_values=torch.Size([1, 3, 3, 336, 336])\n",
      "INFO:__main__:Validation batch 4, size: 1\n"
     ]
    },
    {
     "name": "stdout",
     "output_type": "stream",
     "text": [
      "\n",
      "Validation DataLoader 0:  25%|██▌       | 5/20 [00:04<00:12,  1.23it/s]\u001b[A"
     ]
    },
    {
     "name": "stderr",
     "output_type": "stream",
     "text": [
      "INFO:__main__:Processing batch with 1 samples\n",
      "INFO:__main__:Loading image: fsdam/one_shot/val/1747_00012.png\n",
      "INFO:__main__:Input shapes: input_ids=torch.Size([1, 1282]), pixel_values=torch.Size([1, 3, 3, 336, 336])\n",
      "INFO:__main__:Validation batch 5, size: 1\n"
     ]
    },
    {
     "name": "stdout",
     "output_type": "stream",
     "text": [
      "\n",
      "Validation DataLoader 0:  30%|███       | 6/20 [00:04<00:10,  1.32it/s]\u001b[A"
     ]
    },
    {
     "name": "stderr",
     "output_type": "stream",
     "text": [
      "INFO:__main__:Processing batch with 1 samples\n",
      "INFO:__main__:Loading image: fsdam/one_shot/val/1748_00018.png\n",
      "INFO:__main__:Input shapes: input_ids=torch.Size([1, 1269]), pixel_values=torch.Size([1, 3, 3, 336, 336])\n",
      "INFO:__main__:Validation batch 6, size: 1\n"
     ]
    },
    {
     "name": "stdout",
     "output_type": "stream",
     "text": [
      "\n",
      "Validation DataLoader 0:  35%|███▌      | 7/20 [00:05<00:09,  1.39it/s]\u001b[A"
     ]
    },
    {
     "name": "stderr",
     "output_type": "stream",
     "text": [
      "INFO:__main__:Processing batch with 1 samples\n",
      "INFO:__main__:Loading image: fsdam/one_shot/val/1748_00243.png\n",
      "INFO:__main__:Input shapes: input_ids=torch.Size([1, 1277]), pixel_values=torch.Size([1, 3, 3, 336, 336])\n",
      "INFO:__main__:Validation batch 7, size: 1\n"
     ]
    },
    {
     "name": "stdout",
     "output_type": "stream",
     "text": [
      "\n",
      "Validation DataLoader 0:  40%|████      | 8/20 [00:05<00:08,  1.45it/s]\u001b[A"
     ]
    },
    {
     "name": "stderr",
     "output_type": "stream",
     "text": [
      "INFO:__main__:Processing batch with 1 samples\n",
      "INFO:__main__:Loading image: fsdam/one_shot/val/1753_00160.png\n",
      "INFO:__main__:Input shapes: input_ids=torch.Size([1, 1283]), pixel_values=torch.Size([1, 3, 3, 336, 336])\n",
      "INFO:__main__:Validation batch 8, size: 1\n"
     ]
    },
    {
     "name": "stdout",
     "output_type": "stream",
     "text": [
      "\n",
      "Validation DataLoader 0:  45%|████▌     | 9/20 [00:07<00:08,  1.25it/s]\u001b[A"
     ]
    },
    {
     "name": "stderr",
     "output_type": "stream",
     "text": [
      "INFO:__main__:Processing batch with 1 samples\n",
      "INFO:__main__:Loading image: fsdam/one_shot/val/1754_00079.png\n",
      "INFO:__main__:Input shapes: input_ids=torch.Size([1, 1292]), pixel_values=torch.Size([1, 3, 3, 336, 336])\n",
      "INFO:__main__:Validation batch 9, size: 1\n"
     ]
    },
    {
     "name": "stdout",
     "output_type": "stream",
     "text": [
      "\n",
      "Validation DataLoader 0:  50%|█████     | 10/20 [00:07<00:07,  1.30it/s]\u001b[A"
     ]
    },
    {
     "name": "stderr",
     "output_type": "stream",
     "text": [
      "INFO:__main__:Processing batch with 1 samples\n",
      "INFO:__main__:Loading image: fsdam/one_shot/val/1755_00078.png\n",
      "INFO:__main__:Input shapes: input_ids=torch.Size([1, 1269]), pixel_values=torch.Size([1, 3, 3, 336, 336])\n",
      "INFO:__main__:Validation batch 10, size: 1\n"
     ]
    },
    {
     "name": "stdout",
     "output_type": "stream",
     "text": [
      "\n",
      "Validation DataLoader 0:  55%|█████▌    | 11/20 [00:09<00:07,  1.17it/s]\u001b[A"
     ]
    },
    {
     "name": "stderr",
     "output_type": "stream",
     "text": [
      "INFO:__main__:Processing batch with 1 samples\n",
      "INFO:__main__:Loading image: fsdam/one_shot/val/1756_00013.png\n",
      "INFO:__main__:Input shapes: input_ids=torch.Size([1, 1287]), pixel_values=torch.Size([1, 3, 3, 336, 336])\n",
      "INFO:__main__:Validation batch 11, size: 1\n"
     ]
    },
    {
     "name": "stdout",
     "output_type": "stream",
     "text": [
      "\n",
      "Validation DataLoader 0:  60%|██████    | 12/20 [00:09<00:06,  1.22it/s]\u001b[A"
     ]
    },
    {
     "name": "stderr",
     "output_type": "stream",
     "text": [
      "INFO:__main__:Processing batch with 1 samples\n",
      "INFO:__main__:Loading image: fsdam/one_shot/val/1760_00071.png\n",
      "INFO:__main__:Input shapes: input_ids=torch.Size([1, 1280]), pixel_values=torch.Size([1, 3, 3, 336, 336])\n",
      "INFO:__main__:Validation batch 12, size: 1\n"
     ]
    },
    {
     "name": "stdout",
     "output_type": "stream",
     "text": [
      "\n",
      "Validation DataLoader 0:  65%|██████▌   | 13/20 [00:10<00:05,  1.20it/s]\u001b[A"
     ]
    },
    {
     "name": "stderr",
     "output_type": "stream",
     "text": [
      "INFO:__main__:Processing batch with 1 samples\n",
      "INFO:__main__:Loading image: fsdam/one_shot/val/1761_00005.png\n",
      "INFO:__main__:Input shapes: input_ids=torch.Size([1, 1285]), pixel_values=torch.Size([1, 3, 3, 336, 336])\n",
      "INFO:__main__:Validation batch 13, size: 1\n"
     ]
    },
    {
     "name": "stdout",
     "output_type": "stream",
     "text": [
      "\n",
      "Validation DataLoader 0:  70%|███████   | 14/20 [00:11<00:04,  1.23it/s]\u001b[A"
     ]
    },
    {
     "name": "stderr",
     "output_type": "stream",
     "text": [
      "INFO:__main__:Processing batch with 1 samples\n",
      "INFO:__main__:Loading image: fsdam/one_shot/val/1764_00032.png\n",
      "INFO:__main__:Input shapes: input_ids=torch.Size([1, 1274]), pixel_values=torch.Size([1, 3, 3, 336, 336])\n",
      "INFO:__main__:Validation batch 14, size: 1\n"
     ]
    },
    {
     "name": "stdout",
     "output_type": "stream",
     "text": [
      "\n",
      "Validation DataLoader 0:  75%|███████▌  | 15/20 [00:12<00:04,  1.19it/s]\u001b[A"
     ]
    },
    {
     "name": "stderr",
     "output_type": "stream",
     "text": [
      "INFO:__main__:Processing batch with 1 samples\n",
      "INFO:__main__:Loading image: fsdam/one_shot/val/1767_00017.png\n",
      "INFO:__main__:Input shapes: input_ids=torch.Size([1, 1281]), pixel_values=torch.Size([1, 3, 3, 336, 336])\n",
      "INFO:__main__:Validation batch 15, size: 1\n"
     ]
    },
    {
     "name": "stdout",
     "output_type": "stream",
     "text": [
      "\n",
      "Validation DataLoader 0:  80%|████████  | 16/20 [00:13<00:03,  1.22it/s]\u001b[A"
     ]
    },
    {
     "name": "stderr",
     "output_type": "stream",
     "text": [
      "INFO:__main__:Processing batch with 1 samples\n",
      "INFO:__main__:Loading image: fsdam/one_shot/val/1768_00239.png\n",
      "INFO:__main__:Input shapes: input_ids=torch.Size([1, 1304]), pixel_values=torch.Size([1, 3, 3, 336, 336])\n",
      "INFO:__main__:Validation batch 16, size: 1\n"
     ]
    },
    {
     "name": "stdout",
     "output_type": "stream",
     "text": [
      "\n",
      "Validation DataLoader 0:  85%|████████▌ | 17/20 [00:13<00:02,  1.25it/s]\u001b[A"
     ]
    },
    {
     "name": "stderr",
     "output_type": "stream",
     "text": [
      "INFO:__main__:Processing batch with 1 samples\n",
      "INFO:__main__:Loading image: fsdam/one_shot/val/1771_00259.png\n",
      "INFO:__main__:Input shapes: input_ids=torch.Size([1, 1295]), pixel_values=torch.Size([1, 3, 3, 336, 336])\n",
      "INFO:__main__:Validation batch 17, size: 1\n"
     ]
    },
    {
     "name": "stdout",
     "output_type": "stream",
     "text": [
      "\n",
      "Validation DataLoader 0:  90%|█████████ | 18/20 [00:15<00:01,  1.20it/s]\u001b[A"
     ]
    },
    {
     "name": "stderr",
     "output_type": "stream",
     "text": [
      "INFO:__main__:Processing batch with 1 samples\n",
      "INFO:__main__:Loading image: fsdam/one_shot/val/1772_00192.png\n",
      "INFO:__main__:Input shapes: input_ids=torch.Size([1, 1299]), pixel_values=torch.Size([1, 3, 3, 336, 336])\n",
      "INFO:__main__:Validation batch 18, size: 1\n"
     ]
    },
    {
     "name": "stdout",
     "output_type": "stream",
     "text": [
      "\n",
      "Validation DataLoader 0:  95%|█████████▌| 19/20 [00:15<00:00,  1.22it/s]\u001b[A"
     ]
    },
    {
     "name": "stderr",
     "output_type": "stream",
     "text": [
      "INFO:__main__:Processing batch with 1 samples\n",
      "INFO:__main__:Loading image: fsdam/one_shot/val/1773_00089.png\n",
      "INFO:__main__:Input shapes: input_ids=torch.Size([1, 1275]), pixel_values=torch.Size([1, 3, 3, 336, 336])\n",
      "INFO:__main__:Validation batch 19, size: 1\n"
     ]
    },
    {
     "name": "stdout",
     "output_type": "stream",
     "text": [
      "\n",
      "Validation DataLoader 0: 100%|██████████| 20/20 [00:16<00:00,  1.25it/s]\u001b[A\n",
      "Epoch 19:   0%|          | 0/1 [00:00<?, ?it/s, v_num=shot, train_loss_step=3.990, val_loss_step=4.100, val_rouge_step=0.836, val_loss_epoch=4.050, val_rouge_epoch=0.820, train_loss_epoch=3.990]        "
     ]
    },
    {
     "name": "stderr",
     "output_type": "stream",
     "text": [
      "INFO:__main__:Starting epoch 19\n",
      "INFO:__main__:Processing batch with 1 samples\n",
      "INFO:__main__:Loading image: fsdam/one_shot/train/1006_00018.png\n",
      "INFO:__main__:Input shapes: input_ids=torch.Size([1, 1271]), pixel_values=torch.Size([1, 3, 3, 336, 336])\n",
      "INFO:__main__:Training batch 0, size: 1\n",
      "INFO:__main__:Sample Training Prediction: IT [1 anch\n",
      "cribe the scene in including time's perspective situatione, and the the gaze will likely shift next. why.INSTINST] A street lined with palm trees and houses is visible. with a green traffic...\n",
      "INFO:__main__:Training loss: 3.989926\n"
     ]
    },
    {
     "name": "stdout",
     "output_type": "stream",
     "text": [
      "Epoch 19: 100%|██████████| 1/1 [00:00<00:00,  2.01it/s, v_num=shot, train_loss_step=3.990, val_loss_step=4.100, val_rouge_step=0.836, val_loss_epoch=4.050, val_rouge_epoch=0.820, train_loss_epoch=3.990]\n",
      "Validation: |          | 0/? [00:00<?, ?it/s]\u001b[A"
     ]
    },
    {
     "name": "stderr",
     "output_type": "stream",
     "text": [
      "INFO:__main__:Processing batch with 1 samples\n",
      "INFO:__main__:Loading image: fsdam/one_shot/val/1737_00085.png\n",
      "INFO:__main__:Input shapes: input_ids=torch.Size([1, 1282]), pixel_values=torch.Size([1, 3, 3, 336, 336])\n"
     ]
    },
    {
     "name": "stdout",
     "output_type": "stream",
     "text": [
      "\n",
      "Validation:   0%|          | 0/20 [00:00<?, ?it/s]\u001b[A\n",
      "Validation DataLoader 0:   0%|          | 0/20 [00:00<?, ?it/s]\u001b[A"
     ]
    },
    {
     "name": "stderr",
     "output_type": "stream",
     "text": [
      "INFO:__main__:Validation batch 0, size: 1\n",
      "INFO:__main__:Sample Validation Prediction: The scene shows a busy urban intersection with cars, buildings, and a yellow traffic light ahead. The current gaze focuses on the car in front. The future gaze will likely shift to the traffic light. ...\n",
      "INFO:__main__:Sample Validation Target: [INST] \n",
      "Describe the scene, the driver's current gaze, and where that gaze will likely shift next and why.[/INST] The scene shows a busy urban intersection with cars, buildings, and a yellow traffic l...\n",
      "INFO:__main__:Validation Loss: 4.031752\n"
     ]
    },
    {
     "name": "stdout",
     "output_type": "stream",
     "text": [
      "\n",
      "Validation DataLoader 0:   5%|▌         | 1/20 [00:00<00:08,  2.18it/s]\u001b[A"
     ]
    },
    {
     "name": "stderr",
     "output_type": "stream",
     "text": [
      "INFO:__main__:Processing batch with 1 samples\n",
      "INFO:__main__:Loading image: fsdam/one_shot/val/1737_00287.png\n",
      "INFO:__main__:Input shapes: input_ids=torch.Size([1, 1293]), pixel_values=torch.Size([1, 3, 3, 336, 336])\n",
      "INFO:__main__:Validation batch 1, size: 1\n"
     ]
    },
    {
     "name": "stdout",
     "output_type": "stream",
     "text": [
      "\n",
      "Validation DataLoader 0:  10%|█         | 2/20 [00:02<00:18,  0.97it/s]\u001b[A"
     ]
    },
    {
     "name": "stderr",
     "output_type": "stream",
     "text": [
      "INFO:__main__:Processing batch with 1 samples\n",
      "INFO:__main__:Loading image: fsdam/one_shot/val/1744_00119.png\n",
      "INFO:__main__:Input shapes: input_ids=torch.Size([1, 1272]), pixel_values=torch.Size([1, 3, 3, 336, 336])\n",
      "INFO:__main__:Validation batch 2, size: 1\n"
     ]
    },
    {
     "name": "stdout",
     "output_type": "stream",
     "text": [
      "\n",
      "Validation DataLoader 0:  15%|█▌        | 3/20 [00:03<00:17,  0.97it/s]\u001b[A"
     ]
    },
    {
     "name": "stderr",
     "output_type": "stream",
     "text": [
      "INFO:__main__:Processing batch with 1 samples\n",
      "INFO:__main__:Loading image: fsdam/one_shot/val/1744_00219.png\n",
      "INFO:__main__:Input shapes: input_ids=torch.Size([1, 1262]), pixel_values=torch.Size([1, 3, 3, 336, 336])\n",
      "INFO:__main__:Validation batch 3, size: 1\n"
     ]
    },
    {
     "name": "stdout",
     "output_type": "stream",
     "text": [
      "\n",
      "Validation DataLoader 0:  20%|██        | 4/20 [00:03<00:14,  1.12it/s]\u001b[A"
     ]
    },
    {
     "name": "stderr",
     "output_type": "stream",
     "text": [
      "INFO:__main__:Processing batch with 1 samples\n",
      "INFO:__main__:Loading image: fsdam/one_shot/val/1746_00008.png\n",
      "INFO:__main__:Input shapes: input_ids=torch.Size([1, 1272]), pixel_values=torch.Size([1, 3, 3, 336, 336])\n",
      "INFO:__main__:Validation batch 4, size: 1\n"
     ]
    },
    {
     "name": "stdout",
     "output_type": "stream",
     "text": [
      "\n",
      "Validation DataLoader 0:  25%|██▌       | 5/20 [00:04<00:12,  1.23it/s]\u001b[A"
     ]
    },
    {
     "name": "stderr",
     "output_type": "stream",
     "text": [
      "INFO:__main__:Processing batch with 1 samples\n",
      "INFO:__main__:Loading image: fsdam/one_shot/val/1747_00012.png\n",
      "INFO:__main__:Input shapes: input_ids=torch.Size([1, 1282]), pixel_values=torch.Size([1, 3, 3, 336, 336])\n",
      "INFO:__main__:Validation batch 5, size: 1\n"
     ]
    },
    {
     "name": "stdout",
     "output_type": "stream",
     "text": [
      "\n",
      "Validation DataLoader 0:  30%|███       | 6/20 [00:04<00:10,  1.31it/s]\u001b[A"
     ]
    },
    {
     "name": "stderr",
     "output_type": "stream",
     "text": [
      "INFO:__main__:Processing batch with 1 samples\n",
      "INFO:__main__:Loading image: fsdam/one_shot/val/1748_00018.png\n",
      "INFO:__main__:Input shapes: input_ids=torch.Size([1, 1269]), pixel_values=torch.Size([1, 3, 3, 336, 336])\n",
      "INFO:__main__:Validation batch 6, size: 1\n"
     ]
    },
    {
     "name": "stdout",
     "output_type": "stream",
     "text": [
      "\n",
      "Validation DataLoader 0:  35%|███▌      | 7/20 [00:05<00:09,  1.38it/s]\u001b[A"
     ]
    },
    {
     "name": "stderr",
     "output_type": "stream",
     "text": [
      "INFO:__main__:Processing batch with 1 samples\n",
      "INFO:__main__:Loading image: fsdam/one_shot/val/1748_00243.png\n",
      "INFO:__main__:Input shapes: input_ids=torch.Size([1, 1277]), pixel_values=torch.Size([1, 3, 3, 336, 336])\n",
      "INFO:__main__:Validation batch 7, size: 1\n"
     ]
    },
    {
     "name": "stdout",
     "output_type": "stream",
     "text": [
      "\n",
      "Validation DataLoader 0:  40%|████      | 8/20 [00:05<00:08,  1.44it/s]\u001b[A"
     ]
    },
    {
     "name": "stderr",
     "output_type": "stream",
     "text": [
      "INFO:__main__:Processing batch with 1 samples\n",
      "INFO:__main__:Loading image: fsdam/one_shot/val/1753_00160.png\n",
      "INFO:__main__:Input shapes: input_ids=torch.Size([1, 1283]), pixel_values=torch.Size([1, 3, 3, 336, 336])\n",
      "INFO:__main__:Validation batch 8, size: 1\n"
     ]
    },
    {
     "name": "stdout",
     "output_type": "stream",
     "text": [
      "\n",
      "Validation DataLoader 0:  45%|████▌     | 9/20 [00:07<00:08,  1.25it/s]\u001b[A"
     ]
    },
    {
     "name": "stderr",
     "output_type": "stream",
     "text": [
      "INFO:__main__:Processing batch with 1 samples\n",
      "INFO:__main__:Loading image: fsdam/one_shot/val/1754_00079.png\n",
      "INFO:__main__:Input shapes: input_ids=torch.Size([1, 1292]), pixel_values=torch.Size([1, 3, 3, 336, 336])\n",
      "INFO:__main__:Validation batch 9, size: 1\n"
     ]
    },
    {
     "name": "stdout",
     "output_type": "stream",
     "text": [
      "\n",
      "Validation DataLoader 0:  50%|█████     | 10/20 [00:07<00:07,  1.30it/s]\u001b[A"
     ]
    },
    {
     "name": "stderr",
     "output_type": "stream",
     "text": [
      "INFO:__main__:Processing batch with 1 samples\n",
      "INFO:__main__:Loading image: fsdam/one_shot/val/1755_00078.png\n",
      "INFO:__main__:Input shapes: input_ids=torch.Size([1, 1269]), pixel_values=torch.Size([1, 3, 3, 336, 336])\n",
      "INFO:__main__:Validation batch 10, size: 1\n"
     ]
    },
    {
     "name": "stdout",
     "output_type": "stream",
     "text": [
      "\n",
      "Validation DataLoader 0:  55%|█████▌    | 11/20 [00:09<00:07,  1.17it/s]\u001b[A"
     ]
    },
    {
     "name": "stderr",
     "output_type": "stream",
     "text": [
      "INFO:__main__:Processing batch with 1 samples\n",
      "INFO:__main__:Loading image: fsdam/one_shot/val/1756_00013.png\n",
      "INFO:__main__:Input shapes: input_ids=torch.Size([1, 1287]), pixel_values=torch.Size([1, 3, 3, 336, 336])\n",
      "INFO:__main__:Validation batch 11, size: 1\n"
     ]
    },
    {
     "name": "stdout",
     "output_type": "stream",
     "text": [
      "\n",
      "Validation DataLoader 0:  60%|██████    | 12/20 [00:09<00:06,  1.21it/s]\u001b[A"
     ]
    },
    {
     "name": "stderr",
     "output_type": "stream",
     "text": [
      "INFO:__main__:Processing batch with 1 samples\n",
      "INFO:__main__:Loading image: fsdam/one_shot/val/1760_00071.png\n",
      "INFO:__main__:Input shapes: input_ids=torch.Size([1, 1280]), pixel_values=torch.Size([1, 3, 3, 336, 336])\n",
      "INFO:__main__:Validation batch 12, size: 1\n"
     ]
    },
    {
     "name": "stdout",
     "output_type": "stream",
     "text": [
      "\n",
      "Validation DataLoader 0:  65%|██████▌   | 13/20 [00:10<00:05,  1.19it/s]\u001b[A"
     ]
    },
    {
     "name": "stderr",
     "output_type": "stream",
     "text": [
      "INFO:__main__:Processing batch with 1 samples\n",
      "INFO:__main__:Loading image: fsdam/one_shot/val/1761_00005.png\n",
      "INFO:__main__:Input shapes: input_ids=torch.Size([1, 1285]), pixel_values=torch.Size([1, 3, 3, 336, 336])\n",
      "INFO:__main__:Validation batch 13, size: 1\n"
     ]
    },
    {
     "name": "stdout",
     "output_type": "stream",
     "text": [
      "\n",
      "Validation DataLoader 0:  70%|███████   | 14/20 [00:11<00:04,  1.23it/s]\u001b[A"
     ]
    },
    {
     "name": "stderr",
     "output_type": "stream",
     "text": [
      "INFO:__main__:Processing batch with 1 samples\n",
      "INFO:__main__:Loading image: fsdam/one_shot/val/1764_00032.png\n",
      "INFO:__main__:Input shapes: input_ids=torch.Size([1, 1274]), pixel_values=torch.Size([1, 3, 3, 336, 336])\n",
      "INFO:__main__:Validation batch 14, size: 1\n"
     ]
    },
    {
     "name": "stdout",
     "output_type": "stream",
     "text": [
      "\n",
      "Validation DataLoader 0:  75%|███████▌  | 15/20 [00:12<00:04,  1.18it/s]\u001b[A"
     ]
    },
    {
     "name": "stderr",
     "output_type": "stream",
     "text": [
      "INFO:__main__:Processing batch with 1 samples\n",
      "INFO:__main__:Loading image: fsdam/one_shot/val/1767_00017.png\n",
      "INFO:__main__:Input shapes: input_ids=torch.Size([1, 1281]), pixel_values=torch.Size([1, 3, 3, 336, 336])\n",
      "INFO:__main__:Validation batch 15, size: 1\n"
     ]
    },
    {
     "name": "stdout",
     "output_type": "stream",
     "text": [
      "\n",
      "Validation DataLoader 0:  80%|████████  | 16/20 [00:13<00:03,  1.21it/s]\u001b[A"
     ]
    },
    {
     "name": "stderr",
     "output_type": "stream",
     "text": [
      "INFO:__main__:Processing batch with 1 samples\n",
      "INFO:__main__:Loading image: fsdam/one_shot/val/1768_00239.png\n",
      "INFO:__main__:Input shapes: input_ids=torch.Size([1, 1304]), pixel_values=torch.Size([1, 3, 3, 336, 336])\n",
      "INFO:__main__:Validation batch 16, size: 1\n"
     ]
    },
    {
     "name": "stdout",
     "output_type": "stream",
     "text": [
      "\n",
      "Validation DataLoader 0:  85%|████████▌ | 17/20 [00:13<00:02,  1.24it/s]\u001b[A"
     ]
    },
    {
     "name": "stderr",
     "output_type": "stream",
     "text": [
      "INFO:__main__:Processing batch with 1 samples\n",
      "INFO:__main__:Loading image: fsdam/one_shot/val/1771_00259.png\n",
      "INFO:__main__:Input shapes: input_ids=torch.Size([1, 1295]), pixel_values=torch.Size([1, 3, 3, 336, 336])\n",
      "INFO:__main__:Validation batch 17, size: 1\n"
     ]
    },
    {
     "name": "stdout",
     "output_type": "stream",
     "text": [
      "\n",
      "Validation DataLoader 0:  90%|█████████ | 18/20 [00:14<00:01,  1.20it/s]\u001b[A"
     ]
    },
    {
     "name": "stderr",
     "output_type": "stream",
     "text": [
      "INFO:__main__:Processing batch with 1 samples\n",
      "INFO:__main__:Loading image: fsdam/one_shot/val/1772_00192.png\n",
      "INFO:__main__:Input shapes: input_ids=torch.Size([1, 1299]), pixel_values=torch.Size([1, 3, 3, 336, 336])\n",
      "INFO:__main__:Validation batch 18, size: 1\n"
     ]
    },
    {
     "name": "stdout",
     "output_type": "stream",
     "text": [
      "\n",
      "Validation DataLoader 0:  95%|█████████▌| 19/20 [00:15<00:00,  1.23it/s]\u001b[A"
     ]
    },
    {
     "name": "stderr",
     "output_type": "stream",
     "text": [
      "INFO:__main__:Processing batch with 1 samples\n",
      "INFO:__main__:Loading image: fsdam/one_shot/val/1773_00089.png\n",
      "INFO:__main__:Input shapes: input_ids=torch.Size([1, 1275]), pixel_values=torch.Size([1, 3, 3, 336, 336])\n",
      "INFO:__main__:Validation batch 19, size: 1\n"
     ]
    },
    {
     "name": "stdout",
     "output_type": "stream",
     "text": [
      "\n",
      "Validation DataLoader 0: 100%|██████████| 20/20 [00:15<00:00,  1.25it/s]\u001b[A\n",
      "Epoch 19: 100%|██████████| 1/1 [00:26<00:00,  0.04it/s, v_num=shot, train_loss_step=3.990, val_loss_step=4.100, val_rouge_step=0.836, val_loss_epoch=4.050, val_rouge_epoch=0.821, train_loss_epoch=3.990]"
     ]
    },
    {
     "name": "stderr",
     "output_type": "stream",
     "text": [
      "`Trainer.fit` stopped: `max_epochs=20` reached.\n"
     ]
    },
    {
     "name": "stdout",
     "output_type": "stream",
     "text": [
      "Epoch 19: 100%|██████████| 1/1 [00:26<00:00,  0.04it/s, v_num=shot, train_loss_step=3.990, val_loss_step=4.100, val_rouge_step=0.836, val_loss_epoch=4.050, val_rouge_epoch=0.821, train_loss_epoch=3.990]\n"
     ]
    },
    {
     "name": "stderr",
     "output_type": "stream",
     "text": [
      "INFO:__main__:Lightning checkpoint saved to fsdam-s3/logs/final_model_one_shot.ckpt\n",
      "INFO:__main__:LoRA weights saved to fsdam-s3/logs/lora_weights_one_shot\n",
      "INFO:__main__:One-shot training completed.\n"
     ]
    },
    {
     "data": {
      "text/plain": [
       "4292"
      ]
     },
     "execution_count": 28,
     "metadata": {},
     "output_type": "execute_result"
    }
   ],
   "source": [
    "import torch\n",
    "import os\n",
    "import json\n",
    "import gc\n",
    "from PIL import Image\n",
    "from torch.utils.data import Dataset, DataLoader\n",
    "from transformers import AutoProcessor, BitsAndBytesConfig, LlavaNextForConditionalGeneration\n",
    "from peft import LoraConfig, prepare_model_for_kbit_training, get_peft_model\n",
    "import lightning.pytorch as L\n",
    "from torchmetrics.text import ROUGEScore\n",
    "from lightning.pytorch.callbacks import EarlyStopping, ModelCheckpoint\n",
    "from lightning.pytorch.loggers import CSVLogger\n",
    "import logging\n",
    "\n",
    "# Set environment variables\n",
    "os.environ[\"PYTORCH_CUDA_ALLOC_CONF\"] = \"expandable_segments:True\"\n",
    "os.environ[\"TOKENIZERS_PARALLELISM\"] = \"false\"\n",
    "\n",
    "# Set up logging\n",
    "logging.basicConfig(level=logging.INFO)\n",
    "logger = logging.getLogger(__name__)\n",
    "file_handler = logging.FileHandler(\"fsdam-s3/logs/one_shot_training.log\")\n",
    "file_handler.setLevel(logging.INFO)\n",
    "formatter = logging.Formatter('%(asctime)s - %(name)s - %(levelname)s - %(message)s')\n",
    "file_handler.setFormatter(formatter)\n",
    "logger.addHandler(file_handler)\n",
    "\n",
    "# Set mixed precision\n",
    "torch.set_float32_matmul_precision('medium')\n",
    "\n",
    "# Clear GPU memory\n",
    "torch.cuda.empty_cache()\n",
    "gc.collect()\n",
    "\n",
    "# Define paths and constants\n",
    "MODEL_ID = \"llava-hf/llava-v1.6-vicuna-7b-hf\"\n",
    "DATASET_DIR = \"fsdam\"\n",
    "ONE_SHOT_DIR = os.path.join(DATASET_DIR, \"one_shot\")\n",
    "TEST_DIR = os.path.join(DATASET_DIR, \"test_set\")\n",
    "TRAIN_JSON_ONE = os.path.join(ONE_SHOT_DIR, \"train_llava.json\")\n",
    "VAL_JSON = os.path.join(ONE_SHOT_DIR, \"val_llava.json\")\n",
    "TEST_JSON = os.path.join(TEST_DIR, \"test_llava.json\")\n",
    "CHECKPOINT_DIR = \"fsdam-s3/logs\"\n",
    "LORA_CHECKPOINT_DIR = os.path.join(CHECKPOINT_DIR, \"lora_weights_one_shot\")\n",
    "MAX_LENGTH = 2048\n",
    "\n",
    "# Create checkpoint directories\n",
    "os.makedirs(CHECKPOINT_DIR, exist_ok=True)\n",
    "os.makedirs(LORA_CHECKPOINT_DIR, exist_ok=True)\n",
    "\n",
    "# Verify paths\n",
    "logger.info(\"One-shot train JSON exists: %s\", os.path.exists(TRAIN_JSON_ONE))\n",
    "logger.info(\"Val JSON exists: %s\", os.path.exists(VAL_JSON))\n",
    "logger.info(\"Test JSON exists: %s\", os.path.exists(TEST_JSON))\n",
    "\n",
    "# Load processor and model\n",
    "try:\n",
    "    processor = AutoProcessor.from_pretrained(MODEL_ID, trust_remote_code=True)\n",
    "    processor.tokenizer.padding_side = \"left\"\n",
    "    if processor.tokenizer.pad_token is None or processor.tokenizer.pad_token == \"<unk>\":\n",
    "        processor.tokenizer.pad_token = processor.tokenizer.eos_token\n",
    "        processor.tokenizer.pad_token_id = processor.tokenizer.eos_token_id\n",
    "    logger.info(\"Pad token: %s\", processor.tokenizer.pad_token)\n",
    "\n",
    "    bnb_cfg = BitsAndBytesConfig(\n",
    "        load_in_4bit=True,\n",
    "        bnb_4bit_quant_type=\"nf4\",\n",
    "        bnb_4bit_compute_dtype=torch.float16\n",
    "    )\n",
    "    model = LlavaNextForConditionalGeneration.from_pretrained(\n",
    "        MODEL_ID,\n",
    "        torch_dtype=torch.float16,\n",
    "        quantization_config=bnb_cfg,\n",
    "        trust_remote_code=True\n",
    "    )\n",
    "except Exception as e:\n",
    "    logger.error(\"Error loading model or processor: %s\", e)\n",
    "    raise e\n",
    "\n",
    "# Configure LoRA with higher learning capacity for one-shot\n",
    "model.gradient_checkpointing_enable()\n",
    "model = prepare_model_for_kbit_training(model)\n",
    "lora_config = LoraConfig(\n",
    "    r=8,  #8\n",
    "    lora_alpha=4,  #4\n",
    "    lora_dropout=0.02,  # Reduced dropout #0.05\n",
    "    target_modules=[\"q_proj\", \"k_proj\", \"v_proj\", \"o_proj\", \"multi_modal_projector.linear_1\", \"multi_modal_projector.linear_2\"],\n",
    "    init_lora_weights=\"gaussian\"\n",
    ")\n",
    "model = get_peft_model(model, lora_config)\n",
    "model.enable_input_require_grads()\n",
    "\n",
    "# Move to GPU\n",
    "device = torch.device(\"cuda\" if torch.cuda.is_available() else \"cpu\")\n",
    "model.to(device)\n",
    "logger.info(\"Model device: %s\", next(model.parameters()).device)\n",
    "logger.info(\"Model and processor loaded successfully.\")\n",
    "\n",
    "# Define dataset class\n",
    "class LlavaDataset(Dataset):\n",
    "    def __init__(self, json_path, image_dir, limit_samples=None):\n",
    "        try:\n",
    "            with open(json_path, 'r') as f:\n",
    "                self.data = json.load(f)\n",
    "                # For one-shot, limit samples but don't restrict to just 1\n",
    "                if limit_samples:\n",
    "                    self.data = self.data[:limit_samples]\n",
    "        except Exception as e:\n",
    "            logger.error(\"Error loading JSON %s: %s\", json_path, e)\n",
    "            raise e\n",
    "        self.image_dir = image_dir\n",
    "        logger.info(\"Dataset from %s: %d samples\", json_path, len(self.data))\n",
    "        if len(self.data) > 0:\n",
    "            logger.info(\"Sample JSON entry: %s\", json.dumps(self.data[0], indent=2)[:500] + \"...\")\n",
    "\n",
    "    def __len__(self):\n",
    "        return len(self.data)\n",
    "\n",
    "    def __getitem__(self, idx):\n",
    "        try:\n",
    "            item = self.data[idx]\n",
    "            image_path = os.path.join(self.image_dir, os.path.basename(item['image']))\n",
    "            \n",
    "            # Debug: Check if image file exists\n",
    "            if not os.path.exists(image_path):\n",
    "                logger.warning(\"Image not found: %s\", image_path)\n",
    "                # Try alternative path\n",
    "                image_path = os.path.join(self.image_dir, item['image'])\n",
    "                if not os.path.exists(image_path):\n",
    "                    raise FileNotFoundError(f\"Image not found: {image_path}\")\n",
    "            \n",
    "            if 'conversations' in item:\n",
    "                for conv in item['conversations']:\n",
    "                    if conv.get('from') == 'gpt':\n",
    "                        return image_path, conv['value']\n",
    "            if 'response' in item:\n",
    "                return image_path, item['response']\n",
    "            if 'answer' in item:\n",
    "                return image_path, item['answer']\n",
    "            raise ValueError(f\"No valid response found for item {idx}: {json.dumps(item, indent=2)}\")\n",
    "        except Exception as e:\n",
    "            logger.error(\"Error accessing item %d: %s\", idx, e)\n",
    "            raise e\n",
    "\n",
    "# Load datasets\n",
    "try:\n",
    "    # For one-shot, use a small number of training examples (1-5)\n",
    "    train_dataset_one_shot = LlavaDataset(TRAIN_JSON_ONE, ONE_SHOT_DIR + \"/train\", limit_samples=1)\n",
    "    val_dataset = LlavaDataset(VAL_JSON, ONE_SHOT_DIR + \"/val\")\n",
    "    test_dataset = LlavaDataset(TEST_JSON, TEST_DIR + \"/test\")\n",
    "except Exception as e:\n",
    "    logger.error(\"Dataset loading error: %s\", e)\n",
    "    raise e\n",
    "\n",
    "# Debug dataset sizes\n",
    "logger.info(\"One-shot train size: %d\", len(train_dataset_one_shot))\n",
    "logger.info(\"Val size: %d\", len(val_dataset))\n",
    "logger.info(\"Test size: %d\", len(test_dataset))\n",
    "\n",
    "# Collate function\n",
    "def collate_fn(batch, processor=processor, prompt_template=None, device=\"cuda\"):\n",
    "    logger.info(\"Processing batch with %d samples\", len(batch))\n",
    "    imgs, seqs = zip(*batch)\n",
    "    processed_imgs = []\n",
    "    \n",
    "    for img_path in imgs:\n",
    "        logger.info(\"Loading image: %s\", img_path)\n",
    "        try:\n",
    "            img = Image.open(img_path).convert(\"RGB\").resize((336, 336))\n",
    "            processed_imgs.append(img)\n",
    "        except Exception as e:\n",
    "            logger.error(\"Error processing image %s: %s\", img_path, e)\n",
    "            raise e\n",
    "\n",
    "    prompt = prompt_template or \"[INST] <image>\\nDescribe the scene, the driver's current gaze, and where that gaze will likely shift next and why.[/INST] {seq}\"\n",
    "    conversation_texts = [prompt.format(seq=seq) for seq in seqs]\n",
    "\n",
    "    try:\n",
    "        inputs = processor(\n",
    "            text=conversation_texts,\n",
    "            images=processed_imgs,\n",
    "            return_tensors=\"pt\",\n",
    "            padding=True,\n",
    "            truncation=True,  # Enable truncation\n",
    "            max_length=MAX_LENGTH\n",
    "        )\n",
    "        logger.info(\"Input shapes: input_ids=%s, pixel_values=%s\", inputs['input_ids'].shape, inputs['pixel_values'].shape)\n",
    "    except Exception as e:\n",
    "        logger.error(\"Processor error: %s\", e)\n",
    "        raise e\n",
    "\n",
    "    labels = inputs[\"input_ids\"].clone()\n",
    "    labels[labels == processor.tokenizer.pad_token_id] = -100\n",
    "    inputs[\"labels\"] = labels\n",
    "    inputs = {k: v.to(device) for k, v in inputs.items()}\n",
    "    return inputs\n",
    "\n",
    "# Lightning module\n",
    "class LlavaModelPLModule(L.LightningModule):\n",
    "    def __init__(self, config, processor, model):\n",
    "        super().__init__()\n",
    "        self.config = config\n",
    "        self.processor = processor\n",
    "        self.model = model\n",
    "        self.batch_size = config[\"batch_size\"]\n",
    "        self.rouge = ROUGEScore()\n",
    "\n",
    "    def training_step(self, batch, batch_idx):\n",
    "        logger.info(\"Training batch %d, size: %d\", batch_idx, len(batch['input_ids']))\n",
    "        outputs = self.model(**batch)\n",
    "        loss = outputs.loss\n",
    "        self.log(\"train_loss\", loss, prog_bar=True, on_step=True, on_epoch=True)\n",
    "        \n",
    "        # Log more details for one-shot learning\n",
    "        if batch_idx == 0:\n",
    "            predictions = self.processor.batch_decode(outputs.logits.argmax(-1), skip_special_tokens=True)\n",
    "            logger.info(\"Sample Training Prediction: %s...\", predictions[0][:200])\n",
    "            logger.info(\"Training loss: %f\", loss.item())\n",
    "            \n",
    "        return loss\n",
    "\n",
    "    def validation_step(self, batch, batch_idx):\n",
    "        logger.info(\"Validation batch %d, size: %d\", batch_idx, len(batch['input_ids']))\n",
    "        \n",
    "        # Calculate validation loss first\n",
    "        with torch.no_grad():\n",
    "            loss_outputs = self.model(**batch)\n",
    "            val_loss = loss_outputs.loss\n",
    "            self.log(\"val_loss\", val_loss, prog_bar=True, on_step=True, on_epoch=True)\n",
    "        \n",
    "        # Then do generation for ROUGE score\n",
    "        generation_kwargs = {k: v for k, v in batch.items() if k != \"labels\"}\n",
    "        \n",
    "        with torch.no_grad():\n",
    "            outputs = self.model.generate(\n",
    "                **generation_kwargs,\n",
    "                max_new_tokens=512,\n",
    "                do_sample=False,\n",
    "                pad_token_id=self.processor.tokenizer.pad_token_id,\n",
    "                eos_token_id=self.processor.tokenizer.eos_token_id,\n",
    "                repetition_penalty=1.1,\n",
    "                no_repeat_ngram_size=3\n",
    "            )\n",
    "        \n",
    "        predictions = self.processor.batch_decode(outputs, skip_special_tokens=True)\n",
    "        valid_labels = batch[\"labels\"].clone()\n",
    "        valid_labels[valid_labels == -100] = self.processor.tokenizer.pad_token_id\n",
    "        targets = self.processor.tokenizer.batch_decode(valid_labels, skip_special_tokens=True)\n",
    "        targets = [t.replace(self.processor.tokenizer.pad_token, \"\").strip() for t in targets]\n",
    "        predictions = [p.split(\"[/INST]\")[-1].strip() if \"[/INST]\" in p else p for p in predictions]\n",
    "        \n",
    "        # Check if predictions are empty\n",
    "        for i, pred in enumerate(predictions):\n",
    "            if not pred.strip():\n",
    "                logger.warning(\"Empty prediction at index %d\", i)\n",
    "                logger.info(\"Full output before processing: %s\", self.processor.batch_decode([outputs[i]], skip_special_tokens=True)[0])\n",
    "        \n",
    "        rouge_score = self.rouge(predictions, targets)[\"rougeL_fmeasure\"]\n",
    "        self.log(\"val_rouge\", rouge_score, prog_bar=True, on_step=True, on_epoch=True)\n",
    "        \n",
    "        if batch_idx == 0:\n",
    "            logger.info(\"Sample Validation Prediction: %s...\", predictions[0][:200])\n",
    "            logger.info(\"Sample Validation Target: %s...\", targets[0][:200])\n",
    "            logger.info(\"Validation Loss: %f\", val_loss.item())\n",
    "            \n",
    "        # Save sample predictions\n",
    "        sample_output = [{\"prediction\": p, \"target\": t, \"val_loss\": val_loss.item()} for p, t in zip(predictions, targets)]\n",
    "        with open(os.path.join(CHECKPOINT_DIR, f\"val_samples_epoch_{self.current_epoch}.json\"), 'a') as f:\n",
    "            json.dump(sample_output, f, indent=2)\n",
    "            f.write('\\n')\n",
    "        return {\"val_rouge\": rouge_score, \"val_loss\": val_loss}\n",
    "\n",
    "    def configure_optimizers(self):\n",
    "        # Higher learning rate for one-shot learning\n",
    "        optimizer = torch.optim.AdamW(self.parameters(), lr=self.config[\"lr\"], weight_decay=0.01)\n",
    "        scheduler = torch.optim.lr_scheduler.CosineAnnealingLR(optimizer, T_max=self.config[\"max_epochs\"])\n",
    "        return {\"optimizer\": optimizer, \"lr_scheduler\": scheduler}\n",
    "\n",
    "    def train_dataloader(self):\n",
    "        logger.info(\"Training dataset size: %d\", len(train_dataset_one_shot))\n",
    "        return DataLoader(\n",
    "            train_dataset_one_shot,\n",
    "            collate_fn=lambda x: collate_fn(x, processor),\n",
    "            batch_size=self.batch_size,\n",
    "            shuffle=True,\n",
    "            num_workers=0\n",
    "        )\n",
    "\n",
    "    def val_dataloader(self):\n",
    "        logger.info(\"Validation dataset size: %d\", len(val_dataset))\n",
    "        return DataLoader(\n",
    "            val_dataset,\n",
    "            collate_fn=lambda x: collate_fn(x, processor),\n",
    "            batch_size=self.batch_size,\n",
    "            num_workers=0\n",
    "        )\n",
    "\n",
    "    def on_train_epoch_start(self):\n",
    "        logger.info(\"Starting epoch %d\", self.current_epoch)\n",
    "\n",
    "    def on_train_end(self):\n",
    "        save_path = os.path.join(CHECKPOINT_DIR, \"final_model_one_shot.ckpt\")\n",
    "        self.trainer.save_checkpoint(save_path)\n",
    "        logger.info(\"Lightning checkpoint saved to %s\", save_path)\n",
    "        self.model.save_pretrained(LORA_CHECKPOINT_DIR)\n",
    "        logger.info(\"LoRA weights saved to %s\", LORA_CHECKPOINT_DIR)\n",
    "\n",
    "# Training configuration optimized for one-shot learning\n",
    "config = {\n",
    "    \"max_epochs\": 20,  \n",
    "    \"lr\": 1e-3,  \n",
    "    \"batch_size\": 1, \n",
    "    \"use_contrastive\": False, \n",
    "    \"contrastive_weight\": 0.05\n",
    "}\n",
    "\n",
    "# Train with early stopping, checkpointing, and CSV logging\n",
    "trainer = L.Trainer(\n",
    "    accelerator=\"gpu\",\n",
    "    devices=1,\n",
    "    max_epochs=config[\"max_epochs\"],\n",
    "    precision=\"16-mixed\",\n",
    "    val_check_interval=0.5,\n",
    "    enable_checkpointing=True,\n",
    "    enable_progress_bar=True,\n",
    "    log_every_n_steps=1,\n",
    "    default_root_dir=CHECKPOINT_DIR,\n",
    "    logger=CSVLogger(save_dir=CHECKPOINT_DIR, name=\"metrics\", version=\"one_shot\"),\n",
    "    callbacks=[\n",
    "        EarlyStopping(monitor=\"val_loss\", mode=\"min\", patience=5),\n",
    "        ModelCheckpoint(\n",
    "            dirpath=CHECKPOINT_DIR,\n",
    "            filename=\"best_model_one_shot_{epoch}_{val_loss:.3f}_{val_rouge:.3f}\",\n",
    "            monitor=\"val_loss\",  \n",
    "            mode=\"min\",\n",
    "            save_top_k=3  \n",
    "        )\n",
    "    ],\n",
    "    gradient_clip_val=1.0\n",
    ")\n",
    "\n",
    "# Initialize and train model\n",
    "llava_module = LlavaModelPLModule(config, processor, model)\n",
    "trainer.fit(llava_module)\n",
    "logger.info(\"One-shot training completed.\")\n",
    "\n",
    "# Clean up memory\n",
    "torch.cuda.empty_cache()\n",
    "gc.collect()"
   ]
  },
  {
   "cell_type": "code",
   "execution_count": 29,
   "id": "5a7c3fed-2fea-44fa-8b50-67289864e519",
   "metadata": {},
   "outputs": [
    {
     "name": "stdout",
     "output_type": "stream",
     "text": [
      "   epoch  train_loss   val_loss\n",
      "0    0.0   15.448358  15.006376\n",
      "1    1.0   15.448358  15.006376\n",
      "2    2.0   15.448358  15.006376\n",
      "3    3.0   15.448358  15.006376\n",
      "4    4.0   15.448358   9.180565\n",
      "5    5.0    9.073468   6.490113\n",
      "6    6.0    6.544812   4.796289\n",
      "7    7.0    4.714968   4.357900\n",
      "8    8.0    4.349764   4.252538\n",
      "9    9.0    4.225982   4.232544\n"
     ]
    },
    {
     "data": {
      "image/png": "[encoded data removed]",
      "text/plain": [
       "<Figure size 720x360 with 1 Axes>"
      ]
     },
     "metadata": {
      "needs_background": "light"
     },
     "output_type": "display_data"
    }
   ],
   "source": [
    "import pandas as pd\n",
    "import matplotlib.pyplot as plt\n",
    "\n",
    "df = pd.read_csv('fsdam-s3/logs/metrics/one_shot/metrics.csv')\n",
    "\n",
    "# Create a clean dataframe with epoch, train, val loss \n",
    "train = df[['epoch', 'train_loss_epoch']].dropna().rename(columns={'train_loss_epoch': 'train_loss'})\n",
    "val = df[['epoch', 'val_loss_epoch']].dropna().rename(columns={'val_loss_epoch': 'val_loss'})\n",
    "\n",
    "# Merge on epoch\n",
    "merged = pd.merge(train, val, on='epoch', how='outer').sort_values('epoch')\n",
    "print(merged.head(10))\n",
    "\n",
    "plt.figure(figsize=(10,5))\n",
    "plt.plot(merged['epoch'], merged['train_loss'], label='Train Loss (Epoch)')\n",
    "plt.plot(merged['epoch'], merged['val_loss'], label='Val Loss (Epoch)')\n",
    "plt.xlabel('Epoch')\n",
    "plt.ylabel('Loss')\n",
    "plt.title('Training & Validation Loss (Epoch)')\n",
    "plt.legend()\n",
    "plt.tight_layout()\n",
    "plt.show()\n"
   ]
  },
  {
   "cell_type": "code",
   "execution_count": null,
   "id": "a80cadf0-7ce4-45a6-b953-e232318f5462",
   "metadata": {},
   "outputs": [],
   "source": [
    "import zipfile\n",
    "import os\n",
    "\n",
    "def zip_folder(folder_path, output_zip):\n",
    "    with zipfile.ZipFile(output_zip, 'w', zipfile.ZIP_DEFLATED) as zipf:\n",
    "        for root, dirs, files in os.walk(folder_path):\n",
    "            for file in files:\n",
    "                # Add file with a relative path\n",
    "                abs_file = os.path.join(root, file)\n",
    "                rel_path = os.path.relpath(abs_file, start=folder_path)\n",
    "                zipf.write(abs_file, arcname=rel_path)\n",
    "\n",
    "# Usage\n",
    "folder_to_zip = \"fsdam-s3\"        \n",
    "output_zip = \"fsdam-s3.zip\"       \n",
    "\n",
    "zip_folder(folder_to_zip, output_zip)\n",
    "print(f\"Zipped {folder_to_zip} to {output_zip}\")\n"
   ]
  },
  {
   "cell_type": "code",
   "execution_count": 30,
   "id": "130ca45a-0c18-4e6b-970f-21e44df7a1ab",
   "metadata": {},
   "outputs": [
    {
     "name": "stderr",
     "output_type": "stream",
     "text": [
      "INFO:__main__:Pad token: </s>\n",
      "Loading checkpoint shards: 100%|██████████| 3/3 [00:13<00:00,  4.37s/it]\n",
      "INFO:__main__:Model loaded from fsdam-s3/logs/lora_weights_one_shot and moved to cuda\n",
      "INFO:__main__:Model type: <class 'peft.peft_model.PeftModel'>\n",
      "INFO:__main__:Number of parameters: 3673622528\n",
      "INFO:__main__:Loaded test JSON with 81 entries\n",
      "INFO:__main__:Found 81 valid images out of 81 items\n",
      "INFO:__main__:Processing batch of 81 images\n",
      "INFO:__main__:Batch input shapes: input_ids=torch.Size([2, 1210]), pixel_values=torch.Size([2, 3, 3, 336, 336])\n",
      "INFO:__main__:Sample prediction: The scene depicts a bustling city street lined with various buildings. The driver' s current gaz e i...\n",
      "INFO:__main__:Batch input shapes: input_ids=torch.Size([2, 1210]), pixel_values=torch.Size([2, 3, 3, 336, 336])\n",
      "INFO:__main__:Sample prediction: A bustling city street is filled with a variety of vehicles, including cars and a truck. The traffic...\n",
      "INFO:__main__:Batch input shapes: input_ids=torch.Size([2, 1210]), pixel_values=torch.Size([2, 3, 3, 336, 336])\n",
      "INFO:__main__:Sample prediction: The scene depicts a suburban neighborhood with houses lining both sides of the street. The driver' s...\n",
      "INFO:__main__:Batch input shapes: input_ids=torch.Size([2, 1210]), pixel_values=torch.Size([2, 3, 3, 336, 336])\n",
      "INFO:__main__:Sample prediction: The scene shows a busy highway with multiple lanes of traffic. The driver' s current gaz e is focuse...\n",
      "INFO:__main__:Batch input shapes: input_ids=torch.Size([2, 1210]), pixel_values=torch.Size([2, 3, 3, 336, 336])\n",
      "INFO:__main__:Sample prediction: The scene shows a city street with trees lining the road. The driver'S current gaz e is on the road ...\n",
      "INFO:__main__:Batch input shapes: input_ids=torch.Size([2, 1210]), pixel_values=torch.Size([2, 3, 3, 336, 336])\n",
      "INFO:__main__:Sample prediction: The scene shows a busy city street with multiple cars and buildings. The driver' s current gaz e is ...\n",
      "INFO:__main__:Batch input shapes: input_ids=torch.Size([2, 1210]), pixel_values=torch.Size([2, 3, 3, 336, 336])\n",
      "INFO:__main__:Sample prediction: The scene shows a busy city street with multiple lanes of traffic. The driver' s current gaz e is fo...\n",
      "INFO:__main__:Batch input shapes: input_ids=torch.Size([2, 1210]), pixel_values=torch.Size([2, 3, 3, 336, 336])\n",
      "INFO:__main__:Sample prediction: The scene shows a busy city street with multiple cars in motion. The driver' s current gaz e is focu...\n",
      "INFO:__main__:Batch input shapes: input_ids=torch.Size([2, 1210]), pixel_values=torch.Size([2, 3, 3, 336, 336])\n",
      "INFO:__main__:Sample prediction: The scene shows a busy highway with multiple lanes of traffic. The driver' s current gaz e is focuse...\n",
      "INFO:__main__:Batch input shapes: input_ids=torch.Size([2, 1210]), pixel_values=torch.Size([2, 3, 3, 336, 336])\n",
      "INFO:__main__:Sample prediction: The scene depicts a bustling city street lined with tall buildings. The sun is shining brightly, cas...\n",
      "INFO:__main__:Batch input shapes: input_ids=torch.Size([2, 1210]), pixel_values=torch.Size([2, 3, 3, 336, 336])\n",
      "INFO:__main__:Sample prediction: A bustling city street is filled with various vehicles, including cars and a truck. The driver' s cu...\n",
      "INFO:__main__:Batch input shapes: input_ids=torch.Size([2, 1210]), pixel_values=torch.Size([2, 3, 3, 336, 336])\n",
      "INFO:__main__:Sample prediction: The scene shows a busy city street with various vehicles such as cars, buses, and trucks. The driver...\n",
      "INFO:__main__:Batch input shapes: input_ids=torch.Size([2, 1210]), pixel_values=torch.Size([2, 3, 3, 336, 336])\n",
      "INFO:__main__:Sample prediction: A bustling city street with tall buildings on either side. The sun is shining brightly, casting a wa...\n",
      "INFO:__main__:Batch input shapes: input_ids=torch.Size([2, 1210]), pixel_values=torch.Size([2, 3, 3, 336, 336])\n",
      "INFO:__main__:Sample prediction: A bustling city street is filled with pedestrians and vehicles. The driver' s current gaz e is focus...\n",
      "INFO:__main__:Batch input shapes: input_ids=torch.Size([2, 1210]), pixel_values=torch.Size([2, 3, 3, 336, 336])\n",
      "INFO:__main__:Sample prediction: A bustling city street is filled with parked cars on both sides. The driver' s current gaz e is focu...\n",
      "INFO:__main__:Batch input shapes: input_ids=torch.Size([2, 1210]), pixel_values=torch.Size([2, 3, 3, 336, 336])\n",
      "INFO:__main__:Sample prediction: The scene shows a bustling city street with various vehicles, including cars and a bus. The driver' ...\n",
      "INFO:__main__:Batch input shapes: input_ids=torch.Size([2, 1210]), pixel_values=torch.Size([2, 3, 3, 336, 336])\n",
      "INFO:__main__:Sample prediction: The scene shows a busy city street with multiple cars in close proximity. The driver' s current gaz ...\n",
      "INFO:__main__:Batch input shapes: input_ids=torch.Size([2, 1210]), pixel_values=torch.Size([2, 3, 3, 336, 336])\n",
      "INFO:__main__:Sample prediction: A busy city street is filled with various vehicles, including cars and a truck. The road is lined wi...\n",
      "INFO:__main__:Batch input shapes: input_ids=torch.Size([2, 1210]), pixel_values=torch.Size([2, 3, 3, 336, 336])\n",
      "INFO:__main__:Sample prediction: The scene shows a busy city street with multiple cars and buildings. The driver' s current gaz e is ...\n",
      "INFO:__main__:Batch input shapes: input_ids=torch.Size([2, 1210]), pixel_values=torch.Size([2, 3, 3, 336, 336])\n",
      "INFO:__main__:Sample prediction: The scene depicts a bustling city street at night. The driver' s current gaz e is focused on the roa...\n",
      "INFO:__main__:Batch input shapes: input_ids=torch.Size([2, 1210]), pixel_values=torch.Size([2, 3, 3, 336, 336])\n",
      "INFO:__main__:Sample prediction: The scene shows a city street with parked cars on both sides. The driver' s current gaz e is focused...\n",
      "INFO:__main__:Batch input shapes: input_ids=torch.Size([2, 1210]), pixel_values=torch.Size([2, 3, 3, 336, 336])\n",
      "INFO:__main__:Sample prediction: A busy highway with multiple lanes filled with cars is visible. The current gazes are on the road ah...\n",
      "INFO:__main__:Batch input shapes: input_ids=torch.Size([2, 1210]), pixel_values=torch.Size([2, 3, 3, 336, 336])\n",
      "INFO:__main__:Sample prediction: The scene shows a busy city street with multiple cars and trucks. The current gazes are on the road ...\n",
      "INFO:__main__:Batch input shapes: input_ids=torch.Size([2, 1210]), pixel_values=torch.Size([2, 3, 3, 336, 336])\n",
      "INFO:__main__:Sample prediction: A city street lined with trees and buildings is visible. The driver' s current gaz e is on the road ...\n",
      "INFO:__main__:Batch input shapes: input_ids=torch.Size([2, 1210]), pixel_values=torch.Size([2, 3, 3, 336, 336])\n",
      "INFO:__main__:Sample prediction: The scene shows a busy highway with multiple cars driving in both directions. The current gazes of t...\n",
      "INFO:__main__:Batch input shapes: input_ids=torch.Size([2, 1210]), pixel_values=torch.Size([2, 3, 3, 336, 336])\n",
      "INFO:__main__:Sample prediction: A city street lined with trees and buildings is visible. The driver' s current gaz e is on the road ...\n",
      "INFO:__main__:Batch input shapes: input_ids=torch.Size([2, 1210]), pixel_values=torch.Size([2, 3, 3, 336, 336])\n",
      "INFO:__main__:Sample prediction: The scene shows a bustling city street with tall buildings on both sides. The driver' s current gaz ...\n",
      "INFO:__main__:Batch input shapes: input_ids=torch.Size([2, 1210]), pixel_values=torch.Size([2, 3, 3, 336, 336])\n",
      "INFO:__main__:Sample prediction: The scene shows a busy city street with multiple cars parked on both sides. The driver' s current ga...\n",
      "INFO:__main__:Batch input shapes: input_ids=torch.Size([2, 1210]), pixel_values=torch.Size([2, 3, 3, 336, 336])\n",
      "INFO:__main__:Sample prediction: The scene shows a busy highway with multiple cars in different lanes. The current gaz e of the drive...\n",
      "INFO:__main__:Batch input shapes: input_ids=torch.Size([2, 1210]), pixel_values=torch.Size([2, 3, 3, 336, 336])\n",
      "INFO:__main__:Sample prediction: The scene takes place on a busy city street at night. The driver' s current gaz e is focused on the ...\n",
      "INFO:__main__:Batch input shapes: input_ids=torch.Size([2, 1210]), pixel_values=torch.Size([2, 3, 3, 336, 336])\n",
      "INFO:__main__:Sample prediction: A bustling city street is lined with tall buildings, creating a canyon-like effect. The sun shines b...\n",
      "INFO:__main__:Batch input shapes: input_ids=torch.Size([2, 1210]), pixel_values=torch.Size([2, 3, 3, 336, 336])\n",
      "INFO:__main__:Sample prediction: The scene depicts a bustling city street at night. The driver' s current gaz e is focused on the roa...\n",
      "INFO:__main__:Batch input shapes: input_ids=torch.Size([2, 1210]), pixel_values=torch.Size([2, 3, 3, 336, 336])\n",
      "INFO:__main__:Sample prediction: A bustling city street is filled with various vehicles, including cars and a truck. The driver' s cu...\n",
      "INFO:__main__:Batch input shapes: input_ids=torch.Size([2, 1210]), pixel_values=torch.Size([2, 3, 3, 336, 336])\n",
      "INFO:__main__:Sample prediction: The scene shows a residential street with several parked cars on one side and houses on the other. T...\n",
      "INFO:__main__:Batch input shapes: input_ids=torch.Size([2, 1210]), pixel_values=torch.Size([2, 3, 3, 336, 336])\n",
      "INFO:__main__:Sample prediction: The scene shows a residential street with houses on both sides. The driver'S current gaz e is on the...\n",
      "INFO:__main__:Batch input shapes: input_ids=torch.Size([2, 1210]), pixel_values=torch.Size([2, 3, 3, 336, 336])\n",
      "INFO:__main__:Sample prediction: A bustling city street is filled with traffic. The driver' s current gaz e is focused on the road ah...\n",
      "INFO:__main__:Batch input shapes: input_ids=torch.Size([2, 1210]), pixel_values=torch.Size([2, 3, 3, 336, 336])\n",
      "INFO:__main__:Sample prediction: The scene shows a bustling city street with multiple vehicles, including a bus and a car. The curren...\n",
      "INFO:__main__:Batch input shapes: input_ids=torch.Size([2, 1210]), pixel_values=torch.Size([2, 3, 3, 336, 336])\n",
      "INFO:__main__:Sample prediction: A bustling city street is filled with various vehicles, including cars and a truck. The driver' s cu...\n",
      "INFO:__main__:Batch input shapes: input_ids=torch.Size([2, 1210]), pixel_values=torch.Size([2, 3, 3, 336, 336])\n",
      "INFO:__main__:Sample prediction: The scene shows a busy city street with multiple cars and buildings. The driver'S current gaz e is o...\n",
      "INFO:__main__:Batch input shapes: input_ids=torch.Size([2, 1210]), pixel_values=torch.Size([2, 3, 3, 336, 336])\n",
      "INFO:__main__:Sample prediction: The scene shows a rainy day with a truck driving down a wet road. The current gazer is looking at th...\n",
      "INFO:__main__:Batch input shapes: input_ids=torch.Size([1, 1210]), pixel_values=torch.Size([1, 3, 3, 336, 336])\n",
      "INFO:__main__:Sample prediction: The scene depicts a bustling city street with tall buildings on either side. The driver' s current g...\n",
      "INFO:__main__:Predictions saved to fsdam-s3/logs/predictions_one_shot.json\n",
      "INFO:__main__:Average ROUGE-L: 0.322925\n",
      "INFO:__main__:Number of items with ROUGE scores: 81\n",
      "INFO:__main__:Generated 81 non-empty predictions out of 81 total\n",
      "INFO:__main__:Inference completed. 81 predictions generated.\n"
     ]
    }
   ],
   "source": [
    "import torch\n",
    "import os\n",
    "import json\n",
    "from PIL import Image\n",
    "from transformers import AutoProcessor, BitsAndBytesConfig, LlavaNextForConditionalGeneration\n",
    "from peft import PeftModel\n",
    "from torchmetrics.text import ROUGEScore\n",
    "import logging\n",
    "import gc\n",
    "\n",
    "# Set up logging\n",
    "logging.basicConfig(level=logging.INFO)\n",
    "logger = logging.getLogger(__name__)\n",
    "\n",
    "# Define paths and constants\n",
    "MODEL_ID = \"llava-hf/llava-v1.6-vicuna-7b-hf\"\n",
    "CHECKPOINT_DIR = \"fsdam-s3/logs\"\n",
    "LORA_CHECKPOINT_DIR = os.path.join(CHECKPOINT_DIR, \"lora_weights_one_shot\")\n",
    "TEST_JSON = \"fsdam/test_set/test_llava.json\"\n",
    "TEST_IMAGE_DIR = \"fsdam/test_set/test\"\n",
    "OUTPUT_JSON = \"fsdam-s3/logs/predictions_one_shot.json\"\n",
    "MAX_NEW_TOKENS = 512\n",
    "\n",
    "# Load processor\n",
    "try:\n",
    "    processor = AutoProcessor.from_pretrained(MODEL_ID, trust_remote_code=True)\n",
    "    processor.tokenizer.padding_side = \"left\"\n",
    "    if processor.tokenizer.pad_token is None or processor.tokenizer.pad_token == \"<unk>\":\n",
    "        processor.tokenizer.pad_token = processor.tokenizer.eos_token\n",
    "        processor.tokenizer.pad_token_id = processor.tokenizer.eos_token_id\n",
    "    logger.info(\"Pad token: %s\", processor.tokenizer.pad_token)\n",
    "except Exception as e:\n",
    "    logger.error(\"Error loading processor: %s\", e)\n",
    "    raise e\n",
    "\n",
    "# Load fine-tuned model\n",
    "try:\n",
    "    if not os.path.exists(LORA_CHECKPOINT_DIR):\n",
    "        raise FileNotFoundError(f\"LoRA checkpoint directory not found at {LORA_CHECKPOINT_DIR}\")\n",
    "    \n",
    "    # Check if adapter files exist\n",
    "    adapter_files = [\"adapter_config.json\", \"adapter_model.safetensors\"]\n",
    "    for file in adapter_files:\n",
    "        file_path = os.path.join(LORA_CHECKPOINT_DIR, file)\n",
    "        if not os.path.exists(file_path):\n",
    "            logger.warning(\"Adapter file not found: %s\", file_path)\n",
    "    \n",
    "    bnb_cfg = BitsAndBytesConfig(\n",
    "        load_in_4bit=True,\n",
    "        bnb_4bit_quant_type=\"nf4\",\n",
    "        bnb_4bit_compute_dtype=torch.float16\n",
    "    )\n",
    "    base_model = LlavaNextForConditionalGeneration.from_pretrained(\n",
    "        MODEL_ID,\n",
    "        torch_dtype=torch.float16,\n",
    "        quantization_config=bnb_cfg,\n",
    "        trust_remote_code=True\n",
    "    )\n",
    "    \n",
    "    # Load the PEFT model\n",
    "    model = PeftModel.from_pretrained(\n",
    "        base_model,\n",
    "        LORA_CHECKPOINT_DIR,\n",
    "        is_trainable=False,\n",
    "        torch_dtype=torch.float16\n",
    "    )\n",
    "    \n",
    "    device = torch.device(\"cuda\" if torch.cuda.is_available() else \"cpu\")\n",
    "    model.to(device)\n",
    "    model.eval()\n",
    "    logger.info(\"Model loaded from %s and moved to %s\", LORA_CHECKPOINT_DIR, device)\n",
    "    \n",
    "    # Debug: Print model info\n",
    "    logger.info(\"Model type: %s\", type(model))\n",
    "    logger.info(\"Number of parameters: %d\", sum(p.numel() for p in model.parameters()))\n",
    "    \n",
    "except Exception as e:\n",
    "    logger.error(\"Error loading model: %s\", e)\n",
    "    logger.info(\"Attempting to load base model instead...\")\n",
    "    try:\n",
    "        # Fallback to base model if LoRA loading fails\n",
    "        bnb_cfg = BitsAndBytesConfig(\n",
    "            load_in_4bit=True,\n",
    "            bnb_4bit_quant_type=\"nf4\",\n",
    "            bnb_4bit_compute_dtype=torch.float16\n",
    "        )\n",
    "        model = LlavaNextForConditionalGeneration.from_pretrained(\n",
    "            MODEL_ID,\n",
    "            torch_dtype=torch.float16,\n",
    "            quantization_config=bnb_cfg,\n",
    "            trust_remote_code=True\n",
    "        )\n",
    "        device = torch.device(\"cuda\" if torch.cuda.is_available() else \"cpu\")\n",
    "        model.to(device)\n",
    "        model.eval()\n",
    "        logger.info(\"Base model loaded successfully\")\n",
    "    except Exception as e2:\n",
    "        logger.error(\"Failed to load base model: %s\", e2)\n",
    "        raise e2\n",
    "\n",
    "# Enhanced batch inference function\n",
    "def predict_batch(image_paths, prompt=None, batch_size=2):\n",
    "    logger.info(\"Processing batch of %d images\", len(image_paths))\n",
    "    try:\n",
    "        prompt = prompt or \"[INST] <image>\\nDescribe the scene, the driver's current gaze, and where that gaze will likely shift next and why.[/INST]\"\n",
    "        predictions = []\n",
    "        \n",
    "        for i in range(0, len(image_paths), batch_size):\n",
    "            batch_paths = image_paths[i:i + batch_size]\n",
    "            batch_images = []\n",
    "            \n",
    "            # Process images with error handling\n",
    "            for path in batch_paths:\n",
    "                try:\n",
    "                    if not os.path.exists(path):\n",
    "                        logger.error(\"Image file not found: %s\", path)\n",
    "                        continue\n",
    "                    img = Image.open(path).convert(\"RGB\").resize((336, 336))\n",
    "                    batch_images.append(img)\n",
    "                except Exception as e:\n",
    "                    logger.error(\"Error loading image %s: %s\", path, e)\n",
    "                    continue\n",
    "            \n",
    "            if not batch_images:\n",
    "                logger.warning(\"No valid images in batch\")\n",
    "                predictions.extend([None] * len(batch_paths))\n",
    "                continue\n",
    "                \n",
    "            batch_prompts = [prompt] * len(batch_images)\n",
    "            \n",
    "            try:\n",
    "                inputs = processor(\n",
    "                    text=batch_prompts,\n",
    "                    images=batch_images,\n",
    "                    return_tensors=\"pt\",\n",
    "                    padding=True,\n",
    "                    truncation=True,\n",
    "                    max_length=2048\n",
    "                )\n",
    "                inputs = {k: v.to(device) for k, v in inputs.items()}\n",
    "                logger.info(\"Batch input shapes: input_ids=%s, pixel_values=%s\", \n",
    "                            inputs['input_ids'].shape, inputs['pixel_values'].shape)\n",
    "                \n",
    "                with torch.no_grad():\n",
    "                    outputs = model.generate(\n",
    "                        **inputs,\n",
    "                        max_new_tokens=MAX_NEW_TOKENS,\n",
    "                        do_sample=False,\n",
    "                        pad_token_id=processor.tokenizer.pad_token_id,\n",
    "                        eos_token_id=processor.tokenizer.eos_token_id,\n",
    "                        min_length=10,\n",
    "                        repetition_penalty=1.1,\n",
    "                        no_repeat_ngram_size=3\n",
    "                    )\n",
    "                \n",
    "                batch_predictions = processor.batch_decode(outputs, skip_special_tokens=True)\n",
    "                \n",
    "                # Better post-processing\n",
    "                processed_predictions = []\n",
    "                for pred in batch_predictions:\n",
    "                    if \"[/INST]\" in pred:\n",
    "                        pred = pred.split(\"[/INST]\")[-1].strip()\n",
    "                    else:\n",
    "                        # If no [/INST] found, try to extract meaningful content\n",
    "                        pred = pred.strip()\n",
    "                    \n",
    "                    # Check if prediction is empty or too short\n",
    "                    if len(pred.strip()) < 10:\n",
    "                        logger.warning(\"Short or empty prediction: '%s'\", pred)\n",
    "                        pred = \"Unable to generate meaningful description.\"\n",
    "                    \n",
    "                    processed_predictions.append(pred)\n",
    "                \n",
    "                predictions.extend(processed_predictions)\n",
    "                \n",
    "                # Log first prediction for debugging\n",
    "                if processed_predictions:\n",
    "                    logger.info(\"Sample prediction: %s...\", processed_predictions[0][:100])\n",
    "                \n",
    "            except Exception as e:\n",
    "                logger.error(\"Error in generation: %s\", e)\n",
    "                predictions.extend([None] * len(batch_images))\n",
    "            \n",
    "            torch.cuda.empty_cache()  # Clear memory after each batch\n",
    "            \n",
    "        return predictions\n",
    "        \n",
    "    except Exception as e:\n",
    "        logger.error(\"Error in batch inference: %s\", e)\n",
    "        return [None] * len(image_paths)\n",
    "\n",
    "# Enhanced batch inference on test dataset\n",
    "def run_batch_inference(json_path, image_dir):\n",
    "    try:\n",
    "        with open(json_path, 'r') as f:\n",
    "            test_data = json.load(f)\n",
    "        logger.info(\"Loaded test JSON with %d entries\", len(test_data))\n",
    "    except Exception as e:\n",
    "        logger.error(\"Error loading test JSON %s: %s\", json_path, e)\n",
    "        raise e\n",
    "\n",
    "    # Build image paths with better error handling\n",
    "    image_paths = []\n",
    "    valid_items = []\n",
    "    \n",
    "    for item in test_data:\n",
    "        image_path = os.path.join(image_dir, os.path.basename(item['image']))\n",
    "        if not os.path.exists(image_path):\n",
    "            # Try alternative path\n",
    "            image_path = os.path.join(image_dir, item['image'])\n",
    "            if not os.path.exists(image_path):\n",
    "                logger.warning(\"Image not found for item %s: %s\", item.get('id', 'unknown'), image_path)\n",
    "                continue\n",
    "        \n",
    "        image_paths.append(image_path)\n",
    "        valid_items.append(item)\n",
    "    \n",
    "    logger.info(\"Found %d valid images out of %d items\", len(image_paths), len(test_data))\n",
    "    \n",
    "    predictions = predict_batch(image_paths, batch_size=2)\n",
    "    results = []\n",
    "    rouge = ROUGEScore()\n",
    "    rouge_scores = []\n",
    "\n",
    "    for item, prediction in zip(valid_items, predictions):\n",
    "        ground_truth = None\n",
    "        if 'conversations' in item:\n",
    "            for conv in item['conversations']:\n",
    "                if conv.get('from') == 'gpt':\n",
    "                    ground_truth = conv['value']\n",
    "                    break\n",
    "        elif 'response' in item:\n",
    "            ground_truth = item['response']\n",
    "        elif 'answer' in item:\n",
    "            ground_truth = item['answer']\n",
    "            \n",
    "        if ground_truth is None:\n",
    "            logger.warning(\"No ground truth found for item %s\", item.get('id', 'unknown'))\n",
    "            \n",
    "        if prediction is not None:\n",
    "            results.append({\n",
    "                \"id\": item.get('id', 'unknown'),\n",
    "                \"image\": item['image'],\n",
    "                \"ground_truth\": ground_truth,\n",
    "                \"prediction\": prediction\n",
    "            })\n",
    "            \n",
    "            if ground_truth and prediction.strip():\n",
    "                try:\n",
    "                    score = rouge([prediction], [ground_truth])['rougeL_fmeasure']\n",
    "                    rouge_scores.append(score)\n",
    "                except Exception as e:\n",
    "                    logger.warning(\"Error computing ROUGE score: %s\", e)\n",
    "        else:\n",
    "            logger.warning(\"Skipping item %s due to inference error\", item.get('id', 'unknown'))\n",
    "\n",
    "    # Save predictions\n",
    "    os.makedirs(os.path.dirname(OUTPUT_JSON), exist_ok=True)\n",
    "    with open(OUTPUT_JSON, 'w') as f:\n",
    "        json.dump(results, f, indent=2)\n",
    "    logger.info(\"Predictions saved to %s\", OUTPUT_JSON)\n",
    "\n",
    "    # Log ROUGE scores\n",
    "    if rouge_scores:\n",
    "        avg_rouge = sum(rouge_scores) / len(rouge_scores)\n",
    "        logger.info(\"Average ROUGE-L: %f\", avg_rouge)\n",
    "        logger.info(\"Number of items with ROUGE scores: %d\", len(rouge_scores))\n",
    "    else:\n",
    "        logger.info(\"No ROUGE scores computed (no ground truth available)\")\n",
    "\n",
    "    # Log prediction statistics\n",
    "    non_empty_predictions = [p for p in predictions if p and p.strip()]\n",
    "    logger.info(\"Generated %d non-empty predictions out of %d total\", len(non_empty_predictions), len(predictions))\n",
    "    \n",
    "    # Clean up memory\n",
    "    torch.cuda.empty_cache()\n",
    "    gc.collect()\n",
    "    return results\n",
    "\n",
    "# Run inference\n",
    "if __name__ == \"__main__\":\n",
    "    predictions = run_batch_inference(TEST_JSON, TEST_IMAGE_DIR)\n",
    "    logger.info(\"Inference completed. %d predictions generated.\", len(predictions))"
   ]
  },
  {
   "cell_type": "code",
   "execution_count": 31,
   "id": "9ed0cdc6-a838-449f-9308-22c26a116c7e",
   "metadata": {},
   "outputs": [
    {
     "name": "stderr",
     "output_type": "stream",
     "text": [
      "[nltk_data] Downloading package punkt to /home/ubuntu/nltk_data...\n",
      "[nltk_data]   Package punkt is already up-to-date!\n",
      "INFO:absl:Using default tokenizer.\n",
      "Scoring predictions: 100%|██████████| 81/81 [00:00<00:00, 99.78it/s] "
     ]
    },
    {
     "name": "stdout",
     "output_type": "stream",
     "text": [
      "\n",
      "==== FSDAM Test Metrics ====\n",
      "\n",
      "ROUGE-L        0.335669\n",
      "BLEU-4         0.081356\n",
      "METEOR         0.396457\n",
      "Exact Match    0.000000\n",
      "dtype: float64\n",
      "\n",
      "==== Per-sample Results (first 5) ====\n",
      "\n",
      "           id                               image  \\\n",
      "0  1003_00057  fsdam/test_set/test/1003_00057.png   \n",
      "1  1003_00195  fsdam/test_set/test/1003_00195.png   \n",
      "2  1003_00385  fsdam/test_set/test/1003_00385.png   \n",
      "3  1008_00038  fsdam/test_set/test/1008_00038.png   \n",
      "4  1008_00226  fsdam/test_set/test/1008_00226.png   \n",
      "\n",
      "                                        ground_truth  \\\n",
      "0  The scene shows a city street with cars and bu...   \n",
      "1  The scene shows a city street with cars, build...   \n",
      "2  The scene shows a city intersection with traff...   \n",
      "3  A residential street with parked cars and buil...   \n",
      "4  The scene shows a residential street with hous...   \n",
      "\n",
      "                                          prediction   ROUGE-L    BLEU-4  \\\n",
      "0  The scene depicts a bustling city street lined...  0.413223  0.073151   \n",
      "1  The scene shows a busy city street with multip...  0.403226  0.092709   \n",
      "2  A bustling city street is filled with a variet...  0.300000  0.042361   \n",
      "3  The scene shows a city street with multiple ca...  0.320611  0.021494   \n",
      "4  The scene depicts a suburban neighborhood with...  0.346457  0.077152   \n",
      "\n",
      "     METEOR  Exact Match  \n",
      "0  0.454411            0  \n",
      "1  0.486308            0  \n",
      "2  0.414935            0  \n",
      "3  0.337834            0  \n",
      "4  0.488232            0  \n"
     ]
    },
    {
     "name": "stderr",
     "output_type": "stream",
     "text": [
      "\n"
     ]
    }
   ],
   "source": [
    "import json\n",
    "import pandas as pd\n",
    "from nltk.translate.bleu_score import sentence_bleu, SmoothingFunction\n",
    "from nltk.translate.meteor_score import meteor_score\n",
    "from nltk.tokenize import word_tokenize\n",
    "from rouge_score import rouge_scorer\n",
    "from tqdm import tqdm\n",
    "import nltk\n",
    "\n",
    "# Download NLTK punkt tokenizer if not already installed\n",
    "nltk.download('punkt')\n",
    "\n",
    "# Path to your JSON file\n",
    "PRED_PATH = 'fsdam-s3/logs/predictions_one_shot.json'\n",
    "\n",
    "# Load predictions\n",
    "with open(PRED_PATH, 'r') as f:\n",
    "    data = json.load(f)\n",
    "\n",
    "# Lists to store results\n",
    "results = []\n",
    "\n",
    "# Initialize scorer\n",
    "rouge = rouge_scorer.RougeScorer(['rougeL'], use_stemmer=True)\n",
    "smoothie = SmoothingFunction().method4\n",
    "\n",
    "for entry in tqdm(data, desc=\"Scoring predictions\"):\n",
    "    gt = entry['ground_truth'].strip()\n",
    "    pr = entry['prediction'].strip()\n",
    "\n",
    "    # ROUGE-L\n",
    "    rougeL = rouge.score(gt, pr)['rougeL'].fmeasure\n",
    "\n",
    "    # BLEU-4\n",
    "    bleu4 = sentence_bleu([word_tokenize(gt)], word_tokenize(pr), smoothing_function=smoothie)\n",
    "    \n",
    "    # METEOR\n",
    "    meteor = meteor_score([word_tokenize(gt)], word_tokenize(pr))\n",
    "    \n",
    "    # Exact Match\n",
    "    exact = int(gt == pr)\n",
    "\n",
    "    results.append({\n",
    "        \"id\": entry['id'],\n",
    "        \"image\": entry['image'],\n",
    "        \"ground_truth\": gt,\n",
    "        \"prediction\": pr,\n",
    "        \"ROUGE-L\": rougeL,\n",
    "        \"BLEU-4\": bleu4,\n",
    "        \"METEOR\": meteor,\n",
    "        \"Exact Match\": exact\n",
    "    })\n",
    "\n",
    "# Convert to DataFrame\n",
    "df = pd.DataFrame(results)\n",
    "\n",
    "# Print mean scores\n",
    "print(\"\\n==== FSDAM Test Metrics ====\\n\")\n",
    "print(df[[\"ROUGE-L\", \"BLEU-4\", \"METEOR\", \"Exact Match\"]].mean())\n",
    "print(\"\\n==== Per-sample Results (first 5) ====\\n\")\n",
    "print(df.head())\n",
    "\n",
    "# Save detailed results as CSV if needed\n",
    "df.to_csv('fsdam-s3/logs/test_metrics_one_shot.csv', index=False)\n"
   ]
  },
  {
   "cell_type": "markdown",
   "id": "4b1847dd-8cde-4adf-9011-b7d9599babc1",
   "metadata": {},
   "source": [
    "# Zero shot LLaVA"
   ]
  },
  {
   "cell_type": "code",
   "execution_count": 35,
   "id": "6af97d1d-eade-4d01-ae30-32b7a22db521",
   "metadata": {
    "scrolled": true
   },
   "outputs": [
    {
     "name": "stderr",
     "output_type": "stream",
     "text": [
      "INFO:__main__:Processor loaded successfully\n",
      "INFO:__main__:Pad token: <unk> (ID: 0)\n",
      "INFO:__main__:EOS token: </s> (ID: 2)\n",
      "INFO:__main__:Loading base LLaVA model for zero-shot inference...\n",
      "INFO:accelerate.utils.modeling:We will use 90% of the memory on device 0 for storing the model, and 10% for the buffer to avoid OOM. You can set `max_memory` in to a higher value to use more memory (at your own risk).\n",
      "Loading checkpoint shards: 100%|██████████| 3/3 [00:12<00:00,  4.30s/it]\n",
      "INFO:__main__:Base model loaded successfully\n",
      "INFO:__main__:Model type: <class 'transformers.models.llava_next.modeling_llava_next.LlavaNextForConditionalGeneration'>\n",
      "INFO:__main__:Number of parameters: 3663947776\n",
      "INFO:__main__:Starting zero-shot evaluation...\n",
      "INFO:__main__:=== TESTING MODEL BASIC FUNCTIONALITY ===\n",
      "INFO:__main__:Basic test response: Hello! I'd be happy to try. références de la dernière réponse :\n",
      "INFO:__main__:Loaded test JSON with 81 entries\n",
      "INFO:__main__:Found 81 valid images out of 81 items\n",
      "INFO:__main__:Processing all 81 images\n",
      "INFO:__main__:Starting zero-shot inference...\n",
      "INFO:__main__:Processing batch of 81 images with zero-shot inference\n",
      "INFO:__main__:Processing image 1/81: fsdam/test_set/test/1003_00057.png\n",
      "INFO:__main__:=== DEBUGGING SINGLE INFERENCE ===\n",
      "INFO:__main__:Image path: fsdam/test_set/test/1003_00057.png\n",
      "INFO:__main__:Prompt: A chat between a curious human and an artificial intelligence assistant. The assistant gives helpful, detailed, and polite answers to the human's questions. USER: <image>\n",
      "Describe what you see in this driving scene. Focus on the driver's gaze direction and where they might look next and why. ASSISTANT:\n",
      "INFO:__main__:Original image size: (1280, 720)\n",
      "INFO:__main__:Input shapes:\n",
      "INFO:__main__:  input_ids: torch.Size([1, 2018])\n",
      "INFO:__main__:  attention_mask: torch.Size([1, 2018])\n",
      "INFO:__main__:  pixel_values: torch.Size([1, 5, 3, 336, 336])\n",
      "INFO:__main__:  image_sizes: torch.Size([1, 2])\n",
      "INFO:__main__:Starting generation...\n",
      "INFO:__main__:Generation completed. Output shape: torch.Size([1, 2237])\n",
      "INFO:__main__:Input length: 2018, Output length: 2237\n",
      "INFO:__main__:Full decoded output: A chat between a curious human and an artificial intelligence assistant. The assistant gives helpful, detailed, and polite answers to the human's questions. USER: \n",
      "Describe what you see in this driving scene. Focus on the driver's gaze direction and where they might look next and why. ASSISTANT: In the image, the driver's gaze direction appears to be focused on the road ahead, with their attention directed towards the right side of the image. This suggests that the driver is likely looking at the lane ahead, possibly scanning for traffic, pedestrians, or other obstacles.\n",
      "\n",
      "The driver might look next at the traffic light, which is currently green, indicating that it is safe to proceed. If the driver is following traffic rules and regulations, they should not be looking directly at the traffic light, but rather keeping their eyes on the road ahead to anticipate any potential changes in the traffic situation.\n",
      "\n",
      "It's important for the driver to maintain situational awareness, which includes looking ahead to anticipate potential hazards, checking the mirrors to ensure they are aware of their surroundings, and being prepared to react to any changes in the road environment. The driver should also be mindful of other road users, such as other drivers, pedestrians, and cyclists, and adjust their driving accordingly.\n",
      "INFO:__main__:New tokens only: In the image, the driver's gaze direction appears to be focused on the road ahead, with their attention directed towards the right side of the image. This suggests that the driver is likely looking at the lane ahead, possibly scanning for traffic, pedestrians, or other obstacles.\n",
      "\n",
      "The driver might look next at the traffic light, which is currently green, indicating that it is safe to proceed. If the driver is following traffic rules and regulations, they should not be looking directly at the traffic light, but rather keeping their eyes on the road ahead to anticipate any potential changes in the traffic situation.\n",
      "\n",
      "It's important for the driver to maintain situational awareness, which includes looking ahead to anticipate potential hazards, checking the mirrors to ensure they are aware of their surroundings, and being prepared to react to any changes in the road environment. The driver should also be mindful of other road users, such as other drivers, pedestrians, and cyclists, and adjust their driving accordingly.\n",
      "INFO:__main__:Processing image 2/81: fsdam/test_set/test/1003_00195.png\n",
      "INFO:__main__:Loaded image: fsdam/test_set/test/1003_00195.png, size: (1280, 720)\n",
      "INFO:__main__:Generated prediction: In the image, the driver's gaze appears to be directed to the right, as indicated by the direction o\n",
      "INFO:__main__:Processing image 3/81: fsdam/test_set/test/1003_00385.png\n",
      "INFO:__main__:Loaded image: fsdam/test_set/test/1003_00385.png, size: (1280, 720)\n",
      "INFO:__main__:Generated prediction: In the image, we see a view from the driver's perspective in a busy urban street intersection. The d\n",
      "INFO:__main__:Processing image 4/81: fsdam/test_set/test/1008_00038.png\n",
      "INFO:__main__:Loaded image: fsdam/test_set/test/1008_00038.png, size: (1280, 720)\n",
      "INFO:__main__:Generated prediction: In the image, we see a street scene with several cars parked on the side of the road, and one car in\n",
      "INFO:__main__:Processing image 5/81: fsdam/test_set/test/1008_00226.png\n",
      "INFO:__main__:Loaded image: fsdam/test_set/test/1008_00226.png, size: (1280, 720)\n",
      "INFO:__main__:Generated prediction: In this driving scene, we see a view from the perspective of the driver of a car. The driver's gaze \n",
      "INFO:__main__:Processing image 6/81: fsdam/test_set/test/100_00266.png\n",
      "INFO:__main__:Loaded image: fsdam/test_set/test/100_00266.png, size: (1280, 720)\n",
      "INFO:__main__:Generated prediction: In the image, the driver's gaze is directed to their left, where a car is parked on the right side o\n",
      "INFO:__main__:Processing image 7/81: fsdam/test_set/test/1013_00063.png\n",
      "INFO:__main__:Loaded image: fsdam/test_set/test/1013_00063.png, size: (1280, 720)\n",
      "INFO:__main__:Generated prediction: The image shows a driving scene captured from a perspective that appears to be inside a car. The dri\n",
      "INFO:__main__:Processing image 8/81: fsdam/test_set/test/1026_00266.png\n",
      "INFO:__main__:Loaded image: fsdam/test_set/test/1026_00266.png, size: (1280, 720)\n",
      "INFO:__main__:Generated prediction: In the image, I see a busy city street scene from the perspective of a driver's viewpoint. The drive\n",
      "INFO:__main__:Processing image 9/81: fsdam/test_set/test/1038_00138.png\n",
      "INFO:__main__:Loaded image: fsdam/test_set/test/1038_00138.png, size: (1280, 720)\n",
      "INFO:__main__:Generated prediction: In the image, the driver's gaze direction suggests they are looking ahead towards the intersection. \n",
      "INFO:__main__:Processing image 10/81: fsdam/test_set/test/1047_00011.png\n",
      "INFO:__main__:Loaded image: fsdam/test_set/test/1047_00011.png, size: (1280, 720)\n",
      "INFO:__main__:Generated prediction: In the image, the driver's gaze direction is towards the traffic light, which is currently green. Th\n",
      "INFO:__main__:Processing image 11/81: fsdam/test_set/test/1051_00143.png\n",
      "INFO:__main__:Loaded image: fsdam/test_set/test/1051_00143.png, size: (1280, 720)\n",
      "INFO:__main__:Generated prediction: In the driving scene, we see a view from the driver's perspective inside a vehicle. The driver appea\n",
      "INFO:__main__:Processing image 12/81: fsdam/test_set/test/1054_00005.png\n",
      "INFO:__main__:Loaded image: fsdam/test_set/test/1054_00005.png, size: (1280, 720)\n",
      "INFO:__main__:Generated prediction: In the image, the driver's gaze direction appears to be focused on the road ahead, specifically on t\n",
      "INFO:__main__:Processing image 13/81: fsdam/test_set/test/1054_00172.png\n",
      "INFO:__main__:Loaded image: fsdam/test_set/test/1054_00172.png, size: (1280, 720)\n",
      "INFO:__main__:Generated prediction: In this driving scene, the driver's gaze is directed towards the left side of the road, likely obser\n",
      "INFO:__main__:Processing image 14/81: fsdam/test_set/test/1060_00104.png\n",
      "INFO:__main__:Loaded image: fsdam/test_set/test/1060_00104.png, size: (1280, 720)\n",
      "INFO:__main__:Generated prediction: In the image, the driver's gaze is directed towards the road ahead, specifically towards the car tha\n",
      "INFO:__main__:Processing image 15/81: fsdam/test_set/test/1072_00093.png\n",
      "INFO:__main__:Loaded image: fsdam/test_set/test/1072_00093.png, size: (1280, 720)\n",
      "INFO:__main__:Generated prediction: In the image, the driver's gaze direction is towards the right side of the frame, likely because the\n",
      "INFO:__main__:Processing image 16/81: fsdam/test_set/test/1078_00005.png\n",
      "INFO:__main__:Loaded image: fsdam/test_set/test/1078_00005.png, size: (1280, 720)\n",
      "INFO:__main__:Generated prediction: In the image, I see a view from inside a vehicle, likely from the perspective of a driver looking ou\n",
      "INFO:__main__:Processing image 17/81: fsdam/test_set/test/1078_00155.png\n",
      "INFO:__main__:Loaded image: fsdam/test_set/test/1078_00155.png, size: (1280, 720)\n",
      "INFO:__main__:Generated prediction: In the image, there is a car driving on a road with other cars ahead of it. The driver's gaze direct\n",
      "INFO:__main__:Processing image 18/81: fsdam/test_set/test/1086_00109.png\n",
      "INFO:__main__:Loaded image: fsdam/test_set/test/1086_00109.png, size: (1280, 720)\n",
      "INFO:__main__:Generated prediction: In the image, we see a driver's perspective from inside a car, looking out towards a narrow, tree-li\n",
      "INFO:__main__:Processing image 19/81: fsdam/test_set/test/1087_00482.png\n",
      "INFO:__main__:Loaded image: fsdam/test_set/test/1087_00482.png, size: (1280, 720)\n",
      "INFO:__main__:Generated prediction: In the image, the driver's gaze is directed towards the right side of the road, likely observing the\n",
      "INFO:__main__:Processing image 20/81: fsdam/test_set/test/108_00113.png\n",
      "INFO:__main__:Loaded image: fsdam/test_set/test/108_00113.png, size: (1280, 720)\n",
      "INFO:__main__:Generated prediction: The image shows a scene from the perspective of the driver inside a vehicle, looking out towards the\n",
      "INFO:__main__:Processing image 21/81: fsdam/test_set/test/1114_00066.png\n",
      "INFO:__main__:Loaded image: fsdam/test_set/test/1114_00066.png, size: (1280, 720)\n",
      "INFO:__main__:Generated prediction: In this driving scene, the perspective is from the driver's viewpoint inside a car. The driver's gaz\n",
      "INFO:__main__:Processing image 22/81: fsdam/test_set/test/1122_00207.png\n",
      "INFO:__main__:Loaded image: fsdam/test_set/test/1122_00207.png, size: (1280, 720)\n",
      "INFO:__main__:Generated prediction: In this driving scene, the focus is on the driver's gaze direction. The driver appears to be looking\n",
      "INFO:__main__:Processing image 23/81: fsdam/test_set/test/1123_00171.png\n",
      "INFO:__main__:Loaded image: fsdam/test_set/test/1123_00171.png, size: (1280, 720)\n",
      "INFO:__main__:Generated prediction: The image shows a bustling city street with a variety of vehicles. The driver of the car in front ap\n",
      "INFO:__main__:Processing image 24/81: fsdam/test_set/test/1125_00312.png\n",
      "INFO:__main__:Loaded image: fsdam/test_set/test/1125_00312.png, size: (1280, 720)\n",
      "INFO:__main__:Generated prediction: In the image, there is a black SUV stopped at a red traffic light. The driver appears to be looking \n",
      "INFO:__main__:Processing image 25/81: fsdam/test_set/test/112_00138.png\n",
      "INFO:__main__:Loaded image: fsdam/test_set/test/112_00138.png, size: (1280, 720)\n",
      "INFO:__main__:Generated prediction: In this driving scene, the driver's gaze direction appears to be focused on the traffic lights ahead\n",
      "INFO:__main__:Processing image 26/81: fsdam/test_set/test/112_00278.png\n",
      "INFO:__main__:Loaded image: fsdam/test_set/test/112_00278.png, size: (1280, 720)\n",
      "INFO:__main__:Generated prediction: In the image, we see a street view from the perspective of a driver. The driver appears to be focuse\n",
      "INFO:__main__:Processing image 27/81: fsdam/test_set/test/1132_00247.png\n",
      "INFO:__main__:Loaded image: fsdam/test_set/test/1132_00247.png, size: (1280, 720)\n",
      "INFO:__main__:Generated prediction: In the image, we see a bustling city street scene. The driver's gaze is directed towards the right s\n",
      "INFO:__main__:Processing image 28/81: fsdam/test_set/test/1137_00245.png\n",
      "INFO:__main__:Loaded image: fsdam/test_set/test/1137_00245.png, size: (1280, 720)\n",
      "INFO:__main__:Generated prediction: In the image, we see a view from the perspective of a vehicle driving down a street in a residential\n",
      "INFO:__main__:Processing image 29/81: fsdam/test_set/test/1138_00081.png\n",
      "INFO:__main__:Loaded image: fsdam/test_set/test/1138_00081.png, size: (1280, 720)\n",
      "INFO:__main__:Generated prediction: In the image, we see a street scene with multiple cars parked on the side of the road, and a few car\n",
      "INFO:__main__:Processing image 30/81: fsdam/test_set/test/1141_00056.png\n",
      "INFO:__main__:Loaded image: fsdam/test_set/test/1141_00056.png, size: (1280, 720)\n",
      "INFO:__main__:Generated prediction: The image captures a moment from the perspective of a car driver. The driver appears to be looking a\n",
      "INFO:__main__:Processing image 31/81: fsdam/test_set/test/1146_00099.png\n",
      "INFO:__main__:Loaded image: fsdam/test_set/test/1146_00099.png, size: (1280, 720)\n",
      "INFO:__main__:Generated prediction: In the image, we see a view from inside a vehicle, looking out towards the road ahead. The driver's \n",
      "INFO:__main__:Processing image 32/81: fsdam/test_set/test/1151_00193.png\n",
      "INFO:__main__:Loaded image: fsdam/test_set/test/1151_00193.png, size: (1280, 720)\n",
      "INFO:__main__:Generated prediction: In the image, we see a street scene with the sun shining brightly, creating a warm and inviting atmo\n",
      "INFO:__main__:Processing image 33/81: fsdam/test_set/test/115_00168.png\n",
      "INFO:__main__:Loaded image: fsdam/test_set/test/115_00168.png, size: (1280, 720)\n",
      "INFO:__main__:Generated prediction: In the image, we see a view from the perspective of a driver's side mirror, capturing a busy city st\n",
      "INFO:__main__:Processing image 34/81: fsdam/test_set/test/1165_00111.png\n",
      "INFO:__main__:Loaded image: fsdam/test_set/test/1165_00111.png, size: (1280, 720)\n",
      "INFO:__main__:Generated prediction: In the image, we see a driving scene from the perspective of a car driver. The driver appears to be \n",
      "INFO:__main__:Processing image 35/81: fsdam/test_set/test/1167_00169.png\n",
      "INFO:__main__:Loaded image: fsdam/test_set/test/1167_00169.png, size: (1280, 720)\n",
      "INFO:__main__:Generated prediction: In the image, the driver's gaze direction appears to be looking towards the stop sign on the right s\n",
      "INFO:__main__:Processing image 36/81: fsdam/test_set/test/116_00263.png\n",
      "INFO:__main__:Loaded image: fsdam/test_set/test/116_00263.png, size: (1280, 720)\n",
      "INFO:__main__:Generated prediction: In this driving scene, the driver's gaze direction is towards the right side of the image. They are \n",
      "INFO:__main__:Processing image 37/81: fsdam/test_set/test/1180_00007.png\n",
      "INFO:__main__:Loaded image: fsdam/test_set/test/1180_00007.png, size: (1280, 720)\n",
      "INFO:__main__:Generated prediction: In this driving scene, we see a city street lined with buildings. The driver's gaze is directed towa\n",
      "INFO:__main__:Processing image 38/81: fsdam/test_set/test/1180_00150.png\n",
      "INFO:__main__:Loaded image: fsdam/test_set/test/1180_00150.png, size: (1280, 720)\n",
      "INFO:__main__:Generated prediction: In the driving scene, there is a clear view of the road ahead, with various vehicles including a red\n",
      "INFO:__main__:Processing image 39/81: fsdam/test_set/test/1191_00079.png\n",
      "INFO:__main__:Loaded image: fsdam/test_set/test/1191_00079.png, size: (1280, 720)\n",
      "INFO:__main__:Generated prediction: In the image, we see a night-time city street scene. The driver of the vehicle appears to be looking\n",
      "INFO:__main__:Processing image 40/81: fsdam/test_set/test/1203_00057.png\n",
      "INFO:__main__:Loaded image: fsdam/test_set/test/1203_00057.png, size: (1280, 720)\n",
      "INFO:__main__:Generated prediction: In the image, the driver's gaze direction seems to be focused on the stop sign in the distance, whic\n",
      "INFO:__main__:Processing image 41/81: fsdam/test_set/test/1203_00197.png\n",
      "INFO:__main__:Loaded image: fsdam/test_set/test/1203_00197.png, size: (1280, 720)\n",
      "INFO:__main__:Generated prediction: In the image, the driver's gaze is directed to the right, likely observing a traffic light or road s\n",
      "INFO:__main__:Processing image 42/81: fsdam/test_set/test/1213_00131.png\n",
      "INFO:__main__:Loaded image: fsdam/test_set/test/1213_00131.png, size: (1280, 720)\n",
      "INFO:__main__:Generated prediction: In this driving scene, I see a view from the perspective of a driver on a road. The driver's gaze di\n",
      "INFO:__main__:Processing image 43/81: fsdam/test_set/test/1215_00018.png\n",
      "INFO:__main__:Loaded image: fsdam/test_set/test/1215_00018.png, size: (1280, 720)\n",
      "INFO:__main__:Generated prediction: In the image, we see a driver's view from inside a vehicle, likely taken from the driver's seat. The\n",
      "INFO:__main__:Processing image 44/81: fsdam/test_set/test/1216_00346.png\n",
      "INFO:__main__:Loaded image: fsdam/test_set/test/1216_00346.png, size: (1280, 720)\n",
      "INFO:__main__:Generated prediction: In the image, I see a view from the perspective of a driver looking out through the windshield of a \n",
      "INFO:__main__:Processing image 45/81: fsdam/test_set/test/121_00085.png\n",
      "INFO:__main__:Loaded image: fsdam/test_set/test/121_00085.png, size: (1280, 720)\n",
      "INFO:__main__:Generated prediction: In this driving scene, I can see a car that appears to be moving forward on a street with other vehi\n",
      "INFO:__main__:Processing image 46/81: fsdam/test_set/test/121_00256.png\n",
      "INFO:__main__:Loaded image: fsdam/test_set/test/121_00256.png, size: (1280, 720)\n",
      "INFO:__main__:Generated prediction: In this driving scene, the driver's gaze direction is towards the right side of the image. This sugg\n",
      "INFO:__main__:Processing image 47/81: fsdam/test_set/test/1249_00159.png\n",
      "INFO:__main__:Loaded image: fsdam/test_set/test/1249_00159.png, size: (1280, 720)\n",
      "INFO:__main__:Generated prediction: In the image, the driver's gaze direction appears to be to the right, likely towards the road ahead.\n",
      "INFO:__main__:Processing image 48/81: fsdam/test_set/test/1250_00133.png\n",
      "INFO:__main__:Loaded image: fsdam/test_set/test/1250_00133.png, size: (1280, 720)\n",
      "INFO:__main__:Generated prediction: In this driving scene, the driver's gaze direction is to the right, following the path of the street\n",
      "INFO:__main__:Processing image 49/81: fsdam/test_set/test/1251_00049.png\n",
      "INFO:__main__:Loaded image: fsdam/test_set/test/1251_00049.png, size: (1280, 720)\n",
      "INFO:__main__:Generated prediction: In the image, the driver's gaze direction appears to be towards the right, as indicated by the line \n",
      "INFO:__main__:Processing image 50/81: fsdam/test_set/test/1257_00152.png\n",
      "INFO:__main__:Loaded image: fsdam/test_set/test/1257_00152.png, size: (1280, 720)\n",
      "INFO:__main__:Generated prediction: In the driving scene captured in the image, the driver's gaze direction appears to be focused toward\n",
      "INFO:__main__:Processing image 51/81: fsdam/test_set/test/1261_00188.png\n",
      "INFO:__main__:Loaded image: fsdam/test_set/test/1261_00188.png, size: (1280, 720)\n",
      "INFO:__main__:Generated prediction: In the driving scene, the perspective is from the inside of a vehicle, likely from the driver's seat\n",
      "INFO:__main__:Processing image 52/81: fsdam/test_set/test/1266_00123.png\n",
      "INFO:__main__:Loaded image: fsdam/test_set/test/1266_00123.png, size: (1280, 720)\n",
      "INFO:__main__:Generated prediction: In the image, I see a public transit bus driving down a street lined with trees and buildings. The b\n",
      "INFO:__main__:Processing image 53/81: fsdam/test_set/test/128_00159.png\n",
      "INFO:__main__:Loaded image: fsdam/test_set/test/128_00159.png, size: (1280, 720)\n",
      "INFO:__main__:Generated prediction: In the image, we see a street scene from the perspective of a driver inside a vehicle, likely a car,\n",
      "INFO:__main__:Processing image 54/81: fsdam/test_set/test/128_00215.png\n",
      "INFO:__main__:Loaded image: fsdam/test_set/test/128_00215.png, size: (1280, 720)\n",
      "INFO:__main__:Generated prediction: In the image, we see a car approaching a stop sign at an intersection. The driver appears to be look\n",
      "INFO:__main__:Processing image 55/81: fsdam/test_set/test/1300_00162.png\n",
      "INFO:__main__:Loaded image: fsdam/test_set/test/1300_00162.png, size: (1280, 720)\n",
      "INFO:__main__:Generated prediction: In the image, we see a city street scene viewed from the perspective of a car window. The driver's g\n",
      "INFO:__main__:Processing image 56/81: fsdam/test_set/test/1307_00069.png\n",
      "INFO:__main__:Loaded image: fsdam/test_set/test/1307_00069.png, size: (1280, 720)\n",
      "INFO:__main__:Generated prediction: The image shows a view from inside a car, looking out through the windshield onto a busy street. The\n",
      "INFO:__main__:Processing image 57/81: fsdam/test_set/test/132_00152.png\n",
      "INFO:__main__:Loaded image: fsdam/test_set/test/132_00152.png, size: (1280, 720)\n",
      "INFO:__main__:Generated prediction: In the image, I see a car's windshield from the perspective of the driver. The driver's gaze directi\n",
      "INFO:__main__:Processing image 58/81: fsdam/test_set/test/1336_00153.png\n",
      "INFO:__main__:Loaded image: fsdam/test_set/test/1336_00153.png, size: (1280, 720)\n",
      "INFO:__main__:Generated prediction: In the image, the driver's gaze is directed straight ahead, which is typical for a driver approachin\n",
      "INFO:__main__:Processing image 59/81: fsdam/test_set/test/1355_00105.png\n",
      "INFO:__main__:Loaded image: fsdam/test_set/test/1355_00105.png, size: (1280, 720)\n",
      "INFO:__main__:Generated prediction: In the image, the driver's gaze direction is towards the right side of the road, where there are sev\n",
      "INFO:__main__:Processing image 60/81: fsdam/test_set/test/1358_00053.png\n",
      "INFO:__main__:Loaded image: fsdam/test_set/test/1358_00053.png, size: (1280, 720)\n",
      "INFO:__main__:Generated prediction: In the image, I see a view from the driver's perspective inside a car, looking out towards a street \n",
      "INFO:__main__:Processing image 61/81: fsdam/test_set/test/135_00092.png\n",
      "INFO:__main__:Loaded image: fsdam/test_set/test/135_00092.png, size: (1280, 720)\n",
      "INFO:__main__:Generated prediction: In this driving scene, I see a colorful trolley car, which appears to be a tourist attraction, trave\n",
      "INFO:__main__:Processing image 62/81: fsdam/test_set/test/135_00216.png\n",
      "INFO:__main__:Loaded image: fsdam/test_set/test/135_00216.png, size: (1280, 720)\n",
      "INFO:__main__:Generated prediction: In the image, I see a vibrant street scene with a classic trolley car in the center of the frame, dr\n",
      "INFO:__main__:Processing image 63/81: fsdam/test_set/test/1368_00005.png\n",
      "INFO:__main__:Loaded image: fsdam/test_set/test/1368_00005.png, size: (1280, 720)\n",
      "INFO:__main__:Generated prediction: In the image, I see a driving scene at night on a city street. The driver's gaze direction is toward\n",
      "INFO:__main__:Processing image 64/81: fsdam/test_set/test/1374_00009.png\n",
      "INFO:__main__:Loaded image: fsdam/test_set/test/1374_00009.png, size: (1280, 720)\n",
      "INFO:__main__:Generated prediction: In the image, the driver's gaze direction appears to be focused on the traffic lights ahead. The dri\n",
      "INFO:__main__:Processing image 65/81: fsdam/test_set/test/1378_00064.png\n",
      "INFO:__main__:Loaded image: fsdam/test_set/test/1378_00064.png, size: (1280, 720)\n",
      "INFO:__main__:Generated prediction: In the image, the driver appears to be looking to their right, possibly at a traffic light or a road\n",
      "INFO:__main__:Processing image 66/81: fsdam/test_set/test/1386_00222.png\n",
      "INFO:__main__:Loaded image: fsdam/test_set/test/1386_00222.png, size: (1280, 720)\n",
      "INFO:__main__:Generated prediction: In this driving scene, the driver's gaze is directed to the right side of the road. It's likely that\n",
      "INFO:__main__:Processing image 67/81: fsdam/test_set/test/138_00005.png\n",
      "INFO:__main__:Loaded image: fsdam/test_set/test/138_00005.png, size: (1280, 720)\n",
      "INFO:__main__:Generated prediction: In this driving scene, the driver's gaze direction suggests they are looking to the right, possibly \n",
      "INFO:__main__:Processing image 68/81: fsdam/test_set/test/138_00074.png\n",
      "INFO:__main__:Loaded image: fsdam/test_set/test/138_00074.png, size: (1280, 720)\n",
      "INFO:__main__:Generated prediction: In the image, we see a residential street scene with various vehicles parked on the side of the road\n",
      "INFO:__main__:Processing image 69/81: fsdam/test_set/test/1390_00211.png\n",
      "INFO:__main__:Loaded image: fsdam/test_set/test/1390_00211.png, size: (1280, 720)\n",
      "INFO:__main__:Generated prediction: In the image, we see a scene of a residential street with parked cars on the side of the road. The d\n",
      "INFO:__main__:Processing image 70/81: fsdam/test_set/test/1402_00128.png\n",
      "INFO:__main__:Loaded image: fsdam/test_set/test/1402_00128.png, size: (1280, 720)\n",
      "INFO:__main__:Generated prediction: In the driving scene, the driver appears to be looking to their right, likely focusing on the road a\n",
      "INFO:__main__:Processing image 71/81: fsdam/test_set/test/1402_00350.png\n",
      "INFO:__main__:Loaded image: fsdam/test_set/test/1402_00350.png, size: (1280, 720)\n",
      "INFO:__main__:Generated prediction: In the image, a car is driving on a city street with traffic. The driver's gaze is directed straight\n",
      "INFO:__main__:Processing image 72/81: fsdam/test_set/test/1403_00122.png\n",
      "INFO:__main__:Loaded image: fsdam/test_set/test/1403_00122.png, size: (1280, 720)\n",
      "INFO:__main__:Generated prediction: In this driving scene, the driver appears to be looking ahead, likely focusing on the road and traff\n",
      "INFO:__main__:Processing image 73/81: fsdam/test_set/test/1404_00129.png\n",
      "INFO:__main__:Loaded image: fsdam/test_set/test/1404_00129.png, size: (1280, 720)\n",
      "INFO:__main__:Generated prediction: The image shows a view from the driver's perspective inside a car. The driver's gaze direction is to\n",
      "INFO:__main__:Processing image 74/81: fsdam/test_set/test/1405_00109.png\n",
      "INFO:__main__:Loaded image: fsdam/test_set/test/1405_00109.png, size: (1280, 720)\n",
      "INFO:__main__:Generated prediction: In the image, the driver's gaze direction is to the right, looking at the intersection ahead. The dr\n",
      "INFO:__main__:Processing image 75/81: fsdam/test_set/test/1406_00285.png\n",
      "INFO:__main__:Loaded image: fsdam/test_set/test/1406_00285.png, size: (1280, 720)\n",
      "INFO:__main__:Generated prediction: In this driving scene, the driver is approaching an intersection. They are looking to the right, lik\n",
      "INFO:__main__:Processing image 76/81: fsdam/test_set/test/1420_00121.png\n",
      "INFO:__main__:Loaded image: fsdam/test_set/test/1420_00121.png, size: (1280, 720)\n",
      "INFO:__main__:Generated prediction: In this driving scene, the driver's gaze direction appears to be focused on the road ahead, likely l\n",
      "INFO:__main__:Processing image 77/81: fsdam/test_set/test/1425_00102.png\n",
      "INFO:__main__:Loaded image: fsdam/test_set/test/1425_00102.png, size: (1280, 720)\n",
      "INFO:__main__:Generated prediction: In this driving scene, the driver's gaze is directed towards the right side of the road, which is li\n",
      "INFO:__main__:Processing image 78/81: fsdam/test_set/test/1425_00230.png\n",
      "INFO:__main__:Loaded image: fsdam/test_set/test/1425_00230.png, size: (1280, 720)\n",
      "INFO:__main__:Generated prediction: In the image, we see a perspective from the driver's seat of a vehicle looking towards a traffic lig\n",
      "INFO:__main__:Processing image 79/81: fsdam/test_set/test/1436_00095.png\n",
      "INFO:__main__:Loaded image: fsdam/test_set/test/1436_00095.png, size: (1280, 720)\n",
      "INFO:__main__:Generated prediction: The image shows a view from inside a vehicle, looking out onto a wet street. The perspective is from\n",
      "INFO:__main__:Processing image 80/81: fsdam/test_set/test/1452_00066.png\n",
      "INFO:__main__:Loaded image: fsdam/test_set/test/1452_00066.png, size: (1280, 720)\n",
      "INFO:__main__:Generated prediction: In the image, I see a busy city street with a variety of vehicles, including a white transit bus in \n",
      "INFO:__main__:Processing image 81/81: fsdam/test_set/test/1458_00260.png\n",
      "INFO:__main__:Loaded image: fsdam/test_set/test/1458_00260.png, size: (1280, 720)\n",
      "INFO:__main__:Generated prediction: In the image, the driver's gaze appears to be directed to the left, likely scanning for traffic or p\n",
      "INFO:__main__:ROUGE score for 1003_00057: 0.1751\n",
      "INFO:__main__:ROUGE score for 1003_00195: 0.1526\n",
      "INFO:__main__:ROUGE score for 1003_00385: 0.1255\n",
      "INFO:__main__:ROUGE score for 1008_00038: 0.1610\n",
      "INFO:__main__:ROUGE score for 1008_00226: 0.1322\n",
      "INFO:__main__:ROUGE score for 100_00266: 0.1371\n",
      "INFO:__main__:ROUGE score for 1013_00063: 0.1680\n",
      "INFO:__main__:ROUGE score for 1026_00266: 0.1964\n",
      "INFO:__main__:ROUGE score for 1038_00138: 0.1951\n",
      "INFO:__main__:ROUGE score for 1047_00011: 0.1553\n",
      "INFO:__main__:ROUGE score for 1051_00143: 0.1478\n",
      "INFO:__main__:ROUGE score for 1054_00005: 0.1707\n",
      "INFO:__main__:ROUGE score for 1054_00172: 0.1744\n",
      "INFO:__main__:ROUGE score for 1060_00104: 0.1246\n",
      "INFO:__main__:ROUGE score for 1072_00093: 0.1974\n",
      "INFO:__main__:ROUGE score for 1078_00005: 0.1511\n",
      "INFO:__main__:ROUGE score for 1078_00155: 0.1887\n",
      "INFO:__main__:ROUGE score for 1086_00109: 0.1544\n",
      "INFO:__main__:ROUGE score for 1087_00482: 0.1970\n",
      "INFO:__main__:ROUGE score for 108_00113: 0.1583\n",
      "INFO:__main__:ROUGE score for 1114_00066: 0.1623\n",
      "INFO:__main__:ROUGE score for 1122_00207: 0.2010\n",
      "INFO:__main__:ROUGE score for 1123_00171: 0.1762\n",
      "INFO:__main__:ROUGE score for 1125_00312: 0.1417\n",
      "INFO:__main__:ROUGE score for 112_00138: 0.1351\n",
      "INFO:__main__:ROUGE score for 112_00278: 0.1259\n",
      "INFO:__main__:ROUGE score for 1132_00247: 0.1801\n",
      "INFO:__main__:ROUGE score for 1137_00245: 0.1233\n",
      "INFO:__main__:ROUGE score for 1138_00081: 0.1958\n",
      "INFO:__main__:ROUGE score for 1141_00056: 0.1439\n",
      "INFO:__main__:ROUGE score for 1146_00099: 0.1529\n",
      "INFO:__main__:ROUGE score for 1151_00193: 0.2093\n",
      "INFO:__main__:ROUGE score for 115_00168: 0.1731\n",
      "INFO:__main__:ROUGE score for 1165_00111: 0.1523\n",
      "INFO:__main__:ROUGE score for 1167_00169: 0.1572\n",
      "INFO:__main__:ROUGE score for 116_00263: 0.1235\n",
      "INFO:__main__:ROUGE score for 1180_00007: 0.2720\n",
      "INFO:__main__:ROUGE score for 1180_00150: 0.1925\n",
      "INFO:__main__:ROUGE score for 1191_00079: 0.1622\n",
      "INFO:__main__:ROUGE score for 1203_00057: 0.1607\n",
      "INFO:__main__:ROUGE score for 1203_00197: 0.1831\n",
      "INFO:__main__:ROUGE score for 1213_00131: 0.1301\n",
      "INFO:__main__:ROUGE score for 1215_00018: 0.1514\n",
      "INFO:__main__:ROUGE score for 1216_00346: 0.1556\n",
      "INFO:__main__:ROUGE score for 121_00085: 0.1532\n",
      "INFO:__main__:ROUGE score for 121_00256: 0.1407\n",
      "INFO:__main__:ROUGE score for 1249_00159: 0.1103\n",
      "INFO:__main__:ROUGE score for 1250_00133: 0.1257\n",
      "INFO:__main__:ROUGE score for 1251_00049: 0.1702\n",
      "INFO:__main__:ROUGE score for 1257_00152: 0.2362\n",
      "INFO:__main__:ROUGE score for 1261_00188: 0.1782\n",
      "INFO:__main__:ROUGE score for 1266_00123: 0.1399\n",
      "INFO:__main__:ROUGE score for 128_00159: 0.1504\n",
      "INFO:__main__:ROUGE score for 128_00215: 0.1532\n",
      "INFO:__main__:ROUGE score for 1300_00162: 0.1724\n",
      "INFO:__main__:ROUGE score for 1307_00069: 0.1429\n",
      "INFO:__main__:ROUGE score for 132_00152: 0.1985\n",
      "INFO:__main__:ROUGE score for 1336_00153: 0.1299\n",
      "INFO:__main__:ROUGE score for 1355_00105: 0.0719\n",
      "INFO:__main__:ROUGE score for 1358_00053: 0.1476\n",
      "INFO:__main__:ROUGE score for 135_00092: 0.1869\n",
      "INFO:__main__:ROUGE score for 135_00216: 0.1507\n",
      "INFO:__main__:ROUGE score for 1368_00005: 0.1684\n",
      "INFO:__main__:ROUGE score for 1374_00009: 0.1951\n",
      "INFO:__main__:ROUGE score for 1378_00064: 0.1244\n",
      "INFO:__main__:ROUGE score for 1386_00222: 0.2158\n",
      "INFO:__main__:ROUGE score for 138_00005: 0.1116\n",
      "INFO:__main__:ROUGE score for 138_00074: 0.1484\n",
      "INFO:__main__:ROUGE score for 1390_00211: 0.2443\n",
      "INFO:__main__:ROUGE score for 1402_00128: 0.1988\n",
      "INFO:__main__:ROUGE score for 1402_00350: 0.1595\n",
      "INFO:__main__:ROUGE score for 1403_00122: 0.1341\n",
      "INFO:__main__:ROUGE score for 1404_00129: 0.1315\n",
      "INFO:__main__:ROUGE score for 1405_00109: 0.1935\n",
      "INFO:__main__:ROUGE score for 1406_00285: 0.1284\n",
      "INFO:__main__:ROUGE score for 1420_00121: 0.0990\n",
      "INFO:__main__:ROUGE score for 1425_00102: 0.1854\n",
      "INFO:__main__:ROUGE score for 1425_00230: 0.1387\n",
      "INFO:__main__:ROUGE score for 1436_00095: 0.1788\n",
      "INFO:__main__:ROUGE score for 1452_00066: 0.1917\n",
      "INFO:__main__:ROUGE score for 1458_00260: 0.1325\n",
      "INFO:__main__:Zero-shot predictions saved to fsdam-s3/logs/predictions_zero_shot.json\n",
      "INFO:__main__:=== ZERO-SHOT EVALUATION RESULTS ===\n",
      "INFO:__main__:Average ROUGE-L: 0.1613\n",
      "INFO:__main__:Max ROUGE-L: 0.2720\n",
      "INFO:__main__:Min ROUGE-L: 0.0719\n",
      "INFO:__main__:Number of items with ROUGE scores: 81\n",
      "INFO:__main__:Generated 81 non-empty predictions out of 81 total\n",
      "INFO:__main__:=== SAMPLE ZERO-SHOT PREDICTIONS ===\n",
      "INFO:__main__:Sample 1:\n",
      "INFO:__main__: Image: fsdam/test_set/test/1003_00057.png\n",
      "INFO:__main__: Prediction: In the image, the driver's gaze direction appears to be focused on the road ahead, with their attention directed towards the right side of the image. This suggests that the driver is likely looking at the lane ahead, possibly scanning for traffic, pedestrians, or other obstacles.\n",
      "\n",
      "The driver might look next at the traffic light, which is currently green, indicating that it is safe to proceed. If the driver is following traffic rules and regulations, they should not be looking directly at the traffic light, but rather keeping their eyes on the road ahead to anticipate any potential changes in the traffic situation.\n",
      "\n",
      "It's important for the driver to maintain situational awareness, which includes looking ahead to anticipate potential hazards, checking the mirrors to ensure they are aware of their surroundings, and being prepared to react to any changes in the road environment. The driver should also be mindful of other road users, such as other drivers, pedestrians, and cyclists, and adjust their driving accordingly.\n",
      "INFO:__main__: Ground Truth: The scene shows a city street with cars and buildings. The current gaze focuses on the blue car ahead. The future gaze will likely remain on the blue car. This is because the driver needs to maintain \n",
      "INFO:__main__:Sample 2:\n",
      "INFO:__main__: Image: fsdam/test_set/test/1003_00195.png\n",
      "INFO:__main__: Prediction: In the image, the driver's gaze appears to be directed to the right, as indicated by the direction of the car's movement on the road. This could suggest that the driver is checking for oncoming traffic, pedestrians, or other vehicles that might be entering their lane from the right. The driver might be anticipating an upcoming traffic signal or an intersection where they need to be prepared to react to the changing traffic conditions.\n",
      "\n",
      "The driver might look next at the traffic signal to determine when it will change, as the current signal is red, which could mean the driver will need to stop or prepare to stop depending on the traffic situation. They may also be looking for any pedestrians or cyclists who might be crossing the road or about to cross. Additionally, the driver might be scanning for any potential obstacles, such as parked cars or vehicles that might be pulling out from a side road or parking lot.\n",
      "\n",
      "In general, the driver's gaze is likely focused on staying alert to potential hazards and anticipating the actions of other road users to ensure a safe journey.\n",
      "INFO:__main__: Ground Truth: The scene shows a city street with cars, buildings, and a KFC. The current gaze is focused on the blue car ahead. The future gaze will likely shift to the red traffic light. This is because the driver\n",
      "INFO:__main__:Sample 3:\n",
      "INFO:__main__: Image: fsdam/test_set/test/1003_00385.png\n",
      "INFO:__main__: Prediction: In the image, we see a view from the driver's perspective in a busy urban street intersection. The driver's gaze is directed to the left, likely due to the traffic light signaling a green light, which would typically cause drivers to proceed forward. The driver is also looking to the right, likely anticipating the actions of other vehicles and pedestrians at the intersection. This rightward gaze is a common practice for drivers to ensure their safety and the safety of others, especially in busy intersections.\n",
      "\n",
      "The driver might look next to the traffic lights, which are showing red for oncoming traffic, to ensure that they are following the correct signal. The driver might also be scanning the traffic around them, looking for any vehicles or pedestrians that may be crossing the intersection. Additionally, the driver might be looking ahead to assess the flow of traffic and anticipate any potential changes in traffic conditions.\n",
      "\n",
      "The reason for these gazes is to ensure that the driver is adhering to traffic rules, staying alert to the surroundings, and maintaining a safe driving environment. This is a typical driving behavior to prevent accidents and ensure smooth traffic flow in a busy urban setting.\n",
      "INFO:__main__: Ground Truth: The scene shows a city intersection with traffic and buildings. The current gaze focuses on the red traffic light. The future gaze will likely shift to the green light. This is because the light chang\n",
      "INFO:__main__:Zero-shot evaluation completed. 81 predictions generated.\n",
      "INFO:__main__:Results saved to: fsdam-s3/logs/predictions_zero_shot.json\n",
      "INFO:__main__:Check logs at: fsdam-s3/logs/zero_shot_inference.log\n"
     ]
    }
   ],
   "source": [
    "import torch\n",
    "import os\n",
    "import json\n",
    "from PIL import Image\n",
    "from transformers import AutoProcessor, BitsAndBytesConfig, LlavaNextForConditionalGeneration\n",
    "from torchmetrics.text import ROUGEScore\n",
    "import logging\n",
    "import gc\n",
    "\n",
    "# Set up logging\n",
    "logging.basicConfig(level=logging.INFO)\n",
    "logger = logging.getLogger(__name__)\n",
    "file_handler = logging.FileHandler(\"fsdam-s3/logs/zero_shot_inference.log\")\n",
    "file_handler.setLevel(logging.INFO)\n",
    "formatter = logging.Formatter('%(asctime)s - %(name)s - %(levelname)s - %(message)s')\n",
    "file_handler.setFormatter(formatter)\n",
    "logger.addHandler(file_handler)\n",
    "\n",
    "# Define paths and constants\n",
    "MODEL_ID = \"llava-hf/llava-v1.6-vicuna-7b-hf\"\n",
    "TEST_JSON = \"fsdam/test_set/test_llava.json\"\n",
    "TEST_IMAGE_DIR = \"fsdam/test_set/test\"\n",
    "OUTPUT_JSON = \"fsdam-s3/logs/predictions_zero_shot.json\"\n",
    "LOGS_DIR = \"fsdam-s3/logs\"\n",
    "MAX_NEW_TOKENS = 512\n",
    "\n",
    "# Create logs directory\n",
    "os.makedirs(LOGS_DIR, exist_ok=True)\n",
    "\n",
    "# Load processor\n",
    "try:\n",
    "    processor = AutoProcessor.from_pretrained(MODEL_ID, trust_remote_code=True)\n",
    "    \n",
    "    # Fix tokenizer padding configuration\n",
    "    if processor.tokenizer.pad_token is None:\n",
    "        processor.tokenizer.pad_token = processor.tokenizer.eos_token\n",
    "        processor.tokenizer.pad_token_id = processor.tokenizer.eos_token_id\n",
    "    \n",
    "    # Set padding side to left for generation tasks\n",
    "    processor.tokenizer.padding_side = \"left\"\n",
    "    \n",
    "    logger.info(\"Processor loaded successfully\")\n",
    "    logger.info(\"Pad token: %s (ID: %d)\", processor.tokenizer.pad_token, processor.tokenizer.pad_token_id)\n",
    "    logger.info(\"EOS token: %s (ID: %d)\", processor.tokenizer.eos_token, processor.tokenizer.eos_token_id)\n",
    "    \n",
    "except Exception as e:\n",
    "    logger.error(\"Error loading processor: %s\", e)\n",
    "    raise e\n",
    "\n",
    "# Load base model (no fine-tuning)\n",
    "try:\n",
    "    logger.info(\"Loading base LLaVA model for zero-shot inference...\")\n",
    "    bnb_cfg = BitsAndBytesConfig(\n",
    "        load_in_4bit=True,\n",
    "        bnb_4bit_quant_type=\"nf4\",\n",
    "        bnb_4bit_compute_dtype=torch.float16,\n",
    "        bnb_4bit_use_double_quant=True,\n",
    "    )\n",
    "    \n",
    "    model = LlavaNextForConditionalGeneration.from_pretrained(\n",
    "        MODEL_ID,\n",
    "        torch_dtype=torch.float16,\n",
    "        quantization_config=bnb_cfg,\n",
    "        trust_remote_code=True,\n",
    "        device_map=\"auto\"  # Let transformers handle device placement\n",
    "    )\n",
    "    \n",
    "    model.eval()\n",
    "    logger.info(\"Base model loaded successfully\")\n",
    "    logger.info(\"Model type: %s\", type(model))\n",
    "    logger.info(\"Number of parameters: %d\", sum(p.numel() for p in model.parameters()))\n",
    "    \n",
    "except Exception as e:\n",
    "    logger.error(\"Error loading base model: %s\", e)\n",
    "    raise e\n",
    "\n",
    "def debug_single_inference(image_path, prompt):\n",
    "    \"\"\"\n",
    "    Debug function to test single image inference\n",
    "    \"\"\"\n",
    "    logger.info(\"=== DEBUGGING SINGLE INFERENCE ===\")\n",
    "    logger.info(\"Image path: %s\", image_path)\n",
    "    logger.info(\"Prompt: %s\", prompt)\n",
    "    \n",
    "    try:\n",
    "        # Load and process image\n",
    "        image = Image.open(image_path).convert(\"RGB\")\n",
    "        logger.info(\"Original image size: %s\", image.size)\n",
    "        \n",
    "        # Don't resize - let the processor handle it\n",
    "        inputs = processor(\n",
    "            text=prompt,\n",
    "            images=image,\n",
    "            return_tensors=\"pt\",\n",
    "            padding=True\n",
    "        )\n",
    "        \n",
    "        # Move to device\n",
    "        device = next(model.parameters()).device\n",
    "        inputs = {k: v.to(device) for k, v in inputs.items()}\n",
    "        \n",
    "        logger.info(\"Input shapes:\")\n",
    "        for k, v in inputs.items():\n",
    "            logger.info(\"  %s: %s\", k, v.shape)\n",
    "        \n",
    "        # Generate with detailed logging\n",
    "        logger.info(\"Starting generation...\")\n",
    "        with torch.no_grad():\n",
    "            outputs = model.generate(\n",
    "                **inputs,\n",
    "                max_new_tokens=MAX_NEW_TOKENS,\n",
    "                do_sample=True,  # Try sampling instead of greedy\n",
    "                temperature=0.7,\n",
    "                top_p=0.9,\n",
    "                pad_token_id=processor.tokenizer.pad_token_id,\n",
    "                eos_token_id=processor.tokenizer.eos_token_id,\n",
    "                use_cache=True\n",
    "            )\n",
    "        \n",
    "        logger.info(\"Generation completed. Output shape: %s\", outputs.shape)\n",
    "        logger.info(\"Input length: %d, Output length: %d\", \n",
    "                   inputs['input_ids'].shape[1], outputs.shape[1])\n",
    "        \n",
    "        # Decode full output\n",
    "        full_output = processor.decode(outputs[0], skip_special_tokens=True)\n",
    "        logger.info(\"Full decoded output: %s\", full_output)\n",
    "        \n",
    "        # Decode only new tokens\n",
    "        new_tokens = outputs[0][inputs['input_ids'].shape[1]:]\n",
    "        new_output = processor.decode(new_tokens, skip_special_tokens=True)\n",
    "        logger.info(\"New tokens only: %s\", new_output)\n",
    "        \n",
    "        return new_output.strip()\n",
    "        \n",
    "    except Exception as e:\n",
    "        logger.error(\"Error in debug inference: %s\", e)\n",
    "        import traceback\n",
    "        logger.error(\"Traceback: %s\", traceback.format_exc())\n",
    "        return None\n",
    "\n",
    "# Zero-shot batch inference function\n",
    "def predict_batch_zero_shot(image_paths, prompt=None, batch_size=1):  # Reduced batch size\n",
    "    \"\"\"\n",
    "    Zero-shot batch inference using the base LLaVA model\n",
    "    \"\"\"\n",
    "    logger.info(\"Processing batch of %d images with zero-shot inference\", len(image_paths))\n",
    "    \n",
    "   \n",
    "    if prompt is None:\n",
    "        prompt = \"A chat between a curious human and an artificial intelligence assistant. The assistant gives helpful, detailed, and polite answers to the human's questions. USER: <image>\\nDescribe what you see in this driving scene. Focus on the driver's gaze direction and where they might look next and why. ASSISTANT:\"\n",
    "    \n",
    "    try:\n",
    "        predictions = []\n",
    "        \n",
    "        for i, image_path in enumerate(image_paths):\n",
    "            logger.info(\"Processing image %d/%d: %s\", i+1, len(image_paths), image_path)\n",
    "            \n",
    "            # Debug first image in detail\n",
    "            if i == 0:\n",
    "                debug_result = debug_single_inference(image_path, prompt)\n",
    "                if debug_result:\n",
    "                    predictions.append(debug_result)\n",
    "                    continue\n",
    "            \n",
    "            try:\n",
    "                if not os.path.exists(image_path):\n",
    "                    logger.error(\"Image file not found: %s\", image_path)\n",
    "                    predictions.append(\"Image file not found.\")\n",
    "                    continue\n",
    "                \n",
    "                # Load image\n",
    "                image = Image.open(image_path).convert(\"RGB\")\n",
    "                logger.info(\"Loaded image: %s, size: %s\", image_path, image.size)\n",
    "                \n",
    "                # Process inputs\n",
    "                inputs = processor(\n",
    "                    text=prompt,\n",
    "                    images=image,\n",
    "                    return_tensors=\"pt\",\n",
    "                    padding=True\n",
    "                )\n",
    "                \n",
    "                # Move to device\n",
    "                device = next(model.parameters()).device\n",
    "                inputs = {k: v.to(device) for k, v in inputs.items()}\n",
    "                \n",
    "                # Generate\n",
    "                with torch.no_grad():\n",
    "                    outputs = model.generate(\n",
    "                        **inputs,\n",
    "                        max_new_tokens=MAX_NEW_TOKENS,\n",
    "                        do_sample=True,\n",
    "                        temperature=0.7,\n",
    "                        top_p=0.9,\n",
    "                        pad_token_id=processor.tokenizer.pad_token_id,\n",
    "                        eos_token_id=processor.tokenizer.eos_token_id,\n",
    "                        use_cache=True\n",
    "                    )\n",
    "                \n",
    "                # Decode only the new tokens\n",
    "                input_length = inputs['input_ids'].shape[1]\n",
    "                new_tokens = outputs[0][input_length:]\n",
    "                prediction = processor.decode(new_tokens, skip_special_tokens=True).strip()\n",
    "                \n",
    "                logger.info(\"Generated prediction: %s\", prediction[:100])\n",
    "                \n",
    "                if len(prediction.strip()) < 5:\n",
    "                    logger.warning(\"Short prediction, trying alternative decoding...\")\n",
    "                    # Try decoding the full output and extract after ASSISTANT:\n",
    "                    full_output = processor.decode(outputs[0], skip_special_tokens=True)\n",
    "                    if \"ASSISTANT:\" in full_output:\n",
    "                        prediction = full_output.split(\"ASSISTANT:\")[-1].strip()\n",
    "                    elif \"assistant\" in full_output.lower():\n",
    "                        parts = full_output.lower().split(\"assistant\")\n",
    "                        if len(parts) > 1:\n",
    "                            prediction = full_output[full_output.lower().rfind(\"assistant\") + len(\"assistant\"):].strip()\n",
    "                \n",
    "                if len(prediction.strip()) < 5:\n",
    "                    prediction = \"Unable to generate description for this driving scene.\"\n",
    "                \n",
    "                predictions.append(prediction)\n",
    "                \n",
    "            except Exception as e:\n",
    "                logger.error(\"Error processing image %s: %s\", image_path, e)\n",
    "                predictions.append(\"Error processing image.\")\n",
    "            \n",
    "\n",
    "            torch.cuda.empty_cache()\n",
    "        \n",
    "        return predictions\n",
    "        \n",
    "    except Exception as e:\n",
    "        logger.error(\"Error in zero-shot batch inference: %s\", e)\n",
    "        return [\"Error in inference\"] * len(image_paths)\n",
    "\n",
    "\n",
    "def test_model_basic():\n",
    "    \"\"\"\n",
    "    Test the model with a simple prompt to verify it's working\n",
    "    \"\"\"\n",
    "    logger.info(\"=== TESTING MODEL BASIC FUNCTIONALITY ===\")\n",
    "    \n",
    "    # Create a simple test\n",
    "    test_prompt = \"USER: Hello, can you help me? ASSISTANT:\"\n",
    "    \n",
    "    try:\n",
    "        inputs = processor(\n",
    "            text=test_prompt,\n",
    "            images=None,  \n",
    "            return_tensors=\"pt\"\n",
    "        )\n",
    "        \n",
    "        device = next(model.parameters()).device\n",
    "        inputs = {k: v.to(device) for k, v in inputs.items()}\n",
    "        \n",
    "        with torch.no_grad():\n",
    "            outputs = model.generate(\n",
    "                **inputs,\n",
    "                max_new_tokens=50,\n",
    "                do_sample=True,\n",
    "                temperature=0.7,\n",
    "                pad_token_id=processor.tokenizer.pad_token_id,\n",
    "                eos_token_id=processor.tokenizer.eos_token_id\n",
    "            )\n",
    "        \n",
    "        input_length = inputs['input_ids'].shape[1]\n",
    "        new_tokens = outputs[0][input_length:]\n",
    "        response = processor.decode(new_tokens, skip_special_tokens=True)\n",
    "        \n",
    "        logger.info(\"Basic test response: %s\", response)\n",
    "        return len(response.strip()) > 0\n",
    "        \n",
    "    except Exception as e:\n",
    "        logger.error(\"Basic test failed: %s\", e)\n",
    "        return False\n",
    "\n",
    "def run_zero_shot_evaluation(json_path, image_dir):\n",
    "    \"\"\"\n",
    "    Run zero-shot evaluation on the test dataset\n",
    "    \"\"\"\n",
    "    # First test basic model functionality\n",
    "    if not test_model_basic():\n",
    "        logger.error(\"Basic model test failed. Check model loading.\")\n",
    "        return []\n",
    "    \n",
    "    try:\n",
    "        with open(json_path, 'r') as f:\n",
    "            test_data = json.load(f)\n",
    "        logger.info(\"Loaded test JSON with %d entries\", len(test_data))\n",
    "    except Exception as e:\n",
    "        logger.error(\"Error loading test JSON %s: %s\", json_path, e)\n",
    "        raise e\n",
    "\n",
    "    # Build image paths with error handling\n",
    "    image_paths = []\n",
    "    valid_items = []\n",
    "    \n",
    "    for item in test_data:\n",
    "        image_path = os.path.join(image_dir, os.path.basename(item['image']))\n",
    "        if not os.path.exists(image_path):\n",
    "            # Try alternative path\n",
    "            image_path = os.path.join(image_dir, item['image'])\n",
    "            if not os.path.exists(image_path):\n",
    "                logger.warning(\"Image not found for item %s: %s\", item.get('id', 'unknown'), image_path)\n",
    "                continue\n",
    "        \n",
    "        image_paths.append(image_path)\n",
    "        valid_items.append(item)\n",
    "    \n",
    "    logger.info(\"Found %d valid images out of %d items\", len(image_paths), len(test_data))\n",
    "    \n",
    "    # Process all images (remove debugging limitation)\n",
    "    logger.info(\"Processing all %d images\", len(image_paths))\n",
    "    \n",
    "    # Run zero-shot predictions\n",
    "    logger.info(\"Starting zero-shot inference...\")\n",
    "    predictions = predict_batch_zero_shot(image_paths, batch_size=1)\n",
    "    \n",
    "    # Process results and calculate metrics\n",
    "    results = []\n",
    "    rouge = ROUGEScore()\n",
    "    rouge_scores = []\n",
    "    \n",
    "    for item, prediction in zip(valid_items, predictions):\n",
    "        # Extract ground truth\n",
    "        ground_truth = None\n",
    "        if 'conversations' in item:\n",
    "            for conv in item['conversations']:\n",
    "                if conv.get('from') == 'gpt':\n",
    "                    ground_truth = conv['value']\n",
    "                    break\n",
    "        elif 'response' in item:\n",
    "            ground_truth = item['response']\n",
    "        elif 'answer' in item:\n",
    "            ground_truth = item['answer']\n",
    "        \n",
    "        if ground_truth is None:\n",
    "            logger.warning(\"No ground truth found for item %s\", item.get('id', 'unknown'))\n",
    "        \n",
    "        if prediction is not None:\n",
    "            results.append({\n",
    "                \"id\": item.get('id', 'unknown'),\n",
    "                \"image\": item['image'],\n",
    "                \"ground_truth\": ground_truth,\n",
    "                \"prediction\": prediction\n",
    "            })\n",
    "            \n",
    "           \n",
    "            if ground_truth and prediction.strip() and prediction != \"Error processing image.\":\n",
    "                try:\n",
    "                    score = rouge([prediction], [ground_truth])['rougeL_fmeasure']\n",
    "                    # Convert tensor to float for JSON serialization\n",
    "                    if hasattr(score, 'item'):\n",
    "                        score = score.item()\n",
    "                    else:\n",
    "                        score = float(score)\n",
    "                    rouge_scores.append(score)\n",
    "                    logger.info(\"ROUGE score for %s: %.4f\", item.get('id', 'unknown'), score)\n",
    "                except Exception as e:\n",
    "                    logger.warning(\"Error computing ROUGE score for %s: %s\", item.get('id', 'unknown'), e)\n",
    "        else:\n",
    "            logger.warning(\"Skipping item %s due to inference error\", item.get('id', 'unknown'))\n",
    "\n",
    "    # Save predictions\n",
    "    os.makedirs(os.path.dirname(OUTPUT_JSON), exist_ok=True)\n",
    "    with open(OUTPUT_JSON, 'w') as f:\n",
    "        json.dump(results, f, indent=2)\n",
    "    logger.info(\"Zero-shot predictions saved to %s\", OUTPUT_JSON)\n",
    "\n",
    "    # Log evaluation metrics\n",
    "    if rouge_scores:\n",
    "        rouge_scores = [float(score) if hasattr(score, 'item') else score for score in rouge_scores]\n",
    "        \n",
    "        avg_rouge = sum(rouge_scores) / len(rouge_scores)\n",
    "        max_rouge = max(rouge_scores)\n",
    "        min_rouge = min(rouge_scores)\n",
    "        logger.info(\"=== ZERO-SHOT EVALUATION RESULTS ===\")\n",
    "        logger.info(\"Average ROUGE-L: %.4f\", avg_rouge)\n",
    "        logger.info(\"Max ROUGE-L: %.4f\", max_rouge)\n",
    "        logger.info(\"Min ROUGE-L: %.4f\", min_rouge)\n",
    "        logger.info(\"Number of items with ROUGE scores: %d\", len(rouge_scores))\n",
    "        \n",
    "        # Save summary statistics\n",
    "        summary = {\n",
    "            \"method\": \"zero_shot\",\n",
    "            \"avg_rouge\": float(avg_rouge),\n",
    "            \"max_rouge\": float(max_rouge),\n",
    "            \"min_rouge\": float(min_rouge),\n",
    "            \"num_evaluated\": len(rouge_scores),\n",
    "            \"total_predictions\": len(results)\n",
    "        }\n",
    "        with open(os.path.join(LOGS_DIR, \"zero_shot_summary.json\"), 'w') as f:\n",
    "            json.dump(summary, f, indent=2)\n",
    "    else:\n",
    "        logger.info(\"No ROUGE scores computed (no ground truth available)\")\n",
    "\n",
    "    # Log prediction statistics\n",
    "    non_empty_predictions = [r['prediction'] for r in results if r['prediction'] and r['prediction'].strip()]\n",
    "    logger.info(\"Generated %d non-empty predictions out of %d total\", len(non_empty_predictions), len(results))\n",
    "    \n",
    "    logger.info(\"=== SAMPLE ZERO-SHOT PREDICTIONS ===\")\n",
    "    for i, result in enumerate(results[:3]):  \n",
    "        logger.info(\"Sample %d:\", i+1)\n",
    "        logger.info(\" Image: %s\", result['image'])\n",
    "        logger.info(\" Prediction: %s\", result['prediction'])\n",
    "        if result['ground_truth']:\n",
    "            logger.info(\" Ground Truth: %s\", result['ground_truth'][:200])\n",
    "    \n",
    "    # Clean up memory\n",
    "    torch.cuda.empty_cache()\n",
    "    gc.collect()\n",
    "    return results\n",
    "\n",
    "# Main execution\n",
    "if __name__ == \"__main__\":\n",
    "    logger.info(\"Starting zero-shot evaluation...\")\n",
    "    results = run_zero_shot_evaluation(TEST_JSON, TEST_IMAGE_DIR)\n",
    "    logger.info(\"Zero-shot evaluation completed. %d predictions generated.\", len(results))\n",
    "    \n",
    "    logger.info(\"Results saved to: %s\", OUTPUT_JSON)\n",
    "    logger.info(\"Check logs at: %s\", \"fsdam-s3/logs/zero_shot_inference.log\")"
   ]
  },
  {
   "cell_type": "code",
   "execution_count": 36,
   "id": "842961e5-95aa-4daa-a772-a1e5815672cf",
   "metadata": {},
   "outputs": [
    {
     "name": "stderr",
     "output_type": "stream",
     "text": [
      "INFO:absl:Using default tokenizer.\n",
      "Scoring predictions: 100%|██████████| 81/81 [00:01<00:00, 58.11it/s]"
     ]
    },
    {
     "name": "stdout",
     "output_type": "stream",
     "text": [
      "\n",
      "==== FSDAM Test Metrics ====\n",
      "\n",
      "ROUGE-L        0.170569\n",
      "BLEU-4         0.020395\n",
      "METEOR         0.301526\n",
      "Exact Match    0.000000\n",
      "dtype: float64\n",
      "\n",
      "==== Per-sample Results (first 5) ====\n",
      "\n",
      "           id                               image  \\\n",
      "0  1003_00057  fsdam/test_set/test/1003_00057.png   \n",
      "1  1003_00195  fsdam/test_set/test/1003_00195.png   \n",
      "2  1003_00385  fsdam/test_set/test/1003_00385.png   \n",
      "3  1008_00038  fsdam/test_set/test/1008_00038.png   \n",
      "4  1008_00226  fsdam/test_set/test/1008_00226.png   \n",
      "\n",
      "                                        ground_truth  \\\n",
      "0  The scene shows a city street with cars and bu...   \n",
      "1  The scene shows a city street with cars, build...   \n",
      "2  The scene shows a city intersection with traff...   \n",
      "3  A residential street with parked cars and buil...   \n",
      "4  The scene shows a residential street with hous...   \n",
      "\n",
      "                                          prediction   ROUGE-L    BLEU-4  \\\n",
      "0  In the image, the driver's gaze direction appe...  0.184332  0.018887   \n",
      "1  In the image, the driver's gaze appears to be ...  0.168675  0.023147   \n",
      "2  In the image, we see a view from the driver's ...  0.133891  0.014830   \n",
      "3  In the image, we see a street scene with sever...  0.169492  0.012583   \n",
      "4  In this driving scene, we see a view from the ...  0.149780  0.010511   \n",
      "\n",
      "     METEOR  Exact Match  \n",
      "0  0.338376            0  \n",
      "1  0.337205            0  \n",
      "2  0.343962            0  \n",
      "3  0.295725            0  \n",
      "4  0.283202            0  \n"
     ]
    },
    {
     "name": "stderr",
     "output_type": "stream",
     "text": [
      "\n"
     ]
    }
   ],
   "source": [
    "PRED_PATH = 'fsdam-s3/logs/predictions_zero_shot.json'\n",
    "\n",
    "# Load predictions\n",
    "with open(PRED_PATH, 'r') as f:\n",
    "    data = json.load(f)\n",
    "\n",
    "# Lists to store results\n",
    "results = []\n",
    "\n",
    "# Initialize scorer\n",
    "rouge = rouge_scorer.RougeScorer(['rougeL'], use_stemmer=True)\n",
    "smoothie = SmoothingFunction().method4\n",
    "\n",
    "for entry in tqdm(data, desc=\"Scoring predictions\"):\n",
    "    gt = entry['ground_truth'].strip()\n",
    "    pr = entry['prediction'].strip()\n",
    "\n",
    "    # ROUGE-L\n",
    "    rougeL = rouge.score(gt, pr)['rougeL'].fmeasure\n",
    "\n",
    "    # BLEU-4\n",
    "    bleu4 = sentence_bleu([word_tokenize(gt)], word_tokenize(pr), smoothing_function=smoothie)\n",
    "    \n",
    "    # METEOR\n",
    "    meteor = meteor_score([word_tokenize(gt)], word_tokenize(pr))\n",
    "    \n",
    "    # Exact Match\n",
    "    exact = int(gt == pr)\n",
    "\n",
    "    results.append({\n",
    "        \"id\": entry['id'],\n",
    "        \"image\": entry['image'],\n",
    "        \"ground_truth\": gt,\n",
    "        \"prediction\": pr,\n",
    "        \"ROUGE-L\": rougeL,\n",
    "        \"BLEU-4\": bleu4,\n",
    "        \"METEOR\": meteor,\n",
    "        \"Exact Match\": exact\n",
    "    })\n",
    "\n",
    "# Convert to DataFrame\n",
    "df = pd.DataFrame(results)\n",
    "\n",
    "# Print mean scores\n",
    "print(\"\\n==== FSDAM Test Metrics ====\\n\")\n",
    "print(df[[\"ROUGE-L\", \"BLEU-4\", \"METEOR\", \"Exact Match\"]].mean())\n",
    "print(\"\\n==== Per-sample Results (first 5) ====\\n\")\n",
    "print(df.head())\n",
    "\n",
    "# Save detailed results as CSV if needed\n",
    "df.to_csv('fsdam-s3/logs/test_metrics_one_shot.csv', index=False)\n"
   ]
  },
  {
   "cell_type": "markdown",
   "id": "da0c2f0e-8bf3-48a2-99df-ca78590fe20e",
   "metadata": {},
   "source": [
    "# Zero shot BLIP 2"
   ]
  },
  {
   "cell_type": "code",
   "execution_count": 37,
   "id": "b3293aa2-e5b5-4231-94b0-5470f19512ce",
   "metadata": {},
   "outputs": [
    {
     "name": "stderr",
     "output_type": "stream",
     "text": [
      "INFO:__main__:Loading BLIP-2 processor...\n",
      "INFO:__main__:Processor loaded successfully\n",
      "INFO:__main__:Loading BLIP-2 model...\n",
      "INFO:accelerate.utils.modeling:We will use 90% of the memory on device 0 for storing the model, and 10% for the buffer to avoid OOM. You can set `max_memory` in to a higher value to use more memory (at your own risk).\n",
      "Loading checkpoint shards: 100%|██████████| 2/2 [00:07<00:00,  3.69s/it]\n",
      "INFO:__main__:BLIP-2 model loaded successfully\n",
      "INFO:__main__:Model type: <class 'transformers.models.blip_2.modeling_blip_2.Blip2ForConditionalGeneration'>\n",
      "INFO:__main__:Number of parameters: 1993476096\n",
      "INFO:__main__:Starting BLIP-2 zero-shot evaluation...\n",
      "INFO:__main__:=== TESTING BLIP-2 BASIC FUNCTIONALITY ===\n",
      "INFO:__main__:Basic test response: What do you see in this image?\n",
      "\n",
      "INFO:__main__:Loaded test JSON with 81 entries\n",
      "INFO:__main__:Found 81 valid images out of 81 items\n",
      "INFO:__main__:Processing all 81 images\n",
      "INFO:__main__:Starting BLIP-2 zero-shot inference...\n",
      "INFO:__main__:Processing batch of 81 images with BLIP-2 zero-shot inference\n",
      "INFO:__main__:Processing image 1/81: fsdam/test_set/test/1003_00057.png\n",
      "INFO:__main__:=== DEBUGGING SINGLE BLIP-2 INFERENCE ===\n",
      "INFO:__main__:Image path: fsdam/test_set/test/1003_00057.png\n",
      "INFO:__main__:Prompt: Describe the scene, the driver's current gaze, and where that gaze will likely shift next and why.\n",
      "INFO:__main__:Original image size: (1280, 720)\n",
      "INFO:__main__:Trying prompt 1: 'Describe the scene, the driver's current gaze, and where that gaze will likely shift next and why.'\n",
      "INFO:__main__:Input shapes:\n",
      "INFO:__main__:  input_ids: torch.Size([1, 55])\n",
      "INFO:__main__:  attention_mask: torch.Size([1, 55])\n",
      "INFO:__main__:  pixel_values: torch.Size([1, 3, 224, 224])\n",
      "INFO:__main__:Trying generation config 1: {'max_new_tokens': 512, 'do_sample': False, 'repetition_penalty': 1.1, 'no_repeat_ngram_size': 3}\n",
      "INFO:__main__:Generation completed. Output shape: torch.Size([1, 56])\n",
      "INFO:__main__:Input token length: 55\n",
      "INFO:__main__:Full generated text: 'Describe the scene, the driver's current gaze, and where that gaze will likely shift next and why.\n",
      "'\n",
      "INFO:__main__:Cleaned text: ''\n",
      "INFO:__main__:Trying generation config 2: {'max_new_tokens': 512, 'do_sample': True, 'temperature': 0.7, 'top_p': 0.9, 'repetition_penalty': 1.1}\n",
      "INFO:__main__:Generation completed. Output shape: torch.Size([1, 56])\n",
      "INFO:__main__:Input token length: 55\n",
      "INFO:__main__:Full generated text: 'Describe the scene, the driver's current gaze, and where that gaze will likely shift next and why.\n",
      "'\n",
      "INFO:__main__:Cleaned text: ''\n",
      "INFO:__main__:Trying generation config 3: {'max_new_tokens': 100, 'do_sample': True, 'temperature': 1.0, 'top_k': 50}\n",
      "INFO:__main__:Generation completed. Output shape: torch.Size([1, 56])\n",
      "INFO:__main__:Input token length: 55\n",
      "INFO:__main__:Full generated text: 'Describe the scene, the driver's current gaze, and where that gaze will likely shift next and why.\n",
      "'\n",
      "INFO:__main__:Cleaned text: ''\n",
      "INFO:__main__:Trying prompt 2: 'Question: What do you see in this driving scene? Answer:'\n",
      "INFO:__main__:Input shapes:\n",
      "INFO:__main__:  input_ids: torch.Size([1, 46])\n",
      "INFO:__main__:  attention_mask: torch.Size([1, 46])\n",
      "INFO:__main__:  pixel_values: torch.Size([1, 3, 224, 224])\n",
      "INFO:__main__:Trying generation config 1: {'max_new_tokens': 512, 'do_sample': False, 'repetition_penalty': 1.1, 'no_repeat_ngram_size': 3}\n",
      "INFO:__main__:Generation completed. Output shape: torch.Size([1, 49])\n",
      "INFO:__main__:Input token length: 46\n",
      "INFO:__main__:Full generated text: 'Question: What do you see in this driving scene? Answer: A car\n",
      "'\n",
      "INFO:__main__:Cleaned text: 'A car'\n",
      "INFO:__main__:Trying generation config 2: {'max_new_tokens': 512, 'do_sample': True, 'temperature': 0.7, 'top_p': 0.9, 'repetition_penalty': 1.1}\n",
      "INFO:__main__:Generation completed. Output shape: torch.Size([1, 56])\n",
      "INFO:__main__:Input token length: 46\n",
      "INFO:__main__:Full generated text: 'Question: What do you see in this driving scene? Answer: A white car that is parked on the left\n",
      "'\n",
      "INFO:__main__:Cleaned text: 'A white car that is parked on the left'\n",
      "INFO:__main__:SUCCESS: Generated valid text with prompt 2, config 2\n",
      "INFO:__main__:Processing image 2/81: fsdam/test_set/test/1003_00195.png\n",
      "INFO:__main__:Loaded image: fsdam/test_set/test/1003_00195.png, size: (1280, 720)\n",
      "INFO:__main__:Trying prompt 1 for image 2: 'Describe the scene, the driver's current gaze, and where that gaze will likely shift next and why.'\n",
      "INFO:__main__:SUCCESS with main prompt: YouTube\n",
      "INFO:__main__:Processing image 3/81: fsdam/test_set/test/1003_00385.png\n",
      "INFO:__main__:Loaded image: fsdam/test_set/test/1003_00385.png, size: (1280, 720)\n",
      "INFO:__main__:Trying prompt 1 for image 3: 'Describe the scene, the driver's current gaze, and where that gaze will likely shift next and why.'\n",
      "INFO:__main__:Trying prompt 2 for image 3: 'Question: What do you see in this driving scene? Answer:'\n",
      "INFO:__main__:SUCCESS with fallback prompt 1: A car, a pedestrian and an intersection\n",
      "INFO:__main__:Processing image 4/81: fsdam/test_set/test/1008_00038.png\n",
      "INFO:__main__:Loaded image: fsdam/test_set/test/1008_00038.png, size: (1280, 720)\n",
      "INFO:__main__:Trying prompt 1 for image 4: 'Describe the scene, the driver's current gaze, and where that gaze will likely shift next and why.'\n",
      "INFO:__main__:Trying prompt 2 for image 4: 'Question: What do you see in this driving scene? Answer:'\n",
      "INFO:__main__:SUCCESS with fallback prompt 1: A car, a street and some houses\n",
      "INFO:__main__:Processing image 5/81: fsdam/test_set/test/1008_00226.png\n",
      "INFO:__main__:Loaded image: fsdam/test_set/test/1008_00226.png, size: (1280, 720)\n",
      "INFO:__main__:Trying prompt 1 for image 5: 'Describe the scene, the driver's current gaze, and where that gaze will likely shift next and why.'\n",
      "INFO:__main__:Trying prompt 2 for image 5: 'Question: What do you see in this driving scene? Answer:'\n",
      "INFO:__main__:SUCCESS with fallback prompt 1: A street with houses on both sides\n",
      "INFO:__main__:Processing image 6/81: fsdam/test_set/test/100_00266.png\n",
      "INFO:__main__:Loaded image: fsdam/test_set/test/100_00266.png, size: (1280, 720)\n",
      "INFO:__main__:Trying prompt 1 for image 6: 'Describe the scene, the driver's current gaze, and where that gaze will likely shift next and why.'\n",
      "INFO:__main__:Trying prompt 2 for image 6: 'Question: What do you see in this driving scene? Answer:'\n",
      "INFO:__main__:SUCCESS with fallback prompt 1: A car, a bus and an ambulance\n",
      "INFO:__main__:Processing image 7/81: fsdam/test_set/test/1013_00063.png\n",
      "INFO:__main__:Loaded image: fsdam/test_set/test/1013_00063.png, size: (1280, 720)\n",
      "INFO:__main__:Trying prompt 1 for image 7: 'Describe the scene, the driver's current gaze, and where that gaze will likely shift next and why.'\n",
      "INFO:__main__:Trying prompt 2 for image 7: 'Question: What do you see in this driving scene? Answer:'\n",
      "INFO:__main__:SUCCESS with fallback prompt 1: A white car on the right side of the road\n",
      "INFO:__main__:Processing image 8/81: fsdam/test_set/test/1026_00266.png\n",
      "INFO:__main__:Loaded image: fsdam/test_set/test/1026_00266.png, size: (1280, 720)\n",
      "INFO:__main__:Trying prompt 1 for image 8: 'Describe the scene, the driver's current gaze, and where that gaze will likely shift next and why.'\n",
      "INFO:__main__:Trying prompt 2 for image 8: 'Question: What do you see in this driving scene? Answer:'\n",
      "INFO:__main__:SUCCESS with fallback prompt 1: A car, a pedestrian and an intersection\n",
      "INFO:__main__:Processing image 9/81: fsdam/test_set/test/1038_00138.png\n",
      "INFO:__main__:Loaded image: fsdam/test_set/test/1038_00138.png, size: (1280, 720)\n",
      "INFO:__main__:Trying prompt 1 for image 9: 'Describe the scene, the driver's current gaze, and where that gaze will likely shift next and why.'\n",
      "INFO:__main__:SUCCESS with main prompt: This seems an odd question to include on a driving test. It seems odd to me, anyway\n",
      "INFO:__main__:Processing image 10/81: fsdam/test_set/test/1047_00011.png\n",
      "INFO:__main__:Loaded image: fsdam/test_set/test/1047_00011.png, size: (1280, 720)\n",
      "INFO:__main__:Trying prompt 1 for image 10: 'Describe the scene, the driver's current gaze, and where that gaze will likely shift next and why.'\n",
      "INFO:__main__:Trying prompt 2 for image 10: 'Question: What do you see in this driving scene? Answer:'\n",
      "INFO:__main__:SUCCESS with fallback prompt 1: A car, a pedestrian and a traffic light\n",
      "INFO:__main__:Processing image 11/81: fsdam/test_set/test/1051_00143.png\n",
      "INFO:__main__:Loaded image: fsdam/test_set/test/1051_00143.png, size: (1280, 720)\n",
      "INFO:__main__:Trying prompt 1 for image 11: 'Describe the scene, the driver's current gaze, and where that gaze will likely shift next and why.'\n",
      "INFO:__main__:Trying prompt 2 for image 11: 'Question: What do you see in this driving scene? Answer:'\n",
      "INFO:__main__:SUCCESS with fallback prompt 1: The car driving in the left lane is stopped at an intersection.\n",
      "INFO:__main__:Processing image 12/81: fsdam/test_set/test/1054_00005.png\n",
      "INFO:__main__:Loaded image: fsdam/test_set/test/1054_00005.png, size: (1280, 720)\n",
      "INFO:__main__:Trying prompt 1 for image 12: 'Describe the scene, the driver's current gaze, and where that gaze will likely shift next and why.'\n",
      "INFO:__main__:Trying prompt 2 for image 12: 'Question: What do you see in this driving scene? Answer:'\n",
      "INFO:__main__:SUCCESS with fallback prompt 1: A car, a street and a train\n",
      "INFO:__main__:Processing image 13/81: fsdam/test_set/test/1054_00172.png\n",
      "INFO:__main__:Loaded image: fsdam/test_set/test/1054_00172.png, size: (1280, 720)\n",
      "INFO:__main__:Trying prompt 1 for image 13: 'Describe the scene, the driver's current gaze, and where that gaze will likely shift next and why.'\n",
      "INFO:__main__:Trying prompt 2 for image 13: 'Question: What do you see in this driving scene? Answer:'\n",
      "INFO:__main__:SUCCESS with fallback prompt 1: A car, a pedestrian and an intersection\n",
      "INFO:__main__:Processing image 14/81: fsdam/test_set/test/1060_00104.png\n",
      "INFO:__main__:Loaded image: fsdam/test_set/test/1060_00104.png, size: (1280, 720)\n",
      "INFO:__main__:Trying prompt 1 for image 14: 'Describe the scene, the driver's current gaze, and where that gaze will likely shift next and why.'\n",
      "INFO:__main__:Trying prompt 2 for image 14: 'Question: What do you see in this driving scene? Answer:'\n",
      "INFO:__main__:SUCCESS with fallback prompt 1: A street with cars parked on both sides\n",
      "INFO:__main__:Processing image 15/81: fsdam/test_set/test/1072_00093.png\n",
      "INFO:__main__:Loaded image: fsdam/test_set/test/1072_00093.png, size: (1280, 720)\n",
      "INFO:__main__:Trying prompt 1 for image 15: 'Describe the scene, the driver's current gaze, and where that gaze will likely shift next and why.'\n",
      "INFO:__main__:Trying prompt 2 for image 15: 'Question: What do you see in this driving scene? Answer:'\n",
      "INFO:__main__:SUCCESS with fallback prompt 1: A car, a truck and a bus\n",
      "INFO:__main__:Processing image 16/81: fsdam/test_set/test/1078_00005.png\n",
      "INFO:__main__:Loaded image: fsdam/test_set/test/1078_00005.png, size: (1280, 720)\n",
      "INFO:__main__:Trying prompt 1 for image 16: 'Describe the scene, the driver's current gaze, and where that gaze will likely shift next and why.'\n",
      "INFO:__main__:Trying prompt 2 for image 16: 'Question: What do you see in this driving scene? Answer:'\n",
      "INFO:__main__:SUCCESS with fallback prompt 1: A car, a truck and an overpass\n",
      "INFO:__main__:Processing image 17/81: fsdam/test_set/test/1078_00155.png\n",
      "INFO:__main__:Loaded image: fsdam/test_set/test/1078_00155.png, size: (1280, 720)\n",
      "INFO:__main__:Trying prompt 1 for image 17: 'Describe the scene, the driver's current gaze, and where that gaze will likely shift next and why.'\n",
      "INFO:__main__:SUCCESS with main prompt: (hint: the driver's gaze is most likely to be on the horizon and/or a road, the rearview camera)\n",
      "INFO:__main__:Processing image 18/81: fsdam/test_set/test/1086_00109.png\n",
      "INFO:__main__:Loaded image: fsdam/test_set/test/1086_00109.png, size: (1280, 720)\n",
      "INFO:__main__:Trying prompt 1 for image 18: 'Describe the scene, the driver's current gaze, and where that gaze will likely shift next and why.'\n",
      "INFO:__main__:Trying prompt 2 for image 18: 'Question: What do you see in this driving scene? Answer:'\n",
      "INFO:__main__:SUCCESS with fallback prompt 1: A car, a truck and a bus\n",
      "INFO:__main__:Processing image 19/81: fsdam/test_set/test/1087_00482.png\n",
      "INFO:__main__:Loaded image: fsdam/test_set/test/1087_00482.png, size: (1280, 720)\n",
      "INFO:__main__:Trying prompt 1 for image 19: 'Describe the scene, the driver's current gaze, and where that gaze will likely shift next and why.'\n",
      "INFO:__main__:Trying prompt 2 for image 19: 'Question: What do you see in this driving scene? Answer:'\n",
      "INFO:__main__:SUCCESS with fallback prompt 1: A person walking across the street\n",
      "INFO:__main__:Processing image 20/81: fsdam/test_set/test/108_00113.png\n",
      "INFO:__main__:Loaded image: fsdam/test_set/test/108_00113.png, size: (1280, 720)\n",
      "INFO:__main__:Trying prompt 1 for image 20: 'Describe the scene, the driver's current gaze, and where that gaze will likely shift next and why.'\n",
      "INFO:__main__:Trying prompt 2 for image 20: 'Question: What do you see in this driving scene? Answer:'\n",
      "INFO:__main__:SUCCESS with fallback prompt 1: A car, a truck and an intersection\n",
      "INFO:__main__:Processing image 21/81: fsdam/test_set/test/1114_00066.png\n",
      "INFO:__main__:Loaded image: fsdam/test_set/test/1114_00066.png, size: (1280, 720)\n",
      "INFO:__main__:Trying prompt 1 for image 21: 'Describe the scene, the driver's current gaze, and where that gaze will likely shift next and why.'\n",
      "INFO:__main__:Trying prompt 2 for image 21: 'Question: What do you see in this driving scene? Answer:'\n",
      "INFO:__main__:SUCCESS with fallback prompt 1: a car, a tree and a street\n",
      "INFO:__main__:Processing image 22/81: fsdam/test_set/test/1122_00207.png\n",
      "INFO:__main__:Loaded image: fsdam/test_set/test/1122_00207.png, size: (1280, 720)\n",
      "INFO:__main__:Trying prompt 1 for image 22: 'Describe the scene, the driver's current gaze, and where that gaze will likely shift next and why.'\n",
      "INFO:__main__:Trying prompt 2 for image 22: 'Question: What do you see in this driving scene? Answer:'\n",
      "INFO:__main__:SUCCESS with fallback prompt 1: A stop sign\n",
      "INFO:__main__:Processing image 23/81: fsdam/test_set/test/1123_00171.png\n",
      "INFO:__main__:Loaded image: fsdam/test_set/test/1123_00171.png, size: (1280, 720)\n",
      "INFO:__main__:Trying prompt 1 for image 23: 'Describe the scene, the driver's current gaze, and where that gaze will likely shift next and why.'\n",
      "INFO:__main__:SUCCESS with main prompt: This was the first test in a long series meant to study how drivers and pedestrians interact on city\n",
      "INFO:__main__:Processing image 24/81: fsdam/test_set/test/1125_00312.png\n",
      "INFO:__main__:Loaded image: fsdam/test_set/test/1125_00312.png, size: (1280, 720)\n",
      "INFO:__main__:Trying prompt 1 for image 24: 'Describe the scene, the driver's current gaze, and where that gaze will likely shift next and why.'\n",
      "INFO:__main__:Trying prompt 2 for image 24: 'Question: What do you see in this driving scene? Answer:'\n",
      "INFO:__main__:SUCCESS with fallback prompt 1: What do you see?\n",
      "INFO:__main__:Processing image 25/81: fsdam/test_set/test/112_00138.png\n",
      "INFO:__main__:Loaded image: fsdam/test_set/test/112_00138.png, size: (1280, 720)\n",
      "INFO:__main__:Trying prompt 1 for image 25: 'Describe the scene, the driver's current gaze, and where that gaze will likely shift next and why.'\n",
      "INFO:__main__:SUCCESS with main prompt: Describe both the vehicle, the people, how they interact and other environmental factors (such as li\n",
      "INFO:__main__:Processing image 26/81: fsdam/test_set/test/112_00278.png\n",
      "INFO:__main__:Loaded image: fsdam/test_set/test/112_00278.png, size: (1280, 720)\n",
      "INFO:__main__:Trying prompt 1 for image 26: 'Describe the scene, the driver's current gaze, and where that gaze will likely shift next and why.'\n",
      "INFO:__main__:Trying prompt 2 for image 26: 'Question: What do you see in this driving scene? Answer:'\n",
      "INFO:__main__:SUCCESS with fallback prompt 1: a street with cars, buildings and trees\n",
      "INFO:__main__:Processing image 27/81: fsdam/test_set/test/1132_00247.png\n",
      "INFO:__main__:Loaded image: fsdam/test_set/test/1132_00247.png, size: (1280, 720)\n",
      "INFO:__main__:Trying prompt 1 for image 27: 'Describe the scene, the driver's current gaze, and where that gaze will likely shift next and why.'\n",
      "INFO:__main__:Trying prompt 2 for image 27: 'Question: What do you see in this driving scene? Answer:'\n",
      "INFO:__main__:SUCCESS with fallback prompt 1: a car, a person and a building\n",
      "INFO:__main__:Processing image 28/81: fsdam/test_set/test/1137_00245.png\n",
      "INFO:__main__:Loaded image: fsdam/test_set/test/1137_00245.png, size: (1280, 720)\n",
      "INFO:__main__:Trying prompt 1 for image 28: 'Describe the scene, the driver's current gaze, and where that gaze will likely shift next and why.'\n",
      "INFO:__main__:Trying prompt 2 for image 28: 'Question: What do you see in this driving scene? Answer:'\n",
      "INFO:__main__:SUCCESS with fallback prompt 1: A car, a bike and a pedestrian\n",
      "INFO:__main__:Processing image 29/81: fsdam/test_set/test/1138_00081.png\n",
      "INFO:__main__:Loaded image: fsdam/test_set/test/1138_00081.png, size: (1280, 720)\n",
      "INFO:__main__:Trying prompt 1 for image 29: 'Describe the scene, the driver's current gaze, and where that gaze will likely shift next and why.'\n",
      "INFO:__main__:Trying prompt 2 for image 29: 'Question: What do you see in this driving scene? Answer:'\n",
      "INFO:__main__:SUCCESS with fallback prompt 1: A car, a bike and a pedestrian\n",
      "INFO:__main__:Processing image 30/81: fsdam/test_set/test/1141_00056.png\n",
      "INFO:__main__:Loaded image: fsdam/test_set/test/1141_00056.png, size: (1280, 720)\n",
      "INFO:__main__:Trying prompt 1 for image 30: 'Describe the scene, the driver's current gaze, and where that gaze will likely shift next and why.'\n",
      "INFO:__main__:SUCCESS with main prompt: Describe the scene\n",
      "INFO:__main__:Processing image 31/81: fsdam/test_set/test/1146_00099.png\n",
      "INFO:__main__:Loaded image: fsdam/test_set/test/1146_00099.png, size: (1280, 720)\n",
      "INFO:__main__:Trying prompt 1 for image 31: 'Describe the scene, the driver's current gaze, and where that gaze will likely shift next and why.'\n",
      "INFO:__main__:Trying prompt 2 for image 31: 'Question: What do you see in this driving scene? Answer:'\n",
      "INFO:__main__:SUCCESS with fallback prompt 1: A car, a bike and a pedestrian\n",
      "INFO:__main__:Processing image 32/81: fsdam/test_set/test/1151_00193.png\n",
      "INFO:__main__:Loaded image: fsdam/test_set/test/1151_00193.png, size: (1280, 720)\n",
      "INFO:__main__:Trying prompt 1 for image 32: 'Describe the scene, the driver's current gaze, and where that gaze will likely shift next and why.'\n",
      "INFO:__main__:Trying prompt 2 for image 32: 'Question: What do you see in this driving scene? Answer:'\n",
      "INFO:__main__:SUCCESS with fallback prompt 1: A car, a bike and a pedestrian\n",
      "INFO:__main__:Processing image 33/81: fsdam/test_set/test/115_00168.png\n",
      "INFO:__main__:Loaded image: fsdam/test_set/test/115_00168.png, size: (1280, 720)\n",
      "INFO:__main__:Trying prompt 1 for image 33: 'Describe the scene, the driver's current gaze, and where that gaze will likely shift next and why.'\n",
      "INFO:__main__:Trying prompt 2 for image 33: 'Question: What do you see in this driving scene? Answer:'\n",
      "INFO:__main__:SUCCESS with fallback prompt 1: A stop sign\n",
      "INFO:__main__:Processing image 34/81: fsdam/test_set/test/1165_00111.png\n",
      "INFO:__main__:Loaded image: fsdam/test_set/test/1165_00111.png, size: (1280, 720)\n",
      "INFO:__main__:Trying prompt 1 for image 34: 'Describe the scene, the driver's current gaze, and where that gaze will likely shift next and why.'\n",
      "INFO:__main__:Trying prompt 2 for image 34: 'Question: What do you see in this driving scene? Answer:'\n",
      "INFO:__main__:SUCCESS with fallback prompt 1: A lot of cars, a lot of traffic and a lot of pedestrians\n",
      "INFO:__main__:Processing image 35/81: fsdam/test_set/test/1167_00169.png\n",
      "INFO:__main__:Loaded image: fsdam/test_set/test/1167_00169.png, size: (1280, 720)\n",
      "INFO:__main__:Trying prompt 1 for image 35: 'Describe the scene, the driver's current gaze, and where that gaze will likely shift next and why.'\n",
      "INFO:__main__:Trying prompt 2 for image 35: 'Question: What do you see in this driving scene? Answer:'\n",
      "INFO:__main__:SUCCESS with fallback prompt 1: stop sign\n",
      "INFO:__main__:Processing image 36/81: fsdam/test_set/test/116_00263.png\n",
      "INFO:__main__:Loaded image: fsdam/test_set/test/116_00263.png, size: (1280, 720)\n",
      "INFO:__main__:Trying prompt 1 for image 36: 'Describe the scene, the driver's current gaze, and where that gaze will likely shift next and why.'\n",
      "INFO:__main__:Trying prompt 2 for image 36: 'Question: What do you see in this driving scene? Answer:'\n",
      "INFO:__main__:SUCCESS with fallback prompt 1: Two buses\n",
      "INFO:__main__:Processing image 37/81: fsdam/test_set/test/1180_00007.png\n",
      "INFO:__main__:Loaded image: fsdam/test_set/test/1180_00007.png, size: (1280, 720)\n",
      "INFO:__main__:Trying prompt 1 for image 37: 'Describe the scene, the driver's current gaze, and where that gaze will likely shift next and why.'\n",
      "INFO:__main__:Trying prompt 2 for image 37: 'Question: What do you see in this driving scene? Answer:'\n",
      "INFO:__main__:SUCCESS with fallback prompt 1: A car, a bus and an electric pole\n",
      "INFO:__main__:Processing image 38/81: fsdam/test_set/test/1180_00150.png\n",
      "INFO:__main__:Loaded image: fsdam/test_set/test/1180_00150.png, size: (1280, 720)\n",
      "INFO:__main__:Trying prompt 1 for image 38: 'Describe the scene, the driver's current gaze, and where that gaze will likely shift next and why.'\n",
      "INFO:__main__:Trying prompt 2 for image 38: 'Question: What do you see in this driving scene? Answer:'\n",
      "INFO:__main__:SUCCESS with fallback prompt 1: A bus, a car and a pedestrian\n",
      "INFO:__main__:Processing image 39/81: fsdam/test_set/test/1191_00079.png\n",
      "INFO:__main__:Loaded image: fsdam/test_set/test/1191_00079.png, size: (1280, 720)\n",
      "INFO:__main__:Trying prompt 1 for image 39: 'Describe the scene, the driver's current gaze, and where that gaze will likely shift next and why.'\n",
      "INFO:__main__:Trying prompt 2 for image 39: 'Question: What do you see in this driving scene? Answer:'\n",
      "INFO:__main__:Trying prompt 3 for image 39: 'Describe this driving scene:'\n",
      "INFO:__main__:SUCCESS with fallback prompt 2: a car is on the street at night\n",
      "INFO:__main__:Processing image 40/81: fsdam/test_set/test/1203_00057.png\n",
      "INFO:__main__:Loaded image: fsdam/test_set/test/1203_00057.png, size: (1280, 720)\n",
      "INFO:__main__:Trying prompt 1 for image 40: 'Describe the scene, the driver's current gaze, and where that gaze will likely shift next and why.'\n",
      "INFO:__main__:SUCCESS with main prompt: Describe at least in one word what is happening.\n",
      "INFO:__main__:Processing image 41/81: fsdam/test_set/test/1203_00197.png\n",
      "INFO:__main__:Loaded image: fsdam/test_set/test/1203_00197.png, size: (1280, 720)\n",
      "INFO:__main__:Trying prompt 1 for image 41: 'Describe the scene, the driver's current gaze, and where that gaze will likely shift next and why.'\n",
      "INFO:__main__:Trying prompt 2 for image 41: 'Question: What do you see in this driving scene? Answer:'\n",
      "INFO:__main__:SUCCESS with fallback prompt 1: A street with parked cars, a few houses and a lot of trees\n",
      "INFO:__main__:Processing image 42/81: fsdam/test_set/test/1213_00131.png\n",
      "INFO:__main__:Loaded image: fsdam/test_set/test/1213_00131.png, size: (1280, 720)\n",
      "INFO:__main__:Trying prompt 1 for image 42: 'Describe the scene, the driver's current gaze, and where that gaze will likely shift next and why.'\n",
      "INFO:__main__:Trying prompt 2 for image 42: 'Question: What do you see in this driving scene? Answer:'\n",
      "INFO:__main__:SUCCESS with fallback prompt 1: a school bus\n",
      "INFO:__main__:Processing image 43/81: fsdam/test_set/test/1215_00018.png\n",
      "INFO:__main__:Loaded image: fsdam/test_set/test/1215_00018.png, size: (1280, 720)\n",
      "INFO:__main__:Trying prompt 1 for image 43: 'Describe the scene, the driver's current gaze, and where that gaze will likely shift next and why.'\n",
      "INFO:__main__:SUCCESS with main prompt: How does the driver look at the person he or she believes is not worth noticing and does not deserve\n",
      "INFO:__main__:Processing image 44/81: fsdam/test_set/test/1216_00346.png\n",
      "INFO:__main__:Loaded image: fsdam/test_set/test/1216_00346.png, size: (1280, 720)\n",
      "INFO:__main__:Trying prompt 1 for image 44: 'Describe the scene, the driver's current gaze, and where that gaze will likely shift next and why.'\n",
      "INFO:__main__:SUCCESS with main prompt: https //www-prod-ssl-de/excerpts-of-text/describe-the-scene-the-drivers-current-gaze-and-where-thats\n",
      "INFO:__main__:Processing image 45/81: fsdam/test_set/test/121_00085.png\n",
      "INFO:__main__:Loaded image: fsdam/test_set/test/121_00085.png, size: (1280, 720)\n",
      "INFO:__main__:Trying prompt 1 for image 45: 'Describe the scene, the driver's current gaze, and where that gaze will likely shift next and why.'\n",
      "INFO:__main__:Trying prompt 2 for image 45: 'Question: What do you see in this driving scene? Answer:'\n",
      "INFO:__main__:SUCCESS with fallback prompt 1: A lot of cars, a lot of trucks and a lot of traffic\n",
      "INFO:__main__:Processing image 46/81: fsdam/test_set/test/121_00256.png\n",
      "INFO:__main__:Loaded image: fsdam/test_set/test/121_00256.png, size: (1280, 720)\n",
      "INFO:__main__:Trying prompt 1 for image 46: 'Describe the scene, the driver's current gaze, and where that gaze will likely shift next and why.'\n",
      "INFO:__main__:SUCCESS with main prompt: You might suggest that they try to find a place to park their car in the next block as the way home \n",
      "INFO:__main__:Processing image 47/81: fsdam/test_set/test/1249_00159.png\n",
      "INFO:__main__:Loaded image: fsdam/test_set/test/1249_00159.png, size: (1280, 720)\n",
      "INFO:__main__:Trying prompt 1 for image 47: 'Describe the scene, the driver's current gaze, and where that gaze will likely shift next and why.'\n",
      "INFO:__main__:Trying prompt 2 for image 47: 'Question: What do you see in this driving scene? Answer:'\n",
      "INFO:__main__:SUCCESS with fallback prompt 1: A car, a bike and a pedestrian\n",
      "INFO:__main__:Processing image 48/81: fsdam/test_set/test/1250_00133.png\n",
      "INFO:__main__:Loaded image: fsdam/test_set/test/1250_00133.png, size: (1280, 720)\n",
      "INFO:__main__:Trying prompt 1 for image 48: 'Describe the scene, the driver's current gaze, and where that gaze will likely shift next and why.'\n",
      "INFO:__main__:Trying prompt 2 for image 48: 'Question: What do you see in this driving scene? Answer:'\n",
      "INFO:__main__:SUCCESS with fallback prompt 1: The sun\n",
      "INFO:__main__:Processing image 49/81: fsdam/test_set/test/1251_00049.png\n",
      "INFO:__main__:Loaded image: fsdam/test_set/test/1251_00049.png, size: (1280, 720)\n",
      "INFO:__main__:Trying prompt 1 for image 49: 'Describe the scene, the driver's current gaze, and where that gaze will likely shift next and why.'\n",
      "INFO:__main__:SUCCESS with main prompt: Describe the scene.\n",
      "INFO:__main__:Processing image 50/81: fsdam/test_set/test/1257_00152.png\n",
      "INFO:__main__:Loaded image: fsdam/test_set/test/1257_00152.png, size: (1280, 720)\n",
      "INFO:__main__:Trying prompt 1 for image 50: 'Describe the scene, the driver's current gaze, and where that gaze will likely shift next and why.'\n",
      "INFO:__main__:SUCCESS with main prompt: What's the most likely direction that a driver's gaze will move next? What is the most likely direct\n",
      "INFO:__main__:Processing image 51/81: fsdam/test_set/test/1261_00188.png\n",
      "INFO:__main__:Loaded image: fsdam/test_set/test/1261_00188.png, size: (1280, 720)\n",
      "INFO:__main__:Trying prompt 1 for image 51: 'Describe the scene, the driver's current gaze, and where that gaze will likely shift next and why.'\n",
      "INFO:__main__:Trying prompt 2 for image 51: 'Question: What do you see in this driving scene? Answer:'\n",
      "INFO:__main__:SUCCESS with fallback prompt 1: A bus driving down a street\n",
      "INFO:__main__:Processing image 52/81: fsdam/test_set/test/1266_00123.png\n",
      "INFO:__main__:Loaded image: fsdam/test_set/test/1266_00123.png, size: (1280, 720)\n",
      "INFO:__main__:Trying prompt 1 for image 52: 'Describe the scene, the driver's current gaze, and where that gaze will likely shift next and why.'\n",
      "INFO:__main__:Trying prompt 2 for image 52: 'Question: What do you see in this driving scene? Answer:'\n",
      "INFO:__main__:SUCCESS with fallback prompt 1: The city of san francisco\n",
      "INFO:__main__:Processing image 53/81: fsdam/test_set/test/128_00159.png\n",
      "INFO:__main__:Loaded image: fsdam/test_set/test/128_00159.png, size: (1280, 720)\n",
      "INFO:__main__:Trying prompt 1 for image 53: 'Describe the scene, the driver's current gaze, and where that gaze will likely shift next and why.'\n",
      "INFO:__main__:Trying prompt 2 for image 53: 'Question: What do you see in this driving scene? Answer:'\n",
      "INFO:__main__:SUCCESS with fallback prompt 1: A car, a bike and a streetcar\n",
      "INFO:__main__:Processing image 54/81: fsdam/test_set/test/128_00215.png\n",
      "INFO:__main__:Loaded image: fsdam/test_set/test/128_00215.png, size: (1280, 720)\n",
      "INFO:__main__:Trying prompt 1 for image 54: 'Describe the scene, the driver's current gaze, and where that gaze will likely shift next and why.'\n",
      "INFO:__main__:SUCCESS with main prompt: youtube music video stop by nikko vitturi – youtube\n",
      "INFO:__main__:Processing image 55/81: fsdam/test_set/test/1300_00162.png\n",
      "INFO:__main__:Loaded image: fsdam/test_set/test/1300_00162.png, size: (1280, 720)\n",
      "INFO:__main__:Trying prompt 1 for image 55: 'Describe the scene, the driver's current gaze, and where that gaze will likely shift next and why.'\n",
      "INFO:__main__:Trying prompt 2 for image 55: 'Question: What do you see in this driving scene? Answer:'\n",
      "INFO:__main__:SUCCESS with fallback prompt 1: A car, a bike and a pedestrian\n",
      "INFO:__main__:Processing image 56/81: fsdam/test_set/test/1307_00069.png\n",
      "INFO:__main__:Loaded image: fsdam/test_set/test/1307_00069.png, size: (1280, 720)\n",
      "INFO:__main__:Trying prompt 1 for image 56: 'Describe the scene, the driver's current gaze, and where that gaze will likely shift next and why.'\n",
      "INFO:__main__:Trying prompt 2 for image 56: 'Question: What do you see in this driving scene? Answer:'\n",
      "INFO:__main__:SUCCESS with fallback prompt 1: a car, a truck and an SUV\n",
      "INFO:__main__:Processing image 57/81: fsdam/test_set/test/132_00152.png\n",
      "INFO:__main__:Loaded image: fsdam/test_set/test/132_00152.png, size: (1280, 720)\n",
      "INFO:__main__:Trying prompt 1 for image 57: 'Describe the scene, the driver's current gaze, and where that gaze will likely shift next and why.'\n",
      "INFO:__main__:Trying prompt 2 for image 57: 'Question: What do you see in this driving scene? Answer:'\n",
      "INFO:__main__:SUCCESS with fallback prompt 1: A car, a truck and a motorcycle\n",
      "INFO:__main__:Processing image 58/81: fsdam/test_set/test/1336_00153.png\n",
      "INFO:__main__:Loaded image: fsdam/test_set/test/1336_00153.png, size: (1280, 720)\n",
      "INFO:__main__:Trying prompt 1 for image 58: 'Describe the scene, the driver's current gaze, and where that gaze will likely shift next and why.'\n",
      "INFO:__main__:SUCCESS with main prompt: Use specific details and your own description to convey to the camera what's going on in the scene.\n",
      "INFO:__main__:Processing image 59/81: fsdam/test_set/test/1355_00105.png\n",
      "INFO:__main__:Loaded image: fsdam/test_set/test/1355_00105.png, size: (1280, 720)\n",
      "INFO:__main__:Trying prompt 1 for image 59: 'Describe the scene, the driver's current gaze, and where that gaze will likely shift next and why.'\n",
      "INFO:__main__:Trying prompt 2 for image 59: 'Question: What do you see in this driving scene? Answer:'\n",
      "INFO:__main__:SUCCESS with fallback prompt 1: A car, a pedestrian and a cyclist\n",
      "INFO:__main__:Processing image 60/81: fsdam/test_set/test/1358_00053.png\n",
      "INFO:__main__:Loaded image: fsdam/test_set/test/1358_00053.png, size: (1280, 720)\n",
      "INFO:__main__:Trying prompt 1 for image 60: 'Describe the scene, the driver's current gaze, and where that gaze will likely shift next and why.'\n",
      "INFO:__main__:Trying prompt 2 for image 60: 'Question: What do you see in this driving scene? Answer:'\n",
      "INFO:__main__:SUCCESS with fallback prompt 1: A car, a bike and a person\n",
      "INFO:__main__:Processing image 61/81: fsdam/test_set/test/135_00092.png\n",
      "INFO:__main__:Loaded image: fsdam/test_set/test/135_00092.png, size: (1280, 720)\n",
      "INFO:__main__:Trying prompt 1 for image 61: 'Describe the scene, the driver's current gaze, and where that gaze will likely shift next and why.'\n",
      "INFO:__main__:Trying prompt 2 for image 61: 'Question: What do you see in this driving scene? Answer:'\n",
      "INFO:__main__:SUCCESS with fallback prompt 1: A cable car\n",
      "INFO:__main__:Processing image 62/81: fsdam/test_set/test/135_00216.png\n",
      "INFO:__main__:Loaded image: fsdam/test_set/test/135_00216.png, size: (1280, 720)\n",
      "INFO:__main__:Trying prompt 1 for image 62: 'Describe the scene, the driver's current gaze, and where that gaze will likely shift next and why.'\n",
      "INFO:__main__:Trying prompt 2 for image 62: 'Question: What do you see in this driving scene? Answer:'\n",
      "INFO:__main__:SUCCESS with fallback prompt 1: A cable car\n",
      "INFO:__main__:Processing image 63/81: fsdam/test_set/test/1368_00005.png\n",
      "INFO:__main__:Loaded image: fsdam/test_set/test/1368_00005.png, size: (1280, 720)\n",
      "INFO:__main__:Trying prompt 1 for image 63: 'Describe the scene, the driver's current gaze, and where that gaze will likely shift next and why.'\n",
      "INFO:__main__:SUCCESS with main prompt: Include a time stamp\n",
      "INFO:__main__:Processing image 64/81: fsdam/test_set/test/1374_00009.png\n",
      "INFO:__main__:Loaded image: fsdam/test_set/test/1374_00009.png, size: (1280, 720)\n",
      "INFO:__main__:Trying prompt 1 for image 64: 'Describe the scene, the driver's current gaze, and where that gaze will likely shift next and why.'\n",
      "INFO:__main__:Trying prompt 2 for image 64: 'Question: What do you see in this driving scene? Answer:'\n",
      "INFO:__main__:SUCCESS with fallback prompt 1: A car, a pedestrian and a traffic light\n",
      "INFO:__main__:Processing image 65/81: fsdam/test_set/test/1378_00064.png\n",
      "INFO:__main__:Loaded image: fsdam/test_set/test/1378_00064.png, size: (1280, 720)\n",
      "INFO:__main__:Trying prompt 1 for image 65: 'Describe the scene, the driver's current gaze, and where that gaze will likely shift next and why.'\n",
      "INFO:__main__:Trying prompt 2 for image 65: 'Question: What do you see in this driving scene? Answer:'\n",
      "INFO:__main__:SUCCESS with fallback prompt 1: A car, a building and a street\n",
      "INFO:__main__:Processing image 66/81: fsdam/test_set/test/1386_00222.png\n",
      "INFO:__main__:Loaded image: fsdam/test_set/test/1386_00222.png, size: (1280, 720)\n",
      "INFO:__main__:Trying prompt 1 for image 66: 'Describe the scene, the driver's current gaze, and where that gaze will likely shift next and why.'\n",
      "INFO:__main__:SUCCESS with main prompt: What's the next step\n",
      "INFO:__main__:Processing image 67/81: fsdam/test_set/test/138_00005.png\n",
      "INFO:__main__:Loaded image: fsdam/test_set/test/138_00005.png, size: (1280, 720)\n",
      "INFO:__main__:Trying prompt 1 for image 67: 'Describe the scene, the driver's current gaze, and where that gaze will likely shift next and why.'\n",
      "INFO:__main__:Trying prompt 2 for image 67: 'Question: What do you see in this driving scene? Answer:'\n",
      "INFO:__main__:SUCCESS with fallback prompt 1: a street with cars parked on it\n",
      "INFO:__main__:Processing image 68/81: fsdam/test_set/test/138_00074.png\n",
      "INFO:__main__:Loaded image: fsdam/test_set/test/138_00074.png, size: (1280, 720)\n",
      "INFO:__main__:Trying prompt 1 for image 68: 'Describe the scene, the driver's current gaze, and where that gaze will likely shift next and why.'\n",
      "INFO:__main__:SUCCESS with main prompt: Note that we can also view the traffic light change just before the camera snaps this picture\n",
      "INFO:__main__:Processing image 69/81: fsdam/test_set/test/1390_00211.png\n",
      "INFO:__main__:Loaded image: fsdam/test_set/test/1390_00211.png, size: (1280, 720)\n",
      "INFO:__main__:Trying prompt 1 for image 69: 'Describe the scene, the driver's current gaze, and where that gaze will likely shift next and why.'\n",
      "INFO:__main__:Trying prompt 2 for image 69: 'Question: What do you see in this driving scene? Answer:'\n",
      "INFO:__main__:SUCCESS with fallback prompt 1: A street with a lot of parked cars\n",
      "INFO:__main__:Processing image 70/81: fsdam/test_set/test/1402_00128.png\n",
      "INFO:__main__:Loaded image: fsdam/test_set/test/1402_00128.png, size: (1280, 720)\n",
      "INFO:__main__:Trying prompt 1 for image 70: 'Describe the scene, the driver's current gaze, and where that gaze will likely shift next and why.'\n",
      "INFO:__main__:Trying prompt 2 for image 70: 'Question: What do you see in this driving scene? Answer:'\n",
      "INFO:__main__:SUCCESS with fallback prompt 1: a car, a bike and a pedestrian\n",
      "INFO:__main__:Processing image 71/81: fsdam/test_set/test/1402_00350.png\n",
      "INFO:__main__:Loaded image: fsdam/test_set/test/1402_00350.png, size: (1280, 720)\n",
      "INFO:__main__:Trying prompt 1 for image 71: 'Describe the scene, the driver's current gaze, and where that gaze will likely shift next and why.'\n",
      "INFO:__main__:Trying prompt 2 for image 71: 'Question: What do you see in this driving scene? Answer:'\n",
      "INFO:__main__:SUCCESS with fallback prompt 1: A car, a truck and an SUV\n",
      "INFO:__main__:Processing image 72/81: fsdam/test_set/test/1403_00122.png\n",
      "INFO:__main__:Loaded image: fsdam/test_set/test/1403_00122.png, size: (1280, 720)\n",
      "INFO:__main__:Trying prompt 1 for image 72: 'Describe the scene, the driver's current gaze, and where that gaze will likely shift next and why.'\n",
      "INFO:__main__:Trying prompt 2 for image 72: 'Question: What do you see in this driving scene? Answer:'\n",
      "INFO:__main__:SUCCESS with fallback prompt 1: A car, a street and a building\n",
      "INFO:__main__:Processing image 73/81: fsdam/test_set/test/1404_00129.png\n",
      "INFO:__main__:Loaded image: fsdam/test_set/test/1404_00129.png, size: (1280, 720)\n",
      "INFO:__main__:Trying prompt 1 for image 73: 'Describe the scene, the driver's current gaze, and where that gaze will likely shift next and why.'\n",
      "INFO:__main__:Trying prompt 2 for image 73: 'Question: What do you see in this driving scene? Answer:'\n",
      "INFO:__main__:SUCCESS with fallback prompt 1: A car, a bus and a tram\n",
      "INFO:__main__:Processing image 74/81: fsdam/test_set/test/1405_00109.png\n",
      "INFO:__main__:Loaded image: fsdam/test_set/test/1405_00109.png, size: (1280, 720)\n",
      "INFO:__main__:Trying prompt 1 for image 74: 'Describe the scene, the driver's current gaze, and where that gaze will likely shift next and why.'\n",
      "INFO:__main__:Trying prompt 2 for image 74: 'Question: What do you see in this driving scene? Answer:'\n",
      "INFO:__main__:SUCCESS with fallback prompt 1: A car, a bike and a streetcar\n",
      "INFO:__main__:Processing image 75/81: fsdam/test_set/test/1406_00285.png\n",
      "INFO:__main__:Loaded image: fsdam/test_set/test/1406_00285.png, size: (1280, 720)\n",
      "INFO:__main__:Trying prompt 1 for image 75: 'Describe the scene, the driver's current gaze, and where that gaze will likely shift next and why.'\n",
      "INFO:__main__:Trying prompt 2 for image 75: 'Question: What do you see in this driving scene? Answer:'\n",
      "INFO:__main__:SUCCESS with fallback prompt 1: a car, a person and an intersection\n",
      "INFO:__main__:Processing image 76/81: fsdam/test_set/test/1420_00121.png\n",
      "INFO:__main__:Loaded image: fsdam/test_set/test/1420_00121.png, size: (1280, 720)\n",
      "INFO:__main__:Trying prompt 1 for image 76: 'Describe the scene, the driver's current gaze, and where that gaze will likely shift next and why.'\n",
      "INFO:__main__:SUCCESS with main prompt: The most telling visual behavior is the driver's current gaze.\n",
      "INFO:__main__:Processing image 77/81: fsdam/test_set/test/1425_00102.png\n",
      "INFO:__main__:Loaded image: fsdam/test_set/test/1425_00102.png, size: (1280, 720)\n",
      "INFO:__main__:Trying prompt 1 for image 77: 'Describe the scene, the driver's current gaze, and where that gaze will likely shift next and why.'\n",
      "INFO:__main__:Trying prompt 2 for image 77: 'Question: What do you see in this driving scene? Answer:'\n",
      "INFO:__main__:SUCCESS with fallback prompt 1: A stop sign\n",
      "INFO:__main__:Processing image 78/81: fsdam/test_set/test/1425_00230.png\n",
      "INFO:__main__:Loaded image: fsdam/test_set/test/1425_00230.png, size: (1280, 720)\n",
      "INFO:__main__:Trying prompt 1 for image 78: 'Describe the scene, the driver's current gaze, and where that gaze will likely shift next and why.'\n",
      "INFO:__main__:Trying prompt 2 for image 78: 'Question: What do you see in this driving scene? Answer:'\n",
      "INFO:__main__:SUCCESS with fallback prompt 1: An intersection\n",
      "INFO:__main__:Processing image 79/81: fsdam/test_set/test/1436_00095.png\n",
      "INFO:__main__:Loaded image: fsdam/test_set/test/1436_00095.png, size: (1280, 720)\n",
      "INFO:__main__:Trying prompt 1 for image 79: 'Describe the scene, the driver's current gaze, and where that gaze will likely shift next and why.'\n",
      "INFO:__main__:SUCCESS with main prompt: Describe five things you would like to do with the driver before you are pulled over.\n",
      "INFO:__main__:Processing image 80/81: fsdam/test_set/test/1452_00066.png\n",
      "INFO:__main__:Loaded image: fsdam/test_set/test/1452_00066.png, size: (1280, 720)\n",
      "INFO:__main__:Trying prompt 1 for image 80: 'Describe the scene, the driver's current gaze, and where that gaze will likely shift next and why.'\n",
      "INFO:__main__:Trying prompt 2 for image 80: 'Question: What do you see in this driving scene? Answer:'\n",
      "INFO:__main__:SUCCESS with fallback prompt 1: A car, a bus and a taxi\n",
      "INFO:__main__:Processing image 81/81: fsdam/test_set/test/1458_00260.png\n",
      "INFO:__main__:Loaded image: fsdam/test_set/test/1458_00260.png, size: (1280, 720)\n",
      "INFO:__main__:Trying prompt 1 for image 81: 'Describe the scene, the driver's current gaze, and where that gaze will likely shift next and why.'\n",
      "INFO:__main__:SUCCESS with main prompt: See \"describe the scene\" in the left column\n",
      "INFO:__main__:ROUGE score for 1003_00057: 0.1356\n",
      "INFO:__main__:ROUGE score for 1003_00195: 0.0000\n",
      "INFO:__main__:ROUGE score for 1003_00385: 0.0889\n",
      "INFO:__main__:ROUGE score for 1008_00038: 0.1132\n",
      "INFO:__main__:ROUGE score for 1008_00226: 0.2041\n",
      "INFO:__main__:ROUGE score for 100_00266: 0.0784\n",
      "INFO:__main__:ROUGE score for 1013_00063: 0.1471\n",
      "INFO:__main__:ROUGE score for 1026_00266: 0.1290\n",
      "INFO:__main__:ROUGE score for 1038_00138: 0.0625\n",
      "INFO:__main__:ROUGE score for 1047_00011: 0.1569\n",
      "INFO:__main__:ROUGE score for 1051_00143: 0.1053\n",
      "INFO:__main__:ROUGE score for 1054_00005: 0.1200\n",
      "INFO:__main__:ROUGE score for 1054_00172: 0.1224\n",
      "INFO:__main__:ROUGE score for 1060_00104: 0.2222\n",
      "INFO:__main__:ROUGE score for 1072_00093: 0.0896\n",
      "INFO:__main__:ROUGE score for 1078_00005: 0.1034\n",
      "INFO:__main__:ROUGE score for 1078_00155: 0.1846\n",
      "INFO:__main__:ROUGE score for 1086_00109: 0.1053\n",
      "INFO:__main__:ROUGE score for 1087_00482: 0.1034\n",
      "INFO:__main__:ROUGE score for 108_00113: 0.0938\n",
      "INFO:__main__:ROUGE score for 1114_00066: 0.0789\n",
      "INFO:__main__:ROUGE score for 1122_00207: 0.1091\n",
      "INFO:__main__:ROUGE score for 1123_00171: 0.1026\n",
      "INFO:__main__:ROUGE score for 1125_00312: 0.0000\n",
      "INFO:__main__:ROUGE score for 112_00138: 0.0896\n",
      "INFO:__main__:ROUGE score for 112_00278: 0.1224\n",
      "INFO:__main__:ROUGE score for 1132_00247: 0.0938\n",
      "INFO:__main__:ROUGE score for 1137_00245: 0.0690\n",
      "INFO:__main__:ROUGE score for 1138_00081: 0.1224\n",
      "INFO:__main__:ROUGE score for 1141_00056: 0.0678\n",
      "INFO:__main__:ROUGE score for 1146_00099: 0.1538\n",
      "INFO:__main__:ROUGE score for 1151_00193: 0.1000\n",
      "INFO:__main__:ROUGE score for 115_00168: 0.0923\n",
      "INFO:__main__:ROUGE score for 1165_00111: 0.1489\n",
      "INFO:__main__:ROUGE score for 1167_00169: 0.0364\n",
      "INFO:__main__:ROUGE score for 116_00263: 0.0000\n",
      "INFO:__main__:ROUGE score for 1180_00007: 0.0968\n",
      "INFO:__main__:ROUGE score for 1180_00150: 0.1695\n",
      "INFO:__main__:ROUGE score for 1191_00079: 0.1154\n",
      "INFO:__main__:ROUGE score for 1203_00057: 0.0357\n",
      "INFO:__main__:ROUGE score for 1203_00197: 0.2500\n",
      "INFO:__main__:ROUGE score for 1213_00131: 0.1200\n",
      "INFO:__main__:ROUGE score for 1215_00018: 0.1290\n",
      "INFO:__main__:ROUGE score for 1216_00346: 0.2090\n",
      "INFO:__main__:ROUGE score for 121_00085: 0.1311\n",
      "INFO:__main__:ROUGE score for 121_00256: 0.1154\n",
      "INFO:__main__:ROUGE score for 1249_00159: 0.1154\n",
      "INFO:__main__:ROUGE score for 1250_00133: 0.0408\n",
      "INFO:__main__:ROUGE score for 1251_00049: 0.0755\n",
      "INFO:__main__:ROUGE score for 1257_00152: 0.1915\n",
      "INFO:__main__:ROUGE score for 1261_00188: 0.0755\n",
      "INFO:__main__:ROUGE score for 1266_00123: 0.0714\n",
      "INFO:__main__:ROUGE score for 128_00159: 0.1379\n",
      "INFO:__main__:ROUGE score for 128_00215: 0.0000\n",
      "INFO:__main__:ROUGE score for 1300_00162: 0.1000\n",
      "INFO:__main__:ROUGE score for 1307_00069: 0.0667\n",
      "INFO:__main__:ROUGE score for 132_00152: 0.1053\n",
      "INFO:__main__:ROUGE score for 1336_00153: 0.1270\n",
      "INFO:__main__:ROUGE score for 1355_00105: 0.1176\n",
      "INFO:__main__:ROUGE score for 1358_00053: 0.1356\n",
      "INFO:__main__:ROUGE score for 135_00092: 0.0417\n",
      "INFO:__main__:ROUGE score for 135_00216: 0.0392\n",
      "INFO:__main__:ROUGE score for 1368_00005: 0.0385\n",
      "INFO:__main__:ROUGE score for 1374_00009: 0.1481\n",
      "INFO:__main__:ROUGE score for 1378_00064: 0.1071\n",
      "INFO:__main__:ROUGE score for 1386_00222: 0.0364\n",
      "INFO:__main__:ROUGE score for 138_00005: 0.1754\n",
      "INFO:__main__:ROUGE score for 138_00074: 0.0952\n",
      "INFO:__main__:ROUGE score for 1390_00211: 0.2222\n",
      "INFO:__main__:ROUGE score for 1402_00128: 0.0784\n",
      "INFO:__main__:ROUGE score for 1402_00350: 0.1154\n",
      "INFO:__main__:ROUGE score for 1403_00122: 0.1154\n",
      "INFO:__main__:ROUGE score for 1404_00129: 0.1132\n",
      "INFO:__main__:ROUGE score for 1405_00109: 0.1304\n",
      "INFO:__main__:ROUGE score for 1406_00285: 0.1154\n",
      "INFO:__main__:ROUGE score for 1420_00121: 0.1356\n",
      "INFO:__main__:ROUGE score for 1425_00102: 0.1224\n",
      "INFO:__main__:ROUGE score for 1425_00230: 0.0392\n",
      "INFO:__main__:ROUGE score for 1436_00095: 0.0597\n",
      "INFO:__main__:ROUGE score for 1452_00066: 0.1509\n",
      "INFO:__main__:ROUGE score for 1458_00260: 0.1017\n",
      "INFO:__main__:BLIP-2 zero-shot predictions saved to fsdam-s3/logs/blip2_predictions_zero_shot.json\n",
      "INFO:__main__:=== BLIP-2 ZERO-SHOT EVALUATION RESULTS ===\n",
      "INFO:__main__:Average ROUGE-L: 0.1070\n",
      "INFO:__main__:Max ROUGE-L: 0.2500\n",
      "INFO:__main__:Min ROUGE-L: 0.0000\n",
      "INFO:__main__:Number of items with ROUGE scores: 81\n",
      "INFO:__main__:Generated 81 non-empty predictions out of 81 total\n",
      "INFO:__main__:=== SAMPLE BLIP-2 ZERO-SHOT PREDICTIONS ===\n",
      "INFO:__main__:Sample 1:\n",
      "INFO:__main__: Image: fsdam/test_set/test/1003_00057.png\n",
      "INFO:__main__: Prediction: A white car that is parked on the left\n",
      "INFO:__main__: Ground Truth: The scene shows a city street with cars and buildings. The current gaze focuses on the blue car ahead. The future gaze will likely remain on the blue car. This is because the driver needs to maintain \n",
      "INFO:__main__:Sample 2:\n",
      "INFO:__main__: Image: fsdam/test_set/test/1003_00195.png\n",
      "INFO:__main__: Prediction: YouTube\n",
      "INFO:__main__: Ground Truth: The scene shows a city street with cars, buildings, and a KFC. The current gaze is focused on the blue car ahead. The future gaze will likely shift to the red traffic light. This is because the driver\n",
      "INFO:__main__:Sample 3:\n",
      "INFO:__main__: Image: fsdam/test_set/test/1003_00385.png\n",
      "INFO:__main__: Prediction: A car, a pedestrian and an intersection\n",
      "INFO:__main__: Ground Truth: The scene shows a city intersection with traffic and buildings. The current gaze focuses on the red traffic light. The future gaze will likely shift to the green light. This is because the light chang\n",
      "INFO:__main__:BLIP-2 zero-shot evaluation completed. 81 predictions generated.\n",
      "INFO:__main__:Results saved to: fsdam-s3/logs/blip2_predictions_zero_shot.json\n",
      "INFO:__main__:Check logs at: fsdam-s3/logs/blip2_zero_shot_inference.log\n"
     ]
    }
   ],
   "source": [
    "import torch\n",
    "import os\n",
    "import json\n",
    "import numpy as np\n",
    "from PIL import Image\n",
    "from transformers import AutoProcessor, Blip2ForConditionalGeneration, BitsAndBytesConfig\n",
    "from torchmetrics.text import ROUGEScore\n",
    "import logging\n",
    "import gc\n",
    "\n",
    "# Set up logging\n",
    "logging.basicConfig(level=logging.INFO)\n",
    "logger = logging.getLogger(__name__)\n",
    "file_handler = logging.FileHandler(\"fsdam-s3/logs/blip2_zero_shot_inference.log\")\n",
    "file_handler.setLevel(logging.INFO)\n",
    "formatter = logging.Formatter('%(asctime)s - %(name)s - %(levelname)s - %(message)s')\n",
    "file_handler.setFormatter(formatter)\n",
    "logger.addHandler(file_handler)\n",
    "\n",
    "# Define paths and constants\n",
    "MODEL_ID = \"Salesforce/blip2-opt-2.7b\"  # You can also try \"Salesforce/blip2-flan-t5-xl\"\n",
    "TEST_JSON = \"fsdam/test_set/test_llava.json\"\n",
    "TEST_IMAGE_DIR = \"fsdam/test_set/test\"\n",
    "OUTPUT_JSON = \"fsdam-s3/logs/blip2_predictions_zero_shot.json\"\n",
    "LOGS_DIR = \"fsdam-s3/logs\"\n",
    "MAX_NEW_TOKENS = 512\n",
    "\n",
    "# Create logs directory\n",
    "os.makedirs(LOGS_DIR, exist_ok=True)\n",
    "\n",
    "# Load processor and model\n",
    "try:\n",
    "    logger.info(\"Loading BLIP-2 processor...\")\n",
    "    processor = AutoProcessor.from_pretrained(MODEL_ID, use_fast=True)\n",
    "    logger.info(\"Processor loaded successfully\")\n",
    "    \n",
    "    logger.info(\"Loading BLIP-2 model...\")\n",
    "    \n",
    "    # Configure quantization for memory efficiency\n",
    "    bnb_cfg = BitsAndBytesConfig(\n",
    "        load_in_4bit=True,\n",
    "        bnb_4bit_quant_type=\"nf4\",\n",
    "        bnb_4bit_compute_dtype=torch.float16,\n",
    "        bnb_4bit_use_double_quant=True,\n",
    "    )\n",
    "    \n",
    "    model = Blip2ForConditionalGeneration.from_pretrained(\n",
    "        MODEL_ID,\n",
    "        torch_dtype=torch.float16,\n",
    "        quantization_config=bnb_cfg,\n",
    "        device_map=\"auto\"\n",
    "    )\n",
    "    \n",
    "    model.eval()\n",
    "    logger.info(\"BLIP-2 model loaded successfully\")\n",
    "    logger.info(\"Model type: %s\", type(model))\n",
    "    logger.info(\"Number of parameters: %d\", sum(p.numel() for p in model.parameters()))\n",
    "    \n",
    "except Exception as e:\n",
    "    logger.error(\"Error loading BLIP-2 model: %s\", e)\n",
    "    raise e\n",
    "\n",
    "def debug_single_inference(image_path, prompt):\n",
    "    \"\"\"\n",
    "    Debug function to test single image inference with BLIP-2\n",
    "    \"\"\"\n",
    "    logger.info(\"=== DEBUGGING SINGLE BLIP-2 INFERENCE ===\")\n",
    "    logger.info(\"Image path: %s\", image_path)\n",
    "    logger.info(\"Prompt: %s\", prompt)\n",
    "    \n",
    "    try:\n",
    "        # Load and process image\n",
    "        image = Image.open(image_path).convert(\"RGB\")\n",
    "        logger.info(\"Original image size: %s\", image.size)\n",
    "        \n",
    "        # Try different prompt styles for BLIP-2\n",
    "        prompts_to_try = [\n",
    "            prompt,  # Use the same prompt as the main function\n",
    "            \"Question: What do you see in this driving scene? Answer:\",\n",
    "            \"Describe the driving scene:\",\n",
    "            \"What is happening in this image?\",\n",
    "            \"\"  # Empty prompt for unconditional generation\n",
    "        ]\n",
    "        \n",
    "        for i, test_prompt in enumerate(prompts_to_try):\n",
    "            logger.info(\"Trying prompt %d: '%s'\", i+1, test_prompt)\n",
    "            \n",
    "            try:\n",
    "                # Process inputs for BLIP-2\n",
    "                if test_prompt:\n",
    "                    inputs = processor(\n",
    "                        images=image,\n",
    "                        text=test_prompt,\n",
    "                        return_tensors=\"pt\"\n",
    "                    )\n",
    "                else:\n",
    "                    # Unconditional generation (no text prompt)\n",
    "                    inputs = processor(\n",
    "                        images=image,\n",
    "                        return_tensors=\"pt\"\n",
    "                    )\n",
    "                \n",
    "                # Move to device\n",
    "                device = next(model.parameters()).device\n",
    "                inputs = {k: v.to(device) for k, v in inputs.items()}\n",
    "                \n",
    "                logger.info(\"Input shapes:\")\n",
    "                for k, v in inputs.items():\n",
    "                    if hasattr(v, 'shape'):\n",
    "                        logger.info(\"  %s: %s\", k, v.shape)\n",
    "                \n",
    "                # Generate with different strategies\n",
    "                generation_configs = [\n",
    "                    {\n",
    "                        \"max_new_tokens\": MAX_NEW_TOKENS,\n",
    "                        \"do_sample\": False,  # Greedy decoding\n",
    "                        \"repetition_penalty\": 1.1,\n",
    "                        \"no_repeat_ngram_size\": 3\n",
    "                    },\n",
    "                    {\n",
    "                        \"max_new_tokens\": MAX_NEW_TOKENS,\n",
    "                        \"do_sample\": True,\n",
    "                        \"temperature\": 0.7,\n",
    "                        \"top_p\": 0.9,\n",
    "                        \"repetition_penalty\": 1.1\n",
    "                    },\n",
    "                    {\n",
    "                        \"max_new_tokens\": 100,  # Shorter generation\n",
    "                        \"do_sample\": True,\n",
    "                        \"temperature\": 1.0,\n",
    "                        \"top_k\": 50\n",
    "                    }\n",
    "                ]\n",
    "                \n",
    "                for j, gen_config in enumerate(generation_configs):\n",
    "                    logger.info(\"Trying generation config %d: %s\", j+1, gen_config)\n",
    "                    \n",
    "                    try:\n",
    "                        with torch.no_grad():\n",
    "                            outputs = model.generate(**inputs, **gen_config)\n",
    "                        \n",
    "                        logger.info(\"Generation completed. Output shape: %s\", outputs.shape)\n",
    "                        logger.info(\"Input token length: %s\", inputs.get('input_ids', torch.tensor([[]])).shape[1] if 'input_ids' in inputs else 0)\n",
    "                        \n",
    "                        # Decode output\n",
    "                        generated_text = processor.decode(outputs[0], skip_special_tokens=True)\n",
    "                        logger.info(\"Full generated text: '%s'\", generated_text)\n",
    "                        \n",
    "                        # Clean up the output\n",
    "                        if test_prompt and test_prompt in generated_text:\n",
    "                            cleaned_text = generated_text.replace(test_prompt, \"\").strip()\n",
    "                        else:\n",
    "                            cleaned_text = generated_text.strip()\n",
    "                        \n",
    "                        logger.info(\"Cleaned text: '%s'\", cleaned_text)\n",
    "                        \n",
    "                        if len(cleaned_text.strip()) > 5:\n",
    "                            logger.info(\"SUCCESS: Generated valid text with prompt %d, config %d\", i+1, j+1)\n",
    "                            return cleaned_text\n",
    "                        \n",
    "                    except Exception as e:\n",
    "                        logger.warning(\"Generation config %d failed: %s\", j+1, e)\n",
    "                        continue\n",
    "                \n",
    "            except Exception as e:\n",
    "                logger.warning(\"Prompt %d failed: %s\", i+1, e)\n",
    "                continue\n",
    "        \n",
    "        logger.warning(\"All prompt and generation strategies failed\")\n",
    "        return None\n",
    "        \n",
    "    except Exception as e:\n",
    "        logger.error(\"Error in debug BLIP-2 inference: %s\", e)\n",
    "        import traceback\n",
    "        logger.error(\"Traceback: %s\", traceback.format_exc())\n",
    "        return None\n",
    "\n",
    "def predict_batch_zero_shot_blip2(image_paths, prompt=None, batch_size=1):\n",
    "    \"\"\"\n",
    "    Zero-shot batch inference using BLIP-2\n",
    "    \"\"\"\n",
    "    logger.info(\"Processing batch of %d images with BLIP-2 zero-shot inference\", len(image_paths))\n",
    "    \n",
    "    # Use the same prompt as LLaVA for fair comparison\n",
    "    if prompt is None:\n",
    "        prompt = \"Describe the scene, the driver's current gaze, and where that gaze will likely shift next and why.\"\n",
    "    \n",
    "    # Fallback prompts to try if the main prompt fails\n",
    "    fallback_prompts = [\n",
    "        \"Question: What do you see in this driving scene? Answer:\",\n",
    "        \"Describe this driving scene:\",\n",
    "        \"What is happening in this image?\",\n",
    "        \"\"  # Unconditional generation\n",
    "    ]\n",
    "    \n",
    "    try:\n",
    "        predictions = []\n",
    "        \n",
    "        for i, image_path in enumerate(image_paths):\n",
    "            logger.info(\"Processing image %d/%d: %s\", i+1, len(image_paths), image_path)\n",
    "            \n",
    "            # Debug first image in detail\n",
    "            if i == 0:\n",
    "                debug_result = debug_single_inference(image_path, prompt)\n",
    "                if debug_result and len(debug_result.strip()) > 5:\n",
    "                    predictions.append(debug_result)\n",
    "                    continue\n",
    "            \n",
    "            try:\n",
    "                if not os.path.exists(image_path):\n",
    "                    logger.error(\"Image file not found: %s\", image_path)\n",
    "                    predictions.append(\"Image file not found.\")\n",
    "                    continue\n",
    "                \n",
    "                # Load image\n",
    "                image = Image.open(image_path).convert(\"RGB\")\n",
    "                logger.info(\"Loaded image: %s, size: %s\", image_path, image.size)\n",
    "                \n",
    "                prediction = None\n",
    "                \n",
    "                # First try the main prompt (same as LLaVA)\n",
    "                prompts_to_try = [prompt] + fallback_prompts\n",
    "                \n",
    "                # Try different prompts until one works\n",
    "                for prompt_idx, test_prompt in enumerate(prompts_to_try):\n",
    "                    try:\n",
    "                        logger.info(\"Trying prompt %d for image %d: '%s'\", prompt_idx+1, i+1, test_prompt)\n",
    "                        \n",
    "                        # Process inputs for BLIP-2\n",
    "                        if test_prompt:\n",
    "                            inputs = processor(\n",
    "                                images=image,\n",
    "                                text=test_prompt,\n",
    "                                return_tensors=\"pt\"\n",
    "                            )\n",
    "                        else:\n",
    "                            # Unconditional generation\n",
    "                            inputs = processor(\n",
    "                                images=image,\n",
    "                                return_tensors=\"pt\"\n",
    "                            )\n",
    "                        \n",
    "                        # Move to device\n",
    "                        device = next(model.parameters()).device\n",
    "                        inputs = {k: v.to(device) for k, v in inputs.items()}\n",
    "                        \n",
    "                        # Try different generation strategies\n",
    "                        generation_configs = [\n",
    "                            {\"max_new_tokens\": 150, \"do_sample\": False, \"repetition_penalty\": 1.1},  # Greedy\n",
    "                            {\"max_new_tokens\": 150, \"do_sample\": True, \"temperature\": 0.7, \"top_p\": 0.9},  # Sampling\n",
    "                            {\"max_new_tokens\": 50, \"do_sample\": True, \"temperature\": 1.0, \"top_k\": 50}  # High temp, short\n",
    "                        ]\n",
    "                        \n",
    "                        for gen_config in generation_configs:\n",
    "                            try:\n",
    "                                with torch.no_grad():\n",
    "                                    outputs = model.generate(**inputs, **gen_config)\n",
    "                                \n",
    "                                # Decode output\n",
    "                                generated_text = processor.decode(outputs[0], skip_special_tokens=True)\n",
    "                                \n",
    "                                # Clean up the output\n",
    "                                if test_prompt and test_prompt in generated_text:\n",
    "                                    cleaned_text = generated_text.replace(test_prompt, \"\").strip()\n",
    "                                else:\n",
    "                                    cleaned_text = generated_text.strip()\n",
    "                                \n",
    "                                if len(cleaned_text.strip()) > 5:\n",
    "                                    prediction = cleaned_text\n",
    "                                    if prompt_idx == 0:\n",
    "                                        logger.info(\"SUCCESS with main prompt: %s\", prediction[:100])\n",
    "                                    else:\n",
    "                                        logger.info(\"SUCCESS with fallback prompt %d: %s\", prompt_idx, prediction[:100])\n",
    "                                    break\n",
    "                                    \n",
    "                            except Exception as e:\n",
    "                                logger.warning(\"Generation failed for prompt %d, config %s: %s\", prompt_idx+1, gen_config, e)\n",
    "                                continue\n",
    "                        \n",
    "                        if prediction:\n",
    "                            break\n",
    "                            \n",
    "                    except Exception as e:\n",
    "                        logger.warning(\"Prompt %d failed for image %d: %s\", prompt_idx+1, i+1, e)\n",
    "                        continue\n",
    "                \n",
    "                if not prediction or len(prediction.strip()) < 5:\n",
    "                    prediction = \"Unable to generate description for this driving scene.\"\n",
    "                \n",
    "                predictions.append(prediction)\n",
    "                \n",
    "            except Exception as e:\n",
    "                logger.error(\"Error processing image %s: %s\", image_path, e)\n",
    "                predictions.append(\"Error processing image.\")\n",
    "            \n",
    "            # Clear memory after each image\n",
    "            torch.cuda.empty_cache()\n",
    "        \n",
    "        return predictions\n",
    "        \n",
    "    except Exception as e:\n",
    "        logger.error(\"Error in BLIP-2 zero-shot batch inference: %s\", e)\n",
    "        return [\"Error in inference\"] * len(image_paths)\n",
    "\n",
    "def test_blip2_basic():\n",
    "    \"\"\"\n",
    "    Test BLIP-2 with a simple image to verify it's working\n",
    "    \"\"\"\n",
    "    logger.info(\"=== TESTING BLIP-2 BASIC FUNCTIONALITY ===\")\n",
    "    \n",
    "    try:\n",
    "        # Create a simple test image (white square)\n",
    "        from PIL import Image\n",
    "        import numpy as np\n",
    "        \n",
    "        # Create a simple 224x224 white image for testing\n",
    "        test_image = Image.fromarray(np.ones((224, 224, 3), dtype=np.uint8) * 255)\n",
    "        test_prompt = \"What do you see in this image?\"\n",
    "        \n",
    "        inputs = processor(\n",
    "            images=test_image,\n",
    "            text=test_prompt,\n",
    "            return_tensors=\"pt\"\n",
    "        )\n",
    "        \n",
    "        device = next(model.parameters()).device\n",
    "        inputs = {k: v.to(device) for k, v in inputs.items()}\n",
    "        \n",
    "        with torch.no_grad():\n",
    "            outputs = model.generate(\n",
    "                **inputs,\n",
    "                max_new_tokens=50,\n",
    "                do_sample=True,\n",
    "                temperature=0.7\n",
    "            )\n",
    "        \n",
    "        response = processor.decode(outputs[0], skip_special_tokens=True)\n",
    "        logger.info(\"Basic test response: %s\", response)\n",
    "        return True\n",
    "        \n",
    "    except Exception as e:\n",
    "        logger.error(\"Basic BLIP-2 test failed: %s\", e)\n",
    "        return False\n",
    "\n",
    "def run_blip2_zero_shot_evaluation(json_path, image_dir):\n",
    "    \"\"\"\n",
    "    Run BLIP-2 zero-shot evaluation on the test dataset\n",
    "    \"\"\"\n",
    "    # Test basic model functionality\n",
    "    test_blip2_basic()\n",
    "    \n",
    "    try:\n",
    "        with open(json_path, 'r') as f:\n",
    "            test_data = json.load(f)\n",
    "        logger.info(\"Loaded test JSON with %d entries\", len(test_data))\n",
    "    except Exception as e:\n",
    "        logger.error(\"Error loading test JSON %s: %s\", json_path, e)\n",
    "        raise e\n",
    "\n",
    "    # Build image paths with error handling\n",
    "    image_paths = []\n",
    "    valid_items = []\n",
    "    \n",
    "    for item in test_data:\n",
    "        image_path = os.path.join(image_dir, os.path.basename(item['image']))\n",
    "        if not os.path.exists(image_path):\n",
    "            # Try alternative path\n",
    "            image_path = os.path.join(image_dir, item['image'])\n",
    "            if not os.path.exists(image_path):\n",
    "                logger.warning(\"Image not found for item %s: %s\", item.get('id', 'unknown'), image_path)\n",
    "                continue\n",
    "        \n",
    "        image_paths.append(image_path)\n",
    "        valid_items.append(item)\n",
    "    \n",
    "    logger.info(\"Found %d valid images out of %d items\", len(image_paths), len(test_data))\n",
    "    \n",
    "    # Process all images\n",
    "    logger.info(\"Processing all %d images\", len(image_paths))\n",
    "    \n",
    "    # Run BLIP-2 zero-shot predictions\n",
    "    logger.info(\"Starting BLIP-2 zero-shot inference...\")\n",
    "    predictions = predict_batch_zero_shot_blip2(image_paths, batch_size=1)\n",
    "    \n",
    "    # Process results and calculate metrics\n",
    "    results = []\n",
    "    rouge = ROUGEScore()\n",
    "    rouge_scores = []\n",
    "    \n",
    "    for item, prediction in zip(valid_items, predictions):\n",
    "        # Extract ground truth\n",
    "        ground_truth = None\n",
    "        if 'conversations' in item:\n",
    "            for conv in item['conversations']:\n",
    "                if conv.get('from') == 'gpt':\n",
    "                    ground_truth = conv['value']\n",
    "                    break\n",
    "        elif 'response' in item:\n",
    "            ground_truth = item['response']\n",
    "        elif 'answer' in item:\n",
    "            ground_truth = item['answer']\n",
    "        \n",
    "        if ground_truth is None:\n",
    "            logger.warning(\"No ground truth found for item %s\", item.get('id', 'unknown'))\n",
    "        \n",
    "        if prediction is not None:\n",
    "            results.append({\n",
    "                \"id\": item.get('id', 'unknown'),\n",
    "                \"image\": item['image'],\n",
    "                \"ground_truth\": ground_truth,\n",
    "                \"prediction\": prediction\n",
    "            })\n",
    "            \n",
    "            # Calculate ROUGE score if ground truth available\n",
    "            if ground_truth and prediction.strip() and prediction != \"Error processing image.\":\n",
    "                try:\n",
    "                    score = rouge([prediction], [ground_truth])['rougeL_fmeasure']\n",
    "                    # Convert tensor to float for JSON serialization\n",
    "                    if hasattr(score, 'item'):\n",
    "                        score = score.item()\n",
    "                    else:\n",
    "                        score = float(score)\n",
    "                    rouge_scores.append(score)\n",
    "                    logger.info(\"ROUGE score for %s: %.4f\", item.get('id', 'unknown'), score)\n",
    "                except Exception as e:\n",
    "                    logger.warning(\"Error computing ROUGE score for %s: %s\", item.get('id', 'unknown'), e)\n",
    "        else:\n",
    "            logger.warning(\"Skipping item %s due to inference error\", item.get('id', 'unknown'))\n",
    "\n",
    "    # Save predictions\n",
    "    os.makedirs(os.path.dirname(OUTPUT_JSON), exist_ok=True)\n",
    "    with open(OUTPUT_JSON, 'w') as f:\n",
    "        json.dump(results, f, indent=2)\n",
    "    logger.info(\"BLIP-2 zero-shot predictions saved to %s\", OUTPUT_JSON)\n",
    "\n",
    "    # Log evaluation metrics\n",
    "    if rouge_scores:\n",
    "        # Ensure all scores are Python floats for JSON serialization\n",
    "        rouge_scores = [float(score) if hasattr(score, 'item') else score for score in rouge_scores]\n",
    "        \n",
    "        avg_rouge = sum(rouge_scores) / len(rouge_scores)\n",
    "        max_rouge = max(rouge_scores)\n",
    "        min_rouge = min(rouge_scores)\n",
    "        logger.info(\"=== BLIP-2 ZERO-SHOT EVALUATION RESULTS ===\")\n",
    "        logger.info(\"Average ROUGE-L: %.4f\", avg_rouge)\n",
    "        logger.info(\"Max ROUGE-L: %.4f\", max_rouge)\n",
    "        logger.info(\"Min ROUGE-L: %.4f\", min_rouge)\n",
    "        logger.info(\"Number of items with ROUGE scores: %d\", len(rouge_scores))\n",
    "        \n",
    "        # Save summary statistics\n",
    "        summary = {\n",
    "            \"model\": \"blip2\",\n",
    "            \"avg_rouge\": float(avg_rouge),\n",
    "            \"max_rouge\": float(max_rouge),\n",
    "            \"min_rouge\": float(min_rouge),\n",
    "            \"num_evaluated\": len(rouge_scores),\n",
    "            \"total_predictions\": len(results)\n",
    "        }\n",
    "        with open(os.path.join(LOGS_DIR, \"blip2_zero_shot_summary.json\"), 'w') as f:\n",
    "            json.dump(summary, f, indent=2)\n",
    "    else:\n",
    "        logger.info(\"No ROUGE scores computed (no ground truth available)\")\n",
    "\n",
    "    # Log prediction statistics\n",
    "    non_empty_predictions = [r['prediction'] for r in results if r['prediction'] and r['prediction'].strip()]\n",
    "    logger.info(\"Generated %d non-empty predictions out of %d total\", len(non_empty_predictions), len(results))\n",
    "    \n",
    "    logger.info(\"=== SAMPLE BLIP-2 ZERO-SHOT PREDICTIONS ===\")\n",
    "    for i, result in enumerate(results[:3]):  # Show first 3 predictions\n",
    "        logger.info(\"Sample %d:\", i+1)\n",
    "        logger.info(\" Image: %s\", result['image'])\n",
    "        logger.info(\" Prediction: %s\", result['prediction'])\n",
    "        if result['ground_truth']:\n",
    "            logger.info(\" Ground Truth: %s\", result['ground_truth'][:200])\n",
    "    \n",
    "    # Clean up memory\n",
    "    torch.cuda.empty_cache()\n",
    "    gc.collect()\n",
    "    return results\n",
    "\n",
    "# Main execution\n",
    "if __name__ == \"__main__\":\n",
    "    logger.info(\"Starting BLIP-2 zero-shot evaluation...\")\n",
    "    results = run_blip2_zero_shot_evaluation(TEST_JSON, TEST_IMAGE_DIR)\n",
    "    logger.info(\"BLIP-2 zero-shot evaluation completed. %d predictions generated.\", len(results))\n",
    "    \n",
    "    logger.info(\"Results saved to: %s\", OUTPUT_JSON)\n",
    "    logger.info(\"Check logs at: %s\", \"fsdam-s3/logs/blip2_zero_shot_inference.log\")"
   ]
  },
  {
   "cell_type": "code",
   "execution_count": 39,
   "id": "96041835-0fc2-438f-ac39-80cfce06ad4d",
   "metadata": {},
   "outputs": [
    {
     "name": "stderr",
     "output_type": "stream",
     "text": [
      "INFO:__main__:Loading BLIP-2 processor...\n",
      "INFO:__main__:Processor loaded successfully\n",
      "INFO:__main__:Loading BLIP-2 model...\n",
      "INFO:accelerate.utils.modeling:We will use 90% of the memory on device 0 for storing the model, and 10% for the buffer to avoid OOM. You can set `max_memory` in to a higher value to use more memory (at your own risk).\n",
      "Loading checkpoint shards: 100%|██████████| 2/2 [00:07<00:00,  3.78s/it]\n",
      "INFO:__main__:BLIP-2 model loaded successfully\n",
      "INFO:__main__:Model type: <class 'transformers.models.blip_2.modeling_blip_2.Blip2ForConditionalGeneration'>\n",
      "INFO:__main__:Number of parameters: 1993476096\n",
      "INFO:__main__:Starting BLIP-2 fair comparison zero-shot evaluation...\n",
      "INFO:__main__:Loaded test JSON with 81 entries\n",
      "INFO:__main__:Found 81 valid images out of 81 items\n",
      "INFO:__main__:Processing all 81 images\n",
      "INFO:__main__:Starting BLIP-2 zero-shot inference (fair comparison)...\n",
      "INFO:__main__:Processing batch of 81 images with BLIP-2 zero-shot inference\n",
      "INFO:__main__:Using ONLY the main prompt for fair comparison: Describe the scene, the driver's current gaze, and where that gaze will likely shift next and why.\n",
      "INFO:__main__:Processing image 1/81: fsdam/test_set/test/1003_00057.png\n",
      "INFO:__main__:=== DEBUGGING SINGLE BLIP-2 INFERENCE ===\n",
      "INFO:__main__:Image path: fsdam/test_set/test/1003_00057.png\n",
      "INFO:__main__:Prompt: Describe the scene, the driver's current gaze, and where that gaze will likely shift next and why.\n",
      "INFO:__main__:Original image size: (1280, 720)\n",
      "INFO:__main__:Using main prompt only for fair comparison\n",
      "INFO:__main__:Input shapes:\n",
      "INFO:__main__:  input_ids: torch.Size([1, 55])\n",
      "INFO:__main__:  attention_mask: torch.Size([1, 55])\n",
      "INFO:__main__:  pixel_values: torch.Size([1, 3, 224, 224])\n",
      "INFO:__main__:Trying generation config 1 with SAME prompt: {'max_new_tokens': 512, 'do_sample': False, 'repetition_penalty': 1.1, 'no_repeat_ngram_size': 3}\n",
      "INFO:__main__:Generation completed. Output shape: torch.Size([1, 56])\n",
      "INFO:__main__:Generated text: Describe the scene, the driver's current gaze, and where that gaze will likely shift next and why.\n",
      "\n",
      "INFO:__main__:Cleaned text: \n",
      "WARNING:__main__:Generation config 1 produced short output: ''\n",
      "INFO:__main__:Trying generation config 2 with SAME prompt: {'max_new_tokens': 512, 'do_sample': True, 'temperature': 0.7, 'top_p': 0.9, 'repetition_penalty': 1.1}\n",
      "INFO:__main__:Generation completed. Output shape: torch.Size([1, 56])\n",
      "INFO:__main__:Generated text: Describe the scene, the driver's current gaze, and where that gaze will likely shift next and why.\n",
      "\n",
      "INFO:__main__:Cleaned text: \n",
      "WARNING:__main__:Generation config 2 produced short output: ''\n",
      "INFO:__main__:Trying generation config 3 with SAME prompt: {'max_new_tokens': 200, 'do_sample': True, 'temperature': 1.0, 'top_k': 50}\n",
      "INFO:__main__:Generation completed. Output shape: torch.Size([1, 56])\n",
      "INFO:__main__:Generated text: Describe the scene, the driver's current gaze, and where that gaze will likely shift next and why.\n",
      "\n",
      "INFO:__main__:Cleaned text: \n",
      "WARNING:__main__:Generation config 3 produced short output: ''\n",
      "WARNING:__main__:All generation strategies failed with main prompt\n",
      "INFO:__main__:Loaded image: fsdam/test_set/test/1003_00057.png, size: (1280, 720)\n",
      "INFO:__main__:Using main prompt for image 1: 'Describe the scene, the driver's current gaze, and where that gaze will likely shift next and why.'\n",
      "INFO:__main__:SUCCESS with main prompt: https://www.youtube-nocookie-window-fallout-nocookie-window-fallout/ video\n",
      "INFO:__main__:Processing image 2/81: fsdam/test_set/test/1003_00195.png\n",
      "INFO:__main__:Loaded image: fsdam/test_set/test/1003_00195.png, size: (1280, 720)\n",
      "INFO:__main__:Using main prompt for image 2: 'Describe the scene, the driver's current gaze, and where that gaze will likely shift next and why.'\n",
      "WARNING:__main__:Could not generate prediction with main prompt for image 2\n",
      "INFO:__main__:Processing image 3/81: fsdam/test_set/test/1003_00385.png\n",
      "INFO:__main__:Loaded image: fsdam/test_set/test/1003_00385.png, size: (1280, 720)\n",
      "INFO:__main__:Using main prompt for image 3: 'Describe the scene, the driver's current gaze, and where that gaze will likely shift next and why.'\n",
      "WARNING:__main__:Could not generate prediction with main prompt for image 3\n",
      "INFO:__main__:Processing image 4/81: fsdam/test_set/test/1008_00038.png\n",
      "INFO:__main__:Loaded image: fsdam/test_set/test/1008_00038.png, size: (1280, 720)\n",
      "INFO:__main__:Using main prompt for image 4: 'Describe the scene, the driver's current gaze, and where that gaze will likely shift next and why.'\n",
      "WARNING:__main__:Could not generate prediction with main prompt for image 4\n",
      "INFO:__main__:Processing image 5/81: fsdam/test_set/test/1008_00226.png\n",
      "INFO:__main__:Loaded image: fsdam/test_set/test/1008_00226.png, size: (1280, 720)\n",
      "INFO:__main__:Using main prompt for image 5: 'Describe the scene, the driver's current gaze, and where that gaze will likely shift next and why.'\n",
      "INFO:__main__:SUCCESS with main prompt: What is the next logical choice, what is the road like in the next block?\n",
      "INFO:__main__:Processing image 6/81: fsdam/test_set/test/100_00266.png\n",
      "INFO:__main__:Loaded image: fsdam/test_set/test/100_00266.png, size: (1280, 720)\n",
      "INFO:__main__:Using main prompt for image 6: 'Describe the scene, the driver's current gaze, and where that gaze will likely shift next and why.'\n",
      "WARNING:__main__:Could not generate prediction with main prompt for image 6\n",
      "INFO:__main__:Processing image 7/81: fsdam/test_set/test/1013_00063.png\n",
      "INFO:__main__:Loaded image: fsdam/test_set/test/1013_00063.png, size: (1280, 720)\n",
      "INFO:__main__:Using main prompt for image 7: 'Describe the scene, the driver's current gaze, and where that gaze will likely shift next and why.'\n",
      "WARNING:__main__:Could not generate prediction with main prompt for image 7\n",
      "INFO:__main__:Processing image 8/81: fsdam/test_set/test/1026_00266.png\n",
      "INFO:__main__:Loaded image: fsdam/test_set/test/1026_00266.png, size: (1280, 720)\n",
      "INFO:__main__:Using main prompt for image 8: 'Describe the scene, the driver's current gaze, and where that gaze will likely shift next and why.'\n",
      "WARNING:__main__:Could not generate prediction with main prompt for image 8\n",
      "INFO:__main__:Processing image 9/81: fsdam/test_set/test/1038_00138.png\n",
      "INFO:__main__:Loaded image: fsdam/test_set/test/1038_00138.png, size: (1280, 720)\n",
      "INFO:__main__:Using main prompt for image 9: 'Describe the scene, the driver's current gaze, and where that gaze will likely shift next and why.'\n",
      "WARNING:__main__:Could not generate prediction with main prompt for image 9\n",
      "INFO:__main__:Processing image 10/81: fsdam/test_set/test/1047_00011.png\n",
      "INFO:__main__:Loaded image: fsdam/test_set/test/1047_00011.png, size: (1280, 720)\n",
      "INFO:__main__:Using main prompt for image 10: 'Describe the scene, the driver's current gaze, and where that gaze will likely shift next and why.'\n",
      "WARNING:__main__:Could not generate prediction with main prompt for image 10\n",
      "INFO:__main__:Processing image 11/81: fsdam/test_set/test/1051_00143.png\n",
      "INFO:__main__:Loaded image: fsdam/test_set/test/1051_00143.png, size: (1280, 720)\n",
      "INFO:__main__:Using main prompt for image 11: 'Describe the scene, the driver's current gaze, and where that gaze will likely shift next and why.'\n",
      "WARNING:__main__:Could not generate prediction with main prompt for image 11\n",
      "INFO:__main__:Processing image 12/81: fsdam/test_set/test/1054_00005.png\n",
      "INFO:__main__:Loaded image: fsdam/test_set/test/1054_00005.png, size: (1280, 720)\n",
      "INFO:__main__:Using main prompt for image 12: 'Describe the scene, the driver's current gaze, and where that gaze will likely shift next and why.'\n",
      "WARNING:__main__:Could not generate prediction with main prompt for image 12\n",
      "INFO:__main__:Processing image 13/81: fsdam/test_set/test/1054_00172.png\n",
      "INFO:__main__:Loaded image: fsdam/test_set/test/1054_00172.png, size: (1280, 720)\n",
      "INFO:__main__:Using main prompt for image 13: 'Describe the scene, the driver's current gaze, and where that gaze will likely shift next and why.'\n",
      "WARNING:__main__:Could not generate prediction with main prompt for image 13\n",
      "INFO:__main__:Processing image 14/81: fsdam/test_set/test/1060_00104.png\n",
      "INFO:__main__:Loaded image: fsdam/test_set/test/1060_00104.png, size: (1280, 720)\n",
      "INFO:__main__:Using main prompt for image 14: 'Describe the scene, the driver's current gaze, and where that gaze will likely shift next and why.'\n",
      "WARNING:__main__:Could not generate prediction with main prompt for image 14\n",
      "INFO:__main__:Processing image 15/81: fsdam/test_set/test/1072_00093.png\n",
      "INFO:__main__:Loaded image: fsdam/test_set/test/1072_00093.png, size: (1280, 720)\n",
      "INFO:__main__:Using main prompt for image 15: 'Describe the scene, the driver's current gaze, and where that gaze will likely shift next and why.'\n",
      "WARNING:__main__:Could not generate prediction with main prompt for image 15\n",
      "INFO:__main__:Processing image 16/81: fsdam/test_set/test/1078_00005.png\n",
      "INFO:__main__:Loaded image: fsdam/test_set/test/1078_00005.png, size: (1280, 720)\n",
      "INFO:__main__:Using main prompt for image 16: 'Describe the scene, the driver's current gaze, and where that gaze will likely shift next and why.'\n",
      "WARNING:__main__:Could not generate prediction with main prompt for image 16\n",
      "INFO:__main__:Processing image 17/81: fsdam/test_set/test/1078_00155.png\n",
      "INFO:__main__:Loaded image: fsdam/test_set/test/1078_00155.png, size: (1280, 720)\n",
      "INFO:__main__:Using main prompt for image 17: 'Describe the scene, the driver's current gaze, and where that gaze will likely shift next and why.'\n",
      "WARNING:__main__:Could not generate prediction with main prompt for image 17\n",
      "INFO:__main__:Processing image 18/81: fsdam/test_set/test/1086_00109.png\n",
      "INFO:__main__:Loaded image: fsdam/test_set/test/1086_00109.png, size: (1280, 720)\n",
      "INFO:__main__:Using main prompt for image 18: 'Describe the scene, the driver's current gaze, and where that gaze will likely shift next and why.'\n",
      "WARNING:__main__:Could not generate prediction with main prompt for image 18\n",
      "INFO:__main__:Processing image 19/81: fsdam/test_set/test/1087_00482.png\n",
      "INFO:__main__:Loaded image: fsdam/test_set/test/1087_00482.png, size: (1280, 720)\n",
      "INFO:__main__:Using main prompt for image 19: 'Describe the scene, the driver's current gaze, and where that gaze will likely shift next and why.'\n",
      "WARNING:__main__:Could not generate prediction with main prompt for image 19\n",
      "INFO:__main__:Processing image 20/81: fsdam/test_set/test/108_00113.png\n",
      "INFO:__main__:Loaded image: fsdam/test_set/test/108_00113.png, size: (1280, 720)\n",
      "INFO:__main__:Using main prompt for image 20: 'Describe the scene, the driver's current gaze, and where that gaze will likely shift next and why.'\n",
      "WARNING:__main__:Could not generate prediction with main prompt for image 20\n",
      "INFO:__main__:Processing image 21/81: fsdam/test_set/test/1114_00066.png\n",
      "INFO:__main__:Loaded image: fsdam/test_set/test/1114_00066.png, size: (1280, 720)\n",
      "INFO:__main__:Using main prompt for image 21: 'Describe the scene, the driver's current gaze, and where that gaze will likely shift next and why.'\n",
      "WARNING:__main__:Could not generate prediction with main prompt for image 21\n",
      "INFO:__main__:Processing image 22/81: fsdam/test_set/test/1122_00207.png\n",
      "INFO:__main__:Loaded image: fsdam/test_set/test/1122_00207.png, size: (1280, 720)\n",
      "INFO:__main__:Using main prompt for image 22: 'Describe the scene, the driver's current gaze, and where that gaze will likely shift next and why.'\n",
      "INFO:__main__:SUCCESS with main prompt: Use the following terms: the driver, the action, the observation, the scene\n",
      "INFO:__main__:Processing image 23/81: fsdam/test_set/test/1123_00171.png\n",
      "INFO:__main__:Loaded image: fsdam/test_set/test/1123_00171.png, size: (1280, 720)\n",
      "INFO:__main__:Using main prompt for image 23: 'Describe the scene, the driver's current gaze, and where that gaze will likely shift next and why.'\n",
      "WARNING:__main__:Could not generate prediction with main prompt for image 23\n",
      "INFO:__main__:Processing image 24/81: fsdam/test_set/test/1125_00312.png\n",
      "INFO:__main__:Loaded image: fsdam/test_set/test/1125_00312.png, size: (1280, 720)\n",
      "INFO:__main__:Using main prompt for image 24: 'Describe the scene, the driver's current gaze, and where that gaze will likely shift next and why.'\n",
      "WARNING:__main__:Could not generate prediction with main prompt for image 24\n",
      "INFO:__main__:Processing image 25/81: fsdam/test_set/test/112_00138.png\n",
      "INFO:__main__:Loaded image: fsdam/test_set/test/112_00138.png, size: (1280, 720)\n",
      "INFO:__main__:Using main prompt for image 25: 'Describe the scene, the driver's current gaze, and where that gaze will likely shift next and why.'\n",
      "WARNING:__main__:Could not generate prediction with main prompt for image 25\n",
      "INFO:__main__:Processing image 26/81: fsdam/test_set/test/112_00278.png\n",
      "INFO:__main__:Loaded image: fsdam/test_set/test/112_00278.png, size: (1280, 720)\n",
      "INFO:__main__:Using main prompt for image 26: 'Describe the scene, the driver's current gaze, and where that gaze will likely shift next and why.'\n",
      "WARNING:__main__:Could not generate prediction with main prompt for image 26\n",
      "INFO:__main__:Processing image 27/81: fsdam/test_set/test/1132_00247.png\n",
      "INFO:__main__:Loaded image: fsdam/test_set/test/1132_00247.png, size: (1280, 720)\n",
      "INFO:__main__:Using main prompt for image 27: 'Describe the scene, the driver's current gaze, and where that gaze will likely shift next and why.'\n",
      "WARNING:__main__:Could not generate prediction with main prompt for image 27\n",
      "INFO:__main__:Processing image 28/81: fsdam/test_set/test/1137_00245.png\n",
      "INFO:__main__:Loaded image: fsdam/test_set/test/1137_00245.png, size: (1280, 720)\n",
      "INFO:__main__:Using main prompt for image 28: 'Describe the scene, the driver's current gaze, and where that gaze will likely shift next and why.'\n",
      "WARNING:__main__:Could not generate prediction with main prompt for image 28\n",
      "INFO:__main__:Processing image 29/81: fsdam/test_set/test/1138_00081.png\n",
      "INFO:__main__:Loaded image: fsdam/test_set/test/1138_00081.png, size: (1280, 720)\n",
      "INFO:__main__:Using main prompt for image 29: 'Describe the scene, the driver's current gaze, and where that gaze will likely shift next and why.'\n",
      "WARNING:__main__:Could not generate prediction with main prompt for image 29\n",
      "INFO:__main__:Processing image 30/81: fsdam/test_set/test/1141_00056.png\n",
      "INFO:__main__:Loaded image: fsdam/test_set/test/1141_00056.png, size: (1280, 720)\n",
      "INFO:__main__:Using main prompt for image 30: 'Describe the scene, the driver's current gaze, and where that gaze will likely shift next and why.'\n",
      "WARNING:__main__:Could not generate prediction with main prompt for image 30\n",
      "INFO:__main__:Processing image 31/81: fsdam/test_set/test/1146_00099.png\n",
      "INFO:__main__:Loaded image: fsdam/test_set/test/1146_00099.png, size: (1280, 720)\n",
      "INFO:__main__:Using main prompt for image 31: 'Describe the scene, the driver's current gaze, and where that gaze will likely shift next and why.'\n",
      "WARNING:__main__:Could not generate prediction with main prompt for image 31\n",
      "INFO:__main__:Processing image 32/81: fsdam/test_set/test/1151_00193.png\n",
      "INFO:__main__:Loaded image: fsdam/test_set/test/1151_00193.png, size: (1280, 720)\n",
      "INFO:__main__:Using main prompt for image 32: 'Describe the scene, the driver's current gaze, and where that gaze will likely shift next and why.'\n",
      "WARNING:__main__:Could not generate prediction with main prompt for image 32\n",
      "INFO:__main__:Processing image 33/81: fsdam/test_set/test/115_00168.png\n",
      "INFO:__main__:Loaded image: fsdam/test_set/test/115_00168.png, size: (1280, 720)\n",
      "INFO:__main__:Using main prompt for image 33: 'Describe the scene, the driver's current gaze, and where that gaze will likely shift next and why.'\n",
      "WARNING:__main__:Could not generate prediction with main prompt for image 33\n",
      "INFO:__main__:Processing image 34/81: fsdam/test_set/test/1165_00111.png\n",
      "INFO:__main__:Loaded image: fsdam/test_set/test/1165_00111.png, size: (1280, 720)\n",
      "INFO:__main__:Using main prompt for image 34: 'Describe the scene, the driver's current gaze, and where that gaze will likely shift next and why.'\n",
      "WARNING:__main__:Could not generate prediction with main prompt for image 34\n",
      "INFO:__main__:Processing image 35/81: fsdam/test_set/test/1167_00169.png\n",
      "INFO:__main__:Loaded image: fsdam/test_set/test/1167_00169.png, size: (1280, 720)\n",
      "INFO:__main__:Using main prompt for image 35: 'Describe the scene, the driver's current gaze, and where that gaze will likely shift next and why.'\n",
      "INFO:__main__:SUCCESS with main prompt: (photo courtesy of giphy )\n",
      "INFO:__main__:Processing image 36/81: fsdam/test_set/test/116_00263.png\n",
      "INFO:__main__:Loaded image: fsdam/test_set/test/116_00263.png, size: (1280, 720)\n",
      "INFO:__main__:Using main prompt for image 36: 'Describe the scene, the driver's current gaze, and where that gaze will likely shift next and why.'\n",
      "WARNING:__main__:Could not generate prediction with main prompt for image 36\n",
      "INFO:__main__:Processing image 37/81: fsdam/test_set/test/1180_00007.png\n",
      "INFO:__main__:Loaded image: fsdam/test_set/test/1180_00007.png, size: (1280, 720)\n",
      "INFO:__main__:Using main prompt for image 37: 'Describe the scene, the driver's current gaze, and where that gaze will likely shift next and why.'\n",
      "INFO:__main__:SUCCESS with main prompt: Your answers can come in the form of a paragraph, a quote from an article, or other creative work. P\n",
      "INFO:__main__:Processing image 38/81: fsdam/test_set/test/1180_00150.png\n",
      "INFO:__main__:Loaded image: fsdam/test_set/test/1180_00150.png, size: (1280, 720)\n",
      "INFO:__main__:Using main prompt for image 38: 'Describe the scene, the driver's current gaze, and where that gaze will likely shift next and why.'\n",
      "WARNING:__main__:Could not generate prediction with main prompt for image 38\n",
      "INFO:__main__:Processing image 39/81: fsdam/test_set/test/1191_00079.png\n",
      "INFO:__main__:Loaded image: fsdam/test_set/test/1191_00079.png, size: (1280, 720)\n",
      "INFO:__main__:Using main prompt for image 39: 'Describe the scene, the driver's current gaze, and where that gaze will likely shift next and why.'\n",
      "WARNING:__main__:Could not generate prediction with main prompt for image 39\n",
      "INFO:__main__:Processing image 40/81: fsdam/test_set/test/1203_00057.png\n",
      "INFO:__main__:Loaded image: fsdam/test_set/test/1203_00057.png, size: (1280, 720)\n",
      "INFO:__main__:Using main prompt for image 40: 'Describe the scene, the driver's current gaze, and where that gaze will likely shift next and why.'\n",
      "WARNING:__main__:Could not generate prediction with main prompt for image 40\n",
      "INFO:__main__:Processing image 41/81: fsdam/test_set/test/1203_00197.png\n",
      "INFO:__main__:Loaded image: fsdam/test_set/test/1203_00197.png, size: (1280, 720)\n",
      "INFO:__main__:Using main prompt for image 41: 'Describe the scene, the driver's current gaze, and where that gaze will likely shift next and why.'\n",
      "WARNING:__main__:Could not generate prediction with main prompt for image 41\n",
      "INFO:__main__:Processing image 42/81: fsdam/test_set/test/1213_00131.png\n",
      "INFO:__main__:Loaded image: fsdam/test_set/test/1213_00131.png, size: (1280, 720)\n",
      "INFO:__main__:Using main prompt for image 42: 'Describe the scene, the driver's current gaze, and where that gaze will likely shift next and why.'\n",
      "WARNING:__main__:Could not generate prediction with main prompt for image 42\n",
      "INFO:__main__:Processing image 43/81: fsdam/test_set/test/1215_00018.png\n",
      "INFO:__main__:Loaded image: fsdam/test_set/test/1215_00018.png, size: (1280, 720)\n",
      "INFO:__main__:Using main prompt for image 43: 'Describe the scene, the driver's current gaze, and where that gaze will likely shift next and why.'\n",
      "WARNING:__main__:Could not generate prediction with main prompt for image 43\n",
      "INFO:__main__:Processing image 44/81: fsdam/test_set/test/1216_00346.png\n",
      "INFO:__main__:Loaded image: fsdam/test_set/test/1216_00346.png, size: (1280, 720)\n",
      "INFO:__main__:Using main prompt for image 44: 'Describe the scene, the driver's current gaze, and where that gaze will likely shift next and why.'\n",
      "WARNING:__main__:Could not generate prediction with main prompt for image 44\n",
      "INFO:__main__:Processing image 45/81: fsdam/test_set/test/121_00085.png\n",
      "INFO:__main__:Loaded image: fsdam/test_set/test/121_00085.png, size: (1280, 720)\n",
      "INFO:__main__:Using main prompt for image 45: 'Describe the scene, the driver's current gaze, and where that gaze will likely shift next and why.'\n",
      "INFO:__main__:SUCCESS with main prompt: Your sentence should not list all of those, nor should it list all of the options.\n",
      "INFO:__main__:Processing image 46/81: fsdam/test_set/test/121_00256.png\n",
      "INFO:__main__:Loaded image: fsdam/test_set/test/121_00256.png, size: (1280, 720)\n",
      "INFO:__main__:Using main prompt for image 46: 'Describe the scene, the driver's current gaze, and where that gaze will likely shift next and why.'\n",
      "WARNING:__main__:Could not generate prediction with main prompt for image 46\n",
      "INFO:__main__:Processing image 47/81: fsdam/test_set/test/1249_00159.png\n",
      "INFO:__main__:Loaded image: fsdam/test_set/test/1249_00159.png, size: (1280, 720)\n",
      "INFO:__main__:Using main prompt for image 47: 'Describe the scene, the driver's current gaze, and where that gaze will likely shift next and why.'\n",
      "WARNING:__main__:Could not generate prediction with main prompt for image 47\n",
      "INFO:__main__:Processing image 48/81: fsdam/test_set/test/1250_00133.png\n",
      "INFO:__main__:Loaded image: fsdam/test_set/test/1250_00133.png, size: (1280, 720)\n",
      "INFO:__main__:Using main prompt for image 48: 'Describe the scene, the driver's current gaze, and where that gaze will likely shift next and why.'\n",
      "INFO:__main__:SUCCESS with main prompt: Be sure to describe the driver's current gaze as accurately as possible.\n",
      "INFO:__main__:Processing image 49/81: fsdam/test_set/test/1251_00049.png\n",
      "INFO:__main__:Loaded image: fsdam/test_set/test/1251_00049.png, size: (1280, 720)\n",
      "INFO:__main__:Using main prompt for image 49: 'Describe the scene, the driver's current gaze, and where that gaze will likely shift next and why.'\n",
      "WARNING:__main__:Could not generate prediction with main prompt for image 49\n",
      "INFO:__main__:Processing image 50/81: fsdam/test_set/test/1257_00152.png\n",
      "INFO:__main__:Loaded image: fsdam/test_set/test/1257_00152.png, size: (1280, 720)\n",
      "INFO:__main__:Using main prompt for image 50: 'Describe the scene, the driver's current gaze, and where that gaze will likely shift next and why.'\n",
      "WARNING:__main__:Could not generate prediction with main prompt for image 50\n",
      "INFO:__main__:Processing image 51/81: fsdam/test_set/test/1261_00188.png\n",
      "INFO:__main__:Loaded image: fsdam/test_set/test/1261_00188.png, size: (1280, 720)\n",
      "INFO:__main__:Using main prompt for image 51: 'Describe the scene, the driver's current gaze, and where that gaze will likely shift next and why.'\n",
      "WARNING:__main__:Could not generate prediction with main prompt for image 51\n",
      "INFO:__main__:Processing image 52/81: fsdam/test_set/test/1266_00123.png\n",
      "INFO:__main__:Loaded image: fsdam/test_set/test/1266_00123.png, size: (1280, 720)\n",
      "INFO:__main__:Using main prompt for image 52: 'Describe the scene, the driver's current gaze, and where that gaze will likely shift next and why.'\n",
      "WARNING:__main__:Could not generate prediction with main prompt for image 52\n",
      "INFO:__main__:Processing image 53/81: fsdam/test_set/test/128_00159.png\n",
      "INFO:__main__:Loaded image: fsdam/test_set/test/128_00159.png, size: (1280, 720)\n",
      "INFO:__main__:Using main prompt for image 53: 'Describe the scene, the driver's current gaze, and where that gaze will likely shift next and why.'\n",
      "WARNING:__main__:Could not generate prediction with main prompt for image 53\n",
      "INFO:__main__:Processing image 54/81: fsdam/test_set/test/128_00215.png\n",
      "INFO:__main__:Loaded image: fsdam/test_set/test/128_00215.png, size: (1280, 720)\n",
      "INFO:__main__:Using main prompt for image 54: 'Describe the scene, the driver's current gaze, and where that gaze will likely shift next and why.'\n",
      "WARNING:__main__:Could not generate prediction with main prompt for image 54\n",
      "INFO:__main__:Processing image 55/81: fsdam/test_set/test/1300_00162.png\n",
      "INFO:__main__:Loaded image: fsdam/test_set/test/1300_00162.png, size: (1280, 720)\n",
      "INFO:__main__:Using main prompt for image 55: 'Describe the scene, the driver's current gaze, and where that gaze will likely shift next and why.'\n",
      "INFO:__main__:SUCCESS with main prompt: This will inform the person writing the review and your reader\n",
      "INFO:__main__:Processing image 56/81: fsdam/test_set/test/1307_00069.png\n",
      "INFO:__main__:Loaded image: fsdam/test_set/test/1307_00069.png, size: (1280, 720)\n",
      "INFO:__main__:Using main prompt for image 56: 'Describe the scene, the driver's current gaze, and where that gaze will likely shift next and why.'\n",
      "WARNING:__main__:Could not generate prediction with main prompt for image 56\n",
      "INFO:__main__:Processing image 57/81: fsdam/test_set/test/132_00152.png\n",
      "INFO:__main__:Loaded image: fsdam/test_set/test/132_00152.png, size: (1280, 720)\n",
      "INFO:__main__:Using main prompt for image 57: 'Describe the scene, the driver's current gaze, and where that gaze will likely shift next and why.'\n",
      "WARNING:__main__:Could not generate prediction with main prompt for image 57\n",
      "INFO:__main__:Processing image 58/81: fsdam/test_set/test/1336_00153.png\n",
      "INFO:__main__:Loaded image: fsdam/test_set/test/1336_00153.png, size: (1280, 720)\n",
      "INFO:__main__:Using main prompt for image 58: 'Describe the scene, the driver's current gaze, and where that gaze will likely shift next and why.'\n",
      "WARNING:__main__:Could not generate prediction with main prompt for image 58\n",
      "INFO:__main__:Processing image 59/81: fsdam/test_set/test/1355_00105.png\n",
      "INFO:__main__:Loaded image: fsdam/test_set/test/1355_00105.png, size: (1280, 720)\n",
      "INFO:__main__:Using main prompt for image 59: 'Describe the scene, the driver's current gaze, and where that gaze will likely shift next and why.'\n",
      "WARNING:__main__:Could not generate prediction with main prompt for image 59\n",
      "INFO:__main__:Processing image 60/81: fsdam/test_set/test/1358_00053.png\n",
      "INFO:__main__:Loaded image: fsdam/test_set/test/1358_00053.png, size: (1280, 720)\n",
      "INFO:__main__:Using main prompt for image 60: 'Describe the scene, the driver's current gaze, and where that gaze will likely shift next and why.'\n",
      "WARNING:__main__:Could not generate prediction with main prompt for image 60\n",
      "INFO:__main__:Processing image 61/81: fsdam/test_set/test/135_00092.png\n",
      "INFO:__main__:Loaded image: fsdam/test_set/test/135_00092.png, size: (1280, 720)\n",
      "INFO:__main__:Using main prompt for image 61: 'Describe the scene, the driver's current gaze, and where that gaze will likely shift next and why.'\n",
      "WARNING:__main__:Could not generate prediction with main prompt for image 61\n",
      "INFO:__main__:Processing image 62/81: fsdam/test_set/test/135_00216.png\n",
      "INFO:__main__:Loaded image: fsdam/test_set/test/135_00216.png, size: (1280, 720)\n",
      "INFO:__main__:Using main prompt for image 62: 'Describe the scene, the driver's current gaze, and where that gaze will likely shift next and why.'\n",
      "WARNING:__main__:Could not generate prediction with main prompt for image 62\n",
      "INFO:__main__:Processing image 63/81: fsdam/test_set/test/1368_00005.png\n",
      "INFO:__main__:Loaded image: fsdam/test_set/test/1368_00005.png, size: (1280, 720)\n",
      "INFO:__main__:Using main prompt for image 63: 'Describe the scene, the driver's current gaze, and where that gaze will likely shift next and why.'\n",
      "WARNING:__main__:Could not generate prediction with main prompt for image 63\n",
      "INFO:__main__:Processing image 64/81: fsdam/test_set/test/1374_00009.png\n",
      "INFO:__main__:Loaded image: fsdam/test_set/test/1374_00009.png, size: (1280, 720)\n",
      "INFO:__main__:Using main prompt for image 64: 'Describe the scene, the driver's current gaze, and where that gaze will likely shift next and why.'\n",
      "WARNING:__main__:Could not generate prediction with main prompt for image 64\n",
      "INFO:__main__:Processing image 65/81: fsdam/test_set/test/1378_00064.png\n",
      "INFO:__main__:Loaded image: fsdam/test_set/test/1378_00064.png, size: (1280, 720)\n",
      "INFO:__main__:Using main prompt for image 65: 'Describe the scene, the driver's current gaze, and where that gaze will likely shift next and why.'\n",
      "WARNING:__main__:Could not generate prediction with main prompt for image 65\n",
      "INFO:__main__:Processing image 66/81: fsdam/test_set/test/1386_00222.png\n",
      "INFO:__main__:Loaded image: fsdam/test_set/test/1386_00222.png, size: (1280, 720)\n",
      "INFO:__main__:Using main prompt for image 66: 'Describe the scene, the driver's current gaze, and where that gaze will likely shift next and why.'\n",
      "INFO:__main__:SUCCESS with main prompt: This test should take no more than 1 mnns. Study the picture you just took very hard pic\n",
      "INFO:__main__:Processing image 67/81: fsdam/test_set/test/138_00005.png\n",
      "INFO:__main__:Loaded image: fsdam/test_set/test/138_00005.png, size: (1280, 720)\n",
      "INFO:__main__:Using main prompt for image 67: 'Describe the scene, the driver's current gaze, and where that gaze will likely shift next and why.'\n",
      "WARNING:__main__:Could not generate prediction with main prompt for image 67\n",
      "INFO:__main__:Processing image 68/81: fsdam/test_set/test/138_00074.png\n",
      "INFO:__main__:Loaded image: fsdam/test_set/test/138_00074.png, size: (1280, 720)\n",
      "INFO:__main__:Using main prompt for image 68: 'Describe the scene, the driver's current gaze, and where that gaze will likely shift next and why.'\n",
      "WARNING:__main__:Could not generate prediction with main prompt for image 68\n",
      "INFO:__main__:Processing image 69/81: fsdam/test_set/test/1390_00211.png\n",
      "INFO:__main__:Loaded image: fsdam/test_set/test/1390_00211.png, size: (1280, 720)\n",
      "INFO:__main__:Using main prompt for image 69: 'Describe the scene, the driver's current gaze, and where that gaze will likely shift next and why.'\n",
      "WARNING:__main__:Could not generate prediction with main prompt for image 69\n",
      "INFO:__main__:Processing image 70/81: fsdam/test_set/test/1402_00128.png\n",
      "INFO:__main__:Loaded image: fsdam/test_set/test/1402_00128.png, size: (1280, 720)\n",
      "INFO:__main__:Using main prompt for image 70: 'Describe the scene, the driver's current gaze, and where that gaze will likely shift next and why.'\n",
      "WARNING:__main__:Could not generate prediction with main prompt for image 70\n",
      "INFO:__main__:Processing image 71/81: fsdam/test_set/test/1402_00350.png\n",
      "INFO:__main__:Loaded image: fsdam/test_set/test/1402_00350.png, size: (1280, 720)\n",
      "INFO:__main__:Using main prompt for image 71: 'Describe the scene, the driver's current gaze, and where that gaze will likely shift next and why.'\n",
      "WARNING:__main__:Could not generate prediction with main prompt for image 71\n",
      "INFO:__main__:Processing image 72/81: fsdam/test_set/test/1403_00122.png\n",
      "INFO:__main__:Loaded image: fsdam/test_set/test/1403_00122.png, size: (1280, 720)\n",
      "INFO:__main__:Using main prompt for image 72: 'Describe the scene, the driver's current gaze, and where that gaze will likely shift next and why.'\n",
      "WARNING:__main__:Could not generate prediction with main prompt for image 72\n",
      "INFO:__main__:Processing image 73/81: fsdam/test_set/test/1404_00129.png\n",
      "INFO:__main__:Loaded image: fsdam/test_set/test/1404_00129.png, size: (1280, 720)\n",
      "INFO:__main__:Using main prompt for image 73: 'Describe the scene, the driver's current gaze, and where that gaze will likely shift next and why.'\n",
      "WARNING:__main__:Could not generate prediction with main prompt for image 73\n",
      "INFO:__main__:Processing image 74/81: fsdam/test_set/test/1405_00109.png\n",
      "INFO:__main__:Loaded image: fsdam/test_set/test/1405_00109.png, size: (1280, 720)\n",
      "INFO:__main__:Using main prompt for image 74: 'Describe the scene, the driver's current gaze, and where that gaze will likely shift next and why.'\n",
      "WARNING:__main__:Could not generate prediction with main prompt for image 74\n",
      "INFO:__main__:Processing image 75/81: fsdam/test_set/test/1406_00285.png\n",
      "INFO:__main__:Loaded image: fsdam/test_set/test/1406_00285.png, size: (1280, 720)\n",
      "INFO:__main__:Using main prompt for image 75: 'Describe the scene, the driver's current gaze, and where that gaze will likely shift next and why.'\n",
      "WARNING:__main__:Could not generate prediction with main prompt for image 75\n",
      "INFO:__main__:Processing image 76/81: fsdam/test_set/test/1420_00121.png\n",
      "INFO:__main__:Loaded image: fsdam/test_set/test/1420_00121.png, size: (1280, 720)\n",
      "INFO:__main__:Using main prompt for image 76: 'Describe the scene, the driver's current gaze, and where that gaze will likely shift next and why.'\n",
      "WARNING:__main__:Could not generate prediction with main prompt for image 76\n",
      "INFO:__main__:Processing image 77/81: fsdam/test_set/test/1425_00102.png\n",
      "INFO:__main__:Loaded image: fsdam/test_set/test/1425_00102.png, size: (1280, 720)\n",
      "INFO:__main__:Using main prompt for image 77: 'Describe the scene, the driver's current gaze, and where that gaze will likely shift next and why.'\n",
      "WARNING:__main__:Could not generate prediction with main prompt for image 77\n",
      "INFO:__main__:Processing image 78/81: fsdam/test_set/test/1425_00230.png\n",
      "INFO:__main__:Loaded image: fsdam/test_set/test/1425_00230.png, size: (1280, 720)\n",
      "INFO:__main__:Using main prompt for image 78: 'Describe the scene, the driver's current gaze, and where that gaze will likely shift next and why.'\n",
      "WARNING:__main__:Could not generate prediction with main prompt for image 78\n",
      "INFO:__main__:Processing image 79/81: fsdam/test_set/test/1436_00095.png\n",
      "INFO:__main__:Loaded image: fsdam/test_set/test/1436_00095.png, size: (1280, 720)\n",
      "INFO:__main__:Using main prompt for image 79: 'Describe the scene, the driver's current gaze, and where that gaze will likely shift next and why.'\n",
      "WARNING:__main__:Could not generate prediction with main prompt for image 79\n",
      "INFO:__main__:Processing image 80/81: fsdam/test_set/test/1452_00066.png\n",
      "INFO:__main__:Loaded image: fsdam/test_set/test/1452_00066.png, size: (1280, 720)\n",
      "INFO:__main__:Using main prompt for image 80: 'Describe the scene, the driver's current gaze, and where that gaze will likely shift next and why.'\n",
      "WARNING:__main__:Could not generate prediction with main prompt for image 80\n",
      "INFO:__main__:Processing image 81/81: fsdam/test_set/test/1458_00260.png\n",
      "INFO:__main__:Loaded image: fsdam/test_set/test/1458_00260.png, size: (1280, 720)\n",
      "INFO:__main__:Using main prompt for image 81: 'Describe the scene, the driver's current gaze, and where that gaze will likely shift next and why.'\n",
      "WARNING:__main__:Could not generate prediction with main prompt for image 81\n",
      "INFO:__main__:ROUGE score for 1003_00057: 0.0000\n",
      "INFO:__main__:ROUGE score for 1003_00195: 0.0606\n",
      "INFO:__main__:ROUGE score for 1003_00385: 0.0870\n",
      "INFO:__main__:ROUGE score for 1008_00038: 0.0741\n",
      "INFO:__main__:ROUGE score for 1008_00226: 0.1404\n",
      "INFO:__main__:ROUGE score for 100_00266: 0.0769\n",
      "INFO:__main__:ROUGE score for 1013_00063: 0.0606\n",
      "INFO:__main__:ROUGE score for 1026_00266: 0.0317\n",
      "INFO:__main__:ROUGE score for 1038_00138: 0.0364\n",
      "INFO:__main__:ROUGE score for 1047_00011: 0.0784\n",
      "INFO:__main__:ROUGE score for 1051_00143: 0.0755\n",
      "INFO:__main__:ROUGE score for 1054_00005: 0.0392\n",
      "INFO:__main__:ROUGE score for 1054_00172: 0.0800\n",
      "INFO:__main__:ROUGE score for 1060_00104: 0.0741\n",
      "INFO:__main__:ROUGE score for 1072_00093: 0.0294\n",
      "INFO:__main__:ROUGE score for 1078_00005: 0.0678\n",
      "INFO:__main__:ROUGE score for 1078_00155: 0.0755\n",
      "INFO:__main__:ROUGE score for 1086_00109: 0.0690\n",
      "INFO:__main__:ROUGE score for 1087_00482: 0.1000\n",
      "INFO:__main__:ROUGE score for 108_00113: 0.0308\n",
      "INFO:__main__:ROUGE score for 1114_00066: 0.0519\n",
      "INFO:__main__:ROUGE score for 1122_00207: 0.1562\n",
      "INFO:__main__:ROUGE score for 1123_00171: 0.0303\n",
      "INFO:__main__:ROUGE score for 1125_00312: 0.0392\n",
      "INFO:__main__:ROUGE score for 112_00138: 0.0741\n",
      "INFO:__main__:ROUGE score for 112_00278: 0.0800\n",
      "INFO:__main__:ROUGE score for 1132_00247: 0.0308\n",
      "INFO:__main__:ROUGE score for 1137_00245: 0.0678\n",
      "INFO:__main__:ROUGE score for 1138_00081: 0.0800\n",
      "INFO:__main__:ROUGE score for 1141_00056: 0.0312\n",
      "INFO:__main__:ROUGE score for 1146_00099: 0.0755\n",
      "INFO:__main__:ROUGE score for 1151_00193: 0.0494\n",
      "INFO:__main__:ROUGE score for 115_00168: 0.0571\n",
      "INFO:__main__:ROUGE score for 1165_00111: 0.0449\n",
      "INFO:__main__:ROUGE score for 1167_00169: 0.0351\n",
      "INFO:__main__:ROUGE score for 116_00263: 0.0328\n",
      "INFO:__main__:ROUGE score for 1180_00007: 0.1250\n",
      "INFO:__main__:ROUGE score for 1180_00150: 0.0333\n",
      "INFO:__main__:ROUGE score for 1191_00079: 0.1154\n",
      "INFO:__main__:ROUGE score for 1203_00057: 0.0364\n",
      "INFO:__main__:ROUGE score for 1203_00197: 0.0392\n",
      "INFO:__main__:ROUGE score for 1213_00131: 0.0727\n",
      "INFO:__main__:ROUGE score for 1215_00018: 0.0364\n",
      "INFO:__main__:ROUGE score for 1216_00346: 0.0755\n",
      "INFO:__main__:ROUGE score for 121_00085: 0.0625\n",
      "INFO:__main__:ROUGE score for 121_00256: 0.0625\n",
      "INFO:__main__:ROUGE score for 1249_00159: 0.0755\n",
      "INFO:__main__:ROUGE score for 1250_00133: 0.1000\n",
      "INFO:__main__:ROUGE score for 1251_00049: 0.0690\n",
      "INFO:__main__:ROUGE score for 1257_00152: 0.0727\n",
      "INFO:__main__:ROUGE score for 1261_00188: 0.0727\n",
      "INFO:__main__:ROUGE score for 1266_00123: 0.0339\n",
      "INFO:__main__:ROUGE score for 128_00159: 0.0339\n",
      "INFO:__main__:ROUGE score for 128_00215: 0.0741\n",
      "INFO:__main__:ROUGE score for 1300_00162: 0.1250\n",
      "INFO:__main__:ROUGE score for 1307_00069: 0.0328\n",
      "INFO:__main__:ROUGE score for 132_00152: 0.0690\n",
      "INFO:__main__:ROUGE score for 1336_00153: 0.0385\n",
      "INFO:__main__:ROUGE score for 1355_00105: 0.0385\n",
      "INFO:__main__:ROUGE score for 1358_00053: 0.0667\n",
      "INFO:__main__:ROUGE score for 135_00092: 0.0755\n",
      "INFO:__main__:ROUGE score for 135_00216: 0.0714\n",
      "INFO:__main__:ROUGE score for 1368_00005: 0.0714\n",
      "INFO:__main__:ROUGE score for 1374_00009: 0.0741\n",
      "INFO:__main__:ROUGE score for 1378_00064: 0.0351\n",
      "INFO:__main__:ROUGE score for 1386_00222: 0.0294\n",
      "INFO:__main__:ROUGE score for 138_00005: 0.0690\n",
      "INFO:__main__:ROUGE score for 138_00074: 0.0370\n",
      "INFO:__main__:ROUGE score for 1390_00211: 0.0444\n",
      "INFO:__main__:ROUGE score for 1402_00128: 0.0769\n",
      "INFO:__main__:ROUGE score for 1402_00350: 0.0755\n",
      "INFO:__main__:ROUGE score for 1403_00122: 0.0377\n",
      "INFO:__main__:ROUGE score for 1404_00129: 0.0370\n",
      "INFO:__main__:ROUGE score for 1405_00109: 0.0851\n",
      "INFO:__main__:ROUGE score for 1406_00285: 0.0377\n",
      "INFO:__main__:ROUGE score for 1420_00121: 0.0357\n",
      "INFO:__main__:ROUGE score for 1425_00102: 0.0370\n",
      "INFO:__main__:ROUGE score for 1425_00230: 0.0702\n",
      "INFO:__main__:ROUGE score for 1436_00095: 0.0678\n",
      "INFO:__main__:ROUGE score for 1452_00066: 0.0741\n",
      "INFO:__main__:ROUGE score for 1458_00260: 0.0678\n",
      "INFO:__main__:BLIP-2 fair comparison predictions saved to fsdam-s3/logs/blip2_fair_predictions_zero_shot.json\n",
      "INFO:__main__:=== BLIP-2 FAIR COMPARISON ZERO-SHOT EVALUATION RESULTS ===\n",
      "INFO:__main__:Average ROUGE-L: 0.0617\n",
      "INFO:__main__:Max ROUGE-L: 0.1562\n",
      "INFO:__main__:Min ROUGE-L: 0.0000\n",
      "INFO:__main__:Number of items with ROUGE scores: 81\n",
      "INFO:__main__:Generated 81 non-empty predictions out of 81 total\n",
      "INFO:__main__:=== SAMPLE BLIP-2 FAIR COMPARISON ZERO-SHOT PREDICTIONS ===\n",
      "INFO:__main__:Sample 1:\n",
      "INFO:__main__: Image: fsdam/test_set/test/1003_00057.png\n",
      "INFO:__main__: Prediction: https://www.youtube-nocookie-window-fallout-nocookie-window-fallout/ video\n",
      "INFO:__main__: Ground Truth: The scene shows a city street with cars and buildings. The current gaze focuses on the blue car ahead. The future gaze will likely remain on the blue car. This is because the driver needs to maintain \n",
      "INFO:__main__:Sample 2:\n",
      "INFO:__main__: Image: fsdam/test_set/test/1003_00195.png\n",
      "INFO:__main__: Prediction: Unable to generate description for this driving scene.\n",
      "INFO:__main__: Ground Truth: The scene shows a city street with cars, buildings, and a KFC. The current gaze is focused on the blue car ahead. The future gaze will likely shift to the red traffic light. This is because the driver\n",
      "INFO:__main__:Sample 3:\n",
      "INFO:__main__: Image: fsdam/test_set/test/1003_00385.png\n",
      "INFO:__main__: Prediction: Unable to generate description for this driving scene.\n",
      "INFO:__main__: Ground Truth: The scene shows a city intersection with traffic and buildings. The current gaze focuses on the red traffic light. The future gaze will likely shift to the green light. This is because the light chang\n",
      "INFO:__main__:BLIP-2 fair comparison zero-shot evaluation completed. 81 predictions generated.\n",
      "INFO:__main__:Results saved to: fsdam-s3/logs/blip2_fair_predictions_zero_shot.json\n",
      "INFO:__main__:Check logs at: fsdam-s3/logs/blip2_fair_zero_shot_inference.log\n"
     ]
    }
   ],
   "source": [
    "import torch\n",
    "import os\n",
    "import json\n",
    "import numpy as np\n",
    "from PIL import Image\n",
    "from transformers import AutoProcessor, Blip2ForConditionalGeneration, BitsAndBytesConfig\n",
    "import logging\n",
    "\n",
    "# Set up logging\n",
    "logging.basicConfig(level=logging.INFO)\n",
    "logger = logging.getLogger(__name__)\n",
    "\n",
    "# Load model (simplified)\n",
    "MODEL_ID = \"Salesforce/blip2-opt-2.7b\"\n",
    "processor = AutoProcessor.from_pretrained(MODEL_ID, use_fast=True)\n",
    "model = Blip2ForConditionalGeneration.from_pretrained(\n",
    "    MODEL_ID,\n",
    "    torch_dtype=torch.float16,\n",
    "    device_map=\"auto\",\n",
    "    load_in_4bit=True\n",
    ")\n",
    "model.eval()\n",
    "\n",
    "def test_blip2_prompts(image_path):\n",
    "    \"\"\"Test different prompt approaches with BLIP-2\"\"\"\n",
    "    \n",
    "    image = Image.open(image_path).convert(\"RGB\")\n",
    "    \n",
    "    # Test different prompt styles\n",
    "    prompts_to_test = [\n",
    "        # Our main prompt\n",
    "        \"Describe the scene, the driver's current gaze, and where that gaze will likely shift next and why.\",\n",
    "        \n",
    "        # Simpler versions\n",
    "        \"Describe this driving scene.\",\n",
    "        \"What do you see in this image?\",\n",
    "        \"Describe the image.\",\n",
    "        \n",
    "        # Question format\n",
    "        \"Question: What is happening in this driving scene? Answer:\",\n",
    "        \"Question: Describe the scene, the driver's current gaze, and where that gaze will likely shift next and why. Answer:\",\n",
    "        \n",
    "        # Direct instruction\n",
    "        \"Please describe this driving scene in detail.\",\n",
    "        \n",
    "        # Empty prompt (unconditional)\n",
    "        \"\",\n",
    "    ]\n",
    "    \n",
    "    results = {}\n",
    "    \n",
    "    for i, prompt in enumerate(prompts_to_test):\n",
    "        logger.info(f\"\\n=== Testing prompt {i+1}: '{prompt}' ===\")\n",
    "        \n",
    "        try:\n",
    "            # Process\n",
    "            if prompt:\n",
    "                inputs = processor(images=image, text=prompt, return_tensors=\"pt\")\n",
    "            else:\n",
    "                inputs = processor(images=image, return_tensors=\"pt\")\n",
    "            \n",
    "            device = next(model.parameters()).device\n",
    "            inputs = {k: v.to(device) for k, v in inputs.items()}\n",
    "            \n",
    "            # Test different generation configs\n",
    "            gen_configs = [\n",
    "                {\"max_new_tokens\": 50, \"do_sample\": False},  # Short greedy\n",
    "                {\"max_new_tokens\": 100, \"do_sample\": True, \"temperature\": 0.7},  # Medium sampling\n",
    "                {\"max_new_tokens\": 200, \"do_sample\": True, \"temperature\": 1.0, \"top_k\": 50},  # Long high-temp\n",
    "            ]\n",
    "            \n",
    "            for j, gen_config in enumerate(gen_configs):\n",
    "                try:\n",
    "                    with torch.no_grad():\n",
    "                        outputs = model.generate(**inputs, **gen_config)\n",
    "                    \n",
    "                    # Decode\n",
    "                    generated_text = processor.decode(outputs[0], skip_special_tokens=True)\n",
    "                    \n",
    "                    # Clean\n",
    "                    if prompt and prompt in generated_text:\n",
    "                        cleaned = generated_text.replace(prompt, \"\").strip()\n",
    "                    else:\n",
    "                        cleaned = generated_text.strip()\n",
    "                    \n",
    "                    logger.info(f\"  Config {j+1}: '{cleaned}'\")\n",
    "                    \n",
    "                    if len(cleaned) > 5:\n",
    "                        results[f\"prompt_{i+1}_config_{j+1}\"] = {\n",
    "                            \"prompt\": prompt,\n",
    "                            \"config\": gen_config,\n",
    "                            \"output\": cleaned,\n",
    "                            \"success\": True\n",
    "                        }\n",
    "                        break  # Found working config for this prompt\n",
    "                        \n",
    "                except Exception as e:\n",
    "                    logger.warning(f\"  Config {j+1} failed: {e}\")\n",
    "                    continue\n",
    "                    \n",
    "        except Exception as e:\n",
    "            logger.error(f\"Prompt {i+1} failed completely: {e}\")\n",
    "            continue\n",
    "    \n",
    "    return results\n",
    "\n",
    "def test_basic_blip2():\n",
    "    \"\"\"Test basic BLIP-2 functionality\"\"\"\n",
    "    logger.info(\"=== TESTING BASIC BLIP-2 FUNCTIONALITY ===\")\n",
    "    \n",
    "    # Create simple test image\n",
    "    test_image = Image.fromarray(np.ones((224, 224, 3), dtype=np.uint8) * 255)\n",
    "    \n",
    "    # Test very simple prompt\n",
    "    inputs = processor(images=test_image, text=\"What do you see?\", return_tensors=\"pt\")\n",
    "    device = next(model.parameters()).device\n",
    "    inputs = {k: v.to(device) for k, v in inputs.items()}\n",
    "    \n",
    "    with torch.no_grad():\n",
    "        outputs = model.generate(**inputs, max_new_tokens=20, do_sample=False)\n",
    "    \n",
    "    result = processor.decode(outputs[0], skip_special_tokens=True)\n",
    "    logger.info(f\"Basic test result: '{result}'\")\n",
    "    \n",
    "    return \"What do you see?\" in result or len(result.replace(\"What do you see?\", \"\").strip()) > 0\n",
    "\n",
    "# Main diagnostic\n",
    "if __name__ == \"__main__\":\n",
    "    # Test basic functionality\n",
    "    basic_works = test_basic_blip2()\n",
    "    logger.info(f\"Basic BLIP-2 test: {'PASSED' if basic_works else 'FAILED'}\")\n",
    "    \n",
    "    # Test with a real driving image\n",
    "    test_image_path = \"fsdam/test_set/test/1003_00057.png\"\n",
    "    if os.path.exists(test_image_path):\n",
    "        logger.info(f\"\\n=== TESTING WITH REAL IMAGE: {test_image_path} ===\")\n",
    "        results = test_blip2_prompts(test_image_path)\n",
    "        \n",
    "        logger.info(f\"\\n=== SUMMARY ===\")\n",
    "        logger.info(f\"Working configurations: {len(results)}\")\n",
    "        \n",
    "        for key, result in results.items():\n",
    "            logger.info(f\"{key}: '{result['output']}'\")\n",
    "            \n",
    "        if results:\n",
    "            logger.info(\"\\n=== RECOMMENDATION ===\")\n",
    "            best_result = list(results.values())[0]\n",
    "            logger.info(f\"Best working prompt: '{best_result['prompt']}'\")\n",
    "            logger.info(f\"Best config: {best_result['config']}\")\n",
    "            logger.info(f\"Example output: '{best_result['output']}'\")\n",
    "        else:\n",
    "            logger.error(\"NO WORKING CONFIGURATIONS FOUND!\")\n",
    "    else:\n",
    "        logger.error(f\"Test image not found: {test_image_path}\")\n",
    "        \n",
    "    logger.info(\"Diagnostic complete!\")"
   ]
  },
  {
   "cell_type": "code",
   "execution_count": 38,
   "id": "d837f1e4-40d7-4b79-b727-9db85d71a8a6",
   "metadata": {},
   "outputs": [
    {
     "name": "stderr",
     "output_type": "stream",
     "text": [
      "[nltk_data] Downloading package punkt to /home/ubuntu/nltk_data...\n",
      "[nltk_data]   Package punkt is already up-to-date!\n",
      "INFO:absl:Using default tokenizer.\n",
      "Scoring predictions: 100%|██████████| 81/81 [00:00<00:00, 269.93it/s]\n"
     ]
    },
    {
     "name": "stdout",
     "output_type": "stream",
     "text": [
      "\n",
      "==== FSDAM Test Metrics ====\n",
      "\n",
      "ROUGE-L        0.115087\n",
      "BLEU-4         0.001743\n",
      "METEOR         0.051481\n",
      "Exact Match    0.000000\n",
      "dtype: float64\n",
      "\n",
      "==== Per-sample Results (first 5) ====\n",
      "\n",
      "           id                               image  \\\n",
      "0  1003_00057  fsdam/test_set/test/1003_00057.png   \n",
      "1  1003_00195  fsdam/test_set/test/1003_00195.png   \n",
      "2  1003_00385  fsdam/test_set/test/1003_00385.png   \n",
      "3  1008_00038  fsdam/test_set/test/1008_00038.png   \n",
      "4  1008_00226  fsdam/test_set/test/1008_00226.png   \n",
      "\n",
      "                                        ground_truth  \\\n",
      "0  The scene shows a city street with cars and bu...   \n",
      "1  The scene shows a city street with cars, build...   \n",
      "2  The scene shows a city intersection with traff...   \n",
      "3  A residential street with parked cars and buil...   \n",
      "4  The scene shows a residential street with hous...   \n",
      "\n",
      "                                prediction   ROUGE-L    BLEU-4    METEOR  \\\n",
      "0   A white car that is parked on the left  0.135593  0.000506  0.060606   \n",
      "1                                  YouTube  0.000000  0.000000  0.000000   \n",
      "2  A car, a pedestrian and an intersection  0.088889  0.000537  0.038860   \n",
      "3          A car, a street and some houses  0.113208  0.000212  0.043668   \n",
      "4       A street with houses on both sides  0.204082  0.000593  0.101595   \n",
      "\n",
      "   Exact Match  \n",
      "0            0  \n",
      "1            0  \n",
      "2            0  \n",
      "3            0  \n",
      "4            0  \n"
     ]
    }
   ],
   "source": [
    "import json\n",
    "import pandas as pd\n",
    "from nltk.translate.bleu_score import sentence_bleu, SmoothingFunction\n",
    "from nltk.translate.meteor_score import meteor_score\n",
    "from nltk.tokenize import word_tokenize\n",
    "from rouge_score import rouge_scorer\n",
    "from tqdm import tqdm\n",
    "import nltk\n",
    "\n",
    "\n",
    "nltk.download('punkt')\n",
    "\n",
    "# Path to your JSON file\n",
    "PRED_PATH = 'fsdam-s3/logs/blip2_predictions_zero_shot.json'\n",
    "\n",
    "# Load predictions\n",
    "with open(PRED_PATH, 'r') as f:\n",
    "    data = json.load(f)\n",
    "\n",
    "# Lists to store results\n",
    "results = []\n",
    "\n",
    "# Initialize scorer\n",
    "rouge = rouge_scorer.RougeScorer(['rougeL'], use_stemmer=True)\n",
    "smoothie = SmoothingFunction().method4\n",
    "\n",
    "for entry in tqdm(data, desc=\"Scoring predictions\"):\n",
    "    gt = entry['ground_truth'].strip()\n",
    "    pr = entry['prediction'].strip()\n",
    "\n",
    "    # ROUGE-L\n",
    "    rougeL = rouge.score(gt, pr)['rougeL'].fmeasure\n",
    "\n",
    "    # BLEU-4\n",
    "    bleu4 = sentence_bleu([word_tokenize(gt)], word_tokenize(pr), smoothing_function=smoothie)\n",
    "    \n",
    "    # METEOR\n",
    "    meteor = meteor_score([word_tokenize(gt)], word_tokenize(pr))\n",
    "    \n",
    "    # Exact Match\n",
    "    exact = int(gt == pr)\n",
    "\n",
    "    results.append({\n",
    "        \"id\": entry['id'],\n",
    "        \"image\": entry['image'],\n",
    "        \"ground_truth\": gt,\n",
    "        \"prediction\": pr,\n",
    "        \"ROUGE-L\": rougeL,\n",
    "        \"BLEU-4\": bleu4,\n",
    "        \"METEOR\": meteor,\n",
    "        \"Exact Match\": exact\n",
    "    })\n",
    "\n",
    "# Convert to DataFrame\n",
    "df = pd.DataFrame(results)\n",
    "\n",
    "# Print mean scores\n",
    "print(\"\\n==== FSDAM Test Metrics ====\\n\")\n",
    "print(df[[\"ROUGE-L\", \"BLEU-4\", \"METEOR\", \"Exact Match\"]].mean())\n",
    "print(\"\\n==== Per-sample Results (first 5) ====\\n\")\n",
    "print(df.head())\n",
    "\n",
    "# Save detailed results as CSV if needed\n",
    "df.to_csv('fsdam-s3/logs/test_metrics_one_shot.csv', index=False)\n"
   ]
  },
  {
   "cell_type": "code",
   "execution_count": 112,
   "id": "7627adbe-d1c4-4973-8b03-e9cf07bff0c4",
   "metadata": {},
   "outputs": [
    {
     "data": {
      "text/plain": [
       "0"
      ]
     },
     "execution_count": 112,
     "metadata": {},
     "output_type": "execute_result"
    }
   ],
   "source": [
    "torch.cuda.empty_cache()\n",
    "gc.collect()"
   ]
  },
  {
   "cell_type": "code",
   "execution_count": null,
   "id": "7942652f-5ce5-4eab-9254-15ad6e1541b5",
   "metadata": {},
   "outputs": [],
   "source": []
  }
 ],
 "metadata": {
  "kernelspec": {
   "display_name": "Python 3 (ipykernel)",
   "language": "python",
   "name": "python3"
  },
  "language_info": {
   "codemirror_mode": {
    "name": "ipython",
    "version": 3
   },
   "file_extension": ".py",
   "mimetype": "text/x-python",
   "name": "python",
   "nbconvert_exporter": "python",
   "pygments_lexer": "ipython3",
   "version": "3.10.12"
  }
 },
 "nbformat": 4,
 "nbformat_minor": 5
}
